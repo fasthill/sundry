{
 "cells": [
  {
   "cell_type": "code",
   "execution_count": 1,
   "id": "2bd35156",
   "metadata": {},
   "outputs": [],
   "source": [
    "import numpy as np\n",
    "import pandas as pd\n",
    "import matplotlib.pyplot as plt\n",
    "\n",
    "from sklearn.model_selection import train_test_split"
   ]
  },
  {
   "cell_type": "code",
   "execution_count": 2,
   "id": "b9179819",
   "metadata": {},
   "outputs": [],
   "source": [
    "import scipy.stats as stats\n",
    "import pylab\n",
    "# from warnings import warn\n",
    "\n",
    "# 2018.11.26 Created by Eamon.Zhang\n",
    "def diagnostic_plots(df, variable):\n",
    "    # function to plot a histogram and a Q-Q plot\n",
    "    # side by side, for a certain variable\n",
    "    \n",
    "    plt.figure(figsize=(15,6))\n",
    "    plt.subplot(1, 2, 1)\n",
    "    df[variable].hist()\n",
    "\n",
    "    plt.subplot(1, 2, 2)\n",
    "    stats.probplot(df[variable], dist=\"norm\", plot=pylab)\n",
    "\n",
    "    plt.show()\n",
    "    \n",
    "    \n",
    "def log_transform(data,cols=[]):\n",
    "    \"\"\"\n",
    "    Logarithmic transformation\n",
    "    \"\"\"\n",
    "    \n",
    "    data_copy = data.copy(deep=True)\n",
    "    for i in cols:\n",
    "        data_copy[i+'_log'] = np.log(data_copy[i]+1)\n",
    "        print('Variable ' + i +' Q-Q plot')\n",
    "        diagnostic_plots(data_copy,str(i+'_log'))       \n",
    "    return data_copy \n",
    "\n",
    "\n",
    "def reciprocal_transform(data,cols=[]):\n",
    "    \"\"\"\n",
    "    Reciprocal transformation\n",
    "    \"\"\"\n",
    "    \n",
    "    data_copy = data.copy(deep=True)\n",
    "    for i in cols:\n",
    "        data_copy[i+'_reciprocal'] = 1/(data_copy[i])\n",
    "        print('Variable ' + i +' Q-Q plot')\n",
    "        diagnostic_plots(data_copy,str(i+'_reciprocal'))       \n",
    "    return data_copy \n",
    "\n",
    "\n",
    "def square_root_transform(data,cols=[]):\n",
    "    \"\"\"\n",
    "    square root transformation\n",
    "    \"\"\"\n",
    "    \n",
    "    data_copy = data.copy(deep=True)\n",
    "    for i in cols:\n",
    "        data_copy[i+'_square_root'] = (data_copy[i])**(0.5)\n",
    "        print('Variable ' + i +' Q-Q plot')\n",
    "        diagnostic_plots(data_copy,str(i+'_square_root'))        \n",
    "    return data_copy \n",
    "\n",
    "\n",
    "def exp_transform(data,coef,cols=[]):\n",
    "    \"\"\"\n",
    "    exp transformation\n",
    "    \"\"\"\n",
    "    \n",
    "    data_copy = data.copy(deep=True)\n",
    "    for i in cols:\n",
    "        data_copy[i+'_exp'] = (data_copy[i])**coef\n",
    "        print('Variable ' + i +' Q-Q plot')\n",
    "        diagnostic_plots(data_copy,str(i+'_exp'))         \n",
    "    return data_copy "
   ]
  },
  {
   "cell_type": "code",
   "execution_count": 3,
   "id": "d51765d1",
   "metadata": {},
   "outputs": [],
   "source": [
    "from scipy.stats import kstest, norm"
   ]
  },
  {
   "cell_type": "markdown",
   "id": "508003df",
   "metadata": {},
   "source": [
    "### Load Dataset"
   ]
  },
  {
   "cell_type": "code",
   "execution_count": 4,
   "id": "b5708aca",
   "metadata": {},
   "outputs": [],
   "source": [
    "use_cols = [\n",
    "    'Pclass', 'Sex', 'Age', 'Fare', 'SibSp',\n",
    "    'Survived'\n",
    "]"
   ]
  },
  {
   "cell_type": "code",
   "execution_count": 5,
   "id": "eadb6823",
   "metadata": {},
   "outputs": [],
   "source": [
    "data = pd.read_csv(\n",
    "    'https://raw.githubusercontent.com/fasthill/My-gist/main/data/titanic/train.csv', \n",
    "    usecols=use_cols)"
   ]
  },
  {
   "cell_type": "code",
   "execution_count": 6,
   "id": "19fc5b41",
   "metadata": {},
   "outputs": [
    {
     "data": {
      "text/html": [
       "<div>\n",
       "<style scoped>\n",
       "    .dataframe tbody tr th:only-of-type {\n",
       "        vertical-align: middle;\n",
       "    }\n",
       "\n",
       "    .dataframe tbody tr th {\n",
       "        vertical-align: top;\n",
       "    }\n",
       "\n",
       "    .dataframe thead th {\n",
       "        text-align: right;\n",
       "    }\n",
       "</style>\n",
       "<table border=\"1\" class=\"dataframe\">\n",
       "  <thead>\n",
       "    <tr style=\"text-align: right;\">\n",
       "      <th></th>\n",
       "      <th>Survived</th>\n",
       "      <th>Pclass</th>\n",
       "      <th>Sex</th>\n",
       "      <th>Age</th>\n",
       "      <th>SibSp</th>\n",
       "      <th>Fare</th>\n",
       "    </tr>\n",
       "  </thead>\n",
       "  <tbody>\n",
       "    <tr>\n",
       "      <th>0</th>\n",
       "      <td>0</td>\n",
       "      <td>3</td>\n",
       "      <td>male</td>\n",
       "      <td>22.0</td>\n",
       "      <td>1</td>\n",
       "      <td>7.2500</td>\n",
       "    </tr>\n",
       "    <tr>\n",
       "      <th>1</th>\n",
       "      <td>1</td>\n",
       "      <td>1</td>\n",
       "      <td>female</td>\n",
       "      <td>38.0</td>\n",
       "      <td>1</td>\n",
       "      <td>71.2833</td>\n",
       "    </tr>\n",
       "    <tr>\n",
       "      <th>2</th>\n",
       "      <td>1</td>\n",
       "      <td>3</td>\n",
       "      <td>female</td>\n",
       "      <td>26.0</td>\n",
       "      <td>0</td>\n",
       "      <td>7.9250</td>\n",
       "    </tr>\n",
       "    <tr>\n",
       "      <th>3</th>\n",
       "      <td>1</td>\n",
       "      <td>1</td>\n",
       "      <td>female</td>\n",
       "      <td>35.0</td>\n",
       "      <td>1</td>\n",
       "      <td>53.1000</td>\n",
       "    </tr>\n",
       "    <tr>\n",
       "      <th>4</th>\n",
       "      <td>0</td>\n",
       "      <td>3</td>\n",
       "      <td>male</td>\n",
       "      <td>35.0</td>\n",
       "      <td>0</td>\n",
       "      <td>8.0500</td>\n",
       "    </tr>\n",
       "  </tbody>\n",
       "</table>\n",
       "</div>"
      ],
      "text/plain": [
       "   Survived  Pclass     Sex   Age  SibSp     Fare\n",
       "0         0       3    male  22.0      1   7.2500\n",
       "1         1       1  female  38.0      1  71.2833\n",
       "2         1       3  female  26.0      0   7.9250\n",
       "3         1       1  female  35.0      1  53.1000\n",
       "4         0       3    male  35.0      0   8.0500"
      ]
     },
     "execution_count": 6,
     "metadata": {},
     "output_type": "execute_result"
    }
   ],
   "source": [
    "data.head()"
   ]
  },
  {
   "cell_type": "code",
   "execution_count": 7,
   "id": "a49a7256",
   "metadata": {},
   "outputs": [],
   "source": [
    "X_train, X_test, y_train, y_test = train_test_split(\n",
    "    data, data.Survived, test_size=0.3, random_state=2022)"
   ]
  },
  {
   "cell_type": "code",
   "execution_count": 8,
   "id": "380bc79d",
   "metadata": {},
   "outputs": [
    {
     "data": {
      "text/plain": [
       "((623, 6), (268, 6))"
      ]
     },
     "execution_count": 8,
     "metadata": {},
     "output_type": "execute_result"
    }
   ],
   "source": [
    "X_train.shape, X_test.shape"
   ]
  },
  {
   "cell_type": "markdown",
   "id": "52949b61",
   "metadata": {},
   "source": [
    "### Logarithmic transformation"
   ]
  },
  {
   "cell_type": "code",
   "execution_count": 9,
   "id": "eaf54011",
   "metadata": {},
   "outputs": [],
   "source": [
    "# add the new created feature\n",
    "X_train_copy = X_train.copy(deep=True)"
   ]
  },
  {
   "cell_type": "code",
   "execution_count": 10,
   "id": "51ddc249",
   "metadata": {},
   "outputs": [
    {
     "name": "stdout",
     "output_type": "stream",
     "text": [
      "Variable Fare Q-Q plot\n"
     ]
    },
    {
     "data": {
      "image/png": "[encoded data removed]",
      "text/plain": [
       "<Figure size 1080x432 with 2 Axes>"
      ]
     },
     "metadata": {
      "needs_background": "light"
     },
     "output_type": "display_data"
    }
   ],
   "source": [
    "X_train_copy = log_transform(data=X_train, cols=['Fare'])"
   ]
  },
  {
   "cell_type": "code",
   "execution_count": 11,
   "id": "01548b96",
   "metadata": {},
   "outputs": [
    {
     "data": {
      "text/html": [
       "<div>\n",
       "<style scoped>\n",
       "    .dataframe tbody tr th:only-of-type {\n",
       "        vertical-align: middle;\n",
       "    }\n",
       "\n",
       "    .dataframe tbody tr th {\n",
       "        vertical-align: top;\n",
       "    }\n",
       "\n",
       "    .dataframe thead th {\n",
       "        text-align: right;\n",
       "    }\n",
       "</style>\n",
       "<table border=\"1\" class=\"dataframe\">\n",
       "  <thead>\n",
       "    <tr style=\"text-align: right;\">\n",
       "      <th></th>\n",
       "      <th>Survived</th>\n",
       "      <th>Pclass</th>\n",
       "      <th>Sex</th>\n",
       "      <th>Age</th>\n",
       "      <th>SibSp</th>\n",
       "      <th>Fare</th>\n",
       "      <th>Fare_log</th>\n",
       "    </tr>\n",
       "  </thead>\n",
       "  <tbody>\n",
       "    <tr>\n",
       "      <th>615</th>\n",
       "      <td>1</td>\n",
       "      <td>2</td>\n",
       "      <td>female</td>\n",
       "      <td>24.0</td>\n",
       "      <td>1</td>\n",
       "      <td>65.000</td>\n",
       "      <td>4.189655</td>\n",
       "    </tr>\n",
       "    <tr>\n",
       "      <th>598</th>\n",
       "      <td>0</td>\n",
       "      <td>3</td>\n",
       "      <td>male</td>\n",
       "      <td>NaN</td>\n",
       "      <td>0</td>\n",
       "      <td>7.225</td>\n",
       "      <td>2.107178</td>\n",
       "    </tr>\n",
       "    <tr>\n",
       "      <th>161</th>\n",
       "      <td>1</td>\n",
       "      <td>2</td>\n",
       "      <td>female</td>\n",
       "      <td>40.0</td>\n",
       "      <td>0</td>\n",
       "      <td>15.750</td>\n",
       "      <td>2.818398</td>\n",
       "    </tr>\n",
       "    <tr>\n",
       "      <th>854</th>\n",
       "      <td>0</td>\n",
       "      <td>2</td>\n",
       "      <td>female</td>\n",
       "      <td>44.0</td>\n",
       "      <td>1</td>\n",
       "      <td>26.000</td>\n",
       "      <td>3.295837</td>\n",
       "    </tr>\n",
       "    <tr>\n",
       "      <th>216</th>\n",
       "      <td>1</td>\n",
       "      <td>3</td>\n",
       "      <td>female</td>\n",
       "      <td>27.0</td>\n",
       "      <td>0</td>\n",
       "      <td>7.925</td>\n",
       "      <td>2.188856</td>\n",
       "    </tr>\n",
       "  </tbody>\n",
       "</table>\n",
       "</div>"
      ],
      "text/plain": [
       "     Survived  Pclass     Sex   Age  SibSp    Fare  Fare_log\n",
       "615         1       2  female  24.0      1  65.000  4.189655\n",
       "598         0       3    male   NaN      0   7.225  2.107178\n",
       "161         1       2  female  40.0      0  15.750  2.818398\n",
       "854         0       2  female  44.0      1  26.000  3.295837\n",
       "216         1       3  female  27.0      0   7.925  2.188856"
      ]
     },
     "execution_count": 11,
     "metadata": {},
     "output_type": "execute_result"
    }
   ],
   "source": [
    "X_train_copy.head()"
   ]
  },
  {
   "cell_type": "code",
   "execution_count": 12,
   "id": "2ee171d2",
   "metadata": {},
   "outputs": [
    {
     "name": "stdout",
     "output_type": "stream",
     "text": [
      "Test_statistics : 0.9215338826179504, p_value : 1.765155781584878e-17\n"
     ]
    }
   ],
   "source": [
    "test_stat, p_val = stats.shapiro(X_train_copy['Fare_log'])\n",
    "print('Test_statistics : {}, p_value : {}'.format(test_stat, p_val))"
   ]
  },
  {
   "cell_type": "code",
   "execution_count": 13,
   "id": "a8806f5a",
   "metadata": {},
   "outputs": [
    {
     "name": "stdout",
     "output_type": "stream",
     "text": [
      "0.953635610946576 0.0\n"
     ]
    }
   ],
   "source": [
    "ks_statistic, p_value = kstest(X_train_copy['Fare_log'], 'norm')\n",
    "print(ks_statistic, p_value)"
   ]
  },
  {
   "cell_type": "code",
   "execution_count": 14,
   "id": "a6ca3ccd",
   "metadata": {},
   "outputs": [
    {
     "name": "stdout",
     "output_type": "stream",
     "text": [
      "Variable Fare Q-Q plot\n"
     ]
    },
    {
     "data": {
      "image/png": "[encoded data removed]",
      "text/plain": [
       "<Figure size 1080x432 with 2 Axes>"
      ]
     },
     "metadata": {
      "needs_background": "light"
     },
     "output_type": "display_data"
    },
    {
     "name": "stdout",
     "output_type": "stream",
     "text": [
      "     Survived  Pclass     Sex   Age  SibSp    Fare  Fare_reciprocal\n",
      "615         1       2  female  24.0      1  65.000         0.015385\n",
      "598         0       3    male   NaN      0   7.225         0.138408\n",
      "161         1       2  female  40.0      0  15.750         0.063492\n",
      "854         0       2  female  44.0      1  26.000         0.038462\n",
      "216         1       3  female  27.0      0   7.925         0.126183\n",
      "328         1       3  female  31.0      1  20.525         0.048721\n"
     ]
    }
   ],
   "source": [
    "# add the new created feature\n",
    "X_train_copy = X_train.copy(deep=True)\n",
    "X_train_copy = X_train_copy[X_train_copy.Fare!=0] # Warning that x should not be 0\n",
    "#X_train_copy[X_train_copy.Fare==0]\n",
    "X_train_copy = reciprocal_transform(data=X_train_copy,cols=['Fare'])\n",
    "print(X_train_copy.head(6))"
   ]
  },
  {
   "cell_type": "code",
   "execution_count": 15,
   "id": "766a80b1",
   "metadata": {},
   "outputs": [
    {
     "name": "stdout",
     "output_type": "stream",
     "text": [
      "Test_statistics : 0.9027693867683411, p_value : 2.961335285767337e-19\n"
     ]
    }
   ],
   "source": [
    "test_stat, p_val = stats.shapiro(X_train_copy['Fare_reciprocal'])\n",
    "print('Test_statistics : {}, p_value : {}'.format(test_stat, p_val))"
   ]
  },
  {
   "cell_type": "code",
   "execution_count": 16,
   "id": "d1420483",
   "metadata": {},
   "outputs": [
    {
     "name": "stdout",
     "output_type": "stream",
     "text": [
      "Test_statistics : 0.5007786829778329, p_value : 5.176362852112706e-142\n"
     ]
    }
   ],
   "source": [
    "ks_statistic, p_value = kstest(X_train_copy['Fare_reciprocal'], 'norm')\n",
    "print('Test_statistics : {}, p_value : {}'.format(ks_statistic, p_value))"
   ]
  },
  {
   "cell_type": "code",
   "execution_count": 17,
   "id": "997c0ecb",
   "metadata": {},
   "outputs": [
    {
     "name": "stdout",
     "output_type": "stream",
     "text": [
      "Variable Fare Q-Q plot\n"
     ]
    },
    {
     "data": {
      "image/png": "[encoded data removed]",
      "text/plain": [
       "<Figure size 1080x432 with 2 Axes>"
      ]
     },
     "metadata": {
      "needs_background": "light"
     },
     "output_type": "display_data"
    },
    {
     "name": "stdout",
     "output_type": "stream",
     "text": [
      "     Survived  Pclass     Sex   Age  SibSp    Fare  Fare_square_root\n",
      "615         1       2  female  24.0      1  65.000          8.062258\n",
      "598         0       3    male   NaN      0   7.225          2.687936\n",
      "161         1       2  female  40.0      0  15.750          3.968627\n",
      "854         0       2  female  44.0      1  26.000          5.099020\n",
      "216         1       3  female  27.0      0   7.925          2.815138\n",
      "328         1       3  female  31.0      1  20.525          4.530453\n"
     ]
    }
   ],
   "source": [
    "X_train_copy = X_train.copy(deep=True)\n",
    "X_train_copy = square_root_transform(data=X_train,cols=['Fare'])\n",
    "print(X_train_copy.head(6))"
   ]
  },
  {
   "cell_type": "code",
   "execution_count": 18,
   "id": "6e7a5b8d",
   "metadata": {},
   "outputs": [
    {
     "name": "stdout",
     "output_type": "stream",
     "text": [
      "Test_statistics : 0.7794486284255981, p_value : 3.8702717790428137e-28\n"
     ]
    }
   ],
   "source": [
    "test_stat, p_val = stats.shapiro(X_train_copy['Fare_square_root'])\n",
    "print('Test_statistics : {}, p_value : {}'.format(test_stat, p_val))"
   ]
  },
  {
   "cell_type": "code",
   "execution_count": 19,
   "id": "4fee34f1",
   "metadata": {},
   "outputs": [
    {
     "name": "stdout",
     "output_type": "stream",
     "text": [
      "Test_statistics : 0.971274444561121, p_value : 0.0\n"
     ]
    }
   ],
   "source": [
    "ks_statistic, p_value = kstest(X_train_copy['Fare_square_root'], 'norm') # Kolmogorov Smirnov Statistic,\n",
    "print('Test_statistics : {}, p_value : {}'.format(ks_statistic, p_value))"
   ]
  },
  {
   "cell_type": "code",
   "execution_count": 20,
   "id": "aa736f9e",
   "metadata": {},
   "outputs": [
    {
     "name": "stdout",
     "output_type": "stream",
     "text": [
      "Variable Fare Q-Q plot\n"
     ]
    },
    {
     "data": {
      "image/png": "[encoded data removed]",
      "text/plain": [
       "<Figure size 1080x432 with 2 Axes>"
      ]
     },
     "metadata": {
      "needs_background": "light"
     },
     "output_type": "display_data"
    },
    {
     "name": "stdout",
     "output_type": "stream",
     "text": [
      "     Survived  Pclass     Sex   Age  SibSp    Fare  Fare_exp\n",
      "615         1       2  female  24.0      1  65.000  2.304532\n",
      "598         0       3    male   NaN      0   7.225  1.485141\n",
      "161         1       2  female  40.0      0  15.750  1.735626\n",
      "854         0       2  female  44.0      1  26.000  1.918645\n",
      "216         1       3  female  27.0      0   7.925  1.512864\n",
      "328         1       3  female  31.0      1  20.525  1.830023\n"
     ]
    }
   ],
   "source": [
    "# add the new created feature\n",
    "X_train_copy = X_train.copy(deep=True)\n",
    "X_train_copy = exp_transform(data=X_train,cols=['Fare'],coef=0.2)\n",
    "print(X_train_copy.head(6))"
   ]
  },
  {
   "cell_type": "code",
   "execution_count": 21,
   "id": "a4efb02c",
   "metadata": {},
   "outputs": [
    {
     "name": "stdout",
     "output_type": "stream",
     "text": [
      "Test_statistics : 0.8479549884796143, p_value : 5.441754611844961e-24\n"
     ]
    }
   ],
   "source": [
    "test_stat, p_val = stats.shapiro(X_train_copy['Fare_exp'])\n",
    "print('Test_statistics : {}, p_value : {}'.format(test_stat, p_val))"
   ]
  },
  {
   "cell_type": "code",
   "execution_count": 22,
   "id": "ba1f71e7",
   "metadata": {},
   "outputs": [
    {
     "name": "stdout",
     "output_type": "stream",
     "text": [
      "Test_statistics : 0.9028941613130825, p_value : 0.0\n"
     ]
    }
   ],
   "source": [
    "ks_statistic, p_value = kstest(X_train_copy['Fare_exp'], 'norm')\n",
    "print('Test_statistics : {}, p_value : {}'.format(ks_statistic, p_value))"
   ]
  },
  {
   "cell_type": "code",
   "execution_count": 23,
   "id": "cf965e57",
   "metadata": {},
   "outputs": [
    {
     "name": "stdout",
     "output_type": "stream",
     "text": [
      "     Survived  Pclass     Sex   Age  SibSp    Fare  Fare_boxcox\n",
      "615         1       2  female  24.0      1  65.000     1.236089\n",
      "598         0       3    male   NaN      0   7.225    -0.870236\n",
      "161         1       2  female  40.0      0  15.750    -0.115860\n",
      "854         0       2  female  44.0      1  26.000     0.369751\n",
      "216         1       3  female  27.0      0   7.925    -0.781668\n",
      "328         1       3  female  31.0      1  20.525     0.141287\n"
     ]
    }
   ],
   "source": [
    "from sklearn.preprocessing import PowerTransformer\n",
    "pt = PowerTransformer().fit(X_train[['Fare']])\n",
    "X_train_copy = X_train.copy(deep=True)\n",
    "X_train_copy['Fare_boxcox'] = pt.transform(X_train_copy[['Fare']])\n",
    "print(X_train_copy.head(6))"
   ]
  },
  {
   "cell_type": "code",
   "execution_count": 24,
   "id": "de4dbe33",
   "metadata": {},
   "outputs": [
    {
     "data": {
      "image/png": "[encoded data removed]",
      "text/plain": [
       "<Figure size 1080x432 with 2 Axes>"
      ]
     },
     "metadata": {
      "needs_background": "light"
     },
     "output_type": "display_data"
    }
   ],
   "source": [
    "diagnostic_plots(X_train_copy,'Fare_boxcox')"
   ]
  },
  {
   "cell_type": "code",
   "execution_count": 25,
   "id": "ffb4350d",
   "metadata": {},
   "outputs": [
    {
     "name": "stdout",
     "output_type": "stream",
     "text": [
      "Test_statistics : 0.9187470078468323, p_value : 8.529517554093623e-18\n"
     ]
    }
   ],
   "source": [
    "test_stat, p_val = stats.shapiro(X_train_copy['Fare_boxcox'])\n",
    "print('Test_statistics : {}, p_value : {}'.format(test_stat, p_val))"
   ]
  },
  {
   "cell_type": "code",
   "execution_count": 26,
   "id": "00688e39",
   "metadata": {},
   "outputs": [
    {
     "name": "stdout",
     "output_type": "stream",
     "text": [
      "Test_statistics : 0.14842643259634428, p_value : 1.9128374495014968e-12\n"
     ]
    }
   ],
   "source": [
    "ks_statistic, p_value = kstest(X_train_copy['Fare_boxcox'], 'norm')\n",
    "print('Test_statistics : {}, p_value : {}'.format(ks_statistic, p_value))"
   ]
  },
  {
   "cell_type": "code",
   "execution_count": 27,
   "id": "9272f1f1",
   "metadata": {},
   "outputs": [
    {
     "name": "stdout",
     "output_type": "stream",
     "text": [
      "     Survived  Pclass     Sex   Age  SibSp    Fare   Fare_qt\n",
      "615         1       2  female  24.0      1  65.000  1.180146\n",
      "598         0       3    male   NaN      0   7.225 -1.594016\n",
      "161         1       2  female  40.0      0  15.750  0.040310\n",
      "854         0       2  female  44.0      1  26.000  0.384019\n",
      "216         1       3  female  27.0      0   7.925 -0.687193\n",
      "328         1       3  female  31.0      1  20.525  0.182353\n"
     ]
    },
    {
     "name": "stderr",
     "output_type": "stream",
     "text": [
      "c:\\users\\user\\appdata\\local\\programs\\python\\python39\\lib\\site-packages\\sklearn\\preprocessing\\_data.py:2612: UserWarning: n_quantiles (1000) is greater than the total number of samples (623). n_quantiles is set to n_samples.\n",
      "  warnings.warn(\"n_quantiles (%s) is greater than the total number \"\n"
     ]
    }
   ],
   "source": [
    "from sklearn.preprocessing import QuantileTransformer\n",
    "qt = QuantileTransformer(output_distribution='normal').fit(X_train[['Fare']])\n",
    "X_train_copy = X_train.copy(deep=True)\n",
    "X_train_copy['Fare_qt'] = qt.transform(X_train_copy[['Fare']])\n",
    "print(X_train_copy.head(6))"
   ]
  },
  {
   "cell_type": "code",
   "execution_count": 28,
   "id": "ca4b292f",
   "metadata": {},
   "outputs": [
    {
     "data": {
      "image/png": "[encoded data removed]",
      "text/plain": [
       "<Figure size 1080x432 with 2 Axes>"
      ]
     },
     "metadata": {
      "needs_background": "light"
     },
     "output_type": "display_data"
    }
   ],
   "source": [
    "diagnostic_plots(X_train_copy,'Fare_qt')"
   ]
  },
  {
   "cell_type": "code",
   "execution_count": 29,
   "id": "f3f3fc6e",
   "metadata": {},
   "outputs": [
    {
     "name": "stdout",
     "output_type": "stream",
     "text": [
      "Test_statistics : 0.896520733833313, p_value : 4.5497715731461085e-20\n"
     ]
    }
   ],
   "source": [
    "test_stat, p_val = stats.shapiro(X_train_copy['Fare_qt'])\n",
    "print('Test_statistics : {}, p_value : {}'.format(test_stat, p_val))"
   ]
  },
  {
   "cell_type": "code",
   "execution_count": 30,
   "id": "2c7f6379",
   "metadata": {},
   "outputs": [
    {
     "name": "stdout",
     "output_type": "stream",
     "text": [
      "Test_statistics : 0.026833132906329216, p_value : 0.7502555408953088\n"
     ]
    }
   ],
   "source": [
    "ks_statistic, p_value = kstest(X_train_copy['Fare_qt'], 'norm')\n",
    "print('Test_statistics : {}, p_value : {}'.format(ks_statistic, p_value))"
   ]
  },
  {
   "cell_type": "markdown",
   "id": "9d00aaaa",
   "metadata": {},
   "source": [
    "If the P-Value of the KS Test is larger than 0.05, we assume a normal distribution\n",
    "If the P-Value of the KS Test is smaller than 0.05, we do not assume a normal distribution"
   ]
  },
  {
   "cell_type": "markdown",
   "id": "bdaa5c94",
   "metadata": {},
   "source": [
    "https://towardsdatascience.com/6-ways-to-test-for-a-normal-distribution-which-one-to-use-9dcf47d8fa93"
   ]
  },
  {
   "cell_type": "code",
   "execution_count": 35,
   "id": "af7c94be",
   "metadata": {},
   "outputs": [
    {
     "ename": "ImportError",
     "evalue": "cannot import name 'shapiro' from 'statsmodels.stats' (c:\\users\\user\\appdata\\local\\programs\\python\\python39\\lib\\site-packages\\statsmodels\\stats\\__init__.py)",
     "output_type": "error",
     "traceback": [
      "\u001b[1;31m---------------------------------------------------------------------------\u001b[0m",
      "\u001b[1;31mImportError\u001b[0m                               Traceback (most recent call last)",
      "\u001b[1;32m<ipython-input-35-a0df2f209ed1>\u001b[0m in \u001b[0;36m<module>\u001b[1;34m\u001b[0m\n\u001b[1;32m----> 1\u001b[1;33m \u001b[1;32mfrom\u001b[0m \u001b[0mstatsmodels\u001b[0m\u001b[1;33m.\u001b[0m\u001b[0mstats\u001b[0m \u001b[1;32mimport\u001b[0m \u001b[0mshapiro\u001b[0m\u001b[1;33m\u001b[0m\u001b[1;33m\u001b[0m\u001b[0m\n\u001b[0m",
      "\u001b[1;31mImportError\u001b[0m: cannot import name 'shapiro' from 'statsmodels.stats' (c:\\users\\user\\appdata\\local\\programs\\python\\python39\\lib\\site-packages\\statsmodels\\stats\\__init__.py)"
     ]
    }
   ],
   "source": [
    "from statsmodels.stats import shapiro"
   ]
  },
  {
   "cell_type": "code",
   "execution_count": 36,
   "id": "1c78b90b",
   "metadata": {},
   "outputs": [
    {
     "name": "stdout",
     "output_type": "stream",
     "text": [
      "Requirement already satisfied: statsmodels in c:\\users\\user\\appdata\\local\\programs\\python\\python39\\lib\\site-packages (0.12.2)\n",
      "Requirement already satisfied: patsy>=0.5 in c:\\users\\user\\appdata\\local\\programs\\python\\python39\\lib\\site-packages (from statsmodels) (0.5.1)\n",
      "Requirement already satisfied: pandas>=0.21 in c:\\users\\user\\appdata\\local\\programs\\python\\python39\\lib\\site-packages (from statsmodels) (1.2.2)\n",
      "Requirement already satisfied: numpy>=1.15 in c:\\users\\user\\appdata\\local\\programs\\python\\python39\\lib\\site-packages (from statsmodels) (1.19.5)\n",
      "Requirement already satisfied: scipy>=1.1 in c:\\users\\user\\appdata\\local\\programs\\python\\python39\\lib\\site-packages (from statsmodels) (1.6.1)\n",
      "Requirement already satisfied: pytz>=2017.3 in c:\\users\\user\\appdata\\local\\programs\\python\\python39\\lib\\site-packages (from pandas>=0.21->statsmodels) (2021.1)\n",
      "Requirement already satisfied: python-dateutil>=2.7.3 in c:\\users\\user\\appdata\\local\\programs\\python\\python39\\lib\\site-packages (from pandas>=0.21->statsmodels) (2.8.1)\n",
      "Requirement already satisfied: six in c:\\users\\user\\appdata\\local\\programs\\python\\python39\\lib\\site-packages (from patsy>=0.5->statsmodels) (1.12.0)\n"
     ]
    }
   ],
   "source": [
    "!pip install statsmodels"
   ]
  },
  {
   "cell_type": "markdown",
   "id": "4ff68be7",
   "metadata": {},
   "source": [
    "https://towardsdatascience.com/6-ways-to-test-for-a-normal-distribution-which-one-to-use-9dcf47d8fa93"
   ]
  },
  {
   "cell_type": "markdown",
   "id": "4867fd02",
   "metadata": {},
   "source": [
    "https://www.graphpad.com/support/faq/testing-data-for-normal-distrbution/"
   ]
  },
  {
   "cell_type": "markdown",
   "id": "3cd1d8ec",
   "metadata": {},
   "source": [
    "https://machinelearningmastery.com/how-to-transform-data-to-fit-the-normal-distribution/"
   ]
  }
 ],
 "metadata": {
  "kernelspec": {
   "display_name": "Python 3",
   "language": "python",
   "name": "python3"
  },
  "language_info": {
   "codemirror_mode": {
    "name": "ipython",
    "version": 3
   },
   "file_extension": ".py",
   "mimetype": "text/x-python",
   "name": "python",
   "nbconvert_exporter": "python",
   "pygments_lexer": "ipython3",
   "version": "3.9.1"
  }
 },
 "nbformat": 4,
 "nbformat_minor": 5
}
