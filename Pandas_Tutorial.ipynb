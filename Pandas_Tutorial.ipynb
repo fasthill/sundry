{
  "nbformat": 4,
  "nbformat_minor": 0,
  "metadata": {
    "colab": {
      "name": "Pandas Tutorial.ipynb",
      "provenance": [],
      "mount_file_id": "1nBVbowlcKhk2mEO3TovxS0EA5isymXge",
      "authorship_tag": "ABX9TyMqWjP3Gymc52RmyXSMmZg8",
      "include_colab_link": true
    },
    "kernelspec": {
      "name": "python3",
      "display_name": "Python 3"
    },
    "language_info": {
      "name": "python"
    }
  },
  "cells": [
    {
      "cell_type": "markdown",
      "metadata": {
        "id": "view-in-github",
        "colab_type": "text"
      },
      "source": [
        "<a href=\"https://colab.research.google.com/github/fasthill/sundry/blob/main/Pandas_Tutorial.ipynb\" target=\"_parent\"><img src=\"https://colab.research.google.com/assets/colab-badge.svg\" alt=\"Open In Colab\"/></a>"
      ]
    },
    {
      "cell_type": "code",
      "metadata": {
        "id": "nDhk9Coe7Jnf"
      },
      "source": [
        "import pandas as pd\n",
        "import numpy as np"
      ],
      "execution_count": null,
      "outputs": []
    },
    {
      "cell_type": "code",
      "metadata": {
        "id": "KhJctDpH7sIH"
      },
      "source": [
        "# from google.colab import files\n",
        "# uploaded = files.upload()"
      ],
      "execution_count": null,
      "outputs": []
    },
    {
      "cell_type": "code",
      "metadata": {
        "id": "tM4qNNKOQQ3S"
      },
      "source": [
        "# from google.colab import drive\n",
        "# drive.mount('/gdrive', force_remount=True)"
      ],
      "execution_count": null,
      "outputs": []
    },
    {
      "cell_type": "code",
      "metadata": {
        "id": "Lp_zvx-B9jiz"
      },
      "source": [
        "# !unzip developer_survey_2019.zip"
      ],
      "execution_count": null,
      "outputs": []
    },
    {
      "cell_type": "code",
      "metadata": {
        "id": "A7cRoSyO1nu_"
      },
      "source": [
        "dir1 = './drive/MyDrive/Colab Notebooks/My Drive/developer_survey_2019/'\n",
        "df = pd.read_csv(dir1+'survey_results_public.csv')\n",
        "schema_df = pd.read_csv(dir1+'survey_results_schema.csv')"
      ],
      "execution_count": null,
      "outputs": []
    },
    {
      "cell_type": "code",
      "metadata": {
        "id": "XVQYF26-ZTXj"
      },
      "source": [
        "pd.set_option('display.max_columns', 85) # 촤대로 보이는 column수가 85개로 보임\n",
        "pd.set_option('display.max_rows', 85) # 촤대로 보이는 row가 85개로 보임"
      ],
      "execution_count": null,
      "outputs": []
    },
    {
      "cell_type": "code",
      "metadata": {
        "id": "Y3mSHy_t-eCD",
        "colab": {
          "base_uri": "https://localhost:8080/"
        },
        "outputId": "825d7f9e-593a-4638-f538-fec3e5434cd0"
      },
      "source": [
        "df.shape"
      ],
      "execution_count": null,
      "outputs": [
        {
          "output_type": "execute_result",
          "data": {
            "text/plain": [
              "(88883, 85)"
            ]
          },
          "metadata": {
            "tags": []
          },
          "execution_count": 7
        }
      ]
    },
    {
      "cell_type": "code",
      "metadata": {
        "id": "e_oLK68ZYK4K"
      },
      "source": [
        "df.info()"
      ],
      "execution_count": null,
      "outputs": []
    },
    {
      "cell_type": "code",
      "metadata": {
        "id": "ENHJ2UZaZbqJ"
      },
      "source": [
        "df.head()"
      ],
      "execution_count": null,
      "outputs": []
    },
    {
      "cell_type": "code",
      "metadata": {
        "id": "i5dGq4Gyd2lF"
      },
      "source": [
        "schema_df.head()"
      ],
      "execution_count": null,
      "outputs": []
    },
    {
      "cell_type": "code",
      "metadata": {
        "id": "wb2YhZAWhVh8"
      },
      "source": [
        "df.columns"
      ],
      "execution_count": null,
      "outputs": []
    },
    {
      "cell_type": "code",
      "metadata": {
        "id": "QXcuLNOThZRC"
      },
      "source": [
        "df[['Respondent','MainBranch']]"
      ],
      "execution_count": null,
      "outputs": []
    },
    {
      "cell_type": "code",
      "metadata": {
        "id": "OjOYDHPJhjru"
      },
      "source": [
        "df.iloc[[0,1]]"
      ],
      "execution_count": null,
      "outputs": []
    },
    {
      "cell_type": "code",
      "metadata": {
        "id": "ICCBLIWjiiyn"
      },
      "source": [
        "df.iloc[0:1]"
      ],
      "execution_count": null,
      "outputs": []
    },
    {
      "cell_type": "code",
      "metadata": {
        "id": "6ajCl2HUimxh"
      },
      "source": [
        "df.iloc[[0,1],[2]]"
      ],
      "execution_count": null,
      "outputs": []
    },
    {
      "cell_type": "code",
      "metadata": {
        "id": "1PEA6JPnl1LC"
      },
      "source": [
        "df.Hobbyist"
      ],
      "execution_count": null,
      "outputs": []
    },
    {
      "cell_type": "code",
      "metadata": {
        "id": "oVrYEBICj5_C"
      },
      "source": [
        "df[['Hobbyist']].value_counts()"
      ],
      "execution_count": null,
      "outputs": []
    },
    {
      "cell_type": "code",
      "metadata": {
        "id": "STKCzELimXvy"
      },
      "source": [
        "df.loc[[0,1,2],'Hobbyist':'Student']"
      ],
      "execution_count": null,
      "outputs": []
    },
    {
      "cell_type": "code",
      "metadata": {
        "id": "A37a7s3mnMas"
      },
      "source": [
        "df.loc[0:2] # != df.iloc[0:2]"
      ],
      "execution_count": null,
      "outputs": []
    },
    {
      "cell_type": "code",
      "metadata": {
        "id": "2Y2Ce5wfjEcU"
      },
      "source": [
        "dfc = df.copy()"
      ],
      "execution_count": null,
      "outputs": []
    },
    {
      "cell_type": "code",
      "metadata": {
        "id": "b2VuyjvRjL9L"
      },
      "source": [
        "dfc.set_index('Respondent')"
      ],
      "execution_count": null,
      "outputs": []
    },
    {
      "cell_type": "code",
      "metadata": {
        "id": "3KcaY0ibkQ4y"
      },
      "source": [
        "dfc.set_index('Respondent', inplace = True)"
      ],
      "execution_count": null,
      "outputs": []
    },
    {
      "cell_type": "code",
      "metadata": {
        "id": "pvq41zL1lAuZ"
      },
      "source": [
        "dfc.head()"
      ],
      "execution_count": null,
      "outputs": []
    },
    {
      "cell_type": "code",
      "metadata": {
        "id": "ZHXK5U3TlAhx"
      },
      "source": [
        "dfc.reset_index(inplace=True)"
      ],
      "execution_count": null,
      "outputs": []
    },
    {
      "cell_type": "code",
      "metadata": {
        "id": "tlpWHioIlHtJ"
      },
      "source": [
        "dfc.head()"
      ],
      "execution_count": null,
      "outputs": []
    },
    {
      "cell_type": "code",
      "metadata": {
        "id": "Hk2CDJ9Tm6hB"
      },
      "source": [
        "# dir1 = './drive/MyDrive/Colab Notebooks/My Drive/developer_survey_2019/'\n",
        "df = pd.read_csv(dir1+'survey_results_public.csv', index_col = 'Respondent')"
      ],
      "execution_count": null,
      "outputs": []
    },
    {
      "cell_type": "code",
      "metadata": {
        "id": "HXvMfPVknHDH"
      },
      "source": [
        "df.head()"
      ],
      "execution_count": null,
      "outputs": []
    },
    {
      "cell_type": "code",
      "metadata": {
        "id": "iE8CkvRunkAz"
      },
      "source": [
        "schema_df = pd.read_csv(dir1+'survey_results_schema.csv', index_col= 'Column')"
      ],
      "execution_count": null,
      "outputs": []
    },
    {
      "cell_type": "code",
      "metadata": {
        "id": "WxBv_BU-no7B"
      },
      "source": [
        "schema_df.head()"
      ],
      "execution_count": null,
      "outputs": []
    },
    {
      "cell_type": "code",
      "metadata": {
        "colab": {
          "base_uri": "https://localhost:8080/",
          "height": 35
        },
        "id": "gv2IEB5JobG5",
        "outputId": "f2f5dfb2-f212-4bd4-8d1b-02576e29b944"
      },
      "source": [
        "schema_df.loc['MgrIdiot', 'QuestionText']"
      ],
      "execution_count": null,
      "outputs": [
        {
          "output_type": "execute_result",
          "data": {
            "application/vnd.google.colaboratory.intrinsic+json": {
              "type": "string"
            },
            "text/plain": [
              "'How confident are you that your manager knows what they’re doing?'"
            ]
          },
          "metadata": {
            "tags": []
          },
          "execution_count": 32
        }
      ]
    },
    {
      "cell_type": "code",
      "metadata": {
        "id": "PWO-Cq8QotoK"
      },
      "source": [
        "schema_df.sort_index(inplace=True, ascending=True)"
      ],
      "execution_count": null,
      "outputs": []
    },
    {
      "cell_type": "code",
      "metadata": {
        "colab": {
          "base_uri": "https://localhost:8080/",
          "height": 235
        },
        "id": "kIuZ9Y-oowYo",
        "outputId": "8d3abd12-8f3d-4f50-c138-374e9d8b64ab"
      },
      "source": [
        "schema_df.head()"
      ],
      "execution_count": null,
      "outputs": [
        {
          "output_type": "execute_result",
          "data": {
            "text/html": [
              "<div>\n",
              "<style scoped>\n",
              "    .dataframe tbody tr th:only-of-type {\n",
              "        vertical-align: middle;\n",
              "    }\n",
              "\n",
              "    .dataframe tbody tr th {\n",
              "        vertical-align: top;\n",
              "    }\n",
              "\n",
              "    .dataframe thead th {\n",
              "        text-align: right;\n",
              "    }\n",
              "</style>\n",
              "<table border=\"1\" class=\"dataframe\">\n",
              "  <thead>\n",
              "    <tr style=\"text-align: right;\">\n",
              "      <th></th>\n",
              "      <th>QuestionText</th>\n",
              "    </tr>\n",
              "    <tr>\n",
              "      <th>Column</th>\n",
              "      <th></th>\n",
              "    </tr>\n",
              "  </thead>\n",
              "  <tbody>\n",
              "    <tr>\n",
              "      <th>Age</th>\n",
              "      <td>What is your age (in years)? If you prefer not...</td>\n",
              "    </tr>\n",
              "    <tr>\n",
              "      <th>Age1stCode</th>\n",
              "      <td>At what age did you write your first line of c...</td>\n",
              "    </tr>\n",
              "    <tr>\n",
              "      <th>BetterLife</th>\n",
              "      <td>Do you think people born today will have a bet...</td>\n",
              "    </tr>\n",
              "    <tr>\n",
              "      <th>BlockchainIs</th>\n",
              "      <td>Blockchain / cryptocurrency technology is prim...</td>\n",
              "    </tr>\n",
              "    <tr>\n",
              "      <th>BlockchainOrg</th>\n",
              "      <td>How is your organization thinking about or imp...</td>\n",
              "    </tr>\n",
              "  </tbody>\n",
              "</table>\n",
              "</div>"
            ],
            "text/plain": [
              "                                                    QuestionText\n",
              "Column                                                          \n",
              "Age            What is your age (in years)? If you prefer not...\n",
              "Age1stCode     At what age did you write your first line of c...\n",
              "BetterLife     Do you think people born today will have a bet...\n",
              "BlockchainIs   Blockchain / cryptocurrency technology is prim...\n",
              "BlockchainOrg  How is your organization thinking about or imp..."
            ]
          },
          "metadata": {
            "tags": []
          },
          "execution_count": 35
        }
      ]
    },
    {
      "cell_type": "code",
      "metadata": {
        "colab": {
          "base_uri": "https://localhost:8080/"
        },
        "id": "Td0yovIvq-mr",
        "outputId": "4b489473-2280-4b3a-f546-7c1e3c870285"
      },
      "source": [
        "df.columns"
      ],
      "execution_count": null,
      "outputs": [
        {
          "output_type": "execute_result",
          "data": {
            "text/plain": [
              "Index(['Respondent', 'MainBranch', 'Hobbyist', 'OpenSourcer', 'OpenSource',\n",
              "       'Employment', 'Country', 'Student', 'EdLevel', 'UndergradMajor',\n",
              "       'EduOther', 'OrgSize', 'DevType', 'YearsCode', 'Age1stCode',\n",
              "       'YearsCodePro', 'CareerSat', 'JobSat', 'MgrIdiot', 'MgrMoney',\n",
              "       'MgrWant', 'JobSeek', 'LastHireDate', 'LastInt', 'FizzBuzz',\n",
              "       'JobFactors', 'ResumeUpdate', 'CurrencySymbol', 'CurrencyDesc',\n",
              "       'CompTotal', 'CompFreq', 'ConvertedComp', 'WorkWeekHrs', 'WorkPlan',\n",
              "       'WorkChallenge', 'WorkRemote', 'WorkLoc', 'ImpSyn', 'CodeRev',\n",
              "       'CodeRevHrs', 'UnitTests', 'PurchaseHow', 'PurchaseWhat',\n",
              "       'LanguageWorkedWith', 'LanguageDesireNextYear', 'DatabaseWorkedWith',\n",
              "       'DatabaseDesireNextYear', 'PlatformWorkedWith',\n",
              "       'PlatformDesireNextYear', 'WebFrameWorkedWith',\n",
              "       'WebFrameDesireNextYear', 'MiscTechWorkedWith',\n",
              "       'MiscTechDesireNextYear', 'DevEnviron', 'OpSys', 'Containers',\n",
              "       'BlockchainOrg', 'BlockchainIs', 'BetterLife', 'ITperson', 'OffOn',\n",
              "       'SocialMedia', 'Extraversion', 'ScreenName', 'SOVisit1st',\n",
              "       'SOVisitFreq', 'SOVisitTo', 'SOFindAnswer', 'SOTimeSaved',\n",
              "       'SOHowMuchTime', 'SOAccount', 'SOPartFreq', 'SOJobs', 'EntTeams',\n",
              "       'SOComm', 'WelcomeChange', 'SONewContent', 'Age', 'Gender', 'Trans',\n",
              "       'Sexuality', 'Ethnicity', 'Dependents', 'SurveyLength', 'SurveyEase'],\n",
              "      dtype='object')"
            ]
          },
          "metadata": {
            "tags": []
          },
          "execution_count": 4
        }
      ]
    },
    {
      "cell_type": "code",
      "metadata": {
        "id": "MJvx8AWtrY11"
      },
      "source": [
        "filt = (df['Hobbyist'] == 'Yes')"
      ],
      "execution_count": null,
      "outputs": []
    },
    {
      "cell_type": "code",
      "metadata": {
        "id": "6NCY9G-5sSi0"
      },
      "source": [
        "df.loc[filt, ['OpenSourcer', 'OpenSource']]"
      ],
      "execution_count": null,
      "outputs": []
    },
    {
      "cell_type": "code",
      "metadata": {
        "id": "cKfMd9qnsYgq"
      },
      "source": [
        "df.loc[~filt, ['OpenSourcer', 'OpenSource']]"
      ],
      "execution_count": null,
      "outputs": []
    },
    {
      "cell_type": "code",
      "metadata": {
        "id": "_BxMiuXVvXzq"
      },
      "source": [
        "df.set_index('Respondent', inplace=True)"
      ],
      "execution_count": null,
      "outputs": []
    },
    {
      "cell_type": "code",
      "metadata": {
        "id": "TUov-KFtu_sQ"
      },
      "source": [
        "high_salary = (df['ConvertedComp'] > 70000) "
      ],
      "execution_count": null,
      "outputs": []
    },
    {
      "cell_type": "code",
      "metadata": {
        "id": "XDd5f2a3vKLV"
      },
      "source": [
        "df.loc[high_salary, ['Country', 'LanguageDesireNextYear', 'ConvertedComp']].sort_values('ConvertedComp')"
      ],
      "execution_count": null,
      "outputs": []
    },
    {
      "cell_type": "code",
      "metadata": {
        "id": "BQIb7QvAJpo2"
      },
      "source": [
        ""
      ],
      "execution_count": null,
      "outputs": []
    },
    {
      "cell_type": "code",
      "metadata": {
        "id": "oCQMn54Bwoa0"
      },
      "source": [
        "countries =['United States', 'India', 'United Kingdom', 'Germany', 'Canada']\n",
        "filt = df['Country'].isin(countries)"
      ],
      "execution_count": null,
      "outputs": []
    },
    {
      "cell_type": "code",
      "metadata": {
        "id": "UUBLHVrQw2qe"
      },
      "source": [
        "df.loc[filt, 'Country']"
      ],
      "execution_count": null,
      "outputs": []
    },
    {
      "cell_type": "code",
      "metadata": {
        "id": "r2GSyKS5xw5G"
      },
      "source": [
        "df['LanguageWorkedWith']"
      ],
      "execution_count": null,
      "outputs": []
    },
    {
      "cell_type": "code",
      "metadata": {
        "id": "TW76uJu1xz1m"
      },
      "source": [
        "filt = df['LanguageWorkedWith'].str.contains('Python', na=False) # if the value is NAN, set it to False"
      ],
      "execution_count": null,
      "outputs": []
    },
    {
      "cell_type": "code",
      "metadata": {
        "id": "9AIPZXC0zO6-"
      },
      "source": [
        "filt"
      ],
      "execution_count": null,
      "outputs": []
    },
    {
      "cell_type": "code",
      "metadata": {
        "id": "66ZY8cpkycjJ"
      },
      "source": [
        "df.loc[filt, 'LanguageWorkedWith']"
      ],
      "execution_count": null,
      "outputs": []
    },
    {
      "cell_type": "code",
      "metadata": {
        "id": "c1QvLKy7K3s2"
      },
      "source": [
        "drename = df.columns.str.replace('S', '_')\n",
        "drename"
      ],
      "execution_count": null,
      "outputs": []
    },
    {
      "cell_type": "code",
      "metadata": {
        "id": "Y48uvN5yOhgR"
      },
      "source": [
        "df.rename(columns={'Country' : 'Country_rename', 'Student': 'Student_rename' }, inplace=False)"
      ],
      "execution_count": null,
      "outputs": []
    },
    {
      "cell_type": "code",
      "metadata": {
        "id": "m1y5Vl3onYTy"
      },
      "source": [
        "df.rename({'Country_rename':'Country'}, inplace=True)"
      ],
      "execution_count": null,
      "outputs": []
    },
    {
      "cell_type": "code",
      "metadata": {
        "id": "ubDm0K7VuFPB"
      },
      "source": [
        "df[~df['Country'].isna()]"
      ],
      "execution_count": null,
      "outputs": []
    },
    {
      "cell_type": "code",
      "metadata": {
        "id": "Ps6bODRaoS_8"
      },
      "source": [
        "df.Country"
      ],
      "execution_count": null,
      "outputs": []
    },
    {
      "cell_type": "code",
      "metadata": {
        "id": "y-y_XvN7nrWS"
      },
      "source": [
        "def nantest(x):\n",
        "  if pd.isna(x):\n",
        "    return x\n",
        "  else:\n",
        "    return x.upper()\n",
        "\n",
        "df['Country'].apply(nantest)"
      ],
      "execution_count": null,
      "outputs": []
    },
    {
      "cell_type": "code",
      "metadata": {
        "id": "5rVtTCZhvcsx"
      },
      "source": [
        "df.apply(len, axis =1)"
      ],
      "execution_count": null,
      "outputs": []
    },
    {
      "cell_type": "code",
      "metadata": {
        "id": "FwH5xhOgw7oM"
      },
      "source": [
        "df.apply(pd.Series.min)"
      ],
      "execution_count": null,
      "outputs": []
    },
    {
      "cell_type": "code",
      "metadata": {
        "id": "fVAsui3yxsBo"
      },
      "source": [
        "#applymap은 dataframe의 각각의 element에 적용.\n",
        "# apply는 dataframe, columns or rows에 적용"
      ],
      "execution_count": null,
      "outputs": []
    },
    {
      "cell_type": "code",
      "metadata": {
        "id": "W6UswZnLx_VN"
      },
      "source": [
        "df.applymap(str).applymap(len) # NaN 이나 숫자를 글자로 변환후 len 적용"
      ],
      "execution_count": null,
      "outputs": []
    },
    {
      "cell_type": "code",
      "metadata": {
        "id": "lmvMR1oezQVV"
      },
      "source": [
        "df.applymap(str).applymap(str.lower) "
      ],
      "execution_count": null,
      "outputs": []
    },
    {
      "cell_type": "code",
      "metadata": {
        "id": "qL1NqYRJygrt"
      },
      "source": [
        "xx = np.nan\n",
        "len(str(xx))"
      ],
      "execution_count": null,
      "outputs": []
    },
    {
      "cell_type": "code",
      "metadata": {
        "id": "IVtcSkVoz7XP"
      },
      "source": [
        "#map only works for Series"
      ],
      "execution_count": null,
      "outputs": []
    },
    {
      "cell_type": "code",
      "metadata": {
        "id": "47WIgYoNz_Sh"
      },
      "source": [
        "df['Country'].replace({'United States': 'U.S.A', 'Thailand': 'Thailands'})"
      ],
      "execution_count": null,
      "outputs": []
    },
    {
      "cell_type": "code",
      "metadata": {
        "id": "IhN6rfFt1Y2D"
      },
      "source": [
        "df.rename(columns={'ConvertedComp' : 'SalaryUSD'}, inplace=True)"
      ],
      "execution_count": null,
      "outputs": []
    },
    {
      "cell_type": "code",
      "metadata": {
        "id": "pGfpqSmy2TIW"
      },
      "source": [
        "df.columns.isin(['SalaryUSD'])"
      ],
      "execution_count": null,
      "outputs": []
    },
    {
      "cell_type": "code",
      "metadata": {
        "id": "sxj9YGqK3poL"
      },
      "source": [
        "df['Hobbyist'].replace({'Yes': True, 'No': False})"
      ],
      "execution_count": null,
      "outputs": []
    },
    {
      "cell_type": "code",
      "metadata": {
        "id": "4iwXjeA53bLF"
      },
      "source": [
        "df['Hobbyist'].map({'Yes': True, 'No': False}) # Yes 와 No 외의 값은 NaN으로 변환됨. .replace는 그대로 남아 있음."
      ],
      "execution_count": null,
      "outputs": []
    },
    {
      "cell_type": "code",
      "metadata": {
        "id": "cG3TjQWM38v3"
      },
      "source": [
        "df['Hobbyist'] = df['Hobbyist'].map({'Yes': True, 'No': False}) #inplace 기능"
      ],
      "execution_count": null,
      "outputs": []
    },
    {
      "cell_type": "code",
      "metadata": {
        "id": "4QYSBx654KPG"
      },
      "source": [
        "df['Hobbyist']"
      ],
      "execution_count": null,
      "outputs": []
    },
    {
      "cell_type": "code",
      "metadata": {
        "id": "H-n9tZ9YJrnF",
        "outputId": "066d0826-ba45-4e2e-bb1e-daa801630018",
        "colab": {
          "base_uri": "https://localhost:8080/",
          "height": 172
        }
      },
      "source": [
        "df.Hobbyist"
      ],
      "execution_count": 1,
      "outputs": [
        {
          "output_type": "error",
          "ename": "NameError",
          "evalue": "ignored",
          "traceback": [
            "\u001b[0;31m---------------------------------------------------------------------------\u001b[0m",
            "\u001b[0;31mNameError\u001b[0m                                 Traceback (most recent call last)",
            "\u001b[0;32m<ipython-input-1-a700d8ba97e7>\u001b[0m in \u001b[0;36m<module>\u001b[0;34m()\u001b[0m\n\u001b[0;32m----> 1\u001b[0;31m \u001b[0mdf\u001b[0m\u001b[0;34m.\u001b[0m\u001b[0mHobbyist\u001b[0m\u001b[0;34m\u001b[0m\u001b[0;34m\u001b[0m\u001b[0m\n\u001b[0m",
            "\u001b[0;31mNameError\u001b[0m: name 'df' is not defined"
          ]
        }
      ]
    }
  ]
}