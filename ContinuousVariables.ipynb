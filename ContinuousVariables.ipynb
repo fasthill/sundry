{
 "cells": [
  {
   "cell_type": "markdown",
   "id": "classical-broadcast",
   "metadata": {},
   "source": [
    "https://towardsdatascience.com/the-definitive-way-to-deal-with-continuous-variables-in-machine-learning-edb5472a2538"
   ]
  },
  {
   "cell_type": "code",
   "execution_count": 3,
   "id": "rocky-scheduling",
   "metadata": {},
   "outputs": [],
   "source": [
    "import pandas as pd\n",
    "import numpy as np\n",
    "\n",
    "from sklearn.datasets import load_boston\n",
    "from sklearn.preprocessing import KBinsDiscretizer"
   ]
  },
  {
   "cell_type": "code",
   "execution_count": 2,
   "id": "senior-guest",
   "metadata": {},
   "outputs": [],
   "source": [
    "boston = load_boston()"
   ]
  },
  {
   "cell_type": "code",
   "execution_count": 3,
   "id": "bibliographic-watson",
   "metadata": {},
   "outputs": [],
   "source": [
    "boston_df = pd.DataFrame(boston['data'] )"
   ]
  },
  {
   "cell_type": "code",
   "execution_count": 21,
   "id": "representative-assessment",
   "metadata": {},
   "outputs": [
    {
     "data": {
      "text/html": [
       "<div>\n",
       "<style scoped>\n",
       "    .dataframe tbody tr th:only-of-type {\n",
       "        vertical-align: middle;\n",
       "    }\n",
       "\n",
       "    .dataframe tbody tr th {\n",
       "        vertical-align: top;\n",
       "    }\n",
       "\n",
       "    .dataframe thead th {\n",
       "        text-align: right;\n",
       "    }\n",
       "</style>\n",
       "<table border=\"1\" class=\"dataframe\">\n",
       "  <thead>\n",
       "    <tr style=\"text-align: right;\">\n",
       "      <th></th>\n",
       "      <th>CRIM</th>\n",
       "      <th>ZN</th>\n",
       "      <th>INDUS</th>\n",
       "      <th>CHAS</th>\n",
       "      <th>NOX</th>\n",
       "      <th>RM</th>\n",
       "      <th>AGE</th>\n",
       "      <th>DIS</th>\n",
       "      <th>RAD</th>\n",
       "      <th>TAX</th>\n",
       "      <th>...</th>\n",
       "      <th>BIN_CHAS</th>\n",
       "      <th>BIN_NOX</th>\n",
       "      <th>BIN_RM</th>\n",
       "      <th>BIN_AGE</th>\n",
       "      <th>BIN_DIS</th>\n",
       "      <th>BIN_RAD</th>\n",
       "      <th>BIN_TAX</th>\n",
       "      <th>BIN_PTRATIO</th>\n",
       "      <th>BIN_B</th>\n",
       "      <th>BIN_LSTAT</th>\n",
       "    </tr>\n",
       "  </thead>\n",
       "  <tbody>\n",
       "    <tr>\n",
       "      <th>0</th>\n",
       "      <td>0.00632</td>\n",
       "      <td>18.0</td>\n",
       "      <td>2.31</td>\n",
       "      <td>0.0</td>\n",
       "      <td>0.538</td>\n",
       "      <td>6.575</td>\n",
       "      <td>65.2</td>\n",
       "      <td>4.0900</td>\n",
       "      <td>1.0</td>\n",
       "      <td>296.0</td>\n",
       "      <td>...</td>\n",
       "      <td>0</td>\n",
       "      <td>2</td>\n",
       "      <td>3</td>\n",
       "      <td>1</td>\n",
       "      <td>3</td>\n",
       "      <td>0</td>\n",
       "      <td>1</td>\n",
       "      <td>0</td>\n",
       "      <td>3</td>\n",
       "      <td>0</td>\n",
       "    </tr>\n",
       "    <tr>\n",
       "      <th>1</th>\n",
       "      <td>0.02731</td>\n",
       "      <td>0.0</td>\n",
       "      <td>7.07</td>\n",
       "      <td>0.0</td>\n",
       "      <td>0.469</td>\n",
       "      <td>6.421</td>\n",
       "      <td>78.9</td>\n",
       "      <td>4.9671</td>\n",
       "      <td>2.0</td>\n",
       "      <td>242.0</td>\n",
       "      <td>...</td>\n",
       "      <td>0</td>\n",
       "      <td>1</td>\n",
       "      <td>3</td>\n",
       "      <td>2</td>\n",
       "      <td>3</td>\n",
       "      <td>0</td>\n",
       "      <td>0</td>\n",
       "      <td>1</td>\n",
       "      <td>3</td>\n",
       "      <td>1</td>\n",
       "    </tr>\n",
       "    <tr>\n",
       "      <th>2</th>\n",
       "      <td>0.02729</td>\n",
       "      <td>0.0</td>\n",
       "      <td>7.07</td>\n",
       "      <td>0.0</td>\n",
       "      <td>0.469</td>\n",
       "      <td>7.185</td>\n",
       "      <td>61.1</td>\n",
       "      <td>4.9671</td>\n",
       "      <td>2.0</td>\n",
       "      <td>242.0</td>\n",
       "      <td>...</td>\n",
       "      <td>0</td>\n",
       "      <td>1</td>\n",
       "      <td>4</td>\n",
       "      <td>1</td>\n",
       "      <td>3</td>\n",
       "      <td>0</td>\n",
       "      <td>0</td>\n",
       "      <td>1</td>\n",
       "      <td>2</td>\n",
       "      <td>0</td>\n",
       "    </tr>\n",
       "    <tr>\n",
       "      <th>3</th>\n",
       "      <td>0.03237</td>\n",
       "      <td>0.0</td>\n",
       "      <td>2.18</td>\n",
       "      <td>0.0</td>\n",
       "      <td>0.458</td>\n",
       "      <td>6.998</td>\n",
       "      <td>45.8</td>\n",
       "      <td>6.0622</td>\n",
       "      <td>3.0</td>\n",
       "      <td>222.0</td>\n",
       "      <td>...</td>\n",
       "      <td>0</td>\n",
       "      <td>1</td>\n",
       "      <td>4</td>\n",
       "      <td>1</td>\n",
       "      <td>4</td>\n",
       "      <td>0</td>\n",
       "      <td>0</td>\n",
       "      <td>2</td>\n",
       "      <td>3</td>\n",
       "      <td>0</td>\n",
       "    </tr>\n",
       "    <tr>\n",
       "      <th>4</th>\n",
       "      <td>0.06905</td>\n",
       "      <td>0.0</td>\n",
       "      <td>2.18</td>\n",
       "      <td>0.0</td>\n",
       "      <td>0.458</td>\n",
       "      <td>7.147</td>\n",
       "      <td>54.2</td>\n",
       "      <td>6.0622</td>\n",
       "      <td>3.0</td>\n",
       "      <td>222.0</td>\n",
       "      <td>...</td>\n",
       "      <td>0</td>\n",
       "      <td>1</td>\n",
       "      <td>4</td>\n",
       "      <td>1</td>\n",
       "      <td>4</td>\n",
       "      <td>0</td>\n",
       "      <td>0</td>\n",
       "      <td>2</td>\n",
       "      <td>3</td>\n",
       "      <td>0</td>\n",
       "    </tr>\n",
       "  </tbody>\n",
       "</table>\n",
       "<p>5 rows × 27 columns</p>\n",
       "</div>"
      ],
      "text/plain": [
       "      CRIM    ZN  INDUS  CHAS    NOX     RM   AGE     DIS  RAD    TAX  ...  \\\n",
       "0  0.00632  18.0   2.31   0.0  0.538  6.575  65.2  4.0900  1.0  296.0  ...   \n",
       "1  0.02731   0.0   7.07   0.0  0.469  6.421  78.9  4.9671  2.0  242.0  ...   \n",
       "2  0.02729   0.0   7.07   0.0  0.469  7.185  61.1  4.9671  2.0  242.0  ...   \n",
       "3  0.03237   0.0   2.18   0.0  0.458  6.998  45.8  6.0622  3.0  222.0  ...   \n",
       "4  0.06905   0.0   2.18   0.0  0.458  7.147  54.2  6.0622  3.0  222.0  ...   \n",
       "\n",
       "   BIN_CHAS  BIN_NOX  BIN_RM  BIN_AGE  BIN_DIS  BIN_RAD  BIN_TAX  BIN_PTRATIO  \\\n",
       "0         0        2       3        1        3        0        1            0   \n",
       "1         0        1       3        2        3        0        0            1   \n",
       "2         0        1       4        1        3        0        0            1   \n",
       "3         0        1       4        1        4        0        0            2   \n",
       "4         0        1       4        1        4        0        0            2   \n",
       "\n",
       "   BIN_B  BIN_LSTAT  \n",
       "0      3          0  \n",
       "1      3          1  \n",
       "2      2          0  \n",
       "3      3          0  \n",
       "4      3          0  \n",
       "\n",
       "[5 rows x 27 columns]"
      ]
     },
     "execution_count": 21,
     "metadata": {},
     "output_type": "execute_result"
    }
   ],
   "source": [
    "boston_df.head()"
   ]
  },
  {
   "cell_type": "code",
   "execution_count": 5,
   "id": "curious-browser",
   "metadata": {},
   "outputs": [],
   "source": [
    "boston_df = pd.DataFrame(boston['data'] )\n",
    "boston_df.columns = boston['feature_names']\n",
    "boston_df['PRICE'] = boston['target']"
   ]
  },
  {
   "cell_type": "code",
   "execution_count": 16,
   "id": "instant-contrast",
   "metadata": {},
   "outputs": [],
   "source": [
    "n_bins = 5\n",
    "\n",
    "qt = KBinsDiscretizer(n_bins=n_bins, encode='ordinal', strategy='quantile')"
   ]
  },
  {
   "cell_type": "code",
   "execution_count": 17,
   "id": "demonstrated-vintage",
   "metadata": {},
   "outputs": [
    {
     "data": {
      "text/plain": [
       "KBinsDiscretizer(encode='ordinal')"
      ]
     },
     "execution_count": 17,
     "metadata": {},
     "output_type": "execute_result"
    }
   ],
   "source": [
    "qt"
   ]
  },
  {
   "cell_type": "code",
   "execution_count": 18,
   "id": "normal-longer",
   "metadata": {},
   "outputs": [],
   "source": [
    "scaled_feature_names = [f\"BIN_{x}\" for x in boston['feature_names']]"
   ]
  },
  {
   "cell_type": "code",
   "execution_count": 19,
   "id": "efficient-first",
   "metadata": {},
   "outputs": [
    {
     "data": {
      "text/plain": [
       "['BIN_CRIM',\n",
       " 'BIN_ZN',\n",
       " 'BIN_INDUS',\n",
       " 'BIN_CHAS',\n",
       " 'BIN_NOX',\n",
       " 'BIN_RM',\n",
       " 'BIN_AGE',\n",
       " 'BIN_DIS',\n",
       " 'BIN_RAD',\n",
       " 'BIN_TAX',\n",
       " 'BIN_PTRATIO',\n",
       " 'BIN_B',\n",
       " 'BIN_LSTAT']"
      ]
     },
     "execution_count": 19,
     "metadata": {},
     "output_type": "execute_result"
    }
   ],
   "source": [
    "scaled_feature_names"
   ]
  },
  {
   "cell_type": "code",
   "execution_count": 20,
   "id": "entertaining-surface",
   "metadata": {},
   "outputs": [
    {
     "name": "stderr",
     "output_type": "stream",
     "text": [
      "c:\\users\\user\\appdata\\local\\programs\\python\\python39\\lib\\site-packages\\sklearn\\preprocessing\\_discretization.py:220: UserWarning: Bins whose width are too small (i.e., <= 1e-8) in feature 1 are removed. Consider decreasing the number of bins.\n",
      "  warnings.warn('Bins whose width are too small (i.e., <= '\n",
      "c:\\users\\user\\appdata\\local\\programs\\python\\python39\\lib\\site-packages\\sklearn\\preprocessing\\_discretization.py:220: UserWarning: Bins whose width are too small (i.e., <= 1e-8) in feature 3 are removed. Consider decreasing the number of bins.\n",
      "  warnings.warn('Bins whose width are too small (i.e., <= '\n",
      "c:\\users\\user\\appdata\\local\\programs\\python\\python39\\lib\\site-packages\\sklearn\\preprocessing\\_discretization.py:220: UserWarning: Bins whose width are too small (i.e., <= 1e-8) in feature 8 are removed. Consider decreasing the number of bins.\n",
      "  warnings.warn('Bins whose width are too small (i.e., <= '\n",
      "c:\\users\\user\\appdata\\local\\programs\\python\\python39\\lib\\site-packages\\sklearn\\preprocessing\\_discretization.py:220: UserWarning: Bins whose width are too small (i.e., <= 1e-8) in feature 11 are removed. Consider decreasing the number of bins.\n",
      "  warnings.warn('Bins whose width are too small (i.e., <= '\n"
     ]
    }
   ],
   "source": [
    "boston_df[scaled_feature_names] = qt.fit_transform(boston_df[boston['feature_names']])\n",
    "boston_df[scaled_feature_names] = boston_df[scaled_feature_names].astype(int)"
   ]
  },
  {
   "cell_type": "code",
   "execution_count": 22,
   "id": "laughing-advertiser",
   "metadata": {},
   "outputs": [],
   "source": [
    "import tensorflow as tf\n",
    "from tensorflow.keras import layers\n",
    "from tensorflow.keras import initializers\n",
    "\n",
    "class QuantizedFeaturesEmbedding(layers.Layer):\n",
    "  def __init__(self,\n",
    "               n_features,\n",
    "               n_bins,\n",
    "               embed_dim,\n",
    "               **kwargs):\n",
    "    super(QuantizedFeaturesEmbedding, self).__init__(**kwargs)\n",
    "    self.n_features = n_features\n",
    "    self.n_bins = n_bins\n",
    "    self.embed_dim = embed_dim\n",
    "\n",
    "    assert self.n_features > 0\n",
    "    assert self.n_bins > 0\n",
    "    assert self.embed_dim > 0\n",
    "\n",
    "  def build(self, input_shape=None):\n",
    "    self.embeddings = self.add_weight(\n",
    "        shape=(self.n_features, self.n_bins, self.embed_dim),\n",
    "        initializer=tf.keras.initializers.GlorotUniform(),\n",
    "        name='quantized_features_embeddings')\n",
    "    self.built = True\n",
    "\n",
    "  def _enumerate(self, ids):\n",
    "    '''\n",
    "    input: [[1,0,2,1], [0,2,1,1]]\n",
    "    output: [[(0,1), (1,0), (2,2), (3,1)],\n",
    "             [(0,0), (1,2), (2,1), (3,1)]]\n",
    "    so that, for the first input:\n",
    "    A[(0,1)] = feature 0, embedding 1\n",
    "    A[(1,0)] = feature 1, embedding 0\n",
    "    A[(2,2)] = feature 2, embedding 2\n",
    "    A[(3,1)] = feature 3, embedding 1\n",
    "    '''\n",
    "    bs = ids.shape[0]\n",
    "    pos = tf.expand_dims(tf.range(0, self.n_features), axis=0) # (0,1,2,..nf)\n",
    "    pos = tf.tile(pos, tf.constant([bs, 1])) # repeat for this batch\n",
    "    tf.assert_equal(pos.shape, ids.shape) \n",
    "    return tf.stack([pos, ids], axis=-1)\n",
    "\n",
    "  def call(self, ids):\n",
    "    '''\n",
    "    Input shape:\n",
    "      2D tensor with shape (batch_size, n_features)\n",
    "    Output shape:\n",
    "      3D tensor with shape (batch_size, n_features, embed_dim)\n",
    "    '''\n",
    "    assert ids.shape[1] == self.n_features\n",
    "\n",
    "    ids = tf.cast(ids, tf.int32)\n",
    "    idx = self._enumerate(ids)\n",
    "    return tf.gather_nd(self.embeddings, idx)"
   ]
  },
  {
   "cell_type": "code",
   "execution_count": 23,
   "id": "military-mechanism",
   "metadata": {},
   "outputs": [],
   "source": [
    "import tensorflow as tf\n",
    "from tensorflow.keras import layers\n",
    "from tensorflow.keras import initializers\n",
    "\n",
    "class QuantizedFeaturesEmbedding(layers.Layer):\n",
    "  def __init__(self,\n",
    "               n_features,\n",
    "               n_bins,\n",
    "               embed_dim,\n",
    "               **kwargs):\n",
    "    super(QuantizedFeaturesEmbedding, self).__init__(**kwargs)\n",
    "    self.n_features = n_features\n",
    "    self.n_bins = n_bins\n",
    "    self.embed_dim = embed_dim\n",
    "\n",
    "    assert self.n_features > 0\n",
    "    assert self.n_bins > 0\n",
    "    assert self.embed_dim > 0\n",
    "\n",
    "  def build(self, input_shape=None):\n",
    "    self.embeddings = self.add_weight(\n",
    "        shape=(self.n_features, self.n_bins, self.embed_dim),\n",
    "        initializer=tf.keras.initializers.GlorotUniform(),\n",
    "        name='quantized_features_embeddings')\n",
    "    self.built = True\n",
    "\n",
    "  def _enumerate(self, ids):\n",
    "    '''\n",
    "    input: [[1,0,2,1], [0,2,1,1]]\n",
    "    output: [[(0,1), (1,0), (2,2), (3,1)],\n",
    "             [(0,0), (1,2), (2,1), (3,1)]]\n",
    "    so that, for the first input:\n",
    "    A[(0,1)] = feature 0, embedding 1\n",
    "    A[(1,0)] = feature 1, embedding 0\n",
    "    A[(2,2)] = feature 2, embedding 2\n",
    "    A[(3,1)] = feature 3, embedding 1\n",
    "    '''\n",
    "    bs = ids.shape[0]\n",
    "    pos = tf.expand_dims(tf.range(0, self.n_features), axis=0) # (0,1,2,..nf)\n",
    "    pos = tf.tile(pos, tf.constant([bs, 1])) # repeat for this batch\n",
    "    tf.assert_equal(pos.shape, ids.shape) \n",
    "    return tf.stack([pos, ids], axis=-1)\n",
    "\n",
    "  def call(self, ids):\n",
    "    '''\n",
    "    Input shape:\n",
    "      2D tensor with shape (batch_size, n_features)\n",
    "    Output shape:\n",
    "      3D tensor with shape (batch_size, n_features, embed_dim)\n",
    "    '''\n",
    "    assert ids.shape[1] == self.n_features\n",
    "\n",
    "    ids = tf.cast(ids, tf.int32)\n",
    "    idx = self._enumerate(ids)\n",
    "    return tf.gather_nd(self.embeddings, idx)"
   ]
  },
  {
   "cell_type": "code",
   "execution_count": null,
   "id": "speaking-click",
   "metadata": {},
   "outputs": [],
   "source": []
  },
  {
   "cell_type": "code",
   "execution_count": 2,
   "id": "boring-interest",
   "metadata": {
    "scrolled": true
   },
   "outputs": [
    {
     "ename": "NameError",
     "evalue": "name 'np' is not defined",
     "output_type": "error",
     "traceback": [
      "\u001b[1;31m---------------------------------------------------------------------------\u001b[0m",
      "\u001b[1;31mNameError\u001b[0m                                 Traceback (most recent call last)",
      "Input \u001b[1;32mIn [2]\u001b[0m, in \u001b[0;36m<module>\u001b[1;34m\u001b[0m\n\u001b[1;32m----> 1\u001b[0m np\u001b[38;5;241m.\u001b[39mconcatenate([\u001b[38;5;241m-\u001b[39mnp\u001b[38;5;241m.\u001b[39minf, bin_edges_[i][\u001b[38;5;241m1\u001b[39m:\u001b[38;5;241m-\u001b[39m\u001b[38;5;241m1\u001b[39m], np\u001b[38;5;241m.\u001b[39minf])\n",
      "\u001b[1;31mNameError\u001b[0m: name 'np' is not defined"
     ]
    }
   ],
   "source": [
    "np.concatenate([-np.inf, bin_edges_[i][1:-1], np.inf])"
   ]
  },
  {
   "cell_type": "code",
   "execution_count": 10,
   "id": "portable-elder",
   "metadata": {},
   "outputs": [],
   "source": [
    "import matplotlib.pyplot as plt"
   ]
  },
  {
   "cell_type": "code",
   "execution_count": 9,
   "id": "weekly-retail",
   "metadata": {},
   "outputs": [
    {
     "data": {
      "text/plain": [
       "[[-2, 1, -4, -1], [-1, 2, -3, -0.5], [0, 3, -2, 0.5], [1, 4, -1, 2]]"
      ]
     },
     "execution_count": 9,
     "metadata": {},
     "output_type": "execute_result"
    }
   ],
   "source": [
    "X = [[-2, 1, -4,   -1], \n",
    "     [-1, 2, -3, -0.5],   \n",
    "     [ 0, 3, -2,  0.5],  \n",
    "     [ 1, 4, -1,    2]]\n",
    "X"
   ]
  },
  {
   "cell_type": "code",
   "execution_count": 25,
   "id": "crude-coffee",
   "metadata": {},
   "outputs": [
    {
     "data": {
      "text/plain": [
       "[-2, 1, -4, -1, -1, 2, -3, -0.5, 0, 3, -2, 0.5, 1, 4, -1, 2]"
      ]
     },
     "execution_count": 25,
     "metadata": {},
     "output_type": "execute_result"
    }
   ],
   "source": [
    "x = [-2, 1, -4, -1,-1, 2, -3, -0.5, 0, 3, -2, 0.5, 1, 4, -1, 2]\n",
    "x"
   ]
  },
  {
   "cell_type": "code",
   "execution_count": 27,
   "id": "simplified-samuel",
   "metadata": {},
   "outputs": [
    {
     "data": {
      "text/plain": [
       "[-4, -3, -2, -2, -1, -1, -1, -0.5, 0, 0.5, 1, 1, 2, 2, 3, 4]"
      ]
     },
     "execution_count": 27,
     "metadata": {},
     "output_type": "execute_result"
    }
   ],
   "source": [
    "x.sort()\n",
    "x"
   ]
  },
  {
   "cell_type": "code",
   "execution_count": 29,
   "id": "wireless-slide",
   "metadata": {},
   "outputs": [
    {
     "data": {
      "text/plain": [
       "(array([1., 1., 2., 3., 1., 2., 2., 2., 1., 1.]),\n",
       " array([-4. , -3.2, -2.4, -1.6, -0.8,  0. ,  0.8,  1.6,  2.4,  3.2,  4. ]),\n",
       " <BarContainer object of 10 artists>)"
      ]
     },
     "execution_count": 29,
     "metadata": {},
     "output_type": "execute_result"
    },
    {
     "data": {
      "image/png": "[encoded data removed]",
      "text/plain": [
       "<Figure size 432x288 with 1 Axes>"
      ]
     },
     "metadata": {
      "needs_background": "light"
     },
     "output_type": "display_data"
    }
   ],
   "source": [
    "y = np.arange(16)\n",
    "plt.hist(x)"
   ]
  },
  {
   "cell_type": "code",
   "execution_count": 30,
   "id": "capital-affiliate",
   "metadata": {},
   "outputs": [
    {
     "data": {
      "text/plain": [
       "KBinsDiscretizer(encode='ordinal', n_bins=4, strategy='uniform')"
      ]
     },
     "execution_count": 30,
     "metadata": {},
     "output_type": "execute_result"
    }
   ],
   "source": [
    "est = KBinsDiscretizer(n_bins=4, encode='ordinal', strategy='uniform')\n",
    "est.fit(X)"
   ]
  },
  {
   "cell_type": "code",
   "execution_count": 31,
   "id": "spatial-corps",
   "metadata": {},
   "outputs": [
    {
     "data": {
      "text/plain": [
       "array([[0., 0., 0., 0.],\n",
       "       [1., 1., 1., 0.],\n",
       "       [2., 2., 2., 2.],\n",
       "       [3., 3., 3., 3.]])"
      ]
     },
     "execution_count": 31,
     "metadata": {},
     "output_type": "execute_result"
    }
   ],
   "source": [
    "Xt = est.transform(X)\n",
    "Xt "
   ]
  },
  {
   "cell_type": "code",
   "execution_count": 38,
   "id": "looking-slope",
   "metadata": {},
   "outputs": [
    {
     "data": {
      "text/plain": [
       "array([[0, 1, 2, 3],\n",
       "       [3, 0, 1, 2],\n",
       "       [0, 1, 2, 3],\n",
       "       [0, 1, 2, 3]], dtype=int64)"
      ]
     },
     "execution_count": 38,
     "metadata": {},
     "output_type": "execute_result"
    }
   ],
   "source": [
    "Xt.argsort()"
   ]
  },
  {
   "cell_type": "code",
   "execution_count": null,
   "id": "closed-python",
   "metadata": {},
   "outputs": [],
   "source": []
  }
 ],
 "metadata": {
  "kernelspec": {
   "display_name": "Python 3 (ipykernel)",
   "language": "python",
   "name": "python3"
  },
  "language_info": {
   "codemirror_mode": {
    "name": "ipython",
    "version": 3
   },
   "file_extension": ".py",
   "mimetype": "text/x-python",
   "name": "python",
   "nbconvert_exporter": "python",
   "pygments_lexer": "ipython3",
   "version": "3.9.1"
  }
 },
 "nbformat": 4,
 "nbformat_minor": 5
}
