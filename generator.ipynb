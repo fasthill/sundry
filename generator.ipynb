{
 "cells": [
  {
   "cell_type": "code",
   "execution_count": 90,
   "id": "c485f518",
   "metadata": {},
   "outputs": [],
   "source": [
    "import numpy as np\n",
    "import pandas as pd\n",
    "import matplotlib.pyplot as plt"
   ]
  },
  {
   "cell_type": "code",
   "execution_count": 24,
   "id": "00fa3ca3",
   "metadata": {
    "scrolled": false
   },
   "outputs": [],
   "source": [
    "from tensorflow.keras.preprocessing.sequence import TimeseriesGenerator\n",
    "from tensorflow.keras.models import Sequential\n",
    "from tensorflow.keras.layers import Dense\n",
    "from tensorflow.keras.layers import LSTM"
   ]
  },
  {
   "cell_type": "code",
   "execution_count": 134,
   "id": "a75c91b4",
   "metadata": {},
   "outputs": [
    {
     "name": "stdout",
     "output_type": "stream",
     "text": [
      "[[10.683177]]\n"
     ]
    }
   ],
   "source": [
    "# define dataset\n",
    "series = np.array([1, 2, 3, 4, 5, 6, 7, 8, 9, 10])\n",
    "# reshape to [10, 1]\n",
    "n_features = 1\n",
    "series = series.reshape((len(series), n_features))\n",
    "# define generator\n",
    "n_input = 2\n",
    "generator = TimeseriesGenerator(series, series, length=n_input, batch_size=8)\n",
    "# define model\n",
    "model = Sequential()\n",
    "model.add(LSTM(100, activation='relu', input_shape=(n_input, n_features)))\n",
    "model.add(Dense(1))\n",
    "model.compile(optimizer='adam', loss='mse')\n",
    "# fit model\n",
    "model.fit(generator, steps_per_epoch=1, epochs=500, verbose=0)\n",
    "# make a one step prediction out of sample\n",
    "x_input = array([9, 10]).reshape((1, n_input, n_features))\n",
    "yhat = model.predict(x_input, verbose=0)\n",
    "print(yhat)"
   ]
  },
  {
   "cell_type": "code",
   "execution_count": 136,
   "id": "43e566d0",
   "metadata": {},
   "outputs": [],
   "source": [
    "# define dataset\n",
    "in_seq1 = np.array([10, 20, 30, 40, 50, 60, 70, 80, 90, 100])\n",
    "in_seq2 = np.array([15, 25, 35, 45, 55, 65, 75, 85, 95, 105])"
   ]
  },
  {
   "cell_type": "code",
   "execution_count": 137,
   "id": "9fa07eec",
   "metadata": {},
   "outputs": [],
   "source": [
    "# reshape series. from vector into columns\n",
    "in_seq1 = in_seq1.reshape((len(in_seq1), 1))\n",
    "in_seq2 = in_seq2.reshape((len(in_seq2), 1))"
   ]
  },
  {
   "cell_type": "code",
   "execution_count": 138,
   "id": "865a5ec4",
   "metadata": {},
   "outputs": [],
   "source": [
    "# horizontally stack columns\n",
    "dataset = np.hstack((in_seq1, in_seq2))"
   ]
  },
  {
   "cell_type": "code",
   "execution_count": 139,
   "id": "fcb525b6",
   "metadata": {},
   "outputs": [
    {
     "data": {
      "text/plain": [
       "array([[ 10,  15],\n",
       "       [ 20,  25],\n",
       "       [ 30,  35],\n",
       "       [ 40,  45],\n",
       "       [ 50,  55],\n",
       "       [ 60,  65],\n",
       "       [ 70,  75],\n",
       "       [ 80,  85],\n",
       "       [ 90,  95],\n",
       "       [100, 105]])"
      ]
     },
     "execution_count": 139,
     "metadata": {},
     "output_type": "execute_result"
    }
   ],
   "source": [
    "dataset"
   ]
  },
  {
   "cell_type": "code",
   "execution_count": 140,
   "id": "53b8249c",
   "metadata": {},
   "outputs": [],
   "source": [
    "# # number of samples\n",
    "# print('Samples: %d' % len(generator))\n",
    "# # print each sample\n",
    "# for i in range(len(generator)):\n",
    "# \tx, y = generator[i]\n",
    "# \tprint('%s => %s' % (x, y))"
   ]
  },
  {
   "cell_type": "code",
   "execution_count": 141,
   "id": "bec738e2",
   "metadata": {},
   "outputs": [
    {
     "name": "stdout",
     "output_type": "stream",
     "text": [
      "[[110.18278 115.28493]]\n"
     ]
    }
   ],
   "source": [
    "# define generator\n",
    "n_features = dataset.shape[1]\n",
    "n_input = 2\n",
    "generator = TimeseriesGenerator(dataset, dataset, length=n_input, batch_size=8)\n",
    "# define model\n",
    "model = Sequential()\n",
    "model.add(LSTM(100, activation='relu', input_shape=(n_input, n_features)))\n",
    "model.add(Dense(2))\n",
    "model.compile(optimizer='adam', loss='mse')\n",
    "# fit model\n",
    "model.fit(generator, steps_per_epoch=1, epochs=500, verbose=0)\n",
    "# make a one step prediction out of sample\n",
    "x_input = np.array([[90, 95], [100, 105]]).reshape((1, n_input, n_features))\n",
    "yhat = model.predict(x_input, verbose=0)\n",
    "print(yhat)"
   ]
  },
  {
   "cell_type": "code",
   "execution_count": 142,
   "id": "9de9399d",
   "metadata": {},
   "outputs": [],
   "source": [
    "sdata = pd.read_csv('https://raw.githubusercontent.com/fasthill/My-gist/main/data/SNP500/individual_stocks_5yr/ABBV_data.csv')"
   ]
  },
  {
   "cell_type": "code",
   "execution_count": 143,
   "id": "d7d026a1",
   "metadata": {},
   "outputs": [
    {
     "data": {
      "text/html": [
       "<div>\n",
       "<style scoped>\n",
       "    .dataframe tbody tr th:only-of-type {\n",
       "        vertical-align: middle;\n",
       "    }\n",
       "\n",
       "    .dataframe tbody tr th {\n",
       "        vertical-align: top;\n",
       "    }\n",
       "\n",
       "    .dataframe thead th {\n",
       "        text-align: right;\n",
       "    }\n",
       "</style>\n",
       "<table border=\"1\" class=\"dataframe\">\n",
       "  <thead>\n",
       "    <tr style=\"text-align: right;\">\n",
       "      <th></th>\n",
       "      <th>date</th>\n",
       "      <th>open</th>\n",
       "      <th>high</th>\n",
       "      <th>low</th>\n",
       "      <th>close</th>\n",
       "      <th>volume</th>\n",
       "      <th>Name</th>\n",
       "    </tr>\n",
       "  </thead>\n",
       "  <tbody>\n",
       "    <tr>\n",
       "      <th>0</th>\n",
       "      <td>2013-02-08</td>\n",
       "      <td>36.37</td>\n",
       "      <td>36.42</td>\n",
       "      <td>35.825</td>\n",
       "      <td>36.25</td>\n",
       "      <td>13858795</td>\n",
       "      <td>ABBV</td>\n",
       "    </tr>\n",
       "    <tr>\n",
       "      <th>1</th>\n",
       "      <td>2013-02-11</td>\n",
       "      <td>36.13</td>\n",
       "      <td>36.18</td>\n",
       "      <td>35.750</td>\n",
       "      <td>35.85</td>\n",
       "      <td>6031957</td>\n",
       "      <td>ABBV</td>\n",
       "    </tr>\n",
       "    <tr>\n",
       "      <th>2</th>\n",
       "      <td>2013-02-12</td>\n",
       "      <td>35.77</td>\n",
       "      <td>35.90</td>\n",
       "      <td>35.200</td>\n",
       "      <td>35.42</td>\n",
       "      <td>7473991</td>\n",
       "      <td>ABBV</td>\n",
       "    </tr>\n",
       "    <tr>\n",
       "      <th>3</th>\n",
       "      <td>2013-02-13</td>\n",
       "      <td>35.42</td>\n",
       "      <td>35.57</td>\n",
       "      <td>35.150</td>\n",
       "      <td>35.27</td>\n",
       "      <td>4860053</td>\n",
       "      <td>ABBV</td>\n",
       "    </tr>\n",
       "    <tr>\n",
       "      <th>4</th>\n",
       "      <td>2013-02-14</td>\n",
       "      <td>35.05</td>\n",
       "      <td>36.73</td>\n",
       "      <td>35.010</td>\n",
       "      <td>36.57</td>\n",
       "      <td>7570052</td>\n",
       "      <td>ABBV</td>\n",
       "    </tr>\n",
       "  </tbody>\n",
       "</table>\n",
       "</div>"
      ],
      "text/plain": [
       "         date   open   high     low  close    volume  Name\n",
       "0  2013-02-08  36.37  36.42  35.825  36.25  13858795  ABBV\n",
       "1  2013-02-11  36.13  36.18  35.750  35.85   6031957  ABBV\n",
       "2  2013-02-12  35.77  35.90  35.200  35.42   7473991  ABBV\n",
       "3  2013-02-13  35.42  35.57  35.150  35.27   4860053  ABBV\n",
       "4  2013-02-14  35.05  36.73  35.010  36.57   7570052  ABBV"
      ]
     },
     "execution_count": 143,
     "metadata": {},
     "output_type": "execute_result"
    }
   ],
   "source": [
    "sdata.head()"
   ]
  },
  {
   "cell_type": "code",
   "execution_count": 144,
   "id": "cf632a4c",
   "metadata": {},
   "outputs": [],
   "source": [
    "ssdata = sdata.values"
   ]
  },
  {
   "cell_type": "code",
   "execution_count": 145,
   "id": "ed92885d",
   "metadata": {},
   "outputs": [
    {
     "data": {
      "text/plain": [
       "array([['2013-02-08', 36.37, 36.42, ..., 36.25, 13858795, 'ABBV'],\n",
       "       ['2013-02-11', 36.13, 36.18, ..., 35.85, 6031957, 'ABBV'],\n",
       "       ['2013-02-12', 35.77, 35.9, ..., 35.42, 7473991, 'ABBV'],\n",
       "       ...,\n",
       "       ['2018-02-05', 113.0, 115.535, ..., 109.51, 9827825, 'ABBV'],\n",
       "       ['2018-02-06', 104.91, 113.52, ..., 111.2, 14107829, 'ABBV'],\n",
       "       ['2018-02-07', 111.52, 116.85, ..., 113.62, 10030837, 'ABBV']],\n",
       "      dtype=object)"
      ]
     },
     "execution_count": 145,
     "metadata": {},
     "output_type": "execute_result"
    }
   ],
   "source": [
    "ssdata"
   ]
  },
  {
   "cell_type": "code",
   "execution_count": 146,
   "id": "57c6918d",
   "metadata": {},
   "outputs": [],
   "source": [
    "n_input = 5\n",
    "generator = TimeseriesGenerator(ssdata[:,[1,4]], ssdata[:,[1,4]], length=n_input, batch_size=1)"
   ]
  },
  {
   "cell_type": "code",
   "execution_count": 148,
   "id": "d46fdb96",
   "metadata": {},
   "outputs": [],
   "source": [
    "# # number of samples\n",
    "# print('Samples: %d' % len(generator))\n",
    "# # print each sample\n",
    "# for i in range(20):\n",
    "# \tx, y = generator[i]\n",
    "# \tprint('%s => %s' % (x, y))"
   ]
  },
  {
   "cell_type": "code",
   "execution_count": 149,
   "id": "acd81683",
   "metadata": {},
   "outputs": [],
   "source": [
    "dataset = ssdata[:,[1,4]]"
   ]
  },
  {
   "cell_type": "code",
   "execution_count": 150,
   "id": "b7e9c3c3",
   "metadata": {},
   "outputs": [
    {
     "data": {
      "text/plain": [
       "array([[36.37, 36.25],\n",
       "       [36.13, 35.85],\n",
       "       [35.77, 35.42],\n",
       "       ...,\n",
       "       [113.0, 109.51],\n",
       "       [104.91, 111.2],\n",
       "       [111.52, 113.62]], dtype=object)"
      ]
     },
     "execution_count": 150,
     "metadata": {},
     "output_type": "execute_result"
    }
   ],
   "source": [
    "dataset"
   ]
  },
  {
   "cell_type": "code",
   "execution_count": 151,
   "id": "f4351bb8",
   "metadata": {},
   "outputs": [],
   "source": [
    "# define generator\n",
    "n_features = dataset.shape[1]\n",
    "n_input = 5\n",
    "generator = TimeseriesGenerator(dataset, dataset, length=n_input, batch_size=8)\n",
    "# define model"
   ]
  },
  {
   "cell_type": "code",
   "execution_count": 153,
   "id": "17581704",
   "metadata": {},
   "outputs": [],
   "source": [
    "# # number of samples\n",
    "# print('Samples: %d' % len(generator))\n",
    "# # print each sample\n",
    "# for i in range(20):\n",
    "# \tx, y = generator[i]\n",
    "# \tprint('%s => %s' % (x, y))"
   ]
  },
  {
   "cell_type": "code",
   "execution_count": 154,
   "id": "de9f0d7c",
   "metadata": {},
   "outputs": [
    {
     "name": "stdout",
     "output_type": "stream",
     "text": [
      "[[36.625095 37.046135]]\n"
     ]
    }
   ],
   "source": [
    "# define generator\n",
    "n_features = dataset.shape[1]\n",
    "n_input = 5\n",
    "dataset = dataset.astype(float)\n",
    "generator = TimeseriesGenerator(dataset, dataset, length=n_input, batch_size=8)\n",
    "# define model\n",
    "model = Sequential()\n",
    "model.add(LSTM(100, activation='relu', input_shape=(n_input, n_features)))\n",
    "model.add(Dense(2))\n",
    "model.compile(optimizer='adam', loss='mse')\n",
    "# fit model\n",
    "model.fit(generator, steps_per_epoch=1, epochs=500, verbose=0)\n",
    "# make a one step prediction out of sample\n",
    "xx_in = np.array([[36.37, 36.25],\n",
    "  [36.13,  35.85],\n",
    "  [35.77,  35.42],\n",
    "  [35.42, 35.27],\n",
    "  [35.05, 36.57]])\n",
    "x_input = xx_in.reshape((1, n_input, n_features))\n",
    "yhat = model.predict(x_input, verbose=0)\n",
    "print(yhat)"
   ]
  },
  {
   "cell_type": "code",
   "execution_count": 155,
   "id": "59faad3f",
   "metadata": {},
   "outputs": [
    {
     "data": {
      "text/plain": [
       "[<matplotlib.lines.Line2D at 0x1db51192ee0>,\n",
       " <matplotlib.lines.Line2D at 0x1db4fab7d60>]"
      ]
     },
     "execution_count": 155,
     "metadata": {},
     "output_type": "execute_result"
    },
    {
     "data": {
      "image/png": "[encoded data removed]",
      "text/plain": [
       "<Figure size 432x288 with 1 Axes>"
      ]
     },
     "metadata": {
      "needs_background": "light"
     },
     "output_type": "display_data"
    }
   ],
   "source": [
    "plt.plot(dataset)"
   ]
  },
  {
   "cell_type": "code",
   "execution_count": 157,
   "id": "2077d199",
   "metadata": {},
   "outputs": [],
   "source": [
    "from sklearn.model_selection import train_test_split"
   ]
  },
  {
   "cell_type": "code",
   "execution_count": 159,
   "id": "3fb7d538",
   "metadata": {},
   "outputs": [],
   "source": [
    "X_train, X_test = train_test_split(dataset, test_size=0.2, shuffle=False)"
   ]
  },
  {
   "cell_type": "code",
   "execution_count": 160,
   "id": "143bd23d",
   "metadata": {},
   "outputs": [
    {
     "data": {
      "text/plain": [
       "array([[ 60.14 ,  60.52 ],\n",
       "       [ 60.74 ,  60.84 ],\n",
       "       [ 60.85 ,  60.42 ],\n",
       "       [ 60.58 ,  60.51 ],\n",
       "       [ 60.44 ,  60.82 ],\n",
       "       [ 60.92 ,  61.65 ],\n",
       "       [ 61.67 ,  61.48 ],\n",
       "       [ 61.54 ,  61.77 ],\n",
       "       [ 61.84 ,  61.83 ],\n",
       "       [ 61.72 ,  61.36 ],\n",
       "       [ 61.68 ,  61.94 ],\n",
       "       [ 61.92 ,  62.09 ],\n",
       "       [ 62.02 ,  62.22 ],\n",
       "       [ 62.11 ,  61.84 ],\n",
       "       [ 62.16 ,  62.83 ],\n",
       "       [ 62.78 ,  63.25 ],\n",
       "       [ 63.11 ,  63.34 ],\n",
       "       [ 63.   ,  63.55 ],\n",
       "       [ 63.14 ,  63.69 ],\n",
       "       [ 63.75 ,  64.14 ],\n",
       "       [ 64.14 ,  64.5  ],\n",
       "       [ 65.3  ,  65.88 ],\n",
       "       [ 65.87 ,  65.85 ],\n",
       "       [ 65.88 ,  65.67 ],\n",
       "       [ 65.7  ,  66.55 ],\n",
       "       [ 66.4  ,  65.9  ],\n",
       "       [ 66.04 ,  65.69 ],\n",
       "       [ 65.78 ,  65.8  ],\n",
       "       [ 65.96 ,  65.35 ],\n",
       "       [ 65.38 ,  65.52 ],\n",
       "       [ 65.52 ,  65.65 ],\n",
       "       [ 65.51 ,  65.62 ],\n",
       "       [ 65.37 ,  66.1  ],\n",
       "       [ 65.96 ,  65.98 ],\n",
       "       [ 65.95 ,  65.77 ],\n",
       "       [ 65.76 ,  65.46 ],\n",
       "       [ 65.46 ,  65.16 ],\n",
       "       [ 65.24 ,  65.03 ],\n",
       "       [ 65.12 ,  65.11 ],\n",
       "       [ 65.23 ,  64.96 ],\n",
       "       [ 65.03 ,  65.08 ],\n",
       "       [ 65.06 ,  65.54 ],\n",
       "       [ 65.5  ,  64.97 ],\n",
       "       [ 64.43 ,  64.18 ],\n",
       "       [ 64.17 ,  64.37 ],\n",
       "       [ 64.24 ,  64.13 ],\n",
       "       [ 64.79 ,  64.31 ],\n",
       "       [ 64.03 ,  63.65 ],\n",
       "       [ 63.9  ,  63.45 ],\n",
       "       [ 63.72 ,  63.78 ],\n",
       "       [ 63.76 ,  63.82 ],\n",
       "       [ 64.4  ,  64.66 ],\n",
       "       [ 64.94 ,  65.1  ],\n",
       "       [ 65.19 ,  65.04 ],\n",
       "       [ 65.45 ,  66.07 ],\n",
       "       [ 66.06 ,  65.94 ],\n",
       "       [ 66.   ,  66.48 ],\n",
       "       [ 66.51 ,  66.63 ],\n",
       "       [ 66.45 ,  66.74 ],\n",
       "       [ 66.74 ,  67.23 ],\n",
       "       [ 67.19 ,  66.99 ],\n",
       "       [ 66.94 ,  66.21 ],\n",
       "       [ 66.2  ,  66.17 ],\n",
       "       [ 66.16 ,  65.98 ],\n",
       "       [ 65.9  ,  65.3  ],\n",
       "       [ 65.27 ,  66.06 ],\n",
       "       [ 66.07 ,  66.67 ],\n",
       "       [ 66.73 ,  66.85 ],\n",
       "       [ 64.98 ,  65.37 ],\n",
       "       [ 65.37 ,  65.63 ],\n",
       "       [ 65.74 ,  65.58 ],\n",
       "       [ 65.55 ,  65.44 ],\n",
       "       [ 65.44 ,  65.84 ],\n",
       "       [ 65.79 ,  65.93 ],\n",
       "       [ 66.06 ,  66.32 ],\n",
       "       [ 66.14 ,  66.06 ],\n",
       "       [ 65.89 ,  66.02 ],\n",
       "       [ 66.24 ,  66.02 ],\n",
       "       [ 66.255,  66.71 ],\n",
       "       [ 66.809,  67.25 ],\n",
       "       [ 67.25 ,  67.51 ],\n",
       "       [ 67.48 ,  67.87 ],\n",
       "       [ 68.01 ,  68.75 ],\n",
       "       [ 68.67 ,  68.76 ],\n",
       "       [ 68.8  ,  69.67 ],\n",
       "       [ 69.79 ,  69.53 ],\n",
       "       [ 69.62 ,  69.67 ],\n",
       "       [ 69.48 ,  70.52 ],\n",
       "       [ 70.341,  70.6  ],\n",
       "       [ 70.8  ,  71.05 ],\n",
       "       [ 71.11 ,  71.34 ],\n",
       "       [ 71.44 ,  71.22 ],\n",
       "       [ 71.11 ,  71.34 ],\n",
       "       [ 71.49 ,  73.18 ],\n",
       "       [ 73.2  ,  72.64 ],\n",
       "       [ 72.79 ,  72.74 ],\n",
       "       [ 72.7  ,  72.39 ],\n",
       "       [ 72.72 ,  72.92 ],\n",
       "       [ 73.15 ,  72.48 ],\n",
       "       [ 72.57 ,  72.51 ],\n",
       "       [ 72.76 ,  72.42 ],\n",
       "       [ 72.48 ,  72.48 ],\n",
       "       [ 72.24 ,  71.73 ],\n",
       "       [ 72.11 ,  72.03 ],\n",
       "       [ 71.8  ,  71.83 ],\n",
       "       [ 71.89 ,  71.84 ],\n",
       "       [ 71.51 ,  71.88 ],\n",
       "       [ 71.94 ,  72.63 ],\n",
       "       [ 72.62 ,  73.11 ],\n",
       "       [ 73.1  ,  72.7  ],\n",
       "       [ 72.63 ,  72.23 ],\n",
       "       [ 72.48 ,  72.77 ],\n",
       "       [ 72.99 ,  74.01 ],\n",
       "       [ 73.98 ,  74.63 ],\n",
       "       [ 74.63 ,  73.91 ],\n",
       "       [ 74.4  ,  72.52 ],\n",
       "       [ 72.37 ,  72.59 ],\n",
       "       [ 72.78 ,  71.73 ],\n",
       "       [ 71.64 ,  70.44 ],\n",
       "       [ 70.52 ,  69.91 ],\n",
       "       [ 71.17 ,  70.99 ],\n",
       "       [ 70.25 ,  70.71 ],\n",
       "       [ 70.61 ,  70.99 ],\n",
       "       [ 71.17 ,  70.99 ],\n",
       "       [ 70.94 ,  71.22 ],\n",
       "       [ 71.33 ,  71.47 ],\n",
       "       [ 71.26 ,  72.02 ],\n",
       "       [ 72.01 ,  70.44 ],\n",
       "       [ 70.74 ,  70.63 ],\n",
       "       [ 71.23 ,  70.82 ],\n",
       "       [ 71.08 ,  70.34 ],\n",
       "       [ 70.49 ,  70.42 ],\n",
       "       [ 70.6  ,  69.85 ],\n",
       "       [ 69.52 ,  69.96 ],\n",
       "       [ 69.92 ,  70.7  ],\n",
       "       [ 70.91 ,  71.75 ],\n",
       "       [ 71.29 ,  71.52 ],\n",
       "       [ 71.72 ,  72.11 ],\n",
       "       [ 72.22 ,  72.48 ],\n",
       "       [ 72.67 ,  73.32 ],\n",
       "       [ 72.78 ,  73.89 ],\n",
       "       [ 73.621,  73.92 ],\n",
       "       [ 74.11 ,  75.3  ],\n",
       "       [ 75.59 ,  75.42 ],\n",
       "       [ 75.39 ,  75.25 ],\n",
       "       [ 75.61 ,  77.05 ],\n",
       "       [ 77.29 ,  81.78 ],\n",
       "       [ 81.29 ,  85.34 ],\n",
       "       [ 84.46 ,  87.   ],\n",
       "       [ 86.97 ,  87.75 ],\n",
       "       [ 87.58 ,  88.47 ],\n",
       "       [ 88.23 ,  89.22 ],\n",
       "       [ 89.39 ,  87.37 ],\n",
       "       [ 87.47 ,  85.32 ],\n",
       "       [ 85.54 ,  86.37 ],\n",
       "       [ 86.4  ,  87.41 ],\n",
       "       [ 87.36 ,  87.41 ],\n",
       "       [ 87.22 ,  87.48 ],\n",
       "       [ 86.92 ,  86.57 ],\n",
       "       [ 86.35 ,  85.35 ],\n",
       "       [ 85.35 ,  84.75 ],\n",
       "       [ 86.67 ,  88.96 ],\n",
       "       [ 88.69 ,  88.86 ],\n",
       "       [ 89.74 ,  90.39 ],\n",
       "       [ 90.44 ,  89.7  ],\n",
       "       [ 89.52 ,  89.9  ],\n",
       "       [ 89.69 ,  90.18 ],\n",
       "       [ 90.2  ,  90.49 ],\n",
       "       [ 90.57 ,  90.78 ],\n",
       "       [ 90.71 ,  91.17 ],\n",
       "       [ 91.47 ,  92.38 ],\n",
       "       [ 91.77 ,  91.42 ],\n",
       "       [ 91.41 ,  90.67 ],\n",
       "       [ 91.01 ,  91.04 ],\n",
       "       [ 91.09 ,  92.17 ],\n",
       "       [ 92.35 ,  96.04 ],\n",
       "       [ 95.5  ,  96.48 ],\n",
       "       [ 96.78 ,  96.1  ],\n",
       "       [ 95.93 ,  94.51 ],\n",
       "       [ 94.   ,  91.69 ],\n",
       "       [ 91.78 ,  91.78 ],\n",
       "       [ 91.86 ,  89.56 ],\n",
       "       [ 92.7  ,  91.93 ],\n",
       "       [ 91.7  ,  90.96 ],\n",
       "       [ 90.88 ,  90.25 ],\n",
       "       [ 90.78 ,  92.44 ],\n",
       "       [ 92.08 ,  91.02 ],\n",
       "       [ 91.3  ,  92.31 ],\n",
       "       [ 92.22 ,  92.96 ],\n",
       "       [ 92.98 ,  93.96 ],\n",
       "       [ 94.31 ,  95.71 ],\n",
       "       [ 95.29 ,  95.89 ],\n",
       "       [ 95.35 ,  95.43 ],\n",
       "       [ 95.37 ,  95.12 ],\n",
       "       [ 94.64 ,  94.75 ],\n",
       "       [ 94.63 ,  93.76 ],\n",
       "       [ 94.44 ,  94.47 ],\n",
       "       [ 93.8  ,  93.61 ],\n",
       "       [ 93.92 ,  93.6  ],\n",
       "       [ 93.7  ,  94.68 ],\n",
       "       [ 94.69 ,  94.47 ],\n",
       "       [ 94.   ,  94.72 ],\n",
       "       [ 94.69 ,  95.42 ],\n",
       "       [ 95.94 ,  95.42 ],\n",
       "       [ 95.76 ,  95.82 ],\n",
       "       [ 96.36 ,  96.92 ],\n",
       "       [ 97.19 ,  96.32 ],\n",
       "       [ 96.37 ,  95.22 ],\n",
       "       [ 95.45 ,  95.41 ],\n",
       "       [ 95.7  ,  94.4  ],\n",
       "       [ 94.4  ,  94.24 ],\n",
       "       [ 94.62 ,  95.95 ],\n",
       "       [ 95.88 ,  96.47 ],\n",
       "       [ 96.62 ,  96.3  ],\n",
       "       [ 96.6  ,  97.35 ],\n",
       "       [ 97.345,  96.3  ],\n",
       "       [ 97.06 ,  97.45 ],\n",
       "       [ 97.87 ,  98.19 ],\n",
       "       [ 98.5  ,  97.92 ],\n",
       "       [ 97.89 ,  97.41 ],\n",
       "       [ 98.02 ,  97.91 ],\n",
       "       [ 98.07 ,  98.21 ],\n",
       "       [ 98.15 ,  97.75 ],\n",
       "       [ 97.73 ,  98.09 ],\n",
       "       [ 98.19 ,  97.79 ],\n",
       "       [ 98.14 ,  96.71 ],\n",
       "       [ 97.14 ,  98.41 ],\n",
       "       [ 98.55 ,  99.95 ],\n",
       "       [100.07 ,  99.38 ],\n",
       "       [ 99.34 , 101.11 ],\n",
       "       [101.28 ,  99.49 ],\n",
       "       [ 99.49 , 100.24 ],\n",
       "       [ 99.65 ,  99.69 ],\n",
       "       [ 99.37 ,  99.27 ],\n",
       "       [ 99.34 , 100.34 ],\n",
       "       [100.26 , 102.49 ],\n",
       "       [103.   , 104.36 ],\n",
       "       [104.29 , 103.81 ],\n",
       "       [104.33 , 104.64 ],\n",
       "       [104.7  , 106.49 ],\n",
       "       [106.17 , 105.38 ],\n",
       "       [105.26 , 105.51 ],\n",
       "       [105.95 , 108.3  ],\n",
       "       [114.5  , 123.21 ],\n",
       "       [121.5  , 122.31 ],\n",
       "       [119.42 , 115.88 ],\n",
       "       [116.21 , 112.22 ],\n",
       "       [112.24 , 116.34 ],\n",
       "       [115.5  , 115.17 ],\n",
       "       [113.   , 109.51 ],\n",
       "       [104.91 , 111.2  ],\n",
       "       [111.52 , 113.62 ]])"
      ]
     },
     "execution_count": 160,
     "metadata": {},
     "output_type": "execute_result"
    }
   ],
   "source": [
    "X_test"
   ]
  },
  {
   "cell_type": "code",
   "execution_count": 162,
   "id": "912340ef",
   "metadata": {},
   "outputs": [],
   "source": [
    "dataset = X_train"
   ]
  },
  {
   "cell_type": "code",
   "execution_count": 165,
   "id": "e1437a7e",
   "metadata": {},
   "outputs": [
    {
     "data": {
      "text/plain": [
       "<tensorflow.python.keras.callbacks.History at 0x1db5175d670>"
      ]
     },
     "execution_count": 165,
     "metadata": {},
     "output_type": "execute_result"
    }
   ],
   "source": [
    "# define generator\n",
    "n_features = dataset.shape[1]\n",
    "n_input = 5\n",
    "dataset = dataset.astype(float)\n",
    "generator = TimeseriesGenerator(dataset, dataset, length=n_input, batch_size=8)\n",
    "# define model\n",
    "model = Sequential()\n",
    "model.add(LSTM(100, activation='relu', input_shape=(n_input, n_features)))\n",
    "model.add(Dense(2))\n",
    "model.compile(optimizer='adam', loss='mse')\n",
    "# fit model\n",
    "model.fit(generator, steps_per_epoch=1, epochs=500, verbose=0)\n"
   ]
  },
  {
   "cell_type": "code",
   "execution_count": 166,
   "id": "eff0ee55",
   "metadata": {},
   "outputs": [],
   "source": [
    "dataset = X_test"
   ]
  },
  {
   "cell_type": "code",
   "execution_count": 168,
   "id": "698057d9",
   "metadata": {},
   "outputs": [
    {
     "data": {
      "text/plain": [
       "array([57.643055, 58.698215], dtype=float32)"
      ]
     },
     "execution_count": 168,
     "metadata": {},
     "output_type": "execute_result"
    }
   ],
   "source": [
    "n_input = 5\n",
    "dataset = dataset.astype(float)\n",
    "generator = TimeseriesGenerator(dataset, dataset, length=n_input, batch_size=8)\n",
    "# make a one step prediction out of sample\n",
    "predictions = model.predict(generator)\n",
    "predictions[1]"
   ]
  },
  {
   "cell_type": "code",
   "execution_count": 173,
   "id": "12f29184",
   "metadata": {},
   "outputs": [
    {
     "name": "stdout",
     "output_type": "stream",
     "text": [
      "31/31 [==============================] - 0s 1ms/step - loss: 26.2170\n"
     ]
    }
   ],
   "source": [
    "results = model.evaluate(generator)"
   ]
  },
  {
   "cell_type": "code",
   "execution_count": 174,
   "id": "f62fed91",
   "metadata": {},
   "outputs": [
    {
     "data": {
      "text/plain": [
       "26.21704864501953"
      ]
     },
     "execution_count": 174,
     "metadata": {},
     "output_type": "execute_result"
    }
   ],
   "source": [
    "results"
   ]
  },
  {
   "cell_type": "code",
   "execution_count": null,
   "id": "a18c1615",
   "metadata": {},
   "outputs": [],
   "source": []
  }
 ],
 "metadata": {
  "kernelspec": {
   "display_name": "Python 3",
   "language": "python",
   "name": "python3"
  },
  "language_info": {
   "codemirror_mode": {
    "name": "ipython",
    "version": 3
   },
   "file_extension": ".py",
   "mimetype": "text/x-python",
   "name": "python",
   "nbconvert_exporter": "python",
   "pygments_lexer": "ipython3",
   "version": "3.9.1"
  }
 },
 "nbformat": 4,
 "nbformat_minor": 5
}
