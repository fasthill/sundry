{
 "cells": [
  {
   "cell_type": "code",
   "execution_count": 1,
   "id": "67bfe549",
   "metadata": {},
   "outputs": [
    {
     "data": {
      "text/plain": [
       "'\\n27쪽 문자열, 숫자  # 슬라이드 27쪽\\n'"
      ]
     },
     "execution_count": 1,
     "metadata": {},
     "output_type": "execute_result"
    }
   ],
   "source": [
    "'''\n",
    "27쪽 문자열, 숫자  # 슬라이드 27쪽\n",
    "'''"
   ]
  },
  {
   "cell_type": "code",
   "execution_count": 2,
   "id": "a8abd163",
   "metadata": {},
   "outputs": [
    {
     "data": {
      "text/plain": [
       "'paichai'"
      ]
     },
     "execution_count": 2,
     "metadata": {},
     "output_type": "execute_result"
    }
   ],
   "source": [
    "'paichai'"
   ]
  },
  {
   "cell_type": "code",
   "execution_count": 3,
   "id": "2ac55523",
   "metadata": {},
   "outputs": [
    {
     "data": {
      "text/plain": [
       "'Python'"
      ]
     },
     "execution_count": 3,
     "metadata": {},
     "output_type": "execute_result"
    }
   ],
   "source": [
    "\"Python\"  # 따옴표 사용 슬라이드 28쪽"
   ]
  },
  {
   "cell_type": "code",
   "execution_count": 4,
   "id": "596c2f1f",
   "metadata": {
    "collapsed": true
   },
   "outputs": [
    {
     "ename": "SyntaxError",
     "evalue": "invalid syntax (<ipython-input-4-2e624d7edec0>, line 2)",
     "output_type": "error",
     "traceback": [
      "\u001b[1;36m  File \u001b[1;32m\"<ipython-input-4-2e624d7edec0>\"\u001b[1;36m, line \u001b[1;32m2\u001b[0m\n\u001b[1;33m    대전시 중구\u001b[0m\n\u001b[1;37m        ^\u001b[0m\n\u001b[1;31mSyntaxError\u001b[0m\u001b[1;31m:\u001b[0m invalid syntax\n"
     ]
    }
   ],
   "source": [
    "배재대학교\n",
    "대전시 중구\n",
    "스마트배재관"
   ]
  },
  {
   "cell_type": "code",
   "execution_count": 6,
   "id": "2afae504",
   "metadata": {},
   "outputs": [
    {
     "data": {
      "text/plain": [
       "'\\n배재대학교\\n대전시 중구\\n스마트배재관\\n'"
      ]
     },
     "execution_count": 6,
     "metadata": {},
     "output_type": "execute_result"
    }
   ],
   "source": [
    "'''\n",
    "배재대학교\n",
    "대전시 중구\n",
    "스마트배재관\n",
    "'''"
   ]
  },
  {
   "cell_type": "code",
   "execution_count": 7,
   "id": "a76ab46a",
   "metadata": {},
   "outputs": [
    {
     "data": {
      "text/plain": [
       "'개행문자'"
      ]
     },
     "execution_count": 7,
     "metadata": {},
     "output_type": "execute_result"
    }
   ],
   "source": [
    "'개행문자'"
   ]
  },
  {
   "cell_type": "code",
   "execution_count": 8,
   "id": "d57dac9d",
   "metadata": {},
   "outputs": [
    {
     "name": "stdout",
     "output_type": "stream",
     "text": [
      "배재대학교\n"
     ]
    }
   ],
   "source": [
    "print('배재대학교')"
   ]
  },
  {
   "cell_type": "code",
   "execution_count": 9,
   "id": "c8014a47",
   "metadata": {},
   "outputs": [
    {
     "name": "stdout",
     "output_type": "stream",
     "text": [
      "\n",
      "배재대학교\n",
      "대전시 중구\n",
      "스마트배재관\n",
      "\n"
     ]
    }
   ],
   "source": [
    "print('''\n",
    "배재대학교\n",
    "대전시 중구\n",
    "스마트배재관\n",
    "''')"
   ]
  },
  {
   "cell_type": "code",
   "execution_count": 10,
   "id": "ba67508d",
   "metadata": {},
   "outputs": [
    {
     "data": {
      "text/plain": [
       "'정수'"
      ]
     },
     "execution_count": 10,
     "metadata": {},
     "output_type": "execute_result"
    }
   ],
   "source": [
    "'정수'"
   ]
  },
  {
   "cell_type": "code",
   "execution_count": 11,
   "id": "026c339c",
   "metadata": {},
   "outputs": [
    {
     "data": {
      "text/plain": [
       "(1, 2, 100000)"
      ]
     },
     "execution_count": 11,
     "metadata": {},
     "output_type": "execute_result"
    }
   ],
   "source": [
    "1, 2, 100000"
   ]
  },
  {
   "cell_type": "code",
   "execution_count": 12,
   "id": "23e04d37",
   "metadata": {},
   "outputs": [],
   "source": [
    "# 실수 : 소수점이 있는 숫자"
   ]
  },
  {
   "cell_type": "code",
   "execution_count": 13,
   "id": "f4833c9a",
   "metadata": {},
   "outputs": [
    {
     "data": {
      "text/plain": [
       "(0.1, 10.5, 1.0)"
      ]
     },
     "execution_count": 13,
     "metadata": {},
     "output_type": "execute_result"
    }
   ],
   "source": [
    "0.1, 10.5, 1."
   ]
  },
  {
   "cell_type": "code",
   "execution_count": 14,
   "id": "4200214c",
   "metadata": {},
   "outputs": [
    {
     "name": "stdout",
     "output_type": "stream",
     "text": [
      "1 10.2 1.0 2.0\n"
     ]
    }
   ],
   "source": [
    "print(1, 10.2, 1.0, 2.) # 슬라이드 35"
   ]
  },
  {
   "cell_type": "code",
   "execution_count": 15,
   "id": "37a1eb67",
   "metadata": {},
   "outputs": [],
   "source": [
    "# 수식 연산자 곱하기 *, 나누기 /,  더하기 +,  빼기 -\n",
    "# 계산 순서 : 곱하기/나누기 먼저 진행 후 더하기 빼기"
   ]
  },
  {
   "cell_type": "code",
   "execution_count": 16,
   "id": "dfe99b36",
   "metadata": {},
   "outputs": [
    {
     "data": {
      "text/plain": [
       "20"
      ]
     },
     "execution_count": 16,
     "metadata": {},
     "output_type": "execute_result"
    }
   ],
   "source": [
    "10 + 5 * 2"
   ]
  },
  {
   "cell_type": "code",
   "execution_count": 17,
   "id": "6eca0040",
   "metadata": {},
   "outputs": [
    {
     "data": {
      "text/plain": [
       "30"
      ]
     },
     "execution_count": 17,
     "metadata": {},
     "output_type": "execute_result"
    }
   ],
   "source": [
    "(10 + 5) * 2  # 자신이 없으면 무조건 괄호 사용"
   ]
  },
  {
   "cell_type": "code",
   "execution_count": 18,
   "id": "c028d70e",
   "metadata": {},
   "outputs": [
    {
     "name": "stdout",
     "output_type": "stream",
     "text": [
      "20\n"
     ]
    }
   ],
   "source": [
    "print(10 * 2) # 슬라이드 36쪽"
   ]
  },
  {
   "cell_type": "code",
   "execution_count": 19,
   "id": "cb3d41f2",
   "metadata": {},
   "outputs": [],
   "source": [
    "# 데이터 저장  37쪽\n",
    "# 변수란? variables 38쪽\n",
    "# 40. 41쪽 중요"
   ]
  },
  {
   "cell_type": "code",
   "execution_count": 20,
   "id": "6ed552b8",
   "metadata": {},
   "outputs": [
    {
     "name": "stdout",
     "output_type": "stream",
     "text": [
      "2\n"
     ]
    }
   ],
   "source": [
    "x = 1\n",
    "x = x + 1\n",
    "print(x)"
   ]
  },
  {
   "cell_type": "code",
   "execution_count": 21,
   "id": "449dc1e1",
   "metadata": {},
   "outputs": [
    {
     "name": "stdout",
     "output_type": "stream",
     "text": [
      "10 20\n"
     ]
    }
   ],
   "source": [
    "a, b = 10, 20  # 45쪽\n",
    "print(a, b)"
   ]
  },
  {
   "cell_type": "code",
   "execution_count": 22,
   "id": "f2a68167",
   "metadata": {},
   "outputs": [
    {
     "name": "stdout",
     "output_type": "stream",
     "text": [
      "20 10\n"
     ]
    }
   ],
   "source": [
    "a, b = b, a  # 변수 값 교환\n",
    "print(a, b)"
   ]
  },
  {
   "cell_type": "code",
   "execution_count": 23,
   "id": "903cff88",
   "metadata": {},
   "outputs": [],
   "source": [
    "# 문자열 = string  # 46쪽"
   ]
  },
  {
   "cell_type": "code",
   "execution_count": 24,
   "id": "a1c28d9c",
   "metadata": {},
   "outputs": [
    {
     "name": "stdout",
     "output_type": "stream",
     "text": [
      "이름 입력하세요: 홍길동\n"
     ]
    }
   ],
   "source": [
    "name = input(\"이름 입력하세요: \")"
   ]
  },
  {
   "cell_type": "code",
   "execution_count": 25,
   "id": "ffc2d401",
   "metadata": {},
   "outputs": [
    {
     "data": {
      "text/plain": [
       "'홍길동'"
      ]
     },
     "execution_count": 25,
     "metadata": {},
     "output_type": "execute_result"
    }
   ],
   "source": [
    "name  # name은 문자열"
   ]
  },
  {
   "cell_type": "code",
   "execution_count": 26,
   "id": "715ff3e3",
   "metadata": {},
   "outputs": [
    {
     "name": "stdout",
     "output_type": "stream",
     "text": [
      "학번을 입력하세요 : 444\n"
     ]
    }
   ],
   "source": [
    "student_number = input(\"학번을 입력하세요 : \")"
   ]
  },
  {
   "cell_type": "code",
   "execution_count": 27,
   "id": "07dd885f",
   "metadata": {},
   "outputs": [
    {
     "data": {
      "text/plain": [
       "'444'"
      ]
     },
     "execution_count": 27,
     "metadata": {},
     "output_type": "execute_result"
    }
   ],
   "source": [
    "student_number # 따옴표 확인"
   ]
  },
  {
   "cell_type": "code",
   "execution_count": 28,
   "id": "37bfa67a",
   "metadata": {
    "collapsed": true
   },
   "outputs": [
    {
     "ename": "TypeError",
     "evalue": "can only concatenate str (not \"int\") to str",
     "output_type": "error",
     "traceback": [
      "\u001b[1;31m---------------------------------------------------------------------------\u001b[0m",
      "\u001b[1;31mTypeError\u001b[0m                                 Traceback (most recent call last)",
      "\u001b[1;32m<ipython-input-28-626ede8844b6>\u001b[0m in \u001b[0;36m<module>\u001b[1;34m\u001b[0m\n\u001b[1;32m----> 1\u001b[1;33m \u001b[0mssum\u001b[0m \u001b[1;33m=\u001b[0m \u001b[0mstudent_number\u001b[0m \u001b[1;33m+\u001b[0m \u001b[1;36m1\u001b[0m \u001b[1;31m# 문자열 확인\u001b[0m\u001b[1;33m\u001b[0m\u001b[1;33m\u001b[0m\u001b[0m\n\u001b[0m",
      "\u001b[1;31mTypeError\u001b[0m: can only concatenate str (not \"int\") to str"
     ]
    }
   ],
   "source": [
    "ssum = student_number + 1 # 문자열 확인"
   ]
  },
  {
   "cell_type": "code",
   "execution_count": 29,
   "id": "e0c64dc9",
   "metadata": {},
   "outputs": [],
   "source": [
    "s_int = int(student_number)  # int : 정수로 변환하는 함수"
   ]
  },
  {
   "cell_type": "code",
   "execution_count": 30,
   "id": "8152d39d",
   "metadata": {},
   "outputs": [
    {
     "data": {
      "text/plain": [
       "445"
      ]
     },
     "execution_count": 30,
     "metadata": {},
     "output_type": "execute_result"
    }
   ],
   "source": [
    "s_int + 1"
   ]
  },
  {
   "cell_type": "code",
   "execution_count": 31,
   "id": "b120fc15",
   "metadata": {},
   "outputs": [
    {
     "data": {
      "text/plain": [
       "444.0"
      ]
     },
     "execution_count": 31,
     "metadata": {},
     "output_type": "execute_result"
    }
   ],
   "source": [
    "s_float = float(student_number)  # float : 실수로 변환하는 함수\n",
    "s_float"
   ]
  },
  {
   "cell_type": "code",
   "execution_count": 32,
   "id": "a5900de0",
   "metadata": {},
   "outputs": [
    {
     "name": "stdout",
     "output_type": "stream",
     "text": [
      "학번을 입력하세요 : 66\n"
     ]
    }
   ],
   "source": [
    "# input 내용을 처음부터 정수로 받으려면\n",
    "student_number = int(input(\"학번을 입력하세요 : \"))"
   ]
  },
  {
   "cell_type": "code",
   "execution_count": 37,
   "id": "d8482124",
   "metadata": {},
   "outputs": [],
   "source": [
    "# 52쪽 간단 설명"
   ]
  },
  {
   "cell_type": "code",
   "execution_count": 38,
   "id": "d226fa05",
   "metadata": {},
   "outputs": [
    {
     "data": {
      "text/plain": [
       "'444.0'"
      ]
     },
     "execution_count": 38,
     "metadata": {},
     "output_type": "execute_result"
    }
   ],
   "source": [
    "str(s_float)  # 숫자를 문자열로 바꾸려면 str() 함수 사용"
   ]
  },
  {
   "cell_type": "code",
   "execution_count": 39,
   "id": "0a23236f",
   "metadata": {},
   "outputs": [
    {
     "data": {
      "text/plain": [
       "(float, str, int)"
      ]
     },
     "execution_count": 39,
     "metadata": {},
     "output_type": "execute_result"
    }
   ],
   "source": [
    "# 변수의 type을 확인하려면? type() 이용\n",
    "\n",
    "type(s_float), type(name), type(s_int)"
   ]
  },
  {
   "cell_type": "code",
   "execution_count": 40,
   "id": "a07b88bb",
   "metadata": {},
   "outputs": [],
   "source": [
    "# 56쪽 간단 설명"
   ]
  },
  {
   "cell_type": "markdown",
   "id": "18508ab5",
   "metadata": {},
   "source": [
    "### 매우 중요 리스트 (list)"
   ]
  },
  {
   "cell_type": "code",
   "execution_count": 41,
   "id": "c33ff5d7",
   "metadata": {},
   "outputs": [],
   "source": [
    "# 61쪽 62족 설명"
   ]
  },
  {
   "cell_type": "code",
   "execution_count": 42,
   "id": "1d739bf3",
   "metadata": {},
   "outputs": [],
   "source": [
    "fruits = ['사과', '포도', '수박', '배', '자두']  # 대괄호 사용"
   ]
  },
  {
   "cell_type": "code",
   "execution_count": 43,
   "id": "a5623b36",
   "metadata": {},
   "outputs": [
    {
     "data": {
      "text/plain": [
       "['사과', '포도', '수박', '배', '자두']"
      ]
     },
     "execution_count": 43,
     "metadata": {},
     "output_type": "execute_result"
    }
   ],
   "source": [
    "fruits"
   ]
  },
  {
   "cell_type": "code",
   "execution_count": 44,
   "id": "74ba2ad0",
   "metadata": {},
   "outputs": [
    {
     "name": "stdout",
     "output_type": "stream",
     "text": [
      "['사과', '포도', '수박', '배', '자두']\n"
     ]
    }
   ],
   "source": [
    "print(fruits)"
   ]
  },
  {
   "cell_type": "code",
   "execution_count": 47,
   "id": "c6610041",
   "metadata": {},
   "outputs": [
    {
     "ename": "SyntaxError",
     "evalue": "invalid syntax (<ipython-input-47-6d3f9be746d2>, line 1)",
     "output_type": "error",
     "traceback": [
      "\u001b[1;36m  File \u001b[1;32m\"<ipython-input-47-6d3f9be746d2>\"\u001b[1;36m, line \u001b[1;32m1\u001b[0m\n\u001b[1;33m    fruits_empty = ['사과', '포도', ,'수박', '배', '자두']  # error 발생. 빈공간\u001b[0m\n\u001b[1;37m                                ^\u001b[0m\n\u001b[1;31mSyntaxError\u001b[0m\u001b[1;31m:\u001b[0m invalid syntax\n"
     ]
    }
   ],
   "source": [
    "fruits_empty = ['사과', '포도', ,'수박', '배', '자두']  # error 발생. 빈공간\n",
    "fruits_empty"
   ]
  },
  {
   "cell_type": "code",
   "execution_count": 48,
   "id": "646398df",
   "metadata": {},
   "outputs": [
    {
     "data": {
      "text/plain": [
       "[]"
      ]
     },
     "execution_count": 48,
     "metadata": {},
     "output_type": "execute_result"
    }
   ],
   "source": [
    "# 빈 리스트 선언\n",
    "list_var = []\n",
    "list_var"
   ]
  },
  {
   "cell_type": "code",
   "execution_count": 49,
   "id": "ff30cb72",
   "metadata": {},
   "outputs": [],
   "source": [
    "# 65쪽 설명"
   ]
  },
  {
   "cell_type": "code",
   "execution_count": 51,
   "id": "c1631972",
   "metadata": {
    "scrolled": false
   },
   "outputs": [],
   "source": [
    "# '포도'룰 찾아 내고 싶을 때., '포도'는 몇번째? "
   ]
  },
  {
   "cell_type": "code",
   "execution_count": 52,
   "id": "a25233f0",
   "metadata": {},
   "outputs": [
    {
     "data": {
      "text/plain": [
       "'수박'"
      ]
     },
     "execution_count": 52,
     "metadata": {},
     "output_type": "execute_result"
    }
   ],
   "source": [
    "fruits[2]  # 대괄호 사용. 포도가 아니고 '수박'?"
   ]
  },
  {
   "cell_type": "code",
   "execution_count": 53,
   "id": "f16ae658",
   "metadata": {},
   "outputs": [],
   "source": [
    "# 66쪽 설명, index 의미, 순서"
   ]
  },
  {
   "cell_type": "code",
   "execution_count": 54,
   "id": "a5b812dc",
   "metadata": {},
   "outputs": [
    {
     "name": "stdout",
     "output_type": "stream",
     "text": [
      "Object `몇번째` not found.\n"
     ]
    }
   ],
   "source": [
    "# 리스트 순서 \"0\" 부터 시작, => 0, 1, 2, 3, 4,\n",
    "'포도'룰 찾아 내고 싶을 때., '포도'는 몇번째?"
   ]
  },
  {
   "cell_type": "code",
   "execution_count": 55,
   "id": "b9d77cc1",
   "metadata": {},
   "outputs": [
    {
     "data": {
      "text/plain": [
       "'포도'"
      ]
     },
     "execution_count": 55,
     "metadata": {},
     "output_type": "execute_result"
    }
   ],
   "source": [
    "fruits[1]"
   ]
  },
  {
   "cell_type": "code",
   "execution_count": 56,
   "id": "eff34441",
   "metadata": {},
   "outputs": [
    {
     "ename": "IndexError",
     "evalue": "list index out of range",
     "output_type": "error",
     "traceback": [
      "\u001b[1;31m---------------------------------------------------------------------------\u001b[0m",
      "\u001b[1;31mIndexError\u001b[0m                                Traceback (most recent call last)",
      "\u001b[1;32m<ipython-input-56-a75ba25d1d03>\u001b[0m in \u001b[0;36m<module>\u001b[1;34m\u001b[0m\n\u001b[1;32m----> 1\u001b[1;33m \u001b[0mfruits\u001b[0m\u001b[1;33m[\u001b[0m\u001b[1;36m5\u001b[0m\u001b[1;33m]\u001b[0m  \u001b[1;31m#68쪽\u001b[0m\u001b[1;33m\u001b[0m\u001b[1;33m\u001b[0m\u001b[0m\n\u001b[0m",
      "\u001b[1;31mIndexError\u001b[0m: list index out of range"
     ]
    }
   ],
   "source": [
    "fruits[5]  #68쪽"
   ]
  },
  {
   "cell_type": "code",
   "execution_count": 57,
   "id": "968427f9",
   "metadata": {},
   "outputs": [],
   "source": [
    "# 범위를 초과할 경우 \"list index out of range\" 에러 발생"
   ]
  },
  {
   "cell_type": "code",
   "execution_count": 58,
   "id": "8fc1c10b",
   "metadata": {},
   "outputs": [
    {
     "data": {
      "text/plain": [
       "5"
      ]
     },
     "execution_count": 58,
     "metadata": {},
     "output_type": "execute_result"
    }
   ],
   "source": [
    "len(fruits)  # 리스트안에 있는 갯수. length"
   ]
  },
  {
   "cell_type": "code",
   "execution_count": 59,
   "id": "c8d7f4ed",
   "metadata": {},
   "outputs": [],
   "source": [
    "# 반복문"
   ]
  },
  {
   "cell_type": "code",
   "execution_count": 60,
   "id": "c5954f81",
   "metadata": {},
   "outputs": [
    {
     "name": "stdout",
     "output_type": "stream",
     "text": [
      "num:  3\n",
      "num:  4\n",
      "num:  5\n",
      "num:  6\n",
      "num:  7\n",
      "num:  8\n",
      "num:  9\n",
      "num:  10\n"
     ]
    }
   ],
   "source": [
    "for num in [3,4,5,6,7,8,9,10]:  # 리스트 순서대로 하나씩 반복. 중요..\n",
    "    print('num: ', num)"
   ]
  },
  {
   "cell_type": "code",
   "execution_count": 61,
   "id": "c62be20e",
   "metadata": {},
   "outputs": [
    {
     "name": "stdout",
     "output_type": "stream",
     "text": [
      "item:  사과\n",
      "item:  포도\n",
      "item:  수박\n",
      "item:  배\n",
      "item:  자두\n"
     ]
    }
   ],
   "source": [
    "for item in fruits:\n",
    "    print('item: ', item)  # 프린트 문 기본 형식, 문자, 변수"
   ]
  },
  {
   "cell_type": "code",
   "execution_count": 62,
   "id": "4c48e6e5",
   "metadata": {},
   "outputs": [
    {
     "name": "stdout",
     "output_type": "stream",
     "text": [
      "index :  0 item:  사과\n",
      "index :  1 item:  포도\n",
      "index :  2 item:  수박\n",
      "index :  3 item:  배\n",
      "index :  4 item:  자두\n"
     ]
    }
   ],
   "source": [
    "for index, item in enumerate(fruits):  # index까지 확인할 경우 # 71쪽\n",
    "    print('index : ', index, 'item: ', item)  "
   ]
  },
  {
   "cell_type": "code",
   "execution_count": 63,
   "id": "9a100f22",
   "metadata": {},
   "outputs": [],
   "source": [
    "# while 문은 한번 돌리는 것으로 대체"
   ]
  },
  {
   "cell_type": "code",
   "execution_count": 64,
   "id": "e9c16a1a",
   "metadata": {},
   "outputs": [
    {
     "name": "stdout",
     "output_type": "stream",
     "text": [
      "index:  0 , item:  사과\n",
      "index:  1 , item:  포도\n",
      "index:  2 , item:  수박\n",
      "index:  3 , item:  배\n",
      "index:  4 , item:  자두\n"
     ]
    }
   ],
   "source": [
    "i = 0  # 72쪽\n",
    "while i < len(fruits):\n",
    "    print('index: ', i, ', item: ', fruits[i])\n",
    "    i = i + 1 # i += 1"
   ]
  },
  {
   "cell_type": "code",
   "execution_count": 65,
   "id": "1f546918",
   "metadata": {},
   "outputs": [
    {
     "data": {
      "text/plain": [
       "3"
      ]
     },
     "execution_count": 65,
     "metadata": {},
     "output_type": "execute_result"
    }
   ],
   "source": [
    "fruits.index('배')  # item의 index를 찾을 때  # 73쪽"
   ]
  },
  {
   "cell_type": "code",
   "execution_count": 66,
   "id": "0ab603f4",
   "metadata": {},
   "outputs": [
    {
     "data": {
      "text/plain": [
       "'paichai'"
      ]
     },
     "execution_count": 66,
     "metadata": {},
     "output_type": "execute_result"
    }
   ],
   "source": [
    "# 문자열은 기본적으로 리스트 구조\n",
    "univ = 'paichai'  #  문자열 변수 지정\n",
    "univ"
   ]
  },
  {
   "cell_type": "code",
   "execution_count": 67,
   "id": "9c801d05",
   "metadata": {},
   "outputs": [
    {
     "data": {
      "text/plain": [
       "7"
      ]
     },
     "execution_count": 67,
     "metadata": {},
     "output_type": "execute_result"
    }
   ],
   "source": [
    "len(univ)"
   ]
  },
  {
   "cell_type": "code",
   "execution_count": 68,
   "id": "3fb7cc48",
   "metadata": {},
   "outputs": [
    {
     "data": {
      "text/plain": [
       "'c'"
      ]
     },
     "execution_count": 68,
     "metadata": {},
     "output_type": "execute_result"
    }
   ],
   "source": [
    "univ[3]"
   ]
  },
  {
   "cell_type": "code",
   "execution_count": 69,
   "id": "901e2c45",
   "metadata": {},
   "outputs": [],
   "source": [
    "fruits = ['사과', '포도', '수박', '배', '자두']  # 대괄호 사용"
   ]
  },
  {
   "cell_type": "code",
   "execution_count": 70,
   "id": "728779fe",
   "metadata": {},
   "outputs": [],
   "source": [
    "# 리스트 항목 추가. 매우 중요 .append()\n",
    "fruits.append('참외')  # 맨 뒤에 삽입"
   ]
  },
  {
   "cell_type": "code",
   "execution_count": 71,
   "id": "e6efcaab",
   "metadata": {},
   "outputs": [
    {
     "data": {
      "text/plain": [
       "['사과', '포도', '수박', '배', '자두', '참외']"
      ]
     },
     "execution_count": 71,
     "metadata": {},
     "output_type": "execute_result"
    }
   ],
   "source": [
    "fruits"
   ]
  },
  {
   "cell_type": "code",
   "execution_count": 72,
   "id": "dccb0688",
   "metadata": {},
   "outputs": [
    {
     "data": {
      "text/plain": [
       "['사과', '포도', '참외', '수박', '배', '자두', '참외']"
      ]
     },
     "execution_count": 72,
     "metadata": {},
     "output_type": "execute_result"
    }
   ],
   "source": [
    "# 원하는 위치에 삽입하고자 할 경우, 76쪽\n",
    "fruits.insert(2,'참외')\n",
    "fruits"
   ]
  },
  {
   "cell_type": "code",
   "execution_count": 73,
   "id": "0bade3ff",
   "metadata": {},
   "outputs": [],
   "source": [
    "f2 = ['바나나', '앵두']"
   ]
  },
  {
   "cell_type": "code",
   "execution_count": 74,
   "id": "0ff2a24a",
   "metadata": {},
   "outputs": [],
   "source": [
    "fruits.extend(f2)  # 리스트 item을 리스트에 삽입할 경우  # 78쪽"
   ]
  },
  {
   "cell_type": "code",
   "execution_count": 75,
   "id": "3ce304e0",
   "metadata": {},
   "outputs": [
    {
     "data": {
      "text/plain": [
       "['사과', '포도', '참외', '수박', '배', '자두', '참외', '바나나', '앵두']"
      ]
     },
     "execution_count": 75,
     "metadata": {},
     "output_type": "execute_result"
    }
   ],
   "source": [
    "fruits"
   ]
  },
  {
   "cell_type": "code",
   "execution_count": 76,
   "id": "b776fc4f",
   "metadata": {},
   "outputs": [],
   "source": [
    "result = fruits.pop()  # 79쪽"
   ]
  },
  {
   "cell_type": "code",
   "execution_count": 77,
   "id": "5ef03907",
   "metadata": {},
   "outputs": [
    {
     "data": {
      "text/plain": [
       "'앵두'"
      ]
     },
     "execution_count": 77,
     "metadata": {},
     "output_type": "execute_result"
    }
   ],
   "source": [
    "result"
   ]
  },
  {
   "cell_type": "code",
   "execution_count": 78,
   "id": "6c660af4",
   "metadata": {},
   "outputs": [
    {
     "data": {
      "text/plain": [
       "['사과', '포도', '참외', '수박', '배', '자두', '참외', '바나나']"
      ]
     },
     "execution_count": 78,
     "metadata": {},
     "output_type": "execute_result"
    }
   ],
   "source": [
    "fruits"
   ]
  },
  {
   "cell_type": "code",
   "execution_count": 79,
   "id": "779870d7",
   "metadata": {},
   "outputs": [],
   "source": [
    "del fruits[6]  # 81쪽"
   ]
  },
  {
   "cell_type": "code",
   "execution_count": 80,
   "id": "970177c7",
   "metadata": {},
   "outputs": [
    {
     "data": {
      "text/plain": [
       "['사과', '포도', '참외', '수박', '배', '자두', '바나나']"
      ]
     },
     "execution_count": 80,
     "metadata": {},
     "output_type": "execute_result"
    }
   ],
   "source": [
    "fruits"
   ]
  },
  {
   "cell_type": "code",
   "execution_count": 81,
   "id": "dda8cd24",
   "metadata": {},
   "outputs": [],
   "source": [
    "# 원하는 item 이름으로 삭제 # 83쪽\n",
    "fruits.remove('자두')"
   ]
  },
  {
   "cell_type": "code",
   "execution_count": 82,
   "id": "918d34ef",
   "metadata": {},
   "outputs": [
    {
     "data": {
      "text/plain": [
       "['사과', '포도', '참외', '수박', '배', '바나나']"
      ]
     },
     "execution_count": 82,
     "metadata": {},
     "output_type": "execute_result"
    }
   ],
   "source": [
    "fruits"
   ]
  },
  {
   "cell_type": "code",
   "execution_count": 83,
   "id": "62a90b21",
   "metadata": {},
   "outputs": [],
   "source": [
    "# 84쪽 설명"
   ]
  },
  {
   "cell_type": "code",
   "execution_count": 84,
   "id": "2739e731",
   "metadata": {},
   "outputs": [
    {
     "data": {
      "text/plain": [
       "[5, 1, 3, 4, 2, 6]"
      ]
     },
     "execution_count": 84,
     "metadata": {},
     "output_type": "execute_result"
    }
   ],
   "source": [
    "# 87쪽 sort()\n",
    "numbers = [5, 1, 3, 4, 2, 6]\n",
    "numbers"
   ]
  },
  {
   "cell_type": "code",
   "execution_count": 85,
   "id": "beaa6508",
   "metadata": {},
   "outputs": [
    {
     "data": {
      "text/plain": [
       "[1, 2, 3, 4, 5, 6]"
      ]
     },
     "execution_count": 85,
     "metadata": {},
     "output_type": "execute_result"
    }
   ],
   "source": [
    "numbers.sort()\n",
    "numbers"
   ]
  },
  {
   "cell_type": "code",
   "execution_count": 86,
   "id": "0a90dd80",
   "metadata": {},
   "outputs": [
    {
     "data": {
      "text/plain": [
       "[6, 5, 4, 3, 2, 1]"
      ]
     },
     "execution_count": 86,
     "metadata": {},
     "output_type": "execute_result"
    }
   ],
   "source": [
    "numbers.sort(reverse=True)  # 89쪽, 내림차순  , default = False\n",
    "numbers"
   ]
  },
  {
   "cell_type": "code",
   "execution_count": 87,
   "id": "ad981bf0",
   "metadata": {},
   "outputs": [
    {
     "data": {
      "text/plain": [
       "['김길동', '박길동', '이길동', '정길동', '홍길동']"
      ]
     },
     "execution_count": 87,
     "metadata": {},
     "output_type": "execute_result"
    }
   ],
   "source": [
    "names = ['홍길동', '김길동', '이길동', '박길동', '정길동']\n",
    "names.sort()\n",
    "names"
   ]
  },
  {
   "cell_type": "code",
   "execution_count": 88,
   "id": "666d0f8c",
   "metadata": {},
   "outputs": [
    {
     "data": {
      "text/plain": [
       "['홍길동', '정길동', '이길동', '박길동', '김길동']"
      ]
     },
     "execution_count": 88,
     "metadata": {},
     "output_type": "execute_result"
    }
   ],
   "source": [
    "names.reverse() # 90쪽. sort와 무관\n",
    "names"
   ]
  },
  {
   "cell_type": "code",
   "execution_count": 89,
   "id": "24db784e",
   "metadata": {},
   "outputs": [
    {
     "data": {
      "text/plain": [
       "['홍길동', '정길동', '이길동', '박길동', '김길동']"
      ]
     },
     "execution_count": 89,
     "metadata": {},
     "output_type": "execute_result"
    }
   ],
   "source": [
    "names.sort(reverse=True) # \n",
    "names"
   ]
  },
  {
   "cell_type": "markdown",
   "id": "0eb3011e",
   "metadata": {},
   "source": [
    "# 슬라이싱 매우 중요"
   ]
  },
  {
   "cell_type": "code",
   "execution_count": 90,
   "id": "89541ca0",
   "metadata": {},
   "outputs": [],
   "source": [
    "# 91~92쪽, 인덱스를 이용하여 리스트에서 필요한 부분만 골라 내는 방법"
   ]
  },
  {
   "cell_type": "code",
   "execution_count": 91,
   "id": "organizational-scholar",
   "metadata": {},
   "outputs": [],
   "source": [
    "fruits = ['사과', '포도', '참외', '수박', '배', '바나나'] "
   ]
  },
  {
   "cell_type": "code",
   "execution_count": 92,
   "id": "7f0ce557",
   "metadata": {
    "collapsed": true
   },
   "outputs": [
    {
     "data": {
      "text/plain": [
       "['사과', '포도', '참외', '수박', '배', '바나나']"
      ]
     },
     "execution_count": 92,
     "metadata": {},
     "output_type": "execute_result"
    }
   ],
   "source": [
    "fruits"
   ]
  },
  {
   "cell_type": "code",
   "execution_count": 93,
   "id": "594d0d2a",
   "metadata": {
    "collapsed": true
   },
   "outputs": [
    {
     "data": {
      "text/plain": [
       "['포도', '참외']"
      ]
     },
     "execution_count": 93,
     "metadata": {},
     "output_type": "execute_result"
    }
   ],
   "source": [
    "fruits[1:3] # 마지막은 포함되지 않음."
   ]
  },
  {
   "cell_type": "code",
   "execution_count": 94,
   "id": "e5714128",
   "metadata": {
    "collapsed": true
   },
   "outputs": [
    {
     "data": {
      "text/plain": [
       "['수박', '배', '바나나']"
      ]
     },
     "execution_count": 94,
     "metadata": {},
     "output_type": "execute_result"
    }
   ],
   "source": [
    "fruits[3:]  # 4번[3:]째부터 끝까지"
   ]
  },
  {
   "cell_type": "code",
   "execution_count": 95,
   "id": "f26c0e3a",
   "metadata": {
    "collapsed": true
   },
   "outputs": [
    {
     "data": {
      "text/plain": [
       "['사과', '포도', '참외']"
      ]
     },
     "execution_count": 95,
     "metadata": {},
     "output_type": "execute_result"
    }
   ],
   "source": [
    "fruits[:3] # 처음부터 3번째까지"
   ]
  },
  {
   "cell_type": "code",
   "execution_count": 96,
   "id": "26d52c83",
   "metadata": {
    "collapsed": true
   },
   "outputs": [
    {
     "data": {
      "text/plain": [
       "'바나나'"
      ]
     },
     "execution_count": 96,
     "metadata": {},
     "output_type": "execute_result"
    }
   ],
   "source": [
    "fruits[-1]"
   ]
  },
  {
   "cell_type": "code",
   "execution_count": 97,
   "id": "98a859ef",
   "metadata": {
    "collapsed": true
   },
   "outputs": [
    {
     "data": {
      "text/plain": [
       "['수박', '배']"
      ]
     },
     "execution_count": 97,
     "metadata": {},
     "output_type": "execute_result"
    }
   ],
   "source": [
    "fruits[3:-1] "
   ]
  },
  {
   "cell_type": "code",
   "execution_count": 98,
   "id": "9ac92d92",
   "metadata": {
    "collapsed": true
   },
   "outputs": [
    {
     "data": {
      "text/plain": [
       "['수박', '배', '바나나']"
      ]
     },
     "execution_count": 98,
     "metadata": {},
     "output_type": "execute_result"
    }
   ],
   "source": [
    "fruits[-3:]"
   ]
  },
  {
   "cell_type": "code",
   "execution_count": 99,
   "id": "1cb61947",
   "metadata": {
    "collapsed": true
   },
   "outputs": [
    {
     "data": {
      "text/plain": [
       "['포도', '참외']"
      ]
     },
     "execution_count": 99,
     "metadata": {},
     "output_type": "execute_result"
    }
   ],
   "source": [
    "f1 = fruits[1:3] # 일부분만 빼서 따로 저장하고 사용\n",
    "f1"
   ]
  },
  {
   "cell_type": "markdown",
   "id": "a21298bb",
   "metadata": {},
   "source": [
    "## 데이터 연산"
   ]
  },
  {
   "cell_type": "code",
   "execution_count": 100,
   "id": "a1d09783",
   "metadata": {
    "collapsed": true
   },
   "outputs": [
    {
     "data": {
      "text/plain": [
       "4"
      ]
     },
     "execution_count": 100,
     "metadata": {},
     "output_type": "execute_result"
    }
   ],
   "source": [
    "# 94쪽. 사칙연산 *, /, +, -\n",
    "1 + 3 "
   ]
  },
  {
   "cell_type": "code",
   "execution_count": 111,
   "id": "d71b171d",
   "metadata": {
    "collapsed": true
   },
   "outputs": [
    {
     "name": "stdout",
     "output_type": "stream",
     "text": [
      " 정수 1:8\n"
     ]
    }
   ],
   "source": [
    "x = int(input(\" 정수 1:\"))"
   ]
  },
  {
   "cell_type": "code",
   "execution_count": 112,
   "id": "2ddc041c",
   "metadata": {
    "collapsed": true
   },
   "outputs": [
    {
     "name": "stdout",
     "output_type": "stream",
     "text": [
      " 정수 2:5\n"
     ]
    }
   ],
   "source": [
    "y = int(input(\" 정수 2:\"))"
   ]
  },
  {
   "cell_type": "code",
   "execution_count": 113,
   "id": "0f6a5273",
   "metadata": {
    "collapsed": true
   },
   "outputs": [
    {
     "data": {
      "text/plain": [
       "13"
      ]
     },
     "execution_count": 113,
     "metadata": {},
     "output_type": "execute_result"
    }
   ],
   "source": [
    "z = x + y\n",
    "z"
   ]
  },
  {
   "cell_type": "code",
   "execution_count": 114,
   "id": "99c199c6",
   "metadata": {
    "collapsed": true
   },
   "outputs": [
    {
     "data": {
      "text/plain": [
       "1.6"
      ]
     },
     "execution_count": 114,
     "metadata": {},
     "output_type": "execute_result"
    }
   ],
   "source": [
    "z = x / y\n",
    "z"
   ]
  },
  {
   "cell_type": "code",
   "execution_count": 115,
   "id": "d4d1393b",
   "metadata": {
    "collapsed": true
   },
   "outputs": [
    {
     "data": {
      "text/plain": [
       "1"
      ]
     },
     "execution_count": 115,
     "metadata": {},
     "output_type": "execute_result"
    }
   ],
   "source": [
    "#97쪽 연산자 //. %\n",
    "x // y # 몫"
   ]
  },
  {
   "cell_type": "code",
   "execution_count": 116,
   "id": "2833dffa",
   "metadata": {
    "collapsed": true
   },
   "outputs": [
    {
     "data": {
      "text/plain": [
       "3"
      ]
     },
     "execution_count": 116,
     "metadata": {},
     "output_type": "execute_result"
    }
   ],
   "source": [
    "x % y  # 나누고 남은 나머지"
   ]
  },
  {
   "cell_type": "code",
   "execution_count": 117,
   "id": "b20a4ad8",
   "metadata": {
    "collapsed": true
   },
   "outputs": [
    {
     "data": {
      "text/plain": [
       "0"
      ]
     },
     "execution_count": 117,
     "metadata": {},
     "output_type": "execute_result"
    }
   ],
   "source": [
    "30 % 15"
   ]
  },
  {
   "cell_type": "code",
   "execution_count": 118,
   "id": "f861e450",
   "metadata": {
    "collapsed": true
   },
   "outputs": [
    {
     "data": {
      "text/plain": [
       "2"
      ]
     },
     "execution_count": 118,
     "metadata": {},
     "output_type": "execute_result"
    }
   ],
   "source": [
    "30 // 15"
   ]
  },
  {
   "cell_type": "code",
   "execution_count": 119,
   "id": "0f9d7a4e",
   "metadata": {},
   "outputs": [],
   "source": [
    "# 101쪽\n",
    "x = y = z = 1"
   ]
  },
  {
   "cell_type": "code",
   "execution_count": 120,
   "id": "129a3a98",
   "metadata": {
    "collapsed": true
   },
   "outputs": [
    {
     "data": {
      "text/plain": [
       "1"
      ]
     },
     "execution_count": 120,
     "metadata": {},
     "output_type": "execute_result"
    }
   ],
   "source": [
    "x"
   ]
  },
  {
   "cell_type": "code",
   "execution_count": 121,
   "id": "a1ac8a61",
   "metadata": {
    "collapsed": true
   },
   "outputs": [
    {
     "data": {
      "text/plain": [
       "1"
      ]
     },
     "execution_count": 121,
     "metadata": {},
     "output_type": "execute_result"
    }
   ],
   "source": [
    "y"
   ]
  },
  {
   "cell_type": "code",
   "execution_count": 122,
   "id": "618f7dba",
   "metadata": {
    "collapsed": true
   },
   "outputs": [
    {
     "data": {
      "text/plain": [
       "1"
      ]
     },
     "execution_count": 122,
     "metadata": {},
     "output_type": "execute_result"
    }
   ],
   "source": [
    "z"
   ]
  },
  {
   "cell_type": "code",
   "execution_count": 123,
   "id": "1cdd3fb5",
   "metadata": {},
   "outputs": [],
   "source": [
    "# 102쪽\n",
    "# 등호 왼쪽에 항상 변수만 지정해야 함."
   ]
  },
  {
   "cell_type": "code",
   "execution_count": 124,
   "id": "9290ca5b",
   "metadata": {},
   "outputs": [],
   "source": [
    "# 103쪽 중분 대입 연산자"
   ]
  },
  {
   "cell_type": "code",
   "execution_count": 125,
   "id": "d4c18e32",
   "metadata": {
    "collapsed": true
   },
   "outputs": [
    {
     "data": {
      "text/plain": [
       "11"
      ]
     },
     "execution_count": 125,
     "metadata": {},
     "output_type": "execute_result"
    }
   ],
   "source": [
    "x += 10\n",
    "x"
   ]
  },
  {
   "cell_type": "code",
   "execution_count": 126,
   "id": "f0e137d3",
   "metadata": {
    "collapsed": true
   },
   "outputs": [
    {
     "data": {
      "text/plain": [
       "-19"
      ]
     },
     "execution_count": 126,
     "metadata": {},
     "output_type": "execute_result"
    }
   ],
   "source": [
    "y -= 20\n",
    "y"
   ]
  },
  {
   "cell_type": "code",
   "execution_count": 127,
   "id": "6a8f3049",
   "metadata": {},
   "outputs": [],
   "source": [
    "# 연산의 우선순위 # 105쪽"
   ]
  },
  {
   "cell_type": "code",
   "execution_count": 128,
   "id": "0dfc1e3c",
   "metadata": {
    "collapsed": true
   },
   "outputs": [
    {
     "data": {
      "text/plain": [
       "13"
      ]
     },
     "execution_count": 128,
     "metadata": {},
     "output_type": "execute_result"
    }
   ],
   "source": [
    "3 + 2 * 5"
   ]
  },
  {
   "cell_type": "code",
   "execution_count": 129,
   "id": "8a20193a",
   "metadata": {
    "collapsed": true
   },
   "outputs": [
    {
     "data": {
      "text/plain": [
       "25"
      ]
     },
     "execution_count": 129,
     "metadata": {},
     "output_type": "execute_result"
    }
   ],
   "source": [
    "( 3 + 2 ) * 5"
   ]
  },
  {
   "cell_type": "code",
   "execution_count": 130,
   "id": "07c3b6e4",
   "metadata": {},
   "outputs": [],
   "source": [
    "# 미심적다 하면 항상 괄호를 사용하도록 # 107번. 실수가 많이 일어 남."
   ]
  },
  {
   "cell_type": "markdown",
   "id": "19b8be31",
   "metadata": {},
   "source": [
    "## 조건문 중요"
   ]
  },
  {
   "cell_type": "code",
   "execution_count": 131,
   "id": "ed3b82a2",
   "metadata": {
    "collapsed": true
   },
   "outputs": [
    {
     "data": {
      "text/plain": [
       "True"
      ]
     },
     "execution_count": 131,
     "metadata": {},
     "output_type": "execute_result"
    }
   ],
   "source": [
    "90 >= 80"
   ]
  },
  {
   "cell_type": "code",
   "execution_count": 132,
   "id": "222b949a",
   "metadata": {
    "collapsed": true
   },
   "outputs": [
    {
     "data": {
      "text/plain": [
       "False"
      ]
     },
     "execution_count": 132,
     "metadata": {},
     "output_type": "execute_result"
    }
   ],
   "source": [
    "10 > 10"
   ]
  },
  {
   "cell_type": "code",
   "execution_count": 133,
   "id": "4a9793d0",
   "metadata": {
    "collapsed": true
   },
   "outputs": [
    {
     "data": {
      "text/plain": [
       "'\\nx > y\\nx >= y\\nx < y\\nx <= y\\nx == y\\nx != y\\n'"
      ]
     },
     "execution_count": 133,
     "metadata": {},
     "output_type": "execute_result"
    }
   ],
   "source": [
    "# 참(True), 거짓(False) # 112쪽\n",
    "'''\n",
    "x > y\n",
    "x >= y\n",
    "x < y\n",
    "x <= y\n",
    "x == y\n",
    "x != y\n",
    "'''"
   ]
  },
  {
   "cell_type": "code",
   "execution_count": 134,
   "id": "6feb74a3",
   "metadata": {
    "collapsed": true
   },
   "outputs": [
    {
     "data": {
      "text/plain": [
       "True"
      ]
     },
     "execution_count": 134,
     "metadata": {},
     "output_type": "execute_result"
    }
   ],
   "source": [
    "10 == 10"
   ]
  },
  {
   "cell_type": "code",
   "execution_count": 135,
   "id": "77f991db",
   "metadata": {
    "collapsed": true
   },
   "outputs": [
    {
     "data": {
      "text/plain": [
       "False"
      ]
     },
     "execution_count": 135,
     "metadata": {},
     "output_type": "execute_result"
    }
   ],
   "source": [
    "10 != 10"
   ]
  },
  {
   "cell_type": "code",
   "execution_count": 136,
   "id": "401784fa",
   "metadata": {},
   "outputs": [],
   "source": [
    "x, y = 6, 2  # 변수 설정방법중 하나"
   ]
  },
  {
   "cell_type": "code",
   "execution_count": 137,
   "id": "93e9b6bf",
   "metadata": {
    "collapsed": true
   },
   "outputs": [
    {
     "data": {
      "text/plain": [
       "(True, True)"
      ]
     },
     "execution_count": 137,
     "metadata": {},
     "output_type": "execute_result"
    }
   ],
   "source": [
    "x > y, x != y"
   ]
  },
  {
   "cell_type": "code",
   "execution_count": 138,
   "id": "74b99d97",
   "metadata": {
    "collapsed": true
   },
   "outputs": [
    {
     "data": {
      "text/plain": [
       "True"
      ]
     },
     "execution_count": 138,
     "metadata": {},
     "output_type": "execute_result"
    }
   ],
   "source": [
    "# and, or 연산자\n",
    "(x > y) and (x != y)  # 모든게 True일 경우 True"
   ]
  },
  {
   "cell_type": "code",
   "execution_count": 139,
   "id": "7792983b",
   "metadata": {
    "collapsed": true
   },
   "outputs": [
    {
     "data": {
      "text/plain": [
       "False"
      ]
     },
     "execution_count": 139,
     "metadata": {},
     "output_type": "execute_result"
    }
   ],
   "source": [
    "(x < y) and (x != y)"
   ]
  },
  {
   "cell_type": "code",
   "execution_count": 140,
   "id": "29b68375",
   "metadata": {
    "collapsed": true
   },
   "outputs": [
    {
     "data": {
      "text/plain": [
       "True"
      ]
     },
     "execution_count": 140,
     "metadata": {},
     "output_type": "execute_result"
    }
   ],
   "source": [
    "(x < y) or (x != y)  # 한 개만 True여도 True"
   ]
  },
  {
   "cell_type": "code",
   "execution_count": 141,
   "id": "b4cad554",
   "metadata": {
    "collapsed": true
   },
   "outputs": [
    {
     "data": {
      "text/plain": [
       "True"
      ]
     },
     "execution_count": 141,
     "metadata": {},
     "output_type": "execute_result"
    }
   ],
   "source": [
    "x < y or x != y  # 괄호를 사용하지 않은 경우"
   ]
  },
  {
   "cell_type": "code",
   "execution_count": 142,
   "id": "38a256f6",
   "metadata": {},
   "outputs": [],
   "source": [
    "# 116쪽"
   ]
  },
  {
   "cell_type": "code",
   "execution_count": 143,
   "id": "c174280b",
   "metadata": {
    "collapsed": true
   },
   "outputs": [
    {
     "data": {
      "text/plain": [
       "False"
      ]
     },
     "execution_count": 143,
     "metadata": {},
     "output_type": "execute_result"
    }
   ],
   "source": [
    "not (x != y)"
   ]
  },
  {
   "cell_type": "code",
   "execution_count": 144,
   "id": "0958603c",
   "metadata": {},
   "outputs": [],
   "source": [
    "# 118쪽 설명"
   ]
  },
  {
   "cell_type": "code",
   "execution_count": 145,
   "id": "8af6a1a3",
   "metadata": {
    "collapsed": true
   },
   "outputs": [
    {
     "name": "stdout",
     "output_type": "stream",
     "text": [
      "True\n"
     ]
    }
   ],
   "source": [
    "if (10 > 2):\n",
    "    print(\"True\")"
   ]
  },
  {
   "cell_type": "code",
   "execution_count": 211,
   "id": "6f366584",
   "metadata": {},
   "outputs": [],
   "source": [
    "if not (10 > 2):\n",
    "    print('True')"
   ]
  },
  {
   "cell_type": "code",
   "execution_count": 147,
   "id": "0ac851ea",
   "metadata": {
    "collapsed": true
   },
   "outputs": [
    {
     "name": "stdout",
     "output_type": "stream",
     "text": [
      "True\n"
     ]
    }
   ],
   "source": [
    "if (10 > 2):\n",
    "    print(\"True\")\n",
    "else:\n",
    "    print('False')"
   ]
  },
  {
   "cell_type": "code",
   "execution_count": 148,
   "id": "5ee084f0",
   "metadata": {},
   "outputs": [],
   "source": [
    "# 120쪽"
   ]
  },
  {
   "cell_type": "code",
   "execution_count": 149,
   "id": "0d9c11cc",
   "metadata": {
    "collapsed": true
   },
   "outputs": [
    {
     "name": "stdout",
     "output_type": "stream",
     "text": [
      "불합격\n"
     ]
    }
   ],
   "source": [
    "kor_score = 70\n",
    "if kor_score >= 80:\n",
    "    print(\"합격\")\n",
    "else:\n",
    "    print(\"불합격\")"
   ]
  },
  {
   "cell_type": "code",
   "execution_count": 150,
   "id": "fc50d215",
   "metadata": {
    "collapsed": true
   },
   "outputs": [
    {
     "name": "stdout",
     "output_type": "stream",
     "text": [
      "B\n"
     ]
    }
   ],
   "source": [
    "kor_score = 80\n",
    "if kor_score >= 90:\n",
    "    print(\"A\")\n",
    "else:\n",
    "    if kor_score >= 80:\n",
    "        print('B')\n",
    "    else:\n",
    "        print(\"C\")"
   ]
  },
  {
   "cell_type": "code",
   "execution_count": 151,
   "id": "5a243540",
   "metadata": {
    "collapsed": true
   },
   "outputs": [
    {
     "name": "stdout",
     "output_type": "stream",
     "text": [
      "C\n"
     ]
    }
   ],
   "source": [
    "kor_score = 60\n",
    "if kor_score >= 90:\n",
    "    print(\"A\")\n",
    "elif kor_score >= 80:\n",
    "    print('B')\n",
    "else:\n",
    "    print(\"C\")"
   ]
  },
  {
   "cell_type": "code",
   "execution_count": 152,
   "id": "b748bc68",
   "metadata": {
    "collapsed": true
   },
   "outputs": [
    {
     "name": "stdout",
     "output_type": "stream",
     "text": [
      "불합격입니다\n"
     ]
    }
   ],
   "source": [
    "eng_score = 80\n",
    "kor_score = 70\n",
    "if (eng_score >= 90) and (kor_score >= 90):\n",
    "    print(\"합격입니다\")\n",
    "else:\n",
    "    print('불합격입니다')"
   ]
  },
  {
   "cell_type": "markdown",
   "id": "02276c8c",
   "metadata": {},
   "source": [
    "## 반복문"
   ]
  },
  {
   "cell_type": "code",
   "execution_count": 153,
   "id": "6ad811dd",
   "metadata": {},
   "outputs": [],
   "source": [
    "# 133쪽\n",
    "# for문과 while문"
   ]
  },
  {
   "cell_type": "code",
   "execution_count": 154,
   "id": "b40886ce",
   "metadata": {
    "collapsed": true
   },
   "outputs": [
    {
     "name": "stdout",
     "output_type": "stream",
     "text": [
      "1\n",
      "2\n",
      "3\n",
      "4\n",
      "5\n"
     ]
    }
   ],
   "source": [
    "# 리스트릉 이용한 반복문\n",
    "list1 = [1,2,3,4,5]\n",
    "for i in list1:\n",
    "    print(i)"
   ]
  },
  {
   "cell_type": "code",
   "execution_count": 155,
   "id": "99cd0f35",
   "metadata": {
    "collapsed": true
   },
   "outputs": [
    {
     "name": "stdout",
     "output_type": "stream",
     "text": [
      "10\n",
      "20\n",
      "30\n",
      "40\n",
      "50\n"
     ]
    }
   ],
   "source": [
    "list1 = [1,2,3,4,5]\n",
    "for i in list1:\n",
    "    i10 = i * 10\n",
    "    print(i10)"
   ]
  },
  {
   "cell_type": "code",
   "execution_count": 156,
   "id": "bddb010c",
   "metadata": {
    "collapsed": true
   },
   "outputs": [
    {
     "name": "stdout",
     "output_type": "stream",
     "text": [
      "사과\n",
      "포도\n",
      "참외\n",
      "수박\n",
      "배\n",
      "바나나\n"
     ]
    }
   ],
   "source": [
    "for i in fruits:\n",
    "    print(i)"
   ]
  },
  {
   "cell_type": "code",
   "execution_count": 157,
   "id": "eed67f9c",
   "metadata": {
    "collapsed": true
   },
   "outputs": [
    {
     "name": "stdout",
     "output_type": "stream",
     "text": [
      "0\n",
      "1\n",
      "2\n",
      "3\n",
      "4\n"
     ]
    }
   ],
   "source": [
    "# range를 이용한 반복문\n",
    "for i in range(5):  # 0부터 5-1 까지\n",
    "    print(i)"
   ]
  },
  {
   "cell_type": "code",
   "execution_count": 158,
   "id": "e5b72857",
   "metadata": {
    "collapsed": true
   },
   "outputs": [
    {
     "name": "stdout",
     "output_type": "stream",
     "text": [
      "2 ,4 ,6 ,8 ,"
     ]
    }
   ],
   "source": [
    "for i in range(2, 10, 2):  # 2부터 10-1까지 2씩 증가하면서 진행\n",
    "    print(i, end= \" ,\")  "
   ]
  },
  {
   "cell_type": "code",
   "execution_count": 159,
   "id": "86f7c1ae",
   "metadata": {
    "collapsed": true
   },
   "outputs": [
    {
     "name": "stdout",
     "output_type": "stream",
     "text": [
      "2\n",
      "\n",
      "4\n",
      "\n",
      "6\n",
      "\n",
      "8\n",
      "\n"
     ]
    }
   ],
   "source": [
    "for i in range(2, 10, 2):  # 2부터 10-1까지 2씩 증가하면서 진행\n",
    "    print(i, end=\"\\n\\n\")  "
   ]
  },
  {
   "cell_type": "code",
   "execution_count": 160,
   "id": "6badd508",
   "metadata": {
    "collapsed": true
   },
   "outputs": [
    {
     "name": "stdout",
     "output_type": "stream",
     "text": [
      "sum:  133\n"
     ]
    }
   ],
   "source": [
    "sum = 0  # 140쪽\n",
    "for i in range(10, 30, 3): # 이런 형식은 외우고 있어야 함\n",
    "    sum = sum + i\n",
    "print('sum: ', sum)"
   ]
  },
  {
   "cell_type": "code",
   "execution_count": 161,
   "id": "86e51a2c",
   "metadata": {
    "collapsed": true
   },
   "outputs": [
    {
     "name": "stdout",
     "output_type": "stream",
     "text": [
      "1 2 3 4 5 끝\n"
     ]
    }
   ],
   "source": [
    "# while 문\n",
    "i = 1\n",
    "while i <= 5:\n",
    "    print(i, end=\" \")\n",
    "    i = i + 1\n",
    "print('끝')"
   ]
  },
  {
   "cell_type": "code",
   "execution_count": 162,
   "id": "118cf3ac",
   "metadata": {},
   "outputs": [],
   "source": [
    "# break문, continue문 # 145쪽"
   ]
  },
  {
   "cell_type": "code",
   "execution_count": 163,
   "id": "1acd07e8",
   "metadata": {
    "collapsed": true
   },
   "outputs": [
    {
     "name": "stdout",
     "output_type": "stream",
     "text": [
      "2 ,3 ,4 ,5 ,6 ,7 ,8 ,9 ,10 ,"
     ]
    }
   ],
   "source": [
    "for i in range(2, 1000):  \n",
    "    if i > 10:\n",
    "        break\n",
    "    print(i, end= \" ,\")  "
   ]
  },
  {
   "cell_type": "code",
   "execution_count": 164,
   "id": "018e927d",
   "metadata": {
    "collapsed": true
   },
   "outputs": [
    {
     "name": "stdout",
     "output_type": "stream",
     "text": [
      "2 ,3 ,4 ,5 ,6 ,7 ,8 ,9 ,10 ,990 ,991 ,992 ,993 ,994 ,995 ,996 ,997 ,998 ,999 ,"
     ]
    }
   ],
   "source": [
    "for i in range(2, 1000):  \n",
    "    if (i > 10) and (i < 990):\n",
    "        continue\n",
    "    print(i, end= \" ,\")  "
   ]
  },
  {
   "cell_type": "markdown",
   "id": "4e7ab725",
   "metadata": {},
   "source": [
    "## 함수"
   ]
  },
  {
   "cell_type": "code",
   "execution_count": 165,
   "id": "45bbc8d1",
   "metadata": {},
   "outputs": [],
   "source": [
    "# 151쪽 내장함수, 152쪽 반복적으로 사용하는 공식 등"
   ]
  },
  {
   "cell_type": "code",
   "execution_count": 166,
   "id": "0554e75b",
   "metadata": {
    "collapsed": true
   },
   "outputs": [
    {
     "data": {
      "text/plain": [
       "'\\ndef 함수이름():\\n    문장\\n    return\\n'"
      ]
     },
     "execution_count": 166,
     "metadata": {},
     "output_type": "execute_result"
    }
   ],
   "source": [
    "'''\n",
    "def 함수이름():\n",
    "    문장\n",
    "    return\n",
    "'''"
   ]
  },
  {
   "cell_type": "code",
   "execution_count": 167,
   "id": "a8dcba41",
   "metadata": {},
   "outputs": [],
   "source": [
    "def avg(x1, x2, x3):\n",
    "    average = (x1 + x2 + x3)/3\n",
    "    return average"
   ]
  },
  {
   "cell_type": "code",
   "execution_count": 168,
   "id": "bcc20052",
   "metadata": {
    "collapsed": true
   },
   "outputs": [
    {
     "data": {
      "text/plain": [
       "4.0"
      ]
     },
     "execution_count": 168,
     "metadata": {},
     "output_type": "execute_result"
    }
   ],
   "source": [
    "result = avg(3, 4, 5)\n",
    "result"
   ]
  },
  {
   "cell_type": "code",
   "execution_count": 169,
   "id": "210e682a",
   "metadata": {},
   "outputs": [],
   "source": [
    "def fprint(x):  # 함수에 return이 없을 경우\n",
    "    print(\"함수내 print:\", x)"
   ]
  },
  {
   "cell_type": "code",
   "execution_count": 170,
   "id": "997fc083",
   "metadata": {},
   "outputs": [
    {
     "name": "stdout",
     "output_type": "stream",
     "text": [
      "함수내 print: 프린트\n"
     ]
    }
   ],
   "source": [
    "fprint('프린트')"
   ]
  },
  {
   "cell_type": "code",
   "execution_count": 171,
   "id": "12d83f25",
   "metadata": {},
   "outputs": [],
   "source": [
    "def add(x, y = 10): # default 값 지정\n",
    "    return x + y"
   ]
  },
  {
   "cell_type": "code",
   "execution_count": 172,
   "id": "ae2a7c5e",
   "metadata": {
    "collapsed": true
   },
   "outputs": [
    {
     "data": {
      "text/plain": [
       "(30, 50)"
      ]
     },
     "execution_count": 172,
     "metadata": {},
     "output_type": "execute_result"
    }
   ],
   "source": [
    "add(20), add(20, 30)"
   ]
  },
  {
   "cell_type": "code",
   "execution_count": 173,
   "id": "d9e2a4bb",
   "metadata": {},
   "outputs": [],
   "source": [
    "# argument(인수) -> 3,4,5   # 156쪽\n",
    "# parameter(매개변수) -> x1, x2, x3"
   ]
  },
  {
   "cell_type": "markdown",
   "id": "06b616d6",
   "metadata": {},
   "source": [
    "### container 저장"
   ]
  },
  {
   "cell_type": "code",
   "execution_count": 174,
   "id": "6581eba7",
   "metadata": {},
   "outputs": [],
   "source": [
    "# dictionary, set, tuple"
   ]
  },
  {
   "cell_type": "code",
   "execution_count": 175,
   "id": "e0e065e1",
   "metadata": {
    "collapsed": true
   },
   "outputs": [
    {
     "data": {
      "text/plain": [
       "{'이름': '홍길동', '키': 187, '몸무게': 75, '전화번호': '123-456-7890'}"
      ]
     },
     "execution_count": 175,
     "metadata": {},
     "output_type": "execute_result"
    }
   ],
   "source": [
    "dict1 = {'이름':'홍길동', '키': 187, '몸무게': 75, '전화번호': '123-456-7890'}\n",
    "dict1"
   ]
  },
  {
   "cell_type": "code",
   "execution_count": 176,
   "id": "024eee42",
   "metadata": {
    "collapsed": true
   },
   "outputs": [
    {
     "data": {
      "text/plain": [
       "dict_keys(['이름', '키', '몸무게', '전화번호'])"
      ]
     },
     "execution_count": 176,
     "metadata": {},
     "output_type": "execute_result"
    }
   ],
   "source": [
    "dict1.keys()"
   ]
  },
  {
   "cell_type": "code",
   "execution_count": 177,
   "id": "90d2db5a",
   "metadata": {
    "collapsed": true
   },
   "outputs": [
    {
     "data": {
      "text/plain": [
       "dict_values(['홍길동', 187, 75, '123-456-7890'])"
      ]
     },
     "execution_count": 177,
     "metadata": {},
     "output_type": "execute_result"
    }
   ],
   "source": [
    "dict1.values()"
   ]
  },
  {
   "cell_type": "code",
   "execution_count": 178,
   "id": "d43c8f36",
   "metadata": {
    "collapsed": true
   },
   "outputs": [
    {
     "data": {
      "text/plain": [
       "dict_items([('이름', '홍길동'), ('키', 187), ('몸무게', 75), ('전화번호', '123-456-7890')])"
      ]
     },
     "execution_count": 178,
     "metadata": {},
     "output_type": "execute_result"
    }
   ],
   "source": [
    "dict1.items()"
   ]
  },
  {
   "cell_type": "code",
   "execution_count": 179,
   "id": "1cb45283",
   "metadata": {
    "collapsed": true
   },
   "outputs": [
    {
     "data": {
      "text/plain": [
       "{'이름': '홍길동', '키': 187, '몸무게': 75, '전화번호': '123-456-7890', '주소': '대전시'}"
      ]
     },
     "execution_count": 179,
     "metadata": {},
     "output_type": "execute_result"
    }
   ],
   "source": [
    "dict1['주소'] = '대전시'\n",
    "dict1"
   ]
  },
  {
   "cell_type": "code",
   "execution_count": 180,
   "id": "fe66e322",
   "metadata": {},
   "outputs": [],
   "source": [
    "del dict1['주소']"
   ]
  },
  {
   "cell_type": "code",
   "execution_count": 181,
   "id": "ff724197",
   "metadata": {
    "collapsed": true
   },
   "outputs": [
    {
     "name": "stdout",
     "output_type": "stream",
     "text": [
      "key:  이름 value: 홍길동\n",
      "key:  키 value: 187\n",
      "key:  몸무게 value: 75\n",
      "key:  전화번호 value: 123-456-7890\n"
     ]
    }
   ],
   "source": [
    "for key, value in dict1.items():\n",
    "    print('key: ', key, 'value:', value)"
   ]
  },
  {
   "cell_type": "code",
   "execution_count": 182,
   "id": "93b9237d",
   "metadata": {
    "collapsed": true
   },
   "outputs": [
    {
     "name": "stdout",
     "output_type": "stream",
     "text": [
      "key: 이름, value: 홍길동\n",
      "key: 키, value: 187\n",
      "key: 몸무게, value: 75\n",
      "key: 전화번호, value: 123-456-7890\n"
     ]
    }
   ],
   "source": [
    "for key, value in dict1.items():\n",
    "    print('key: {}, value: {}'.format(key, value))"
   ]
  },
  {
   "cell_type": "code",
   "execution_count": 183,
   "id": "cleared-afghanistan",
   "metadata": {
    "collapsed": true
   },
   "outputs": [
    {
     "data": {
      "text/plain": [
       "(1, 'football', 3)"
      ]
     },
     "execution_count": 183,
     "metadata": {},
     "output_type": "execute_result"
    }
   ],
   "source": [
    "tup = (1, 'football', 3) # tuple\n",
    "tup"
   ]
  },
  {
   "cell_type": "code",
   "execution_count": 184,
   "id": "affecting-cosmetic",
   "metadata": {
    "collapsed": true
   },
   "outputs": [
    {
     "data": {
      "text/plain": [
       "tuple"
      ]
     },
     "execution_count": 184,
     "metadata": {},
     "output_type": "execute_result"
    }
   ],
   "source": [
    "type(tup)"
   ]
  },
  {
   "cell_type": "code",
   "execution_count": 185,
   "id": "square-dress",
   "metadata": {
    "collapsed": true
   },
   "outputs": [
    {
     "data": {
      "text/plain": [
       "'football'"
      ]
     },
     "execution_count": 185,
     "metadata": {},
     "output_type": "execute_result"
    }
   ],
   "source": [
    "tup[1]"
   ]
  },
  {
   "cell_type": "code",
   "execution_count": 186,
   "id": "upper-invention",
   "metadata": {
    "collapsed": true
   },
   "outputs": [
    {
     "ename": "TypeError",
     "evalue": "'tuple' object does not support item assignment",
     "output_type": "error",
     "traceback": [
      "\u001b[1;31m---------------------------------------------------------------------------\u001b[0m",
      "\u001b[1;31mTypeError\u001b[0m                                 Traceback (most recent call last)",
      "\u001b[1;32m<ipython-input-186-9e1ed90eee4d>\u001b[0m in \u001b[0;36m<module>\u001b[1;34m\u001b[0m\n\u001b[1;32m----> 1\u001b[1;33m \u001b[0mtup\u001b[0m\u001b[1;33m[\u001b[0m\u001b[1;36m1\u001b[0m\u001b[1;33m]\u001b[0m \u001b[1;33m=\u001b[0m \u001b[1;34m'soccer'\u001b[0m\u001b[1;33m\u001b[0m\u001b[1;33m\u001b[0m\u001b[0m\n\u001b[0m",
      "\u001b[1;31mTypeError\u001b[0m: 'tuple' object does not support item assignment"
     ]
    }
   ],
   "source": [
    "tup[1] = 'soccer'"
   ]
  },
  {
   "cell_type": "code",
   "execution_count": 187,
   "id": "trying-subscriber",
   "metadata": {},
   "outputs": [],
   "source": [
    "list2 = [2,1,2,4,5,2,3,5]"
   ]
  },
  {
   "cell_type": "code",
   "execution_count": 188,
   "id": "possible-harvard",
   "metadata": {
    "collapsed": true
   },
   "outputs": [
    {
     "data": {
      "text/plain": [
       "{1, 2, 3, 4, 5}"
      ]
     },
     "execution_count": 188,
     "metadata": {},
     "output_type": "execute_result"
    }
   ],
   "source": [
    "set1 = set(list2)  # set 순서가 없고 중복이 없음.\n",
    "set1"
   ]
  },
  {
   "cell_type": "code",
   "execution_count": 189,
   "id": "editorial-malta",
   "metadata": {},
   "outputs": [],
   "source": [
    "set2 = set() # set 선언은 set()으로 만 가능\n",
    "set3 = {}  # dict 선언"
   ]
  },
  {
   "cell_type": "code",
   "execution_count": 190,
   "id": "vocal-insight",
   "metadata": {
    "collapsed": true
   },
   "outputs": [
    {
     "data": {
      "text/plain": [
       "dict"
      ]
     },
     "execution_count": 190,
     "metadata": {},
     "output_type": "execute_result"
    }
   ],
   "source": [
    "dict1 = dict()\n",
    "type(dict1)"
   ]
  },
  {
   "cell_type": "code",
   "execution_count": 191,
   "id": "lesser-intellectual",
   "metadata": {
    "collapsed": true
   },
   "outputs": [
    {
     "data": {
      "text/plain": [
       "list"
      ]
     },
     "execution_count": 191,
     "metadata": {},
     "output_type": "execute_result"
    }
   ],
   "source": [
    "list1 = list()\n",
    "type(list1)"
   ]
  },
  {
   "cell_type": "code",
   "execution_count": 192,
   "id": "german-permit",
   "metadata": {},
   "outputs": [
    {
     "name": "stdout",
     "output_type": "stream",
     "text": [
      "광주리에 사과가 있습니다\n"
     ]
    }
   ],
   "source": [
    "apple = '사과'\n",
    "if apple in fruits:\n",
    "    print(f'광주리에 {apple}가 있습니다')"
   ]
  },
  {
   "cell_type": "code",
   "execution_count": 193,
   "id": "detailed-scheduling",
   "metadata": {
    "collapsed": true
   },
   "outputs": [
    {
     "data": {
      "text/plain": [
       "['사과', '포도', '참외', '수박', '배', '바나나']"
      ]
     },
     "execution_count": 193,
     "metadata": {},
     "output_type": "execute_result"
    }
   ],
   "source": [
    "# 복사 \n",
    "f_copy = fruits\n",
    "f_copy"
   ]
  },
  {
   "cell_type": "code",
   "execution_count": 194,
   "id": "sublime-reform",
   "metadata": {
    "collapsed": true
   },
   "outputs": [
    {
     "data": {
      "text/plain": [
       "['토마토', '포도', '참외', '수박', '배', '바나나']"
      ]
     },
     "execution_count": 194,
     "metadata": {},
     "output_type": "execute_result"
    }
   ],
   "source": [
    "f_copy[0] = '토마토'\n",
    "f_copy"
   ]
  },
  {
   "cell_type": "code",
   "execution_count": 195,
   "id": "institutional-billy",
   "metadata": {
    "collapsed": true
   },
   "outputs": [
    {
     "data": {
      "text/plain": [
       "['토마토', '포도', '참외', '수박', '배', '바나나']"
      ]
     },
     "execution_count": 195,
     "metadata": {},
     "output_type": "execute_result"
    }
   ],
   "source": [
    "fruits  # 같이 바뀜"
   ]
  },
  {
   "cell_type": "code",
   "execution_count": 196,
   "id": "immediate-linux",
   "metadata": {
    "collapsed": true
   },
   "outputs": [
    {
     "data": {
      "text/plain": [
       "1473569166464"
      ]
     },
     "execution_count": 196,
     "metadata": {},
     "output_type": "execute_result"
    }
   ],
   "source": [
    "id(fruits) # 메모리 주소"
   ]
  },
  {
   "cell_type": "code",
   "execution_count": 197,
   "id": "behind-phase",
   "metadata": {
    "collapsed": true
   },
   "outputs": [
    {
     "data": {
      "text/plain": [
       "1473569166464"
      ]
     },
     "execution_count": 197,
     "metadata": {},
     "output_type": "execute_result"
    }
   ],
   "source": [
    "id(f_copy) # 메모리 주소"
   ]
  },
  {
   "cell_type": "code",
   "execution_count": 198,
   "id": "accredited-adams",
   "metadata": {},
   "outputs": [],
   "source": [
    "# 메모리 주소가 같으니 결국 이름만 다를 뿐이지 같은 내용이다.  => 얕은복사"
   ]
  },
  {
   "cell_type": "code",
   "execution_count": 199,
   "id": "greenhouse-regulation",
   "metadata": {},
   "outputs": [],
   "source": [
    "fruits = ['사과', '포도', '참외', '수박', '배', '바나나'] "
   ]
  },
  {
   "cell_type": "code",
   "execution_count": 200,
   "id": "affected-transition",
   "metadata": {
    "collapsed": true
   },
   "outputs": [
    {
     "data": {
      "text/plain": [
       "['사과', '포도', '참외', '수박', '배', '바나나']"
      ]
     },
     "execution_count": 200,
     "metadata": {},
     "output_type": "execute_result"
    }
   ],
   "source": [
    "f_copy = fruits[:]\n",
    "f_copy"
   ]
  },
  {
   "cell_type": "code",
   "execution_count": 201,
   "id": "enclosed-tract",
   "metadata": {
    "collapsed": true
   },
   "outputs": [
    {
     "data": {
      "text/plain": [
       "['토마토', '포도', '참외', '수박', '배', '바나나']"
      ]
     },
     "execution_count": 201,
     "metadata": {},
     "output_type": "execute_result"
    }
   ],
   "source": [
    "f_copy[0] = '토마토'\n",
    "f_copy"
   ]
  },
  {
   "cell_type": "code",
   "execution_count": 202,
   "id": "basic-object",
   "metadata": {
    "collapsed": true
   },
   "outputs": [
    {
     "data": {
      "text/plain": [
       "['사과', '포도', '참외', '수박', '배', '바나나']"
      ]
     },
     "execution_count": 202,
     "metadata": {},
     "output_type": "execute_result"
    }
   ],
   "source": [
    "fruits"
   ]
  },
  {
   "cell_type": "markdown",
   "id": "cf6670c4",
   "metadata": {},
   "source": [
    "## Class"
   ]
  },
  {
   "cell_type": "code",
   "execution_count": 203,
   "id": "e1916e90",
   "metadata": {},
   "outputs": [],
   "source": [
    "class Rectangle:  # naming convention  CamelCase.\n",
    "    count = 0  # 클래스 변수\n",
    " \n",
    "    # 생성자(constructor), 초기자(initializer)\n",
    "#     def __init__(self, width=None, height=None):\n",
    "#         if width is None: width = 5\n",
    "#         if height is None: height = 10\n",
    "    def __init__(self, width, height):\n",
    "        self.width = width\n",
    "        self.height = height\n",
    "        Rectangle.count += 1\n",
    " \n",
    "    # 메서드 = 함수\n",
    "    def calc_area(self):\n",
    "        area = self.width * self.height\n",
    "        return area"
   ]
  },
  {
   "cell_type": "code",
   "execution_count": 204,
   "id": "6261a766",
   "metadata": {
    "collapsed": true
   },
   "outputs": [
    {
     "data": {
      "text/plain": [
       "25"
      ]
     },
     "execution_count": 204,
     "metadata": {},
     "output_type": "execute_result"
    }
   ],
   "source": [
    "rec1 = Rectangle(5,5)\n",
    "rec1.calc_area()"
   ]
  },
  {
   "cell_type": "code",
   "execution_count": 205,
   "id": "6c49b30b",
   "metadata": {
    "collapsed": true
   },
   "outputs": [
    {
     "data": {
      "text/plain": [
       "1"
      ]
     },
     "execution_count": 205,
     "metadata": {},
     "output_type": "execute_result"
    }
   ],
   "source": [
    "Rectangle.count"
   ]
  },
  {
   "cell_type": "code",
   "execution_count": 206,
   "id": "1a51e304",
   "metadata": {
    "collapsed": true
   },
   "outputs": [
    {
     "data": {
      "text/plain": [
       "2500"
      ]
     },
     "execution_count": 206,
     "metadata": {},
     "output_type": "execute_result"
    }
   ],
   "source": [
    "rec2 = Rectangle(50,50)\n",
    "rec2.calc_area()"
   ]
  },
  {
   "cell_type": "code",
   "execution_count": 207,
   "id": "68361a01",
   "metadata": {
    "collapsed": true
   },
   "outputs": [
    {
     "data": {
      "text/plain": [
       "2"
      ]
     },
     "execution_count": 207,
     "metadata": {},
     "output_type": "execute_result"
    }
   ],
   "source": [
    "Rectangle.count"
   ]
  },
  {
   "cell_type": "markdown",
   "id": "dirty-tiger",
   "metadata": {},
   "source": [
    "#### 출력 형식"
   ]
  },
  {
   "cell_type": "code",
   "execution_count": 208,
   "id": "82b531a2",
   "metadata": {
    "collapsed": true
   },
   "outputs": [
    {
     "name": "stdout",
     "output_type": "stream",
     "text": [
      "x:    10  y: 5.5000  name:홍길동  \n",
      "x:         10  y:     5.5000  name:홍길동       \n"
     ]
    }
   ],
   "source": [
    "x = 10\n",
    "y = 5.5\n",
    "name = '홍길동'\n",
    "print('x: {:5d}  y: {:5.4f}  name:{:5s}'.format(x, y, name))\n",
    "print('x: {:10d}  y: {:10.4f}  name:{:10s}'.format(x, y, name))"
   ]
  },
  {
   "cell_type": "code",
   "execution_count": 209,
   "id": "1474e3bf",
   "metadata": {
    "collapsed": true
   },
   "outputs": [
    {
     "name": "stdout",
     "output_type": "stream",
     "text": [
      "x:         10  y:     5.5000  name:        홍길동\n"
     ]
    }
   ],
   "source": [
    "print('x: %10d  y: %10.4f  name: %10s' %(x, y, name))"
   ]
  },
  {
   "cell_type": "code",
   "execution_count": null,
   "id": "descending-feature",
   "metadata": {},
   "outputs": [],
   "source": []
  },
  {
   "cell_type": "code",
   "execution_count": null,
   "id": "49989c7f",
   "metadata": {},
   "outputs": [],
   "source": []
  }
 ],
 "metadata": {
  "kernelspec": {
   "display_name": "Python 3",
   "language": "python",
   "name": "python3"
  },
  "language_info": {
   "codemirror_mode": {
    "name": "ipython",
    "version": 3
   },
   "file_extension": ".py",
   "mimetype": "text/x-python",
   "name": "python",
   "nbconvert_exporter": "python",
   "pygments_lexer": "ipython3",
   "version": "3.9.1"
  }
 },
 "nbformat": 4,
 "nbformat_minor": 5
}
