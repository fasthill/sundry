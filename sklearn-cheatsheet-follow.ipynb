{
 "cells": [
  {
   "cell_type": "code",
   "execution_count": 4,
   "id": "309dd50a",
   "metadata": {},
   "outputs": [
    {
     "data": {
      "text/plain": [
       "0.631578947368421"
      ]
     },
     "execution_count": 4,
     "metadata": {},
     "output_type": "execute_result"
    }
   ],
   "source": [
    "from sklearn import neighbors, datasets, preprocessing\n",
    "from sklearn.model_selection import train_test_split\n",
    "from sklearn.metrics import accuracy_score\n",
    "iris = datasets.load_iris()\n",
    "X, y = iris.data[:, :2], iris.target\n",
    "X_train, X_test, y_train, y_test = train_test_split(X, y, random_state=33)\n",
    "scaler = preprocessing.StandardScaler().fit(X_train)\n",
    "X_train = scaler.transform(X_train)\n",
    "X_test = scaler.transform(X_test)\n",
    "knn = neighbors.KNeighborsClassifier(n_neighbors=5)\n",
    "knn.fit(X_train, y_train)\n",
    "y_pred = knn.predict(X_test)\n",
    "accuracy_score(y_test, y_pred)"
   ]
  },
  {
   "cell_type": "code",
   "execution_count": 5,
   "id": "df3b5047",
   "metadata": {},
   "outputs": [],
   "source": [
    "import numpy as np\n",
    "X = np.random.random((10,5))\n",
    "y = np.array(['M', 'M', 'F', 'F', 'M', 'F', 'M', 'M', 'F', 'F', 'F', ])"
   ]
  },
  {
   "cell_type": "code",
   "execution_count": 6,
   "id": "ace411ea",
   "metadata": {},
   "outputs": [
    {
     "data": {
      "text/plain": [
       "array(['M', 'M', 'F', 'F', 'M', 'F', 'M', 'M', 'F', 'F', 'F'], dtype='<U1')"
      ]
     },
     "execution_count": 6,
     "metadata": {},
     "output_type": "execute_result"
    }
   ],
   "source": [
    "y"
   ]
  },
  {
   "cell_type": "code",
   "execution_count": 7,
   "id": "abb16eac",
   "metadata": {},
   "outputs": [
    {
     "data": {
      "text/plain": [
       "array([[0.0426708 , 0.72659279, 0.07604582, 0.00830625, 0.24946852],\n",
       "       [0.62892831, 0.19676108, 0.12301793, 0.56872543, 0.39531963],\n",
       "       [0.91228813, 0.1138042 , 0.59484087, 0.08025387, 0.75096052],\n",
       "       [0.16426929, 0.92449256, 0.25848922, 0.50616219, 0.15920093],\n",
       "       [0.26338961, 0.8158629 , 0.73896308, 0.41849252, 0.71698935],\n",
       "       [0.72458017, 0.9046428 , 0.22906912, 0.74867927, 0.98954737],\n",
       "       [0.48949295, 0.21935582, 0.78904912, 0.29721553, 0.28629676],\n",
       "       [0.99638025, 0.41350156, 0.61013128, 0.39966603, 0.16347936],\n",
       "       [0.64614496, 0.25077997, 0.06289751, 0.69334304, 0.12410827],\n",
       "       [0.67582355, 0.62037092, 0.31857575, 0.35576501, 0.35533353]])"
      ]
     },
     "execution_count": 7,
     "metadata": {},
     "output_type": "execute_result"
    }
   ],
   "source": [
    "X\n"
   ]
  },
  {
   "cell_type": "code",
   "execution_count": 8,
   "id": "02b175b5",
   "metadata": {},
   "outputs": [],
   "source": [
    "X[X<0.7] = 0"
   ]
  },
  {
   "cell_type": "code",
   "execution_count": 9,
   "id": "8038c9bc",
   "metadata": {},
   "outputs": [
    {
     "data": {
      "text/plain": [
       "array([[0.        , 0.72659279, 0.        , 0.        , 0.        ],\n",
       "       [0.        , 0.        , 0.        , 0.        , 0.        ],\n",
       "       [0.91228813, 0.        , 0.        , 0.        , 0.75096052],\n",
       "       [0.        , 0.92449256, 0.        , 0.        , 0.        ],\n",
       "       [0.        , 0.8158629 , 0.73896308, 0.        , 0.71698935],\n",
       "       [0.72458017, 0.9046428 , 0.        , 0.74867927, 0.98954737],\n",
       "       [0.        , 0.        , 0.78904912, 0.        , 0.        ],\n",
       "       [0.99638025, 0.        , 0.        , 0.        , 0.        ],\n",
       "       [0.        , 0.        , 0.        , 0.        , 0.        ],\n",
       "       [0.        , 0.        , 0.        , 0.        , 0.        ]])"
      ]
     },
     "execution_count": 9,
     "metadata": {},
     "output_type": "execute_result"
    }
   ],
   "source": [
    "X"
   ]
  },
  {
   "cell_type": "code",
   "execution_count": 24,
   "id": "7bb93d6d",
   "metadata": {},
   "outputs": [
    {
     "data": {
      "text/html": [
       "<div>\n",
       "<style scoped>\n",
       "    .dataframe tbody tr th:only-of-type {\n",
       "        vertical-align: middle;\n",
       "    }\n",
       "\n",
       "    .dataframe tbody tr th {\n",
       "        vertical-align: top;\n",
       "    }\n",
       "\n",
       "    .dataframe thead th {\n",
       "        text-align: right;\n",
       "    }\n",
       "</style>\n",
       "<table border=\"1\" class=\"dataframe\">\n",
       "  <thead>\n",
       "    <tr style=\"text-align: right;\">\n",
       "      <th></th>\n",
       "      <th>학과</th>\n",
       "    </tr>\n",
       "  </thead>\n",
       "  <tbody>\n",
       "    <tr>\n",
       "      <th>0</th>\n",
       "      <td>경영정보학과</td>\n",
       "    </tr>\n",
       "    <tr>\n",
       "      <th>1</th>\n",
       "      <td>경영학과</td>\n",
       "    </tr>\n",
       "    <tr>\n",
       "      <th>2</th>\n",
       "      <td>국제통상학과</td>\n",
       "    </tr>\n",
       "  </tbody>\n",
       "</table>\n",
       "</div>"
      ],
      "text/plain": [
       "       학과\n",
       "0  경영정보학과\n",
       "1    경영학과\n",
       "2  국제통상학과"
      ]
     },
     "execution_count": 24,
     "metadata": {},
     "output_type": "execute_result"
    }
   ],
   "source": [
    "import pandas as pd\n",
    "\n",
    "df = pd.DataFrame({'학과':['경영정보학과','경영학과','국제통상학과']})\n",
    "df"
   ]
  },
  {
   "cell_type": "markdown",
   "id": "8bc7c9ea",
   "metadata": {},
   "source": [
    "Label encoding¶"
   ]
  },
  {
   "cell_type": "code",
   "execution_count": 25,
   "id": "5b370883",
   "metadata": {},
   "outputs": [
    {
     "name": "stdout",
     "output_type": "stream",
     "text": [
      "레이블 인코딩 클래스 :  ['경영정보학과' '경영학과' '국제통상학과']\n",
      "레이블 인코딩 변환값 :  [0 1 2]\n"
     ]
    }
   ],
   "source": [
    "# 레이블 인코더 임포트\n",
    "from sklearn.preprocessing import LabelEncoder\n",
    "\n",
    "depts = ['경영정보학과','경영학과','국제통상학과']\n",
    "\n",
    "# LabelEncoder를 객체로 생성\n",
    "encoder = LabelEncoder()\n",
    "\n",
    "# fit, transform 메소드를 통한 레이블 인코딩\n",
    "encoder.fit(depts)\n",
    "labels = encoder.transform(depts)\n",
    "\n",
    "print('레이블 인코딩 클래스 : ',encoder.classes_) # 인코딩 클래스는 classes_속성값으로 확인\n",
    "print('레이블 인코딩 변환값 : ',labels)"
   ]
  },
  {
   "cell_type": "markdown",
   "id": "2a38f0f8",
   "metadata": {},
   "source": [
    "classes_ 속성은 0번부터 순서대로 변환된 인코딩 값을 원본 데이터를 가집니다. 따라서 inverse_transform메소드를 통해 디코딩 또한 가능합니다."
   ]
  },
  {
   "cell_type": "code",
   "execution_count": 26,
   "id": "1537c01a",
   "metadata": {},
   "outputs": [
    {
     "name": "stdout",
     "output_type": "stream",
     "text": [
      "디코딩 결과:  ['경영정보학과' '경영학과' '국제통상학과']\n"
     ]
    }
   ],
   "source": [
    "print('디코딩 결과: ', encoder.inverse_transform(labels))"
   ]
  },
  {
   "cell_type": "code",
   "execution_count": 27,
   "id": "049f22b1",
   "metadata": {},
   "outputs": [
    {
     "data": {
      "text/html": [
       "<div>\n",
       "<style scoped>\n",
       "    .dataframe tbody tr th:only-of-type {\n",
       "        vertical-align: middle;\n",
       "    }\n",
       "\n",
       "    .dataframe tbody tr th {\n",
       "        vertical-align: top;\n",
       "    }\n",
       "\n",
       "    .dataframe thead th {\n",
       "        text-align: right;\n",
       "    }\n",
       "</style>\n",
       "<table border=\"1\" class=\"dataframe\">\n",
       "  <thead>\n",
       "    <tr style=\"text-align: right;\">\n",
       "      <th></th>\n",
       "      <th>학과</th>\n",
       "    </tr>\n",
       "  </thead>\n",
       "  <tbody>\n",
       "    <tr>\n",
       "      <th>0</th>\n",
       "      <td>0</td>\n",
       "    </tr>\n",
       "    <tr>\n",
       "      <th>1</th>\n",
       "      <td>1</td>\n",
       "    </tr>\n",
       "    <tr>\n",
       "      <th>2</th>\n",
       "      <td>2</td>\n",
       "    </tr>\n",
       "  </tbody>\n",
       "</table>\n",
       "</div>"
      ],
      "text/plain": [
       "   학과\n",
       "0   0\n",
       "1   1\n",
       "2   2"
      ]
     },
     "execution_count": 27,
     "metadata": {},
     "output_type": "execute_result"
    }
   ],
   "source": [
    "df['학과'] = encoder.fit_transform(df['학과'])\n",
    "df"
   ]
  },
  {
   "cell_type": "code",
   "execution_count": 28,
   "id": "544a14a6",
   "metadata": {},
   "outputs": [
    {
     "data": {
      "text/html": [
       "<div>\n",
       "<style scoped>\n",
       "    .dataframe tbody tr th:only-of-type {\n",
       "        vertical-align: middle;\n",
       "    }\n",
       "\n",
       "    .dataframe tbody tr th {\n",
       "        vertical-align: top;\n",
       "    }\n",
       "\n",
       "    .dataframe thead th {\n",
       "        text-align: right;\n",
       "    }\n",
       "</style>\n",
       "<table border=\"1\" class=\"dataframe\">\n",
       "  <thead>\n",
       "    <tr style=\"text-align: right;\">\n",
       "      <th></th>\n",
       "      <th>학과</th>\n",
       "    </tr>\n",
       "  </thead>\n",
       "  <tbody>\n",
       "    <tr>\n",
       "      <th>0</th>\n",
       "      <td>경영정보학과</td>\n",
       "    </tr>\n",
       "    <tr>\n",
       "      <th>1</th>\n",
       "      <td>경영학과</td>\n",
       "    </tr>\n",
       "    <tr>\n",
       "      <th>2</th>\n",
       "      <td>국제통상학과</td>\n",
       "    </tr>\n",
       "  </tbody>\n",
       "</table>\n",
       "</div>"
      ],
      "text/plain": [
       "       학과\n",
       "0  경영정보학과\n",
       "1    경영학과\n",
       "2  국제통상학과"
      ]
     },
     "execution_count": 28,
     "metadata": {},
     "output_type": "execute_result"
    }
   ],
   "source": [
    "df['학과'] = encoder.inverse_transform(df['학과'])\n",
    "df"
   ]
  },
  {
   "cell_type": "markdown",
   "id": "4f465901",
   "metadata": {},
   "source": [
    "원-핫 인코딩(One-Hot encoding)¶"
   ]
  },
  {
   "cell_type": "markdown",
   "id": "d0c85582",
   "metadata": {},
   "source": [
    "원-핫 인코딩이란 피처 값의 유형에 따라 새로운 피처를 추가해 고유 값에 해당하는 컬럼에만 1을 표시하고 나머지 컬럼에는 0을 표시하는 방법입니다."
   ]
  },
  {
   "cell_type": "code",
   "execution_count": 29,
   "id": "51581da3",
   "metadata": {},
   "outputs": [
    {
     "data": {
      "text/html": [
       "<div>\n",
       "<style scoped>\n",
       "    .dataframe tbody tr th:only-of-type {\n",
       "        vertical-align: middle;\n",
       "    }\n",
       "\n",
       "    .dataframe tbody tr th {\n",
       "        vertical-align: top;\n",
       "    }\n",
       "\n",
       "    .dataframe thead th {\n",
       "        text-align: right;\n",
       "    }\n",
       "</style>\n",
       "<table border=\"1\" class=\"dataframe\">\n",
       "  <thead>\n",
       "    <tr style=\"text-align: right;\">\n",
       "      <th></th>\n",
       "      <th>학과_경영정보학과</th>\n",
       "      <th>학과_경영학과</th>\n",
       "      <th>학과_국제통상학과</th>\n",
       "    </tr>\n",
       "  </thead>\n",
       "  <tbody>\n",
       "    <tr>\n",
       "      <th>0</th>\n",
       "      <td>1</td>\n",
       "      <td>0</td>\n",
       "      <td>0</td>\n",
       "    </tr>\n",
       "    <tr>\n",
       "      <th>1</th>\n",
       "      <td>0</td>\n",
       "      <td>1</td>\n",
       "      <td>0</td>\n",
       "    </tr>\n",
       "    <tr>\n",
       "      <th>2</th>\n",
       "      <td>0</td>\n",
       "      <td>0</td>\n",
       "      <td>1</td>\n",
       "    </tr>\n",
       "  </tbody>\n",
       "</table>\n",
       "</div>"
      ],
      "text/plain": [
       "   학과_경영정보학과  학과_경영학과  학과_국제통상학과\n",
       "0          1        0          0\n",
       "1          0        1          0\n",
       "2          0        0          1"
      ]
     },
     "execution_count": 29,
     "metadata": {},
     "output_type": "execute_result"
    }
   ],
   "source": [
    "pd.get_dummies(df)"
   ]
  },
  {
   "cell_type": "markdown",
   "id": "5dadae73",
   "metadata": {},
   "source": [
    "원-핫 인코딩은 sklearn의 OneHotEncoder 클래스로 구현 가능합니다.\n",
    "\n",
    "단 LabelEncoder와 차이점은 모든 문자열 값이 숫자형으로 변환돼야 한다는 점과 입력 값으로 2차원 데이터가 필요하다는 점입니다."
   ]
  },
  {
   "cell_type": "code",
   "execution_count": 30,
   "id": "b29f1c32",
   "metadata": {},
   "outputs": [
    {
     "name": "stdout",
     "output_type": "stream",
     "text": [
      "[0 1 2] \n",
      "\n",
      "[[0]\n",
      " [1]\n",
      " [2]]\n",
      "2 차원\n",
      "\n",
      "원-핫 인코딩 데이터\n",
      "[[1. 0. 0.]\n",
      " [0. 1. 0.]\n",
      " [0. 0. 1.]]\n"
     ]
    }
   ],
   "source": [
    "from sklearn.preprocessing import LabelEncoder\n",
    "from sklearn.preprocessing import OneHotEncoder\n",
    "import numpy as np\n",
    "\n",
    "depts = ['경영정보학과','경영학과','국제통상학과']\n",
    "\n",
    "# 먼저 숫자 값으로 변환을 위해 LabelEncoder로 변환합니다.\n",
    "encoder = LabelEncoder()\n",
    "encoder.fit(depts)\n",
    "labels = encoder.transform(depts)\n",
    "print(labels,'\\n')\n",
    "\n",
    "# 2차원 데이터로 변환\n",
    "labels = labels.reshape(-1,1)\n",
    "print(labels)\n",
    "print(labels.ndim,'차원\\n')\n",
    "\n",
    "\n",
    "# 원-핫 인코딩 적용\n",
    "oh_encoder = OneHotEncoder()\n",
    "oh_encoder.fit(labels)\n",
    "oh_labels = oh_encoder.transform(labels)\n",
    "\n",
    "print('원-핫 인코딩 데이터')\n",
    "print(oh_labels.toarray())"
   ]
  },
  {
   "cell_type": "code",
   "execution_count": null,
   "id": "51398097",
   "metadata": {},
   "outputs": [],
   "source": []
  }
 ],
 "metadata": {
  "kernelspec": {
   "display_name": "Python 3",
   "language": "python",
   "name": "python3"
  },
  "language_info": {
   "codemirror_mode": {
    "name": "ipython",
    "version": 3
   },
   "file_extension": ".py",
   "mimetype": "text/x-python",
   "name": "python",
   "nbconvert_exporter": "python",
   "pygments_lexer": "ipython3",
   "version": "3.9.1"
  }
 },
 "nbformat": 4,
 "nbformat_minor": 5
}
