{
 "cells": [
  {
   "cell_type": "code",
   "execution_count": 2,
   "id": "2bd35156",
   "metadata": {},
   "outputs": [],
   "source": [
    "import numpy as np\n",
    "import pandas as pd\n",
    "import matplotlib.pyplot as plt\n",
    "\n",
    "from sklearn.model_selection import train_test_split\n",
    "from scipy import stats"
   ]
  },
  {
   "cell_type": "markdown",
   "id": "508003df",
   "metadata": {},
   "source": [
    "### Load Dataset"
   ]
  },
  {
   "cell_type": "code",
   "execution_count": 3,
   "id": "b5708aca",
   "metadata": {},
   "outputs": [],
   "source": [
    "use_cols = [\n",
    "    'Pclass', 'Sex', 'Age', 'Fare', 'SibSp',\n",
    "    'Survived'\n",
    "]"
   ]
  },
  {
   "cell_type": "code",
   "execution_count": 43,
   "id": "eadb6823",
   "metadata": {},
   "outputs": [],
   "source": [
    "data = pd.read_csv(\n",
    "    'https://raw.githubusercontent.com/fasthill/My-gist/main/data/titanic/train.csv', \n",
    "    usecols=use_cols)"
   ]
  },
  {
   "cell_type": "code",
   "execution_count": 44,
   "id": "19fc5b41",
   "metadata": {},
   "outputs": [
    {
     "data": {
      "text/html": [
       "<div>\n",
       "<style scoped>\n",
       "    .dataframe tbody tr th:only-of-type {\n",
       "        vertical-align: middle;\n",
       "    }\n",
       "\n",
       "    .dataframe tbody tr th {\n",
       "        vertical-align: top;\n",
       "    }\n",
       "\n",
       "    .dataframe thead th {\n",
       "        text-align: right;\n",
       "    }\n",
       "</style>\n",
       "<table border=\"1\" class=\"dataframe\">\n",
       "  <thead>\n",
       "    <tr style=\"text-align: right;\">\n",
       "      <th></th>\n",
       "      <th>Survived</th>\n",
       "      <th>Pclass</th>\n",
       "      <th>Sex</th>\n",
       "      <th>Age</th>\n",
       "      <th>SibSp</th>\n",
       "      <th>Fare</th>\n",
       "    </tr>\n",
       "  </thead>\n",
       "  <tbody>\n",
       "    <tr>\n",
       "      <th>0</th>\n",
       "      <td>0</td>\n",
       "      <td>3</td>\n",
       "      <td>male</td>\n",
       "      <td>22.0</td>\n",
       "      <td>1</td>\n",
       "      <td>7.2500</td>\n",
       "    </tr>\n",
       "    <tr>\n",
       "      <th>1</th>\n",
       "      <td>1</td>\n",
       "      <td>1</td>\n",
       "      <td>female</td>\n",
       "      <td>38.0</td>\n",
       "      <td>1</td>\n",
       "      <td>71.2833</td>\n",
       "    </tr>\n",
       "    <tr>\n",
       "      <th>2</th>\n",
       "      <td>1</td>\n",
       "      <td>3</td>\n",
       "      <td>female</td>\n",
       "      <td>26.0</td>\n",
       "      <td>0</td>\n",
       "      <td>7.9250</td>\n",
       "    </tr>\n",
       "    <tr>\n",
       "      <th>3</th>\n",
       "      <td>1</td>\n",
       "      <td>1</td>\n",
       "      <td>female</td>\n",
       "      <td>35.0</td>\n",
       "      <td>1</td>\n",
       "      <td>53.1000</td>\n",
       "    </tr>\n",
       "    <tr>\n",
       "      <th>4</th>\n",
       "      <td>0</td>\n",
       "      <td>3</td>\n",
       "      <td>male</td>\n",
       "      <td>35.0</td>\n",
       "      <td>0</td>\n",
       "      <td>8.0500</td>\n",
       "    </tr>\n",
       "  </tbody>\n",
       "</table>\n",
       "</div>"
      ],
      "text/plain": [
       "   Survived  Pclass     Sex   Age  SibSp     Fare\n",
       "0         0       3    male  22.0      1   7.2500\n",
       "1         1       1  female  38.0      1  71.2833\n",
       "2         1       3  female  26.0      0   7.9250\n",
       "3         1       1  female  35.0      1  53.1000\n",
       "4         0       3    male  35.0      0   8.0500"
      ]
     },
     "execution_count": 44,
     "metadata": {},
     "output_type": "execute_result"
    }
   ],
   "source": [
    "data.head()"
   ]
  },
  {
   "cell_type": "code",
   "execution_count": 87,
   "id": "a49a7256",
   "metadata": {},
   "outputs": [],
   "source": [
    "X_train, X_test, y_train, y_test = train_test_split(\n",
    "    data, data.Survived, test_size=0.3, random_state=2022)"
   ]
  },
  {
   "cell_type": "code",
   "execution_count": 64,
   "id": "380bc79d",
   "metadata": {},
   "outputs": [
    {
     "data": {
      "text/plain": [
       "((623, 6), (268, 6))"
      ]
     },
     "execution_count": 64,
     "metadata": {},
     "output_type": "execute_result"
    }
   ],
   "source": [
    "X_train.shape, X_test.shape"
   ]
  },
  {
   "cell_type": "code",
   "execution_count": 70,
   "id": "3cf96103",
   "metadata": {},
   "outputs": [
    {
     "data": {
      "text/plain": [
       "[822, 271, 674, 302, 466, 179, 277, 815, 481, 597, 806, 263, 633]"
      ]
     },
     "execution_count": 70,
     "metadata": {},
     "output_type": "execute_result"
    }
   ],
   "source": [
    "index = X_train['Fare'][X_train['Fare'] == 0].index\n",
    "index = list(index)\n",
    "index"
   ]
  },
  {
   "cell_type": "code",
   "execution_count": 71,
   "id": "05d76478",
   "metadata": {},
   "outputs": [],
   "source": [
    "xx = X_train['Fare'].copy()"
   ]
  },
  {
   "cell_type": "code",
   "execution_count": 76,
   "id": "f6444410",
   "metadata": {},
   "outputs": [
    {
     "data": {
      "text/plain": [
       "708    151.5500\n",
       "332    153.4625\n",
       "318    164.8667\n",
       "856    164.8667\n",
       "689    211.3375\n",
       "779    211.3375\n",
       "377    211.5000\n",
       "527    221.7792\n",
       "557    227.5250\n",
       "380    227.5250\n",
       "716    227.5250\n",
       "118    247.5208\n",
       "742    262.3750\n",
       "311    262.3750\n",
       "88     263.0000\n",
       "438    263.0000\n",
       "341    263.0000\n",
       "258    512.3292\n",
       "737    512.3292\n",
       "679    512.3292\n",
       "Name: Fare, dtype: float64"
      ]
     },
     "execution_count": 76,
     "metadata": {},
     "output_type": "execute_result"
    }
   ],
   "source": [
    "xx.drop(index=index, axis=0, inplace=True, errors='ignore')\n",
    "xx.sort_values()[-20:]"
   ]
  },
  {
   "cell_type": "code",
   "execution_count": 77,
   "id": "5d0c0282",
   "metadata": {},
   "outputs": [
    {
     "name": "stdout",
     "output_type": "stream",
     "text": [
      "[512.3292, 512.3292, 512.3292]\n"
     ]
    }
   ],
   "source": [
    "max_val = xx.max()\n",
    "min_val = xx.min()\n",
    "threshold = 6\n",
    "mean = np.mean(xx)\n",
    "std = np.std(xx)\n",
    "if (mean - threshold * std) > min_val : min_val = np.round(mean - threshold * std, 2)\n",
    "if (mean + threshold * std) < max_val : max_val = np.round(mean + threshold * std, 2)\n",
    "z_score_outlier = [i for i in xx if np.abs((i-mean)/std) > threshold]\n",
    "xx[xx < min_val] = min_val\n",
    "xx[xx > max_val] = max_val\n",
    "print (z_score_outlier)"
   ]
  },
  {
   "cell_type": "code",
   "execution_count": 79,
   "id": "09eb0484",
   "metadata": {},
   "outputs": [
    {
     "data": {
      "text/plain": [
       "(378    4.0125\n",
       " 326    6.2375\n",
       " 843    6.4375\n",
       " 371    6.4958\n",
       " 202    6.4958\n",
       " 654    6.7500\n",
       " 143    6.7500\n",
       " 411    6.8583\n",
       " 825    6.9500\n",
       " 129    6.9750\n",
       " Name: Fare, dtype: float64,\n",
       " 716    227.5250\n",
       " 118    247.5208\n",
       " 742    262.3750\n",
       " 311    262.3750\n",
       " 88     263.0000\n",
       " 438    263.0000\n",
       " 341    263.0000\n",
       " 258    354.9300\n",
       " 737    354.9300\n",
       " 679    354.9300\n",
       " Name: Fare, dtype: float64)"
      ]
     },
     "execution_count": 79,
     "metadata": {},
     "output_type": "execute_result"
    }
   ],
   "source": [
    "xx.sort_values()[:10], xx.sort_values()[-10:]"
   ]
  },
  {
   "cell_type": "code",
   "execution_count": 81,
   "id": "61fc4c85",
   "metadata": {},
   "outputs": [
    {
     "data": {
      "image/png": "[encoded data removed]",
      "text/plain": [
       "<Figure size 432x288 with 1 Axes>"
      ]
     },
     "metadata": {
      "needs_background": "light"
     },
     "output_type": "display_data"
    }
   ],
   "source": [
    "plt.hist(xx)\n",
    "plt.show()"
   ]
  },
  {
   "cell_type": "markdown",
   "id": "399a99f8",
   "metadata": {},
   "source": [
    "dataframe 사용시"
   ]
  },
  {
   "cell_type": "code",
   "execution_count": 88,
   "id": "1fc57a4b",
   "metadata": {},
   "outputs": [],
   "source": [
    "filter = X_train['Fare'][X_train['Fare'] == 0].index\n",
    "# filter = list(filter)"
   ]
  },
  {
   "cell_type": "code",
   "execution_count": 89,
   "id": "f15a3825",
   "metadata": {},
   "outputs": [
    {
     "name": "stderr",
     "output_type": "stream",
     "text": [
      "c:\\users\\user\\appdata\\local\\programs\\python\\python39\\lib\\site-packages\\pandas\\core\\frame.py:4305: SettingWithCopyWarning: \n",
      "A value is trying to be set on a copy of a slice from a DataFrame\n",
      "\n",
      "See the caveats in the documentation: https://pandas.pydata.org/pandas-docs/stable/user_guide/indexing.html#returning-a-view-versus-a-copy\n",
      "  return super().drop(\n"
     ]
    }
   ],
   "source": [
    "X_train.drop(index=filter, axis=0, inplace=True, errors='ignore')"
   ]
  },
  {
   "cell_type": "code",
   "execution_count": 90,
   "id": "e09c0af8",
   "metadata": {},
   "outputs": [
    {
     "data": {
      "text/plain": [
       "(610, 6)"
      ]
     },
     "execution_count": 90,
     "metadata": {},
     "output_type": "execute_result"
    }
   ],
   "source": [
    "X_train.shape"
   ]
  },
  {
   "cell_type": "code",
   "execution_count": 91,
   "id": "051ff577",
   "metadata": {},
   "outputs": [
    {
     "name": "stdout",
     "output_type": "stream",
     "text": [
      "[512.3292, 512.3292, 512.3292]\n"
     ]
    },
    {
     "name": "stderr",
     "output_type": "stream",
     "text": [
      "<ipython-input-91-652c038e3103>:9: SettingWithCopyWarning: \n",
      "A value is trying to be set on a copy of a slice from a DataFrame\n",
      "\n",
      "See the caveats in the documentation: https://pandas.pydata.org/pandas-docs/stable/user_guide/indexing.html#returning-a-view-versus-a-copy\n",
      "  X_train['Fare'][X_train['Fare'] < min_val] = min_val\n",
      "c:\\users\\user\\appdata\\local\\programs\\python\\python39\\lib\\site-packages\\pandas\\core\\series.py:990: SettingWithCopyWarning: \n",
      "A value is trying to be set on a copy of a slice from a DataFrame\n",
      "\n",
      "See the caveats in the documentation: https://pandas.pydata.org/pandas-docs/stable/user_guide/indexing.html#returning-a-view-versus-a-copy\n",
      "  self._where(~key, value, inplace=True)\n",
      "<ipython-input-91-652c038e3103>:10: SettingWithCopyWarning: \n",
      "A value is trying to be set on a copy of a slice from a DataFrame\n",
      "\n",
      "See the caveats in the documentation: https://pandas.pydata.org/pandas-docs/stable/user_guide/indexing.html#returning-a-view-versus-a-copy\n",
      "  X_train['Fare'][X_train['Fare'] > max_val] = max_val\n",
      "c:\\users\\user\\appdata\\local\\programs\\python\\python39\\lib\\site-packages\\pandas\\core\\series.py:990: SettingWithCopyWarning: \n",
      "A value is trying to be set on a copy of a slice from a DataFrame\n",
      "\n",
      "See the caveats in the documentation: https://pandas.pydata.org/pandas-docs/stable/user_guide/indexing.html#returning-a-view-versus-a-copy\n",
      "  self._where(~key, value, inplace=True)\n"
     ]
    }
   ],
   "source": [
    "max_val = X_train['Fare'].max()\n",
    "min_val = X_train['Fare'].min()\n",
    "threshold = 6\n",
    "mean = np.mean(X_train['Fare'])\n",
    "std = np.std(X_train['Fare'])\n",
    "if (mean - threshold * std) > min_val : min_val = np.round(mean - threshold * std, 2)\n",
    "if (mean + threshold * std) < max_val : max_val = np.round(mean + threshold * std, 2)\n",
    "z_score_outlier = [i for i in X_train['Fare'] if np.abs((i-mean)/std) > threshold]\n",
    "X_train['Fare'][X_train['Fare'] < min_val] = min_val\n",
    "X_train['Fare'][X_train['Fare'] > max_val] = max_val\n",
    "print (z_score_outlier)\n",
    "# >> 100   (outlier)"
   ]
  },
  {
   "cell_type": "code",
   "execution_count": 92,
   "id": "afa69319",
   "metadata": {},
   "outputs": [
    {
     "data": {
      "text/plain": [
       "(378    4.0125\n",
       " 326    6.2375\n",
       " 843    6.4375\n",
       " 371    6.4958\n",
       " 202    6.4958\n",
       " 654    6.7500\n",
       " 143    6.7500\n",
       " 411    6.8583\n",
       " 825    6.9500\n",
       " 129    6.9750\n",
       " Name: Fare, dtype: float64,\n",
       " 716    227.5250\n",
       " 118    247.5208\n",
       " 742    262.3750\n",
       " 311    262.3750\n",
       " 88     263.0000\n",
       " 438    263.0000\n",
       " 341    263.0000\n",
       " 258    354.9300\n",
       " 737    354.9300\n",
       " 679    354.9300\n",
       " Name: Fare, dtype: float64)"
      ]
     },
     "execution_count": 92,
     "metadata": {},
     "output_type": "execute_result"
    }
   ],
   "source": [
    "X_train['Fare'].sort_values()[:10], X_train['Fare'].sort_values()[-10:]"
   ]
  },
  {
   "cell_type": "code",
   "execution_count": 93,
   "id": "47de980c",
   "metadata": {},
   "outputs": [
    {
     "name": "stderr",
     "output_type": "stream",
     "text": [
      "<ipython-input-93-5fcdfd54e704>:1: SettingWithCopyWarning: \n",
      "A value is trying to be set on a copy of a slice from a DataFrame.\n",
      "Try using .loc[row_indexer,col_indexer] = value instead\n",
      "\n",
      "See the caveats in the documentation: https://pandas.pydata.org/pandas-docs/stable/user_guide/indexing.html#returning-a-view-versus-a-copy\n",
      "  X_train['Fare'] = np.log1p(X_train['Fare'])\n"
     ]
    }
   ],
   "source": [
    "X_train['Fare'] = np.log1p(X_train['Fare'])"
   ]
  },
  {
   "cell_type": "code",
   "execution_count": 94,
   "id": "bcd8bc36",
   "metadata": {},
   "outputs": [
    {
     "data": {
      "text/plain": [
       "(378    1.611935\n",
       " 326    1.979276\n",
       " 843    2.006535\n",
       " 371    2.014343\n",
       " 202    2.014343\n",
       " 654    2.047693\n",
       " 143    2.047693\n",
       " 411    2.061570\n",
       " 825    2.073172\n",
       " 129    2.076312\n",
       " Name: Fare, dtype: float64,\n",
       " 716    5.431646\n",
       " 118    5.515527\n",
       " 742    5.573579\n",
       " 311    5.573579\n",
       " 88     5.575949\n",
       " 438    5.575949\n",
       " 341    5.575949\n",
       " 258    5.874734\n",
       " 737    5.874734\n",
       " 679    5.874734\n",
       " Name: Fare, dtype: float64)"
      ]
     },
     "execution_count": 94,
     "metadata": {},
     "output_type": "execute_result"
    }
   ],
   "source": [
    "X_train['Fare'].sort_values()[:10], X_train['Fare'].sort_values()[-10:]"
   ]
  },
  {
   "cell_type": "code",
   "execution_count": 95,
   "id": "8dd2ea5c",
   "metadata": {},
   "outputs": [
    {
     "name": "stdout",
     "output_type": "stream",
     "text": [
      "Test_statistics : 0.8915759325027466, p_value : 2.6499721278049318e-20\n"
     ]
    }
   ],
   "source": [
    "test_stat, p_val = stats.shapiro(X_train['Fare'])\n",
    "print('Test_statistics : {}, p_value : {}'.format(test_stat, p_val))"
   ]
  },
  {
   "cell_type": "code",
   "execution_count": null,
   "id": "28778297",
   "metadata": {},
   "outputs": [],
   "source": []
  },
  {
   "cell_type": "code",
   "execution_count": null,
   "id": "9d8ef545",
   "metadata": {},
   "outputs": [],
   "source": []
  },
  {
   "cell_type": "code",
   "execution_count": 67,
   "id": "e0cd3f5f",
   "metadata": {},
   "outputs": [
    {
     "name": "stderr",
     "output_type": "stream",
     "text": [
      "c:\\users\\user\\appdata\\local\\programs\\python\\python39\\lib\\site-packages\\pandas\\core\\series.py:4440: SettingWithCopyWarning: \n",
      "A value is trying to be set on a copy of a slice from a DataFrame\n",
      "\n",
      "See the caveats in the documentation: https://pandas.pydata.org/pandas-docs/stable/user_guide/indexing.html#returning-a-view-versus-a-copy\n",
      "  return super().drop(\n"
     ]
    },
    {
     "data": {
      "text/plain": [
       "263    0.0000\n",
       "815    0.0000\n",
       "481    0.0000\n",
       "302    0.0000\n",
       "674    0.0000\n",
       "633    0.0000\n",
       "179    0.0000\n",
       "271    0.0000\n",
       "806    0.0000\n",
       "466    0.0000\n",
       "822    0.0000\n",
       "277    0.0000\n",
       "597    0.0000\n",
       "378    4.0125\n",
       "326    6.2375\n",
       "843    6.4375\n",
       "202    6.4958\n",
       "371    6.4958\n",
       "654    6.7500\n",
       "143    6.7500\n",
       "Name: Fare, dtype: float64"
      ]
     },
     "execution_count": 67,
     "metadata": {},
     "output_type": "execute_result"
    }
   ],
   "source": [
    "X_train['Fare'].drop(index=index, axis=0, inplace=True)\n",
    "X_train['Fare'].sort_values()[:20]"
   ]
  },
  {
   "cell_type": "code",
   "execution_count": 57,
   "id": "d99c3f36",
   "metadata": {},
   "outputs": [
    {
     "name": "stdout",
     "output_type": "stream",
     "text": [
      "[512.3292, 512.3292, 512.3292]\n"
     ]
    },
    {
     "name": "stderr",
     "output_type": "stream",
     "text": [
      "c:\\users\\user\\appdata\\local\\programs\\python\\python39\\lib\\site-packages\\pandas\\core\\series.py:4440: SettingWithCopyWarning: \n",
      "A value is trying to be set on a copy of a slice from a DataFrame\n",
      "\n",
      "See the caveats in the documentation: https://pandas.pydata.org/pandas-docs/stable/user_guide/indexing.html#returning-a-view-versus-a-copy\n",
      "  return super().drop(\n",
      "<ipython-input-57-26a5ef6204c6>:10: SettingWithCopyWarning: \n",
      "A value is trying to be set on a copy of a slice from a DataFrame\n",
      "\n",
      "See the caveats in the documentation: https://pandas.pydata.org/pandas-docs/stable/user_guide/indexing.html#returning-a-view-versus-a-copy\n",
      "  X_train['Fare'][X_train['Fare'] < min_val] = min_val\n",
      "c:\\users\\user\\appdata\\local\\programs\\python\\python39\\lib\\site-packages\\pandas\\core\\series.py:990: SettingWithCopyWarning: \n",
      "A value is trying to be set on a copy of a slice from a DataFrame\n",
      "\n",
      "See the caveats in the documentation: https://pandas.pydata.org/pandas-docs/stable/user_guide/indexing.html#returning-a-view-versus-a-copy\n",
      "  self._where(~key, value, inplace=True)\n",
      "<ipython-input-57-26a5ef6204c6>:11: SettingWithCopyWarning: \n",
      "A value is trying to be set on a copy of a slice from a DataFrame\n",
      "\n",
      "See the caveats in the documentation: https://pandas.pydata.org/pandas-docs/stable/user_guide/indexing.html#returning-a-view-versus-a-copy\n",
      "  X_train['Fare'][X_train['Fare'] > max_val] = max_val\n",
      "c:\\users\\user\\appdata\\local\\programs\\python\\python39\\lib\\site-packages\\pandas\\core\\series.py:990: SettingWithCopyWarning: \n",
      "A value is trying to be set on a copy of a slice from a DataFrame\n",
      "\n",
      "See the caveats in the documentation: https://pandas.pydata.org/pandas-docs/stable/user_guide/indexing.html#returning-a-view-versus-a-copy\n",
      "  self._where(~key, value, inplace=True)\n"
     ]
    }
   ],
   "source": [
    "X_train['Fare'].drop(index=index, axis=0, inplace=True)\n",
    "max_val = X_train['Fare'].max()\n",
    "min_val = X_train['Fare'].min()\n",
    "threshold = 6\n",
    "mean = np.mean(X_train['Fare'])\n",
    "std = np.std(X_train['Fare'])\n",
    "if (mean - threshold * std) > min_val : min_val = np.round(mean - threshold * std, 2)\n",
    "if (mean + threshold * std) < max_val : max_val = np.round(mean + threshold * std, 2)\n",
    "z_score_outlier = [i for i in X_train['Fare'] if np.abs((i-mean)/std) > threshold]\n",
    "X_train['Fare'][X_train['Fare'] < min_val] = min_val\n",
    "X_train['Fare'][X_train['Fare'] > max_val] = max_val\n",
    "print (z_score_outlier)\n",
    "# >> 100   (outlier)"
   ]
  },
  {
   "cell_type": "code",
   "execution_count": 52,
   "id": "67ac3fc9",
   "metadata": {},
   "outputs": [
    {
     "data": {
      "text/plain": [
       "(314.48, 0.0)"
      ]
     },
     "execution_count": 52,
     "metadata": {},
     "output_type": "execute_result"
    }
   ],
   "source": [
    "max_val, min_val"
   ]
  },
  {
   "cell_type": "code",
   "execution_count": 58,
   "id": "e42cd5ed",
   "metadata": {},
   "outputs": [
    {
     "data": {
      "text/plain": [
       "263    0.0000\n",
       "815    0.0000\n",
       "481    0.0000\n",
       "302    0.0000\n",
       "674    0.0000\n",
       "633    0.0000\n",
       "179    0.0000\n",
       "271    0.0000\n",
       "806    0.0000\n",
       "466    0.0000\n",
       "822    0.0000\n",
       "277    0.0000\n",
       "597    0.0000\n",
       "378    4.0125\n",
       "326    6.2375\n",
       "843    6.4375\n",
       "202    6.4958\n",
       "371    6.4958\n",
       "654    6.7500\n",
       "143    6.7500\n",
       "Name: Fare, dtype: float64"
      ]
     },
     "execution_count": 58,
     "metadata": {},
     "output_type": "execute_result"
    }
   ],
   "source": [
    "X_train['Fare'].sort_values()[:20]"
   ]
  },
  {
   "cell_type": "code",
   "execution_count": 24,
   "id": "31e56236",
   "metadata": {},
   "outputs": [
    {
     "data": {
      "text/plain": [
       "512.3292"
      ]
     },
     "execution_count": 24,
     "metadata": {},
     "output_type": "execute_result"
    }
   ],
   "source": [
    "X_train['Fare'].loc[679]"
   ]
  },
  {
   "cell_type": "code",
   "execution_count": 25,
   "id": "e4eb6adb",
   "metadata": {},
   "outputs": [],
   "source": [
    "fare = X_train['Fare']"
   ]
  },
  {
   "cell_type": "code",
   "execution_count": 36,
   "id": "f5eb2724",
   "metadata": {},
   "outputs": [],
   "source": [
    "X_train.drop(labels=[679, 258, 737], inplace=True, errors='ignore')"
   ]
  },
  {
   "cell_type": "code",
   "execution_count": 59,
   "id": "75a8bb40",
   "metadata": {},
   "outputs": [
    {
     "data": {
      "text/plain": [
       "pandas.core.indexes.numeric.Int64Index"
      ]
     },
     "execution_count": 59,
     "metadata": {},
     "output_type": "execute_result"
    }
   ],
   "source": [
    "X_train['Fare'][X_train['Fare'] == 0].index"
   ]
  },
  {
   "cell_type": "code",
   "execution_count": 61,
   "id": "efcf31b1",
   "metadata": {},
   "outputs": [],
   "source": [
    "X_train.drop(labels=X_train['Fare'][X_train['Fare'] == 0].index, inplace=True, errors='ignore')"
   ]
  },
  {
   "cell_type": "code",
   "execution_count": 65,
   "id": "be672ef9",
   "metadata": {},
   "outputs": [
    {
     "data": {
      "text/plain": [
       "378    4.0125\n",
       "326    6.2375\n",
       "843    6.4375\n",
       "371    6.4958\n",
       "202    6.4958\n",
       "654    6.7500\n",
       "143    6.7500\n",
       "411    6.8583\n",
       "825    6.9500\n",
       "129    6.9750\n",
       "804    6.9750\n",
       "477    7.0458\n",
       "611    7.0500\n",
       "210    7.0500\n",
       "784    7.0500\n",
       "631    7.0542\n",
       "243    7.1250\n",
       "433    7.1250\n",
       "590    7.1250\n",
       "598    7.2250\n",
       "Name: Fare, dtype: float64"
      ]
     },
     "execution_count": 65,
     "metadata": {},
     "output_type": "execute_result"
    }
   ],
   "source": [
    "X_train['Fare'].sort_values()[:20]"
   ]
  },
  {
   "cell_type": "code",
   "execution_count": null,
   "id": "8fe8cd6c",
   "metadata": {},
   "outputs": [],
   "source": []
  },
  {
   "cell_type": "code",
   "execution_count": 14,
   "id": "confident-signal",
   "metadata": {},
   "outputs": [],
   "source": [
    "max_val = X_train['Fare'].max()\n",
    "min_val = X_train['Fare'].min()\n",
    "cri_cons = 3"
   ]
  },
  {
   "cell_type": "code",
   "execution_count": 15,
   "id": "frequent-naples",
   "metadata": {},
   "outputs": [],
   "source": [
    "std_val = X_train['Fare'].std()\n",
    "mean_val = X_train['Fare'].mean()"
   ]
  },
  {
   "cell_type": "code",
   "execution_count": 16,
   "id": "preliminary-preservation",
   "metadata": {},
   "outputs": [
    {
     "ename": "ValueError",
     "evalue": "The truth value of a Series is ambiguous. Use a.empty, a.bool(), a.item(), a.any() or a.all().",
     "output_type": "error",
     "traceback": [
      "\u001b[1;31m---------------------------------------------------------------------------\u001b[0m",
      "\u001b[1;31mValueError\u001b[0m                                Traceback (most recent call last)",
      "Input \u001b[1;32mIn [16]\u001b[0m, in \u001b[0;36m<module>\u001b[1;34m\u001b[0m\n\u001b[1;32m----> 1\u001b[0m [x \u001b[38;5;28;01mfor\u001b[39;00m x \u001b[38;5;129;01min\u001b[39;00m X_train[\u001b[38;5;124m'\u001b[39m\u001b[38;5;124mFare\u001b[39m\u001b[38;5;124m'\u001b[39m] \u001b[38;5;28;01mif\u001b[39;00m cri_cons \u001b[38;5;241m<\u001b[39m np\u001b[38;5;241m.\u001b[39mabs(X_train[\u001b[38;5;124m'\u001b[39m\u001b[38;5;124mFare\u001b[39m\u001b[38;5;124m'\u001b[39m]\u001b[38;5;241m-\u001b[39mmean_val)\u001b[38;5;241m/\u001b[39mstd_val]\n",
      "Input \u001b[1;32mIn [16]\u001b[0m, in \u001b[0;36m<listcomp>\u001b[1;34m(.0)\u001b[0m\n\u001b[1;32m----> 1\u001b[0m [x \u001b[38;5;28;01mfor\u001b[39;00m x \u001b[38;5;129;01min\u001b[39;00m X_train[\u001b[38;5;124m'\u001b[39m\u001b[38;5;124mFare\u001b[39m\u001b[38;5;124m'\u001b[39m] \u001b[38;5;28;01mif\u001b[39;00m \u001b[43mcri_cons\u001b[49m\u001b[43m \u001b[49m\u001b[38;5;241;43m<\u001b[39;49m\u001b[43m \u001b[49m\u001b[43mnp\u001b[49m\u001b[38;5;241;43m.\u001b[39;49m\u001b[43mabs\u001b[49m\u001b[43m(\u001b[49m\u001b[43mX_train\u001b[49m\u001b[43m[\u001b[49m\u001b[38;5;124;43m'\u001b[39;49m\u001b[38;5;124;43mFare\u001b[39;49m\u001b[38;5;124;43m'\u001b[39;49m\u001b[43m]\u001b[49m\u001b[38;5;241;43m-\u001b[39;49m\u001b[43mmean_val\u001b[49m\u001b[43m)\u001b[49m\u001b[38;5;241;43m/\u001b[39;49m\u001b[43mstd_val\u001b[49m]\n",
      "File \u001b[1;32mc:\\users\\user\\appdata\\local\\programs\\python\\python39\\lib\\site-packages\\pandas\\core\\generic.py:1537\u001b[0m, in \u001b[0;36mNDFrame.__nonzero__\u001b[1;34m(self)\u001b[0m\n\u001b[0;32m   1535\u001b[0m \u001b[38;5;129m@final\u001b[39m\n\u001b[0;32m   1536\u001b[0m \u001b[38;5;28;01mdef\u001b[39;00m \u001b[38;5;21m__nonzero__\u001b[39m(\u001b[38;5;28mself\u001b[39m):\n\u001b[1;32m-> 1537\u001b[0m     \u001b[38;5;28;01mraise\u001b[39;00m \u001b[38;5;167;01mValueError\u001b[39;00m(\n\u001b[0;32m   1538\u001b[0m         \u001b[38;5;124mf\u001b[39m\u001b[38;5;124m\"\u001b[39m\u001b[38;5;124mThe truth value of a \u001b[39m\u001b[38;5;132;01m{\u001b[39;00m\u001b[38;5;28mtype\u001b[39m(\u001b[38;5;28mself\u001b[39m)\u001b[38;5;241m.\u001b[39m\u001b[38;5;18m__name__\u001b[39m\u001b[38;5;132;01m}\u001b[39;00m\u001b[38;5;124m is ambiguous. \u001b[39m\u001b[38;5;124m\"\u001b[39m\n\u001b[0;32m   1539\u001b[0m         \u001b[38;5;124m\"\u001b[39m\u001b[38;5;124mUse a.empty, a.bool(), a.item(), a.any() or a.all().\u001b[39m\u001b[38;5;124m\"\u001b[39m\n\u001b[0;32m   1540\u001b[0m     )\n",
      "\u001b[1;31mValueError\u001b[0m: The truth value of a Series is ambiguous. Use a.empty, a.bool(), a.item(), a.any() or a.all()."
     ]
    }
   ],
   "source": [
    "[x for x in X_train['Fare'] if cri_cons < np.abs(X_train['Fare']-mean_val)/std_val]"
   ]
  },
  {
   "cell_type": "code",
   "execution_count": 17,
   "id": "behind-sharp",
   "metadata": {},
   "outputs": [
    {
     "data": {
      "text/plain": [
       "[262.375,\n",
       " 512.3292,\n",
       " 227.525,\n",
       " 211.5,\n",
       " 247.5208,\n",
       " 263.0,\n",
       " 262.375,\n",
       " 512.3292,\n",
       " 263.0,\n",
       " 211.3375,\n",
       " 227.525,\n",
       " 227.525,\n",
       " 263.0,\n",
       " 512.3292,\n",
       " 221.7792,\n",
       " 211.3375]"
      ]
     },
     "execution_count": 17,
     "metadata": {},
     "output_type": "execute_result"
    }
   ],
   "source": [
    "[x for x in X_train['Fare'] if cri_cons < np.abs(x-mean_val)/std_val]"
   ]
  },
  {
   "cell_type": "code",
   "execution_count": 23,
   "id": "constitutional-trainer",
   "metadata": {},
   "outputs": [
    {
     "name": "stderr",
     "output_type": "stream",
     "text": [
      "C:\\Users\\User\\AppData\\Local\\Temp\\ipykernel_43852\\2252912561.py:1: SettingWithCopyWarning: \n",
      "A value is trying to be set on a copy of a slice from a DataFrame\n",
      "\n",
      "See the caveats in the documentation: https://pandas.pydata.org/pandas-docs/stable/user_guide/indexing.html#returning-a-view-versus-a-copy\n",
      "  X_train['Fare'][X_train['Fare'] > cri_cons * std_val + mean_val] = max_val\n",
      "c:\\users\\user\\appdata\\local\\programs\\python\\python39\\lib\\site-packages\\pandas\\core\\generic.py:8870: SettingWithCopyWarning: \n",
      "A value is trying to be set on a copy of a slice from a DataFrame\n",
      "\n",
      "See the caveats in the documentation: https://pandas.pydata.org/pandas-docs/stable/user_guide/indexing.html#returning-a-view-versus-a-copy\n",
      "  return self._update_inplace(result)\n"
     ]
    }
   ],
   "source": [
    "X_train['Fare'][X_train['Fare'] > cri_cons * std_val + mean_val] = max_val"
   ]
  },
  {
   "cell_type": "code",
   "execution_count": null,
   "id": "computational-thomson",
   "metadata": {},
   "outputs": [],
   "source": [
    "cri_cons < np.abs(X_train['Fare']-mean_val)/std_val]"
   ]
  },
  {
   "cell_type": "code",
   "execution_count": null,
   "id": "auburn-jefferson",
   "metadata": {},
   "outputs": [],
   "source": [
    "cri_cons * std_val < np.abs(X_train['Fare']-mean_val)"
   ]
  },
  {
   "cell_type": "code",
   "execution_count": null,
   "id": "joint-brush",
   "metadata": {},
   "outputs": [],
   "source": [
    "cri_cons * std_val + mean_val < X_train['Fare']"
   ]
  },
  {
   "cell_type": "code",
   "execution_count": 20,
   "id": "appointed-seller",
   "metadata": {},
   "outputs": [
    {
     "data": {
      "text/plain": [
       "211.3375"
      ]
     },
     "execution_count": 20,
     "metadata": {},
     "output_type": "execute_result"
    }
   ],
   "source": [
    "X_train['Fare'].loc[689]"
   ]
  },
  {
   "cell_type": "code",
   "execution_count": 21,
   "id": "considered-desire",
   "metadata": {
    "scrolled": true
   },
   "outputs": [
    {
     "data": {
      "text/plain": [
       "512.3292"
      ]
     },
     "execution_count": 21,
     "metadata": {},
     "output_type": "execute_result"
    }
   ],
   "source": [
    "max_val"
   ]
  },
  {
   "cell_type": "code",
   "execution_count": 22,
   "id": "interior-annotation",
   "metadata": {
    "scrolled": true
   },
   "outputs": [
    {
     "data": {
      "text/plain": [
       "192.61139536382345"
      ]
     },
     "execution_count": 22,
     "metadata": {},
     "output_type": "execute_result"
    }
   ],
   "source": [
    "max_val = cri_cons * std_val + mean_val\n",
    "max_val"
   ]
  },
  {
   "cell_type": "code",
   "execution_count": 67,
   "id": "75948825",
   "metadata": {},
   "outputs": [
    {
     "data": {
      "image/png": "[encoded data removed]",
      "text/plain": [
       "<Figure size 432x288 with 1 Axes>"
      ]
     },
     "metadata": {
      "needs_background": "light"
     },
     "output_type": "display_data"
    }
   ],
   "source": [
    "# histogram plot of a small sample\n",
    "from numpy.random import seed\n",
    "from numpy.random import randn\n",
    "from matplotlib import pyplot\n",
    "# seed the random number generator\n",
    "seed(1)\n",
    "# generate a univariate data sample\n",
    "data = 50 * randn(50) + 100\n",
    "# histogram\n",
    "pyplot.hist(data)\n",
    "pyplot.show()"
   ]
  },
  {
   "cell_type": "code",
   "execution_count": 8,
   "id": "36052125",
   "metadata": {},
   "outputs": [
    {
     "data": {
      "text/plain": [
       "10.12"
      ]
     },
     "execution_count": 8,
     "metadata": {},
     "output_type": "execute_result"
    }
   ],
   "source": [
    "np.round(10.124, 2)"
   ]
  },
  {
   "cell_type": "code",
   "execution_count": null,
   "id": "c0c98887",
   "metadata": {},
   "outputs": [],
   "source": []
  }
 ],
 "metadata": {
  "kernelspec": {
   "display_name": "Python 3",
   "language": "python",
   "name": "python3"
  },
  "language_info": {
   "codemirror_mode": {
    "name": "ipython",
    "version": 3
   },
   "file_extension": ".py",
   "mimetype": "text/x-python",
   "name": "python",
   "nbconvert_exporter": "python",
   "pygments_lexer": "ipython3",
   "version": "3.9.1"
  }
 },
 "nbformat": 4,
 "nbformat_minor": 5
}
