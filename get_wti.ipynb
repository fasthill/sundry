{
 "cells": [
  {
   "cell_type": "code",
   "execution_count": 1,
   "id": "1cddba06",
   "metadata": {},
   "outputs": [],
   "source": [
    "import requests\n",
    "from bs4 import BeautifulSoup as bs"
   ]
  },
  {
   "cell_type": "code",
   "execution_count": 1,
   "id": "610a243a",
   "metadata": {},
   "outputs": [
    {
     "data": {
      "text/plain": [
       "{'2022년 05월 19일': '105.86',\n",
       " '2022년 05월 18일': '109.59',\n",
       " '2022년 05월 17일': '112.40',\n",
       " '2022년 05월 16일': '114.20',\n",
       " '2022년 05월 13일': '110.49',\n",
       " '2022년 05월 12일': '106.13',\n",
       " '2022년 05월 11일': '105.71',\n",
       " '2022년 05월 10일': '99.76',\n",
       " '2022년 05월 09일': '103.09',\n",
       " '2022년 05월 06일': '109.77',\n",
       " '2022년 05월 05일': '108.26',\n",
       " '2022년 05월 04일': '107.81',\n",
       " '2022년 05월 03일': '102.41',\n",
       " '2022년 05월 02일': '105.17',\n",
       " '2022년 04월 29일': '104.69',\n",
       " '2022년 04월 28일': '105.36',\n",
       " '2022년 04월 27일': '102.02',\n",
       " '2022년 04월 26일': '101.70',\n",
       " '2022년 04월 25일': '98.54',\n",
       " '2022년 04월 22일': '102.07',\n",
       " '2022년 04월 21일': '103.79',\n",
       " '2022년 04월 20일': '102.75',\n",
       " '2022년 04월 19일': '102.56'}"
      ]
     },
     "execution_count": 1,
     "metadata": {},
     "output_type": "execute_result"
    }
   ],
   "source": [
    "url1 = 'https://kr.investing.com/commodities/crude-oil-historical-data'\n",
    "res = requests.get(url1)\n",
    "soup = bs(res.text, 'html.parser')\n",
    "wti = soup.select('#results_box tr')\n",
    "\n",
    "wti_date_value = {}\n",
    "for i, tr in enumerate(wti):\n",
    "    if (i == 0) | (i == len(wti)-1) : continue\n",
    "    tr_value = tr.select('td')\n",
    "    wti_date_value[tr_value[0].text] = tr_value[1].text\n",
    "    value = tr_value[1].text\n",
    "\n",
    "wti_date_value"
   ]
  },
  {
   "cell_type": "code",
   "execution_count": 7,
   "id": "dcefa654",
   "metadata": {},
   "outputs": [
    {
     "data": {
      "text/plain": [
       "11388.5"
      ]
     },
     "execution_count": 7,
     "metadata": {},
     "output_type": "execute_result"
    }
   ],
   "source": [
    "nas_url = 'https://www.investing.com/indices/nasdaq-composite-chart'\n",
    "res = requests.get(nas_url)\n",
    "soup = bs(res.text, 'html.parser')\n",
    "nas = soup.select('#last_last')[0].text\n",
    "nas = float(nas.replace(\",\", \"\"))\n",
    "nas"
   ]
  },
  {
   "cell_type": "code",
   "execution_count": 15,
   "id": "7f671696",
   "metadata": {},
   "outputs": [
    {
     "data": {
      "text/plain": [
       "31253.13"
      ]
     },
     "execution_count": 15,
     "metadata": {},
     "output_type": "execute_result"
    }
   ],
   "source": [
    "dow_url = 'https://www.investing.com/indices/us-30'\n",
    "res = requests.get(dow_url)\n",
    "soup = bs(res.text, 'html.parser')\n",
    "select_path = '#__next > div.desktop\\:relative.desktop\\:bg-background-default > div > div > div.grid.gap-4.tablet\\:gap-6.grid-cols-4.tablet\\:grid-cols-8.desktop\\:grid-cols-12.grid-container--fixed-desktop.general-layout_main__3tg3t > main > div > div.instrument-header_instrument-header__1SRl8.mb-5.bg-background-surface.tablet\\:grid.tablet\\:grid-cols-2 > div:nth-child(2) > div.instrument-price_instrument-price__3uw25.flex.items-end.flex-wrap.font-bold > span'\n",
    "dow = soup.select('span.text-2xl')[0].text\n",
    "dow = float(dow.replace(\",\", \"\"))\n",
    "dow"
   ]
  },
  {
   "cell_type": "code",
   "execution_count": 16,
   "id": "82b176b1",
   "metadata": {},
   "outputs": [
    {
     "data": {
      "text/plain": [
       "3900.79"
      ]
     },
     "execution_count": 16,
     "metadata": {},
     "output_type": "execute_result"
    }
   ],
   "source": [
    "snp_url = 'https://www.investing.com/indices/us-spx-500'\n",
    "res = requests.get(snp_url)\n",
    "soup = bs(res.text, 'html.parser')\n",
    "snp = soup.select('span.text-2xl')[0].text\n",
    "snp = float(snp.replace(\",\", \"\"))\n",
    "snp"
   ]
  },
  {
   "cell_type": "code",
   "execution_count": null,
   "id": "31001b0e",
   "metadata": {},
   "outputs": [],
   "source": []
  }
 ],
 "metadata": {
  "kernelspec": {
   "display_name": "Python 3",
   "language": "python",
   "name": "python3"
  },
  "language_info": {
   "codemirror_mode": {
    "name": "ipython",
    "version": 3
   },
   "file_extension": ".py",
   "mimetype": "text/x-python",
   "name": "python",
   "nbconvert_exporter": "python",
   "pygments_lexer": "ipython3",
   "version": "3.9.1"
  }
 },
 "nbformat": 4,
 "nbformat_minor": 5
}
