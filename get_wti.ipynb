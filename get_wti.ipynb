{
 "cells": [
  {
   "cell_type": "code",
   "execution_count": 1,
   "id": "09d28ae9",
   "metadata": {},
   "outputs": [],
   "source": [
    "import requests\n",
    "from bs4 import BeautifulSoup as bs"
   ]
  },
  {
   "cell_type": "code",
   "execution_count": 1,
   "id": "610a243a",
   "metadata": {},
   "outputs": [
    {
     "data": {
      "text/plain": [
       "{'2022년 05월 19일': '105.86',\n",
       " '2022년 05월 18일': '109.59',\n",
       " '2022년 05월 17일': '112.40',\n",
       " '2022년 05월 16일': '114.20',\n",
       " '2022년 05월 13일': '110.49',\n",
       " '2022년 05월 12일': '106.13',\n",
       " '2022년 05월 11일': '105.71',\n",
       " '2022년 05월 10일': '99.76',\n",
       " '2022년 05월 09일': '103.09',\n",
       " '2022년 05월 06일': '109.77',\n",
       " '2022년 05월 05일': '108.26',\n",
       " '2022년 05월 04일': '107.81',\n",
       " '2022년 05월 03일': '102.41',\n",
       " '2022년 05월 02일': '105.17',\n",
       " '2022년 04월 29일': '104.69',\n",
       " '2022년 04월 28일': '105.36',\n",
       " '2022년 04월 27일': '102.02',\n",
       " '2022년 04월 26일': '101.70',\n",
       " '2022년 04월 25일': '98.54',\n",
       " '2022년 04월 22일': '102.07',\n",
       " '2022년 04월 21일': '103.79',\n",
       " '2022년 04월 20일': '102.75',\n",
       " '2022년 04월 19일': '102.56'}"
      ]
     },
     "execution_count": 1,
     "metadata": {},
     "output_type": "execute_result"
    }
   ],
   "source": [
    "url1 = 'https://kr.investing.com/commodities/crude-oil-historical-data'\n",
    "res = requests.get(url1)\n",
    "soup = bs(res.text, 'html.parser')\n",
    "wti = soup.select('#results_box tr')\n",
    "\n",
    "wti_date_value = {}\n",
    "for i, tr in enumerate(wti):\n",
    "    if (i == 0) | (i == len(wti)-1) : continue\n",
    "    tr_value = tr.select('td')\n",
    "    wti_date_value[tr_value[0].text] = tr_value[1].text\n",
    "    value = tr_value[1].text\n",
    "\n",
    "wti_date_value"
   ]
  },
  {
   "cell_type": "code",
   "execution_count": 7,
   "id": "dcefa654",
   "metadata": {},
   "outputs": [
    {
     "data": {
      "text/plain": [
       "11388.5"
      ]
     },
     "execution_count": 7,
     "metadata": {},
     "output_type": "execute_result"
    }
   ],
   "source": [
    "nas_url = 'https://www.investing.com/indices/nasdaq-composite-chart'\n",
    "res = requests.get(nas_url)\n",
    "soup = bs(res.text, 'html.parser')\n",
    "nas = soup.select('#last_last')[0].text\n",
    "nas = float(nas.replace(\",\", \"\"))\n",
    "nas"
   ]
  },
  {
   "cell_type": "code",
   "execution_count": null,
   "id": "a804802d",
   "metadata": {},
   "outputs": [],
   "source": [
    "dow_url = 'https://www.investing.com/indices/us-30'\n"
   ]
  }
 ],
 "metadata": {
  "kernelspec": {
   "display_name": "Python 3",
   "language": "python",
   "name": "python3"
  },
  "language_info": {
   "codemirror_mode": {
    "name": "ipython",
    "version": 3
   },
   "file_extension": ".py",
   "mimetype": "text/x-python",
   "name": "python",
   "nbconvert_exporter": "python",
   "pygments_lexer": "ipython3",
   "version": "3.9.1"
  }
 },
 "nbformat": 4,
 "nbformat_minor": 5
}
