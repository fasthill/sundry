{
 "cells": [
  {
   "cell_type": "code",
   "execution_count": 5,
   "id": "b89b145f",
   "metadata": {},
   "outputs": [],
   "source": [
    "import pandas as pd\n",
    "import numpy as np"
   ]
  },
  {
   "cell_type": "code",
   "execution_count": 16,
   "id": "45875aae",
   "metadata": {},
   "outputs": [],
   "source": [
    "from bs4 import BeautifulSoup as bs\n",
    "import requests\n",
    "\n",
    "url1 = 'https://www.albamon.com/jobs/detail/98281054?searchRow=8&productCount=2&searchKeyword=%EC%8B%9C%EB%8B%88%EC%96%B4&logpath=1'\n",
    "url2 = 'https://www.albamon.com/jobs/detail/98275242?searchRow=2&searchKeyword=%EC%8B%9C%EB%8B%88%EC%96%B4&logpath=1'\n",
    "url3 = 'https://www.albamon.com/jobs/detail/98326956?searchRow=5&productCount=1&searchKeyword=%EC%8B%9C%EB%8B%88%EC%96%B4&logpath=1'\n",
    "url4 = 'https://www.albamon.com/jobs/detail/98307432?searchRow=7&productCount=1&searchKeyword=%EC%8B%9C%EB%8B%88%EC%96%B4&logpath=1'\n",
    "url_col = [url1, url2, url3, url4]"
   ]
  },
  {
   "cell_type": "code",
   "execution_count": 10,
   "id": "1c935823",
   "metadata": {},
   "outputs": [],
   "source": [
    "def collect_info(soup):\n",
    "    condition = {}\n",
    "    h2_sel = '#__next main div.title-form__group > h2'\n",
    "    for h2 in soup.select(h2_sel):\n",
    "        print(h2.text)\n",
    "        if h2.text == '모집조건':\n",
    "            dl_dd = h2.parent.parent.next_sibling.select('dl')\n",
    "            for dd in dl_dd:\n",
    "                print(\"***\", dd.dt.text, \"---\", dd.dd.text)\n",
    "                condition[dd.dt.text] = dd.dd.text\n",
    "                \n",
    "    return pd.DataFrame([condition])"
   ]
  },
  {
   "cell_type": "code",
   "execution_count": 17,
   "id": "2e2e4515",
   "metadata": {},
   "outputs": [
    {
     "name": "stdout",
     "output_type": "stream",
     "text": [
      "모집조건\n",
      "*** 모집마감 --- 2023-10-31마감 18일전\n",
      "*** 모집인원 --- 1명\n",
      "*** 모집분야 --- 매장판매, 매장관리\n",
      "*** 성별 --- 성별무관\n",
      "*** 학력 --- 고등학교 졸업 이상\n",
      "*** 연령 --- 연령무관\n",
      "*** 우대사항 --- 유사업무 경험 우대, 인근 거주 우대\n",
      "근무지역\n",
      "근무조건\n",
      "상세요강\n",
      "공고사진\n",
      "지원방법\n",
      "기업정보\n",
      "모집조건\n",
      "*** 모집마감 --- 상시모집\n",
      "*** 모집인원 --- 4명친구와 함께 근무 가능\n",
      "*** 모집분야 --- 신체강사, 음악강사, 교구강사, 미술강사\n",
      "*** 성별 --- 성별무관\n",
      "*** 학력 --- 학력무관\n",
      "*** 연령 --- 연령무관\n",
      "*** 우대사항 --- 차량소지, 유사업무 경험 우대\n",
      "근무지역\n",
      "근무조건\n",
      "상세요강\n",
      "공고사진\n",
      "지원방법\n",
      "기업정보\n",
      "모집조건\n",
      "*** 모집마감 --- 상시모집\n",
      "*** 모집인원 --- 00명(인원미정)\n",
      "*** 성별 --- 성별무관\n",
      "*** 학력 --- 고등학교 졸업 이상\n",
      "*** 연령 --- 연령무관\n",
      "*** 우대사항 --- 유사업무 경험 우대, 인근 거주 우대\n",
      "근무지역\n",
      "근무조건\n",
      "상세요강\n",
      "지원방법\n",
      "기업정보\n",
      "모집조건\n",
      "*** 모집마감 --- 상시모집\n",
      "*** 모집인원 --- 00명(인원미정)\n",
      "*** 성별 --- 성별무관\n",
      "*** 학력 --- 학력무관\n",
      "*** 연령 --- 연령무관\n",
      "*** 우대사항 --- 유사업무 경험 우대, 인근 거주 우대\n",
      "근무지역\n",
      "근무조건\n",
      "상세요강\n",
      "공고사진\n",
      "지원방법\n",
      "기업정보\n"
     ]
    }
   ],
   "source": [
    "df = pd.DataFrame(columns = ['모집마감', '모집인원', '모집분야', '성별', '학력', '연령', '우대사항'])\n",
    "for url in url_col:\n",
    "    r = requests.get(url)\n",
    "    html = r.content\n",
    "    soup = bs(html, 'html.parser')\n",
    "    df_temp = collect_info(soup)\n",
    "    df = pd.concat([df, df_temp])"
   ]
  },
  {
   "cell_type": "code",
   "execution_count": 18,
   "id": "2da55c65",
   "metadata": {},
   "outputs": [
    {
     "data": {
      "text/html": [
       "<div>\n",
       "<style scoped>\n",
       "    .dataframe tbody tr th:only-of-type {\n",
       "        vertical-align: middle;\n",
       "    }\n",
       "\n",
       "    .dataframe tbody tr th {\n",
       "        vertical-align: top;\n",
       "    }\n",
       "\n",
       "    .dataframe thead th {\n",
       "        text-align: right;\n",
       "    }\n",
       "</style>\n",
       "<table border=\"1\" class=\"dataframe\">\n",
       "  <thead>\n",
       "    <tr style=\"text-align: right;\">\n",
       "      <th></th>\n",
       "      <th>모집마감</th>\n",
       "      <th>모집인원</th>\n",
       "      <th>모집분야</th>\n",
       "      <th>성별</th>\n",
       "      <th>학력</th>\n",
       "      <th>연령</th>\n",
       "      <th>우대사항</th>\n",
       "    </tr>\n",
       "  </thead>\n",
       "  <tbody>\n",
       "    <tr>\n",
       "      <th>0</th>\n",
       "      <td>2023-10-31마감 18일전</td>\n",
       "      <td>1명</td>\n",
       "      <td>매장판매, 매장관리</td>\n",
       "      <td>성별무관</td>\n",
       "      <td>고등학교 졸업 이상</td>\n",
       "      <td>연령무관</td>\n",
       "      <td>유사업무 경험 우대, 인근 거주 우대</td>\n",
       "    </tr>\n",
       "    <tr>\n",
       "      <th>0</th>\n",
       "      <td>상시모집</td>\n",
       "      <td>4명친구와 함께 근무 가능</td>\n",
       "      <td>신체강사, 음악강사, 교구강사, 미술강사</td>\n",
       "      <td>성별무관</td>\n",
       "      <td>학력무관</td>\n",
       "      <td>연령무관</td>\n",
       "      <td>차량소지, 유사업무 경험 우대</td>\n",
       "    </tr>\n",
       "    <tr>\n",
       "      <th>0</th>\n",
       "      <td>상시모집</td>\n",
       "      <td>00명(인원미정)</td>\n",
       "      <td>NaN</td>\n",
       "      <td>성별무관</td>\n",
       "      <td>고등학교 졸업 이상</td>\n",
       "      <td>연령무관</td>\n",
       "      <td>유사업무 경험 우대, 인근 거주 우대</td>\n",
       "    </tr>\n",
       "    <tr>\n",
       "      <th>0</th>\n",
       "      <td>상시모집</td>\n",
       "      <td>00명(인원미정)</td>\n",
       "      <td>NaN</td>\n",
       "      <td>성별무관</td>\n",
       "      <td>학력무관</td>\n",
       "      <td>연령무관</td>\n",
       "      <td>유사업무 경험 우대, 인근 거주 우대</td>\n",
       "    </tr>\n",
       "  </tbody>\n",
       "</table>\n",
       "</div>"
      ],
      "text/plain": [
       "                모집마감            모집인원                    모집분야    성별   \n",
       "0  2023-10-31마감 18일전              1명              매장판매, 매장관리  성별무관  \\\n",
       "0               상시모집  4명친구와 함께 근무 가능  신체강사, 음악강사, 교구강사, 미술강사  성별무관   \n",
       "0               상시모집       00명(인원미정)                     NaN  성별무관   \n",
       "0               상시모집       00명(인원미정)                     NaN  성별무관   \n",
       "\n",
       "           학력    연령                  우대사항  \n",
       "0  고등학교 졸업 이상  연령무관  유사업무 경험 우대, 인근 거주 우대  \n",
       "0        학력무관  연령무관      차량소지, 유사업무 경험 우대  \n",
       "0  고등학교 졸업 이상  연령무관  유사업무 경험 우대, 인근 거주 우대  \n",
       "0        학력무관  연령무관  유사업무 경험 우대, 인근 거주 우대  "
      ]
     },
     "execution_count": 18,
     "metadata": {},
     "output_type": "execute_result"
    }
   ],
   "source": [
    "df"
   ]
  },
  {
   "cell_type": "code",
   "execution_count": 2,
   "id": "bad83408",
   "metadata": {},
   "outputs": [
    {
     "data": {
      "text/plain": [
       "'(주)룸페커 대전노은 직영점 매장 시니어 정직원 구인'"
      ]
     },
     "execution_count": 2,
     "metadata": {},
     "output_type": "execute_result"
    }
   ],
   "source": [
    "h1_sel = '#__next main header h1'\n",
    "soup.select(h1_sel)[0].text"
   ]
  },
  {
   "cell_type": "code",
   "execution_count": 15,
   "id": "68fb0f74",
   "metadata": {},
   "outputs": [
    {
     "data": {
      "text/html": [
       "<div>\n",
       "<style scoped>\n",
       "    .dataframe tbody tr th:only-of-type {\n",
       "        vertical-align: middle;\n",
       "    }\n",
       "\n",
       "    .dataframe tbody tr th {\n",
       "        vertical-align: top;\n",
       "    }\n",
       "\n",
       "    .dataframe thead th {\n",
       "        text-align: right;\n",
       "    }\n",
       "</style>\n",
       "<table border=\"1\" class=\"dataframe\">\n",
       "  <thead>\n",
       "    <tr style=\"text-align: right;\">\n",
       "      <th></th>\n",
       "      <th>모집마감</th>\n",
       "      <th>모집인원</th>\n",
       "      <th>모집분야</th>\n",
       "      <th>성별</th>\n",
       "      <th>학력</th>\n",
       "      <th>연령</th>\n",
       "      <th>우대사항</th>\n",
       "    </tr>\n",
       "  </thead>\n",
       "  <tbody>\n",
       "    <tr>\n",
       "      <th>0</th>\n",
       "      <td>2023-10-31마감 18일전</td>\n",
       "      <td>1명</td>\n",
       "      <td>매장판매, 매장관리</td>\n",
       "      <td>성별무관</td>\n",
       "      <td>고등학교 졸업 이상</td>\n",
       "      <td>연령무관</td>\n",
       "      <td>유사업무 경험 우대, 인근 거주 우대</td>\n",
       "    </tr>\n",
       "  </tbody>\n",
       "</table>\n",
       "</div>"
      ],
      "text/plain": [
       "                모집마감 모집인원        모집분야    성별          학력    연령   \n",
       "0  2023-10-31마감 18일전   1명  매장판매, 매장관리  성별무관  고등학교 졸업 이상  연령무관  \\\n",
       "\n",
       "                   우대사항  \n",
       "0  유사업무 경험 우대, 인근 거주 우대  "
      ]
     },
     "execution_count": 15,
     "metadata": {},
     "output_type": "execute_result"
    }
   ],
   "source": [
    "df = pd.DataFrame([condition])\n",
    "df"
   ]
  },
  {
   "cell_type": "code",
   "execution_count": 4,
   "id": "2424cf78",
   "metadata": {},
   "outputs": [
    {
     "data": {
      "text/html": [
       "<div>\n",
       "<style scoped>\n",
       "    .dataframe tbody tr th:only-of-type {\n",
       "        vertical-align: middle;\n",
       "    }\n",
       "\n",
       "    .dataframe tbody tr th {\n",
       "        vertical-align: top;\n",
       "    }\n",
       "\n",
       "    .dataframe thead th {\n",
       "        text-align: right;\n",
       "    }\n",
       "</style>\n",
       "<table border=\"1\" class=\"dataframe\">\n",
       "  <thead>\n",
       "    <tr style=\"text-align: right;\">\n",
       "      <th></th>\n",
       "      <th>모집마감</th>\n",
       "      <th>모집인원</th>\n",
       "      <th>모집분야</th>\n",
       "      <th>성별</th>\n",
       "      <th>학력</th>\n",
       "      <th>연령</th>\n",
       "      <th>우대사항</th>\n",
       "    </tr>\n",
       "  </thead>\n",
       "  <tbody>\n",
       "  </tbody>\n",
       "</table>\n",
       "</div>"
      ],
      "text/plain": [
       "Empty DataFrame\n",
       "Columns: [모집마감, 모집인원, 모집분야, 성별, 학력, 연령, 우대사항]\n",
       "Index: []"
      ]
     },
     "execution_count": 4,
     "metadata": {},
     "output_type": "execute_result"
    }
   ],
   "source": [
    "df = pd.DataFrame(columns = ['모집마감', '모집인원', '모집분야', '성별', '학력', '연령', '우대사항'])\n",
    "df"
   ]
  },
  {
   "cell_type": "code",
   "execution_count": 5,
   "id": "ae3a1e1c",
   "metadata": {},
   "outputs": [
    {
     "data": {
      "text/plain": [
       "<div class=\"detail-recruit-company-info__container\"><div class=\"detail-recruit-company-info__header\"><div class=\"detail-recruit-company-info__logo\"><span class=\"Image_custom-image__JueAF Image_custom-image--intrinsic__fiykE Image_custom-image--has-ratio__mofeE\" style=\"aspect-ratio:128 / 51\"><img alt=\"㈜룸페커 기업 로고\" class=\"\" height=\"51\" loading=\"lazy\" src=\"https://file.albamon.com/Albamon/Recruit/Photo/C-Photo-View?FN=2015\\3\\JK_CO_roompacker.jpg\" width=\"128\"/></span></div><div class=\"detail-recruit-company-info__company detail-recruit-company-info__content\"><h3 class=\"Typography_typography__53V55 Typography_typography--H2__gs0RN Typography_typography--medium__EuyrE detail-recruit-company-info__name\">㈜룸페커</h3><div class=\"detail-recruit-company-info__chips\"><div class=\"DetailInsurance_detail-insurance__15LYE\"><span class=\"Chip_accent__HOga1 Chip_radius4__ZvHrI Chip_light-filled__h9o_m Chip_chip__7EkHk\"><span class=\"Chip_content__J_ZRW chip-content\">고용보험</span></span><span class=\"Chip_secondary-green__0uQtN Chip_radius4__ZvHrI Chip_light-filled__h9o_m Chip_chip__7EkHk\"><span class=\"Chip_content__J_ZRW chip-content\">산재보험</span></span><span class=\"Chip_primary__yt3yq Chip_radius4__ZvHrI Chip_light-filled__h9o_m Chip_chip__7EkHk\"><span class=\"Chip_content__J_ZRW chip-content\">국민연금</span></span><span class=\"Chip_negative-red__YwGNP Chip_radius4__ZvHrI Chip_light-filled__h9o_m Chip_chip__7EkHk\"><span class=\"Chip_content__J_ZRW chip-content\">건강보험</span></span><div class=\"detail-insurance__company-tooltip\"><div class=\"Tooltip_tooltip-wrap__0p1sG\" tabindex=\"-1\"><button aria-expanded=\"false\" data-tooltip-target=\"true\" type=\"button\"><i aria-hidden=\"true\" class=\"Icon_icon__BlZpj icon-system_tooltip1\"></i></button><div class=\"tooltip tooltip-box-type detail-insurance__company-tooltip-box\" role=\"tooltip\"><div class=\"tooltip-inner bottom-start\" style=\"transform:translate(0px,100%)\"><div class=\"tooltip-box\"><div class=\"tooltip-content\"><div><p class=\"Typography_typography__53V55 Typography_typography--C1__LW8bB Typography_typography--bold__BbU7t tooltip-title\">정보제공·근로복지공단</p><p class=\"Typography_typography__53V55 Typography_typography--C1__LW8bB Typography_typography--medium__EuyrE\">4대 사회보험 지원여부는 채용공고 및 고용형태에 따라 상이할 수 있습니다.</p></div></div><button class=\"tooltip-close-button\" type=\"button\"><i aria-hidden=\"true\" class=\"Icon_icon__BlZpj icon-system_close\"></i></button><div class=\"tooltip-box__arrow\"></div></div></div></div></div></div></div></div></div><button class=\"Button_button__S9rjD Button_contained__DJSrI Button_large___Kecx Button_secondary__TsNNa Button_has-start-icon__B9L4D\" type=\"button\"><i aria-hidden=\"true\" class=\"Icon_icon__BlZpj icon-system_heart\"></i><span class=\"Typography_typography__53V55 Typography_typography--B2__60_O6 Typography_typography--medium__EuyrE\">관심기업 <!-- -->45</span></button></div><hr class=\"Divider_container__P3NRl Divider_color-Gray100__lmjBc Divider_orientation-horizontal__x13gE variant-full Divider_margin-20__XycP5 gutter-0\"/><div class=\"detail-recruit-company-info-information detail-recruit-company-info__content\"><div class=\"detail-recruit-company-info-information__item\"><span class=\"Typography_typography__53V55 Typography_typography--B2__60_O6 Typography_typography--regular__qCojp detail-recruit-company-info-information__title\">대표</span><span class=\"Typography_typography__53V55 Typography_typography--B2__60_O6 Typography_typography--regular__qCojp detail-recruit-company-info-information__description\">이상은</span></div><div class=\"detail-recruit-company-info-information__item\"><span class=\"Typography_typography__53V55 Typography_typography--B2__60_O6 Typography_typography--regular__qCojp detail-recruit-company-info-information__title\">사업내용</span><span class=\"Typography_typography__53V55 Typography_typography--B2__60_O6 Typography_typography--regular__qCojp detail-recruit-company-info-information__description\">여성의류 온라인 쇼핑몰 / 매장</span></div><div class=\"detail-recruit-company-info-information__item\"><span class=\"Typography_typography__53V55 Typography_typography--B2__60_O6 Typography_typography--regular__qCojp detail-recruit-company-info-information__title\">회사주소</span><span class=\"Typography_typography__53V55 Typography_typography--B2__60_O6 Typography_typography--regular__qCojp detail-recruit-company-info__address\">서울 송파구 오금로 111 (방이동, 세기빌딩) 세기빌딩 10층</span></div><div class=\"detail-recruit-company-info-information__item\"><span class=\"Typography_typography__53V55 Typography_typography--B2__60_O6 Typography_typography--regular__qCojp detail-recruit-company-info-information__title\">홈페이지</span><div class=\"detail-recruit-company-info__homepage\"><a href=\"http://www.roompacker.co.kr\" rel=\"noopener nofollow noindex noreferrer\" target=\"_blank\" title=\"새 창\"><span class=\"Typography_typography__53V55 Typography_typography--B2__60_O6 Typography_typography--regular__qCojp\">http://www.roompacker.co.kr</span></a></div></div></div></div>"
      ]
     },
     "execution_count": 5,
     "metadata": {},
     "output_type": "execute_result"
    }
   ],
   "source": [
    "h2.parent.parent.next_sibling"
   ]
  },
  {
   "cell_type": "code",
   "execution_count": null,
   "id": "43f89da0",
   "metadata": {},
   "outputs": [],
   "source": [
    "soup.select(h2_sel)"
   ]
  },
  {
   "cell_type": "code",
   "execution_count": null,
   "id": "1f8072e4",
   "metadata": {},
   "outputs": [],
   "source": [
    "import pandas as pd\n",
    "import numpy as np\n",
    " \n",
    "from tqdm import tqdm\n",
    "def generate_df(num_col,num_row):\n",
    "    df = pd.DataFrame()\n",
    "    for x in range(num_col):\n",
    "        df[x] = np.random.normal(size=num_row)\n",
    "    return df"
   ]
  },
  {
   "cell_type": "code",
   "execution_count": null,
   "id": "254fd2d0",
   "metadata": {},
   "outputs": [],
   "source": [
    "df1= generate_df(3,5)\n",
    "df1"
   ]
  },
  {
   "cell_type": "code",
   "execution_count": null,
   "id": "b2873aa6",
   "metadata": {},
   "outputs": [],
   "source": [
    "df2= pd.DataFrame()\n",
    "df3= pd.concat([df2, df1], axis=0)\n",
    "df3"
   ]
  },
  {
   "cell_type": "code",
   "execution_count": null,
   "id": "fa4dbff2",
   "metadata": {},
   "outputs": [],
   "source": [
    "df_base = pd.DataFrame(pd.Series([],dtype=pd.StringDtype(), name='parameter')).set_index('parameter')\n",
    "df_base"
   ]
  },
  {
   "cell_type": "code",
   "execution_count": null,
   "id": "5222de57",
   "metadata": {},
   "outputs": [],
   "source": [
    "!pip install tqdm"
   ]
  },
  {
   "cell_type": "code",
   "execution_count": null,
   "id": "174b03f0",
   "metadata": {},
   "outputs": [],
   "source": [
    "n = 30\n",
    "num_col = 200\n",
    "num_row = 100000"
   ]
  },
  {
   "cell_type": "code",
   "execution_count": null,
   "id": "61b7205c",
   "metadata": {},
   "outputs": [],
   "source": [
    "# %%time\n",
    "np.random.seed(133)\n",
    " \n",
    "res_df = generate_df(num_col,num_row)\n",
    "for i in tqdm(range(n-1),total=n-1):\n",
    "    temp_df = generate_df(num_col,num_row)\n",
    "    res_df = res_df.append(temp_df, ignore_index=True)"
   ]
  },
  {
   "cell_type": "code",
   "execution_count": null,
   "id": "c6c57a98",
   "metadata": {},
   "outputs": [],
   "source": [
    "np.random.seed(133)\n",
    " \n",
    "res_df = pd.DataFrame()\n",
    "for i in tqdm(range(n),total=n):\n",
    "    temp_df = generate_df(num_col,num_row)\n",
    "    res_df = pd.concat([res_df,temp_df], ignore_index=True)\n"
   ]
  },
  {
   "cell_type": "code",
   "execution_count": null,
   "id": "20f2fe1b",
   "metadata": {},
   "outputs": [],
   "source": []
  }
 ],
 "metadata": {
  "kernelspec": {
   "display_name": "Python 3 (ipykernel)",
   "language": "python",
   "name": "python3"
  },
  "language_info": {
   "codemirror_mode": {
    "name": "ipython",
    "version": 3
   },
   "file_extension": ".py",
   "mimetype": "text/x-python",
   "name": "python",
   "nbconvert_exporter": "python",
   "pygments_lexer": "ipython3",
   "version": "3.9.1"
  }
 },
 "nbformat": 4,
 "nbformat_minor": 5
}
