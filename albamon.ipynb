{
 "cells": [
  {
   "cell_type": "code",
   "execution_count": 1,
   "id": "matched-interview",
   "metadata": {},
   "outputs": [],
   "source": [
    "import datetime\n",
    "import time\n",
    "from datetime import date\n",
    "\n",
    "import pickle\n",
    "\n",
    "import pandas as pd\n",
    "import numpy as np\n",
    "\n",
    "import os\n",
    "import sys\n",
    "import shutil\n",
    "\n",
    "import matplotlib.pyplot as plt"
   ]
  },
  {
   "cell_type": "code",
   "execution_count": 2,
   "id": "bfd56db1",
   "metadata": {},
   "outputs": [],
   "source": [
    "from selenium import webdriver as wd\n",
    "from selenium.webdriver.common.keys import Keys\n",
    "from selenium.webdriver.common.by import By\n",
    "from selenium.webdriver.chrome.service import Service\n",
    "from selenium.webdriver.support.ui import WebDriverWait\n",
    "from selenium.webdriver.support import expected_conditions as EC\n",
    "from webdriver_manager.chrome import ChromeDriverManager\n",
    "from selenium.webdriver import ActionChains # scroll down 사용하기 위하여 선서\n",
    "\n",
    "from bs4 import BeautifulSoup as bs\n",
    "import requests"
   ]
  },
  {
   "cell_type": "code",
   "execution_count": 23,
   "id": "ca0677d4",
   "metadata": {},
   "outputs": [],
   "source": [
    "def collect_info(soup):\n",
    "    condition = {}\n",
    "    condition['회사명'] = soup.head.title.text[:-6]\n",
    "    h2_sel = '#__next main div.title-form__group > h2'\n",
    "    for h2 in soup.select(h2_sel):\n",
    "#         print(h2.text)\n",
    "        if h2.text == '모집조건':\n",
    "            dl_dd = h2.parent.parent.next_sibling.select('dl')\n",
    "            for dd in dl_dd:\n",
    "#                 print(\"***\", dd.dt.text, \"---\", dd.dd.text)\n",
    "                condition[dd.dt.text] = dd.dd.text\n",
    "        if h2.text == '근무지역':\n",
    "            dl_dd = h2.parent.parent.parent.select('p')\n",
    "#             print(\"ppp\", dl_dd)\n",
    "            for dd in dl_dd:\n",
    "#                 print(\"***\", '근무지역', \"---\", dd.text)\n",
    "                condition['근무지역'] = dd.text\n",
    "            \n",
    "    return condition"
   ]
  },
  {
   "cell_type": "code",
   "execution_count": 4,
   "id": "b7c4fb11",
   "metadata": {},
   "outputs": [],
   "source": [
    "service = Service(r\"116/chromedriver.exe\")\n",
    "options = wd.ChromeOptions()\n",
    "driver = wd.Chrome(service=service, options=options)"
   ]
  },
  {
   "cell_type": "code",
   "execution_count": 5,
   "id": "d36e5efe",
   "metadata": {},
   "outputs": [],
   "source": [
    "url = 'https://www.albamon.com/'\n",
    "driver.get(url)\n",
    "# driver.maximize_window()"
   ]
  },
  {
   "cell_type": "code",
   "execution_count": 6,
   "id": "a3bf8855",
   "metadata": {},
   "outputs": [],
   "source": [
    "q_sel = '#__next header form > div > div > div > input[type=text]'\n",
    "q_element = driver.find_element(By.CSS_SELECTOR, q_sel) # 검색 창 element 선택"
   ]
  },
  {
   "cell_type": "code",
   "execution_count": 7,
   "id": "10969867",
   "metadata": {},
   "outputs": [],
   "source": [
    "q_element.clear()\n",
    "q_element.send_keys('시니어') # 검색어 입력\n",
    "q_element.send_keys(Keys.ENTER)"
   ]
  },
  {
   "cell_type": "code",
   "execution_count": 8,
   "id": "20f33abb",
   "metadata": {},
   "outputs": [],
   "source": [
    "# 검색 결과 갯수\n",
    "num_s = driver.find_element(By.CSS_SELECTOR,'#__next  main div.list-header__item > span > strong').text.strip()\n",
    "num_search = int(num_s)\n",
    "\n",
    "# 페이지 갯수\n",
    "num_page = divmod(num_search, 50)[0] + 1  # 몫에 1을 더함."
   ]
  },
  {
   "cell_type": "code",
   "execution_count": 9,
   "id": "0e827131",
   "metadata": {},
   "outputs": [],
   "source": [
    "driver.find_element(By.ID, 'select-size').click() # 한 페이지에 최대 갯수 선택\n",
    "driver.find_element(By.ID, 'option-button--3').click() # 최대 50개 선택"
   ]
  },
  {
   "cell_type": "code",
   "execution_count": 10,
   "id": "591ce271",
   "metadata": {},
   "outputs": [],
   "source": [
    "# button = \"#__next  main button[type=button][aria-current]\"  # 하단의 페이지 갯수 번호 최대 5개씩 표현됨.\n",
    "# b_element = driver.find_elements(By.CSS_SELECTOR, button)"
   ]
  },
  {
   "cell_type": "code",
   "execution_count": 11,
   "id": "9b9042f3",
   "metadata": {},
   "outputs": [],
   "source": [
    "url_ = []\n",
    "button = \"#__next  main button[type=button][aria-current]\" # 하단의 페이지 갯수 번호 최대 5개씩 표현됨.\n",
    "b_element = driver.find_elements(By.CSS_SELECTOR, button)  # 페이지가 변할 때마다 지정을 해 줘야 함. \n",
    "for i in range(0, num_page):\n",
    "    time.sleep(2)\n",
    "    button = \"#__next  main button[type=button][aria-current]\" # 하단의 페이지 갯수 번호 최대 5개씩 표현됨.\n",
    "    b_element = driver.find_elements(By.CSS_SELECTOR, button)  # 페이지가 변할 때마다 지정을 해 줘야 함. \n",
    "    b_element[i].click()\n",
    "#     driver.refresh()\n",
    "    time.sleep(2)\n",
    "    \n",
    "    url_sel = '#__next main ul.SimpleRecruitList_simple-recruit-list__ul__5KKhf li a[target=_self]'\n",
    "    url_element = driver.find_elements(By.CSS_SELECTOR, url_sel) # https: 기 있는 모든 tag a target='_self' 선택\n",
    "    \n",
    "    # 한 페이지에 있는 최대 갯수 50개 url 선택\n",
    "    for u in url_element:\n",
    "        url_.append(u.get_attribute('href'))"
   ]
  },
  {
   "cell_type": "code",
   "execution_count": 12,
   "id": "9acc0943",
   "metadata": {},
   "outputs": [
    {
     "data": {
      "text/plain": [
       "140"
      ]
     },
     "execution_count": 12,
     "metadata": {},
     "output_type": "execute_result"
    }
   ],
   "source": [
    "len(url_)"
   ]
  },
  {
   "cell_type": "code",
   "execution_count": 32,
   "id": "8c567b6c",
   "metadata": {},
   "outputs": [],
   "source": [
    "column_sel = ['회사명', '모집마감', '모집인원', '모집분야', '근무지역', '성별', '학력', '연령', '우대사항']\n",
    "df_con = pd.DataFrame(columns = column_sel)\n",
    "\n",
    "for url in url_:\n",
    "    r = requests.get(url)\n",
    "    html = r.content\n",
    "    soup = bs(html, 'html.parser')\n",
    "    df_temp = pd.DataFrame([collect_info(soup)])\n",
    "    df_con = pd.concat([df_con, df_temp])\n",
    "    \n",
    "df_con.set_index(np.arange(len(df_con.index)), inplace=True)"
   ]
  },
  {
   "cell_type": "code",
   "execution_count": 33,
   "id": "8c51b547",
   "metadata": {},
   "outputs": [
    {
     "data": {
      "text/html": [
       "<div>\n",
       "<style scoped>\n",
       "    .dataframe tbody tr th:only-of-type {\n",
       "        vertical-align: middle;\n",
       "    }\n",
       "\n",
       "    .dataframe tbody tr th {\n",
       "        vertical-align: top;\n",
       "    }\n",
       "\n",
       "    .dataframe thead th {\n",
       "        text-align: right;\n",
       "    }\n",
       "</style>\n",
       "<table border=\"1\" class=\"dataframe\">\n",
       "  <thead>\n",
       "    <tr style=\"text-align: right;\">\n",
       "      <th></th>\n",
       "      <th>회사명</th>\n",
       "      <th>모집마감</th>\n",
       "      <th>모집인원</th>\n",
       "      <th>모집분야</th>\n",
       "      <th>근무지역</th>\n",
       "      <th>성별</th>\n",
       "      <th>학력</th>\n",
       "      <th>연령</th>\n",
       "      <th>우대사항</th>\n",
       "    </tr>\n",
       "  </thead>\n",
       "  <tbody>\n",
       "    <tr>\n",
       "      <th>135</th>\n",
       "      <td>[㈜고양시니어] | [행복한요양원 장기점] - (상담)사회복지사 채용</td>\n",
       "      <td>2023-11-26마감 45일전</td>\n",
       "      <td>1명</td>\n",
       "      <td>NaN</td>\n",
       "      <td>경기 김포시 전체</td>\n",
       "      <td>성별무관</td>\n",
       "      <td>대학(2,3년제) 졸업 이상</td>\n",
       "      <td>연령무관</td>\n",
       "      <td>NaN</td>\n",
       "    </tr>\n",
       "    <tr>\n",
       "      <th>136</th>\n",
       "      <td>[㈜커넥트웰] | 콘텐츠기획/관리 직원 채용합니다.[유아-시니어콘텐츠]</td>\n",
       "      <td>상시모집</td>\n",
       "      <td>0명(인원미정)</td>\n",
       "      <td>NaN</td>\n",
       "      <td>경기 용인시 기흥구 전체</td>\n",
       "      <td>성별무관</td>\n",
       "      <td>대학(4년제) 졸업 이상</td>\n",
       "      <td>연령무관</td>\n",
       "      <td>NaN</td>\n",
       "    </tr>\n",
       "    <tr>\n",
       "      <th>137</th>\n",
       "      <td>[캉골키즈 롯데 중동점] | 캉골키즈 함께 일할 시니어 구인합니다.</td>\n",
       "      <td>2023-10-22마감 10일전</td>\n",
       "      <td>1명</td>\n",
       "      <td>NaN</td>\n",
       "      <td>경기 부천시 전체</td>\n",
       "      <td>성별무관</td>\n",
       "      <td>학력무관</td>\n",
       "      <td>연령무관</td>\n",
       "      <td>NaN</td>\n",
       "    </tr>\n",
       "    <tr>\n",
       "      <th>138</th>\n",
       "      <td>[㈜세스코] | (주)세스코 인천동부지사 시니어 인력(서비스 보조 SCA) 모집</td>\n",
       "      <td>2023-10-18마감 6일전</td>\n",
       "      <td>0명(인원미정)</td>\n",
       "      <td>NaN</td>\n",
       "      <td>인천 연수구 전체</td>\n",
       "      <td>성별무관</td>\n",
       "      <td>학력무관</td>\n",
       "      <td>연령무관</td>\n",
       "      <td>NaN</td>\n",
       "    </tr>\n",
       "    <tr>\n",
       "      <th>139</th>\n",
       "      <td>[분당시니어] | [분당 행복한요양원(2관)] - 경력 사회복지사(사회복지팀장급) 채용</td>\n",
       "      <td>2023-10-18마감 6일전</td>\n",
       "      <td>0명(인원미정)</td>\n",
       "      <td>NaN</td>\n",
       "      <td>경기 광주시 전체</td>\n",
       "      <td>성별무관</td>\n",
       "      <td>대학(2,3년제) 졸업 이상</td>\n",
       "      <td>연령무관</td>\n",
       "      <td>NaN</td>\n",
       "    </tr>\n",
       "  </tbody>\n",
       "</table>\n",
       "</div>"
      ],
      "text/plain": [
       "                                                  회사명               모집마감  \\\n",
       "135            [㈜고양시니어] | [행복한요양원 장기점] - (상담)사회복지사 채용  2023-11-26마감 45일전   \n",
       "136           [㈜커넥트웰] | 콘텐츠기획/관리 직원 채용합니다.[유아-시니어콘텐츠]               상시모집   \n",
       "137            [캉골키즈 롯데 중동점] | 캉골키즈 함께 일할 시니어 구인합니다.   2023-10-22마감 10일전   \n",
       "138      [㈜세스코] | (주)세스코 인천동부지사 시니어 인력(서비스 보조 SCA) 모집   2023-10-18마감 6일전   \n",
       "139  [분당시니어] | [분당 행복한요양원(2관)] - 경력 사회복지사(사회복지팀장급) 채용   2023-10-18마감 6일전   \n",
       "\n",
       "         모집인원 모집분야           근무지역    성별               학력    연령 우대사항  \n",
       "135        1명  NaN      경기 김포시 전체  성별무관  대학(2,3년제) 졸업 이상  연령무관  NaN  \n",
       "136  0명(인원미정)  NaN  경기 용인시 기흥구 전체  성별무관    대학(4년제) 졸업 이상  연령무관  NaN  \n",
       "137        1명  NaN      경기 부천시 전체  성별무관             학력무관  연령무관  NaN  \n",
       "138  0명(인원미정)  NaN      인천 연수구 전체  성별무관             학력무관  연령무관  NaN  \n",
       "139  0명(인원미정)  NaN      경기 광주시 전체  성별무관  대학(2,3년제) 졸업 이상  연령무관  NaN  "
      ]
     },
     "execution_count": 33,
     "metadata": {},
     "output_type": "execute_result"
    }
   ],
   "source": [
    "df_con.tail()"
   ]
  },
  {
   "cell_type": "code",
   "execution_count": null,
   "id": "88c773d8",
   "metadata": {},
   "outputs": [],
   "source": []
  }
 ],
 "metadata": {
  "kernelspec": {
   "display_name": "Python 3 (ipykernel)",
   "language": "python",
   "name": "python3"
  },
  "language_info": {
   "codemirror_mode": {
    "name": "ipython",
    "version": 3
   },
   "file_extension": ".py",
   "mimetype": "text/x-python",
   "name": "python",
   "nbconvert_exporter": "python",
   "pygments_lexer": "ipython3",
   "version": "3.10.7"
  }
 },
 "nbformat": 4,
 "nbformat_minor": 5
}
