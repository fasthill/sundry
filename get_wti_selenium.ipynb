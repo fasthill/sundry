{
 "cells": [
  {
   "cell_type": "code",
   "execution_count": 75,
   "id": "b6071c61",
   "metadata": {},
   "outputs": [],
   "source": [
    "from selenium import webdriver as wd\n",
    "from bs4 import BeautifulSoup as bs\n",
    "import time\n",
    "import os, sys"
   ]
  },
  {
   "cell_type": "code",
   "execution_count": 48,
   "id": "983181b0",
   "metadata": {},
   "outputs": [
    {
     "data": {
      "text/plain": [
       "'c:\\\\users\\\\user\\\\appdata\\\\local\\\\programs\\\\python\\\\python39\\\\lib\\\\site-packages\\\\chromedriver_autoinstaller\\\\101\\\\chromedriver.exe'"
      ]
     },
     "execution_count": 48,
     "metadata": {},
     "output_type": "execute_result"
    }
   ],
   "source": [
    "# !pip install chromedriver_autoinstaller\n",
    "\n",
    "import chromedriver_autoinstaller\n",
    "\n",
    "chromedriver_autoinstaller.install()  # Check if the current version of chromedriver exists\n",
    "                                      # and if it doesn't exist, download it automatically,\n",
    "                                      # then add chromedriver to path"
   ]
  },
  {
   "cell_type": "code",
   "execution_count": 64,
   "id": "28cd94a6",
   "metadata": {},
   "outputs": [],
   "source": [
    "time.sleep(1)\n",
    "# driver = webdriver.Chrome()\n",
    "# driver.get(\"http://www.python.org\")\n",
    "# assert \"Python\" in driver.title\n",
    "\n",
    "cd_path = 'C:/Users/user/AppData/Local/Programs/Python/Python39/Lib/site-packages/chromedriver_autoinstaller/94/'\n",
    "main_url = 'https://kr.investing.com/commodities/crude-oil-historical-data'\n",
    "\n",
    "if getattr(sys, 'frozen', False ):\n",
    "   # chromedriver_path = os.path.join(sys._MEIPASS, cd_path+\"chromedriver.exe\")\n",
    "    chromedriver_path = os.path.join(sys._MEIPASS,cd_path+ \"chromedriver.exe\")\n",
    "    #chromedriver_path = cd_path+\"chromedriver.exe\"\n",
    "    driver = wd.Chrome(chromedriver_path)\n",
    "else:\n",
    "    driver = wd.Chrome()"
   ]
  },
  {
   "cell_type": "code",
   "execution_count": 65,
   "id": "29e69d53",
   "metadata": {},
   "outputs": [],
   "source": [
    "# driver.set_window_position(-10000,0) # hide windows\n",
    "driver.get(main_url)\n",
    "time.sleep(1)"
   ]
  },
  {
   "cell_type": "code",
   "execution_count": 66,
   "id": "49e9ae39",
   "metadata": {},
   "outputs": [],
   "source": [
    "driver.find_element_by_css_selector('#userAccount > div > a.login.bold').click() \n",
    "# driver.find_element_by_id('userAccount').send_keys('A03185')\n",
    "#userAccount > div > a.login.bold\n",
    "time.sleep(1)"
   ]
  },
  {
   "cell_type": "code",
   "execution_count": 67,
   "id": "3d8ff817",
   "metadata": {},
   "outputs": [],
   "source": [
    "driver.find_element_by_id('loginForm_password').clear()\n",
    "driver.find_element_by_id('loginFormUser_email').send_keys('kangeun@naver.com')\n",
    "time.sleep(1)"
   ]
  },
  {
   "cell_type": "code",
   "execution_count": 68,
   "id": "7c45a02d",
   "metadata": {},
   "outputs": [],
   "source": [
    "driver.find_element_by_id('loginForm_password').clear()\n",
    "driver.find_element_by_id('loginForm_password').send_keys('@investing93')\n",
    "time.sleep(1)"
   ]
  },
  {
   "cell_type": "code",
   "execution_count": 69,
   "id": "df41a0c8",
   "metadata": {},
   "outputs": [],
   "source": [
    "driver.find_element_by_css_selector('#signup > a.newButton.orange').click()  \n",
    "time.sleep(2)"
   ]
  },
  {
   "cell_type": "code",
   "execution_count": 76,
   "id": "c39c22cc",
   "metadata": {},
   "outputs": [
    {
     "ename": "KeyError",
     "evalue": "'investing_pass'",
     "output_type": "error",
     "traceback": [
      "\u001b[1;31m---------------------------------------------------------------------------\u001b[0m",
      "\u001b[1;31mKeyError\u001b[0m                                  Traceback (most recent call last)",
      "\u001b[1;32m<ipython-input-76-21356ddb48ed>\u001b[0m in \u001b[0;36m<module>\u001b[1;34m\u001b[0m\n\u001b[1;32m----> 1\u001b[1;33m \u001b[0mos\u001b[0m\u001b[1;33m.\u001b[0m\u001b[0menviron\u001b[0m\u001b[1;33m[\u001b[0m\u001b[1;34m'investing_pass'\u001b[0m\u001b[1;33m]\u001b[0m\u001b[1;33m\u001b[0m\u001b[1;33m\u001b[0m\u001b[0m\n\u001b[0m",
      "\u001b[1;32mc:\\users\\user\\appdata\\local\\programs\\python\\python39\\lib\\os.py\u001b[0m in \u001b[0;36m__getitem__\u001b[1;34m(self, key)\u001b[0m\n\u001b[0;32m    677\u001b[0m         \u001b[1;32mexcept\u001b[0m \u001b[0mKeyError\u001b[0m\u001b[1;33m:\u001b[0m\u001b[1;33m\u001b[0m\u001b[1;33m\u001b[0m\u001b[0m\n\u001b[0;32m    678\u001b[0m             \u001b[1;31m# raise KeyError with the original key value\u001b[0m\u001b[1;33m\u001b[0m\u001b[1;33m\u001b[0m\u001b[1;33m\u001b[0m\u001b[0m\n\u001b[1;32m--> 679\u001b[1;33m             \u001b[1;32mraise\u001b[0m \u001b[0mKeyError\u001b[0m\u001b[1;33m(\u001b[0m\u001b[0mkey\u001b[0m\u001b[1;33m)\u001b[0m \u001b[1;32mfrom\u001b[0m \u001b[1;32mNone\u001b[0m\u001b[1;33m\u001b[0m\u001b[1;33m\u001b[0m\u001b[0m\n\u001b[0m\u001b[0;32m    680\u001b[0m         \u001b[1;32mreturn\u001b[0m \u001b[0mself\u001b[0m\u001b[1;33m.\u001b[0m\u001b[0mdecodevalue\u001b[0m\u001b[1;33m(\u001b[0m\u001b[0mvalue\u001b[0m\u001b[1;33m)\u001b[0m\u001b[1;33m\u001b[0m\u001b[1;33m\u001b[0m\u001b[0m\n\u001b[0;32m    681\u001b[0m \u001b[1;33m\u001b[0m\u001b[0m\n",
      "\u001b[1;31mKeyError\u001b[0m: 'investing_pass'"
     ]
    }
   ],
   "source": [
    "os.environ['investing_pass']"
   ]
  },
  {
   "cell_type": "code",
   "execution_count": 72,
   "id": "6d2bd378",
   "metadata": {},
   "outputs": [
    {
     "data": {
      "text/plain": [
       "'@qowoeo23'"
      ]
     },
     "execution_count": 72,
     "metadata": {},
     "output_type": "execute_result"
    }
   ],
   "source": [
    "os.environ['mypass']"
   ]
  },
  {
   "cell_type": "code",
   "execution_count": 37,
   "id": "07f9b4be",
   "metadata": {},
   "outputs": [],
   "source": [
    "\n",
    "# driver.find_element_by_id('passwordSigningNotify').send_keys(os.environ['mypass'])\n",
    "\n"
   ]
  },
  {
   "cell_type": "code",
   "execution_count": null,
   "id": "98e8d443",
   "metadata": {},
   "outputs": [],
   "source": [
    "# apikey hide : 고급시스템설정 -> 시스템 속성 -> 환경변수 > 시스템변수 -> 새로만들기 -> 변수명, 값입력\n",
    "# os.environ['변수명'] <- 값을 대체 (비밀번호일 경우 시스템변수 사용)\n",
    "\n"
   ]
  },
  {
   "cell_type": "code",
   "execution_count": 77,
   "id": "114ddf2b",
   "metadata": {},
   "outputs": [],
   "source": [
    "driver.close()\n",
    "driver.quit()"
   ]
  },
  {
   "cell_type": "code",
   "execution_count": null,
   "id": "3c419edb",
   "metadata": {},
   "outputs": [],
   "source": [
    "driver.set_window_position(-10000,0) # hide windows\n",
    "driver.get(main_url)\n",
    "\n",
    "driver.find_element_by_id('userAccount a').send_keys('A03185')\n",
    "# driver.find_element_by_id('userAccount').send_keys('A03185')\n",
    "\n",
    "time.sleep(1)\n",
    "driver.find_element_by_id('input-password').send_keys(os.environ['mypass'])\n",
    "\n",
    "time.sleep(1)\n",
    "driver.find_element_by_css_selector('.btn.btn-success').click()  \n",
    "time.sleep(1)\n",
    "\n",
    "url_lecture_num = ['29578', '29579', '29580', '29581']\n",
    "\n",
    "Initial_path = \"C:/Users/user/Downloads\"\n",
    "filename = []\n",
    "\n",
    "for url_num in url_lecture_num:\n",
    "    url = 'http://course.pcu.ac.kr/report/ubcompletion/progress.php?id=' + url_num\n",
    "    driver.get(url)\n",
    "    time.sleep(1)\n",
    "    driver.find_element_by_css_selector('.btn.btn-success').click()  \n",
    "    time.sleep(1)\n",
    "    filename.append(max([os.path.join(Initial_path, f) for f in os.listdir(Initial_path)], key=os.path.getctime))\n",
    "\n",
    "driver.close()\n",
    "driver.quit()\n",
    "\n",
    "# saved file names = filename\n",
    "\n",
    "\n",
    "# In[ ]:\n"
   ]
  },
  {
   "cell_type": "code",
   "execution_count": null,
   "id": "afebf855",
   "metadata": {},
   "outputs": [],
   "source": []
  },
  {
   "cell_type": "code",
   "execution_count": null,
   "id": "839989f9",
   "metadata": {},
   "outputs": [],
   "source": []
  },
  {
   "cell_type": "code",
   "execution_count": null,
   "id": "16246e75",
   "metadata": {},
   "outputs": [],
   "source": []
  }
 ],
 "metadata": {
  "kernelspec": {
   "display_name": "Python 3",
   "language": "python",
   "name": "python3"
  },
  "language_info": {
   "codemirror_mode": {
    "name": "ipython",
    "version": 3
   },
   "file_extension": ".py",
   "mimetype": "text/x-python",
   "name": "python",
   "nbconvert_exporter": "python",
   "pygments_lexer": "ipython3",
   "version": "3.9.1"
  }
 },
 "nbformat": 4,
 "nbformat_minor": 5
}
