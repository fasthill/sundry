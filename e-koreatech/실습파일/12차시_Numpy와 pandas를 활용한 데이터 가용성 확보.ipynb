{
 "cells": [
  {
   "cell_type": "code",
   "execution_count": 1,
   "metadata": {},
   "outputs": [
    {
     "name": "stdout",
     "output_type": "stream",
     "text": [
      "[1 2 3 4 5]\n"
     ]
    },
    {
     "data": {
      "text/plain": [
       "(5,)"
      ]
     },
     "execution_count": 1,
     "metadata": {},
     "output_type": "execute_result"
    }
   ],
   "source": [
    "import numpy as np\n",
    "\n",
    "#numpy를 사용하기 위해 array 형태로 만들기\n",
    "data1 = [1,2,3,4,5]\n",
    "array1 = np.array(data1)\n",
    "print(array1)\n",
    "\n",
    "# array 의 크기와 형태 확인\n",
    "array1.shape"
   ]
  },
  {
   "cell_type": "code",
   "execution_count": 2,
   "metadata": {},
   "outputs": [
    {
     "name": "stdout",
     "output_type": "stream",
     "text": [
      "[1.  2.  3.  4.  5.5]\n"
     ]
    },
    {
     "data": {
      "text/plain": [
       "(5,)"
      ]
     },
     "execution_count": 2,
     "metadata": {},
     "output_type": "execute_result"
    }
   ],
   "source": [
    "#numpy를 사용하기 위해 array 형태로 만들기\n",
    "# 데이터 유형이 다를경우 - 정수와 실수\n",
    "data2 = [1 , 2 , 3 , 4 , 5.5]\n",
    "array2 = np.array(data2)\n",
    "print(array2)\n",
    "\n",
    "# array 의 크기와 형태 확인\n",
    "array2.shape"
   ]
  },
  {
   "cell_type": "code",
   "execution_count": 3,
   "metadata": {},
   "outputs": [
    {
     "name": "stdout",
     "output_type": "stream",
     "text": [
      "['1' '2' '3' '4' '서진수']\n"
     ]
    },
    {
     "data": {
      "text/plain": [
       "(5,)"
      ]
     },
     "execution_count": 3,
     "metadata": {},
     "output_type": "execute_result"
    }
   ],
   "source": [
    "#numpy를 사용하기 위해 array 형태로 만들기\n",
    "# 데이터 유형이 다를 경우 - 정수와 문자\n",
    "data3 = [1 , 2 , 3 , 4 , '서진수']\n",
    "array3 = np.array(data3)\n",
    "print(array3)\n",
    "\n",
    "# array 의 크기와 형태 확인\n",
    "array3.shape"
   ]
  },
  {
   "cell_type": "code",
   "execution_count": 4,
   "metadata": {},
   "outputs": [
    {
     "name": "stdout",
     "output_type": "stream",
     "text": [
      "[1 2 3 4 5]\n"
     ]
    }
   ],
   "source": [
    "#array() 함수안에 리스트 바로 사용하기\n",
    "array4 = np.array( [1,2,3,4,5] )\n",
    "print(array4)"
   ]
  },
  {
   "cell_type": "code",
   "execution_count": 5,
   "metadata": {},
   "outputs": [
    {
     "name": "stdout",
     "output_type": "stream",
     "text": [
      "array1: int32\n",
      "array2: float64\n",
      "array3: <U11\n",
      "array4: int32\n"
     ]
    }
   ],
   "source": [
    "# 데이터 타입 확인하기\n",
    "print('array1:',array1.dtype)\n",
    "print('array2:',array2.dtype)\n",
    "print('array3:',array3.dtype)\n",
    "print('array4:',array4.dtype)"
   ]
  },
  {
   "cell_type": "code",
   "execution_count": 6,
   "metadata": {},
   "outputs": [
    {
     "name": "stdout",
     "output_type": "stream",
     "text": [
      "[[1 2 3]\n",
      " [3 4 5]\n",
      " [5 6 7]]\n"
     ]
    },
    {
     "data": {
      "text/plain": [
       "(3, 3)"
      ]
     },
     "execution_count": 6,
     "metadata": {},
     "output_type": "execute_result"
    }
   ],
   "source": [
    "# 2차원의 array 생성하기\n",
    "array5 = np.array( [ [1,2,3],[3,4,5],[5,6,7] ])\n",
    "print(array5)\n",
    "\n",
    "array5.shape"
   ]
  },
  {
   "cell_type": "code",
   "execution_count": 7,
   "metadata": {
    "scrolled": true
   },
   "outputs": [
    {
     "name": "stdout",
     "output_type": "stream",
     "text": [
      "[[ 0  1  2]\n",
      " [ 3  4  5]\n",
      " [ 6  7  8]\n",
      " [ 9 10 11]]\n"
     ]
    }
   ],
   "source": [
    "# reshape( ) 함수를 사용하여 차원을 변경하기\n",
    "array6 = np.arange(12).reshape(4,3)\n",
    "print(array6)"
   ]
  },
  {
   "cell_type": "code",
   "execution_count": 8,
   "metadata": {},
   "outputs": [
    {
     "name": "stdout",
     "output_type": "stream",
     "text": [
      "[[ 0  1  2  3  4  5]\n",
      " [ 6  7  8  9 10 11]]\n"
     ]
    }
   ],
   "source": [
    "# reshape( ) 함수를 사용하여 차원을 변경하기\n",
    "array7 = array6.reshape(2,6)\n",
    "print(array7)"
   ]
  },
  {
   "cell_type": "code",
   "execution_count": 9,
   "metadata": {},
   "outputs": [
    {
     "name": "stdout",
     "output_type": "stream",
     "text": [
      "[[ 0]\n",
      " [ 1]\n",
      " [ 2]\n",
      " [ 3]\n",
      " [ 4]\n",
      " [ 5]\n",
      " [ 6]\n",
      " [ 7]\n",
      " [ 8]\n",
      " [ 9]\n",
      " [10]\n",
      " [11]]\n"
     ]
    }
   ],
   "source": [
    "# reshape( ) 함수를 사용하여 차원을 변경하기\n",
    "array8 = array6.reshape(-1,1)\n",
    "print(array8)"
   ]
  },
  {
   "cell_type": "code",
   "execution_count": null,
   "metadata": {},
   "outputs": [],
   "source": [
    "# 참고 : reshape( ) 함수는 원본 데이터를 복사하여 복사본의 형태를 바꾸고 \n",
    "# resize( ) 함수는 원본 데이터를 변경합니다"
   ]
  },
  {
   "cell_type": "code",
   "execution_count": 10,
   "metadata": {},
   "outputs": [
    {
     "name": "stdout",
     "output_type": "stream",
     "text": [
      "[[1 2]\n",
      " [3 4]]\n",
      "[[5 6]\n",
      " [7 8]]\n",
      "\n"
     ]
    }
   ],
   "source": [
    "# array 합치기- vstack( ) / hstack( )\n",
    "array9 = np.array( [ [1,2],[3,4] ])\n",
    "print(array9)\n",
    "\n",
    "array10 = np.array( [ [5,6],[7,8] ])\n",
    "print(array10)\n",
    "print()"
   ]
  },
  {
   "cell_type": "code",
   "execution_count": 11,
   "metadata": {},
   "outputs": [
    {
     "name": "stdout",
     "output_type": "stream",
     "text": [
      "-vstack: \n",
      " [[1 2]\n",
      " [3 4]\n",
      " [5 6]\n",
      " [7 8]]\n",
      "\n",
      "-hstack: \n",
      " [[1 2 5 6]\n",
      " [3 4 7 8]]\n"
     ]
    }
   ],
   "source": [
    "#vstack()\n",
    "print('-vstack:','\\n',np.vstack( (array9 , array10)) )\n",
    "print()\n",
    "\n",
    "#hstack()\n",
    "print('-hstack:','\\n',np.hstack( (array9 , array10)) )"
   ]
  },
  {
   "cell_type": "code",
   "execution_count": 12,
   "metadata": {},
   "outputs": [
    {
     "name": "stdout",
     "output_type": "stream",
     "text": [
      "['홍길동' '일지매' '전우치']\n",
      "['서울' '부산' '대전']\n",
      "\n",
      "[['홍길동' '서울']\n",
      " ['일지매' '부산']\n",
      " ['전우치' '대전']]\n"
     ]
    }
   ],
   "source": [
    "# 2개 이상의 리스트를 array 로 합치기-column_stack()\n",
    "import numpy as np\n",
    "name = np.array(['홍길동','일지매','전우치'])\n",
    "loc = np.array(['서울','부산','대전'])\n",
    "print(name)\n",
    "print(loc)\n",
    "print()\n",
    "\n",
    "all_data = np.column_stack( (name,loc))\n",
    "print(all_data)"
   ]
  },
  {
   "cell_type": "raw",
   "metadata": {},
   "source": []
  },
  {
   "cell_type": "code",
   "execution_count": 13,
   "metadata": {},
   "outputs": [
    {
     "name": "stdout",
     "output_type": "stream",
     "text": [
      "전체값: [1 2 3 4 5]\n",
      "1번째값: 1\n",
      "3번째값: 3\n",
      "2-4번째값: [2 3 4]\n"
     ]
    }
   ],
   "source": [
    "# array 데이터 조회하기\n",
    "# 1차원 array 조회하기\n",
    "array1 = np.array([1,2,3,4,5])\n",
    "print('전체값:' , array1)\n",
    "print('1번째값:' , array1[0])\n",
    "print('3번째값:' , array1[2])\n",
    "print('2-4번째값:',array1[1:4])"
   ]
  },
  {
   "cell_type": "code",
   "execution_count": 14,
   "metadata": {},
   "outputs": [
    {
     "name": "stdout",
     "output_type": "stream",
     "text": [
      "[[1 2 3]\n",
      " [4 5 6]\n",
      " [7 8 9]]\n",
      "\n",
      "\n",
      "9\n"
     ]
    }
   ],
   "source": [
    "# array 데이터 조회하기\n",
    "# 2차원 array 조회하기\n",
    "array2 = np.array([ [1,2,3],[4,5,6],[7,8,9] ])\n",
    "print(array2)\n",
    "print('\\n')\n",
    "print(array2[2,2])"
   ]
  },
  {
   "cell_type": "code",
   "execution_count": 15,
   "metadata": {},
   "outputs": [
    {
     "data": {
      "text/plain": [
       "array([False, False, False, False, False])"
      ]
     },
     "execution_count": 15,
     "metadata": {},
     "output_type": "execute_result"
    }
   ],
   "source": [
    "# isnan( ) 함수 - 주어진 값의 NaN 여부를 찾는 함수\n",
    "np.isnan(array1)"
   ]
  },
  {
   "cell_type": "code",
   "execution_count": 16,
   "metadata": {
    "scrolled": true
   },
   "outputs": [
    {
     "data": {
      "text/plain": [
       "array([False, False, False, False, False])"
      ]
     },
     "execution_count": 16,
     "metadata": {},
     "output_type": "execute_result"
    }
   ],
   "source": [
    "#isinf( ) 함수 - 주어진 값의 무한대 여부를 찾는 함수\n",
    "np.isinf(array1)"
   ]
  },
  {
   "cell_type": "code",
   "execution_count": null,
   "metadata": {},
   "outputs": [],
   "source": [
    "# Pandas 를 활용한 데이터 가용성 확보"
   ]
  },
  {
   "cell_type": "code",
   "execution_count": 17,
   "metadata": {},
   "outputs": [
    {
     "data": {
      "text/html": [
       "<div>\n",
       "<style scoped>\n",
       "    .dataframe tbody tr th:only-of-type {\n",
       "        vertical-align: middle;\n",
       "    }\n",
       "\n",
       "    .dataframe tbody tr th {\n",
       "        vertical-align: top;\n",
       "    }\n",
       "\n",
       "    .dataframe thead th {\n",
       "        text-align: right;\n",
       "    }\n",
       "</style>\n",
       "<table border=\"1\" class=\"dataframe\">\n",
       "  <thead>\n",
       "    <tr style=\"text-align: right;\">\n",
       "      <th></th>\n",
       "      <th>순위</th>\n",
       "      <th>선수명</th>\n",
       "      <th>팀명</th>\n",
       "      <th>타율</th>\n",
       "      <th>경기수</th>\n",
       "      <th>타수</th>\n",
       "      <th>득점</th>\n",
       "      <th>안타</th>\n",
       "      <th>2루타</th>\n",
       "      <th>3루타</th>\n",
       "      <th>홈런</th>\n",
       "      <th>타점</th>\n",
       "    </tr>\n",
       "  </thead>\n",
       "  <tbody>\n",
       "    <tr>\n",
       "      <th>0</th>\n",
       "      <td>1</td>\n",
       "      <td>김선빈</td>\n",
       "      <td>KIA</td>\n",
       "      <td>0.370</td>\n",
       "      <td>137</td>\n",
       "      <td>476</td>\n",
       "      <td>84</td>\n",
       "      <td>176</td>\n",
       "      <td>34</td>\n",
       "      <td>1</td>\n",
       "      <td>5</td>\n",
       "      <td>64</td>\n",
       "    </tr>\n",
       "    <tr>\n",
       "      <th>1</th>\n",
       "      <td>2</td>\n",
       "      <td>박건우</td>\n",
       "      <td>두산</td>\n",
       "      <td>0.366</td>\n",
       "      <td>131</td>\n",
       "      <td>483</td>\n",
       "      <td>91</td>\n",
       "      <td>177</td>\n",
       "      <td>40</td>\n",
       "      <td>2</td>\n",
       "      <td>20</td>\n",
       "      <td>78</td>\n",
       "    </tr>\n",
       "    <tr>\n",
       "      <th>2</th>\n",
       "      <td>3</td>\n",
       "      <td>박민우</td>\n",
       "      <td>NC</td>\n",
       "      <td>0.363</td>\n",
       "      <td>106</td>\n",
       "      <td>388</td>\n",
       "      <td>84</td>\n",
       "      <td>141</td>\n",
       "      <td>25</td>\n",
       "      <td>4</td>\n",
       "      <td>3</td>\n",
       "      <td>47</td>\n",
       "    </tr>\n",
       "    <tr>\n",
       "      <th>3</th>\n",
       "      <td>4</td>\n",
       "      <td>나성범</td>\n",
       "      <td>NC</td>\n",
       "      <td>0.347</td>\n",
       "      <td>125</td>\n",
       "      <td>498</td>\n",
       "      <td>103</td>\n",
       "      <td>173</td>\n",
       "      <td>42</td>\n",
       "      <td>2</td>\n",
       "      <td>24</td>\n",
       "      <td>99</td>\n",
       "    </tr>\n",
       "    <tr>\n",
       "      <th>4</th>\n",
       "      <td>5</td>\n",
       "      <td>박용택</td>\n",
       "      <td>LG</td>\n",
       "      <td>0.344</td>\n",
       "      <td>138</td>\n",
       "      <td>509</td>\n",
       "      <td>83</td>\n",
       "      <td>175</td>\n",
       "      <td>23</td>\n",
       "      <td>2</td>\n",
       "      <td>14</td>\n",
       "      <td>90</td>\n",
       "    </tr>\n",
       "  </tbody>\n",
       "</table>\n",
       "</div>"
      ],
      "text/plain": [
       "   순위  선수명   팀명     타율  경기수   타수   득점   안타  2루타  3루타  홈런  타점\n",
       "0   1  김선빈  KIA  0.370  137  476   84  176   34    1   5  64\n",
       "1   2  박건우   두산  0.366  131  483   91  177   40    2  20  78\n",
       "2   3  박민우   NC  0.363  106  388   84  141   25    4   3  47\n",
       "3   4  나성범   NC  0.347  125  498  103  173   42    2  24  99\n",
       "4   5  박용택   LG  0.344  138  509   83  175   23    2  14  90"
      ]
     },
     "execution_count": 17,
     "metadata": {},
     "output_type": "execute_result"
    }
   ],
   "source": [
    "# 파일 불러오기\n",
    "import pandas as pd\n",
    "data1 = pd.read_csv(\"c:\\\\py_temp\\\\프로야구선수성적_타자.csv\")\n",
    "data1.head()"
   ]
  },
  {
   "cell_type": "code",
   "execution_count": 18,
   "metadata": {},
   "outputs": [
    {
     "data": {
      "text/html": [
       "<div>\n",
       "<style scoped>\n",
       "    .dataframe tbody tr th:only-of-type {\n",
       "        vertical-align: middle;\n",
       "    }\n",
       "\n",
       "    .dataframe tbody tr th {\n",
       "        vertical-align: top;\n",
       "    }\n",
       "\n",
       "    .dataframe thead th {\n",
       "        text-align: right;\n",
       "    }\n",
       "</style>\n",
       "<table border=\"1\" class=\"dataframe\">\n",
       "  <thead>\n",
       "    <tr style=\"text-align: right;\">\n",
       "      <th></th>\n",
       "      <th>순위</th>\n",
       "      <th>선수명</th>\n",
       "      <th>팀명</th>\n",
       "      <th>타율</th>\n",
       "      <th>경기수</th>\n",
       "      <th>타수</th>\n",
       "      <th>득점</th>\n",
       "      <th>안타</th>\n",
       "      <th>2루타</th>\n",
       "      <th>3루타</th>\n",
       "      <th>홈런</th>\n",
       "      <th>타점</th>\n",
       "    </tr>\n",
       "  </thead>\n",
       "  <tbody>\n",
       "    <tr>\n",
       "      <th>0</th>\n",
       "      <td>1</td>\n",
       "      <td>김선빈</td>\n",
       "      <td>KIA</td>\n",
       "      <td>0.370</td>\n",
       "      <td>137</td>\n",
       "      <td>476</td>\n",
       "      <td>84</td>\n",
       "      <td>176</td>\n",
       "      <td>34</td>\n",
       "      <td>1</td>\n",
       "      <td>5</td>\n",
       "      <td>64</td>\n",
       "    </tr>\n",
       "    <tr>\n",
       "      <th>1</th>\n",
       "      <td>2</td>\n",
       "      <td>박건우</td>\n",
       "      <td>두산</td>\n",
       "      <td>0.366</td>\n",
       "      <td>131</td>\n",
       "      <td>483</td>\n",
       "      <td>91</td>\n",
       "      <td>177</td>\n",
       "      <td>40</td>\n",
       "      <td>2</td>\n",
       "      <td>20</td>\n",
       "      <td>78</td>\n",
       "    </tr>\n",
       "    <tr>\n",
       "      <th>2</th>\n",
       "      <td>3</td>\n",
       "      <td>박민우</td>\n",
       "      <td>NC</td>\n",
       "      <td>0.363</td>\n",
       "      <td>106</td>\n",
       "      <td>388</td>\n",
       "      <td>84</td>\n",
       "      <td>141</td>\n",
       "      <td>25</td>\n",
       "      <td>4</td>\n",
       "      <td>3</td>\n",
       "      <td>47</td>\n",
       "    </tr>\n",
       "    <tr>\n",
       "      <th>3</th>\n",
       "      <td>4</td>\n",
       "      <td>나성범</td>\n",
       "      <td>NC</td>\n",
       "      <td>0.347</td>\n",
       "      <td>125</td>\n",
       "      <td>498</td>\n",
       "      <td>103</td>\n",
       "      <td>173</td>\n",
       "      <td>42</td>\n",
       "      <td>2</td>\n",
       "      <td>24</td>\n",
       "      <td>99</td>\n",
       "    </tr>\n",
       "    <tr>\n",
       "      <th>4</th>\n",
       "      <td>5</td>\n",
       "      <td>박용택</td>\n",
       "      <td>LG</td>\n",
       "      <td>0.344</td>\n",
       "      <td>138</td>\n",
       "      <td>509</td>\n",
       "      <td>83</td>\n",
       "      <td>175</td>\n",
       "      <td>23</td>\n",
       "      <td>2</td>\n",
       "      <td>14</td>\n",
       "      <td>90</td>\n",
       "    </tr>\n",
       "  </tbody>\n",
       "</table>\n",
       "</div>"
      ],
      "text/plain": [
       "   순위  선수명   팀명     타율  경기수   타수   득점   안타  2루타  3루타  홈런  타점\n",
       "0   1  김선빈  KIA  0.370  137  476   84  176   34    1   5  64\n",
       "1   2  박건우   두산  0.366  131  483   91  177   40    2  20  78\n",
       "2   3  박민우   NC  0.363  106  388   84  141   25    4   3  47\n",
       "3   4  나성범   NC  0.347  125  498  103  173   42    2  24  99\n",
       "4   5  박용택   LG  0.344  138  509   83  175   23    2  14  90"
      ]
     },
     "execution_count": 18,
     "metadata": {},
     "output_type": "execute_result"
    }
   ],
   "source": [
    "data2 = pd.read_excel(\"c:\\\\py_temp\\\\프로야구선수성적_타자.xlsx\")\n",
    "data2.head()"
   ]
  },
  {
   "cell_type": "code",
   "execution_count": 19,
   "metadata": {},
   "outputs": [
    {
     "ename": "UnicodeDecodeError",
     "evalue": "'utf-8' codec can't decode byte 0xbc in position 0: invalid start byte",
     "output_type": "error",
     "traceback": [
      "\u001b[1;31m---------------------------------------------------------------------------\u001b[0m",
      "\u001b[1;31mUnicodeDecodeError\u001b[0m                        Traceback (most recent call last)",
      "\u001b[1;32m~\\AppData\\Local\\Temp\\ipykernel_1252\\783307041.py\u001b[0m in \u001b[0;36m<module>\u001b[1;34m\u001b[0m\n\u001b[1;32m----> 1\u001b[1;33m \u001b[0mdata3\u001b[0m \u001b[1;33m=\u001b[0m \u001b[0mpd\u001b[0m\u001b[1;33m.\u001b[0m\u001b[0mread_csv\u001b[0m\u001b[1;33m(\u001b[0m\u001b[1;34m\"c:\\\\py_temp\\\\프로야구선수성적_타자_ANSI.csv\"\u001b[0m\u001b[1;33m)\u001b[0m\u001b[1;33m\u001b[0m\u001b[1;33m\u001b[0m\u001b[0m\n\u001b[0m\u001b[0;32m      2\u001b[0m \u001b[0mdata3\u001b[0m\u001b[1;33m.\u001b[0m\u001b[0mhead\u001b[0m\u001b[1;33m(\u001b[0m\u001b[1;33m)\u001b[0m\u001b[1;33m\u001b[0m\u001b[1;33m\u001b[0m\u001b[0m\n",
      "\u001b[1;32m~\\anaconda3\\lib\\site-packages\\pandas\\util\\_decorators.py\u001b[0m in \u001b[0;36mwrapper\u001b[1;34m(*args, **kwargs)\u001b[0m\n\u001b[0;32m    309\u001b[0m                     \u001b[0mstacklevel\u001b[0m\u001b[1;33m=\u001b[0m\u001b[0mstacklevel\u001b[0m\u001b[1;33m,\u001b[0m\u001b[1;33m\u001b[0m\u001b[1;33m\u001b[0m\u001b[0m\n\u001b[0;32m    310\u001b[0m                 )\n\u001b[1;32m--> 311\u001b[1;33m             \u001b[1;32mreturn\u001b[0m \u001b[0mfunc\u001b[0m\u001b[1;33m(\u001b[0m\u001b[1;33m*\u001b[0m\u001b[0margs\u001b[0m\u001b[1;33m,\u001b[0m \u001b[1;33m**\u001b[0m\u001b[0mkwargs\u001b[0m\u001b[1;33m)\u001b[0m\u001b[1;33m\u001b[0m\u001b[1;33m\u001b[0m\u001b[0m\n\u001b[0m\u001b[0;32m    312\u001b[0m \u001b[1;33m\u001b[0m\u001b[0m\n\u001b[0;32m    313\u001b[0m         \u001b[1;32mreturn\u001b[0m \u001b[0mwrapper\u001b[0m\u001b[1;33m\u001b[0m\u001b[1;33m\u001b[0m\u001b[0m\n",
      "\u001b[1;32m~\\anaconda3\\lib\\site-packages\\pandas\\io\\parsers\\readers.py\u001b[0m in \u001b[0;36mread_csv\u001b[1;34m(filepath_or_buffer, sep, delimiter, header, names, index_col, usecols, squeeze, prefix, mangle_dupe_cols, dtype, engine, converters, true_values, false_values, skipinitialspace, skiprows, skipfooter, nrows, na_values, keep_default_na, na_filter, verbose, skip_blank_lines, parse_dates, infer_datetime_format, keep_date_col, date_parser, dayfirst, cache_dates, iterator, chunksize, compression, thousands, decimal, lineterminator, quotechar, quoting, doublequote, escapechar, comment, encoding, encoding_errors, dialect, error_bad_lines, warn_bad_lines, on_bad_lines, delim_whitespace, low_memory, memory_map, float_precision, storage_options)\u001b[0m\n\u001b[0;32m    676\u001b[0m     \u001b[0mkwds\u001b[0m\u001b[1;33m.\u001b[0m\u001b[0mupdate\u001b[0m\u001b[1;33m(\u001b[0m\u001b[0mkwds_defaults\u001b[0m\u001b[1;33m)\u001b[0m\u001b[1;33m\u001b[0m\u001b[1;33m\u001b[0m\u001b[0m\n\u001b[0;32m    677\u001b[0m \u001b[1;33m\u001b[0m\u001b[0m\n\u001b[1;32m--> 678\u001b[1;33m     \u001b[1;32mreturn\u001b[0m \u001b[0m_read\u001b[0m\u001b[1;33m(\u001b[0m\u001b[0mfilepath_or_buffer\u001b[0m\u001b[1;33m,\u001b[0m \u001b[0mkwds\u001b[0m\u001b[1;33m)\u001b[0m\u001b[1;33m\u001b[0m\u001b[1;33m\u001b[0m\u001b[0m\n\u001b[0m\u001b[0;32m    679\u001b[0m \u001b[1;33m\u001b[0m\u001b[0m\n\u001b[0;32m    680\u001b[0m \u001b[1;33m\u001b[0m\u001b[0m\n",
      "\u001b[1;32m~\\anaconda3\\lib\\site-packages\\pandas\\io\\parsers\\readers.py\u001b[0m in \u001b[0;36m_read\u001b[1;34m(filepath_or_buffer, kwds)\u001b[0m\n\u001b[0;32m    573\u001b[0m \u001b[1;33m\u001b[0m\u001b[0m\n\u001b[0;32m    574\u001b[0m     \u001b[1;31m# Create the parser.\u001b[0m\u001b[1;33m\u001b[0m\u001b[1;33m\u001b[0m\u001b[0m\n\u001b[1;32m--> 575\u001b[1;33m     \u001b[0mparser\u001b[0m \u001b[1;33m=\u001b[0m \u001b[0mTextFileReader\u001b[0m\u001b[1;33m(\u001b[0m\u001b[0mfilepath_or_buffer\u001b[0m\u001b[1;33m,\u001b[0m \u001b[1;33m**\u001b[0m\u001b[0mkwds\u001b[0m\u001b[1;33m)\u001b[0m\u001b[1;33m\u001b[0m\u001b[1;33m\u001b[0m\u001b[0m\n\u001b[0m\u001b[0;32m    576\u001b[0m \u001b[1;33m\u001b[0m\u001b[0m\n\u001b[0;32m    577\u001b[0m     \u001b[1;32mif\u001b[0m \u001b[0mchunksize\u001b[0m \u001b[1;32mor\u001b[0m \u001b[0miterator\u001b[0m\u001b[1;33m:\u001b[0m\u001b[1;33m\u001b[0m\u001b[1;33m\u001b[0m\u001b[0m\n",
      "\u001b[1;32m~\\anaconda3\\lib\\site-packages\\pandas\\io\\parsers\\readers.py\u001b[0m in \u001b[0;36m__init__\u001b[1;34m(self, f, engine, **kwds)\u001b[0m\n\u001b[0;32m    930\u001b[0m \u001b[1;33m\u001b[0m\u001b[0m\n\u001b[0;32m    931\u001b[0m         \u001b[0mself\u001b[0m\u001b[1;33m.\u001b[0m\u001b[0mhandles\u001b[0m\u001b[1;33m:\u001b[0m \u001b[0mIOHandles\u001b[0m \u001b[1;33m|\u001b[0m \u001b[1;32mNone\u001b[0m \u001b[1;33m=\u001b[0m \u001b[1;32mNone\u001b[0m\u001b[1;33m\u001b[0m\u001b[1;33m\u001b[0m\u001b[0m\n\u001b[1;32m--> 932\u001b[1;33m         \u001b[0mself\u001b[0m\u001b[1;33m.\u001b[0m\u001b[0m_engine\u001b[0m \u001b[1;33m=\u001b[0m \u001b[0mself\u001b[0m\u001b[1;33m.\u001b[0m\u001b[0m_make_engine\u001b[0m\u001b[1;33m(\u001b[0m\u001b[0mf\u001b[0m\u001b[1;33m,\u001b[0m \u001b[0mself\u001b[0m\u001b[1;33m.\u001b[0m\u001b[0mengine\u001b[0m\u001b[1;33m)\u001b[0m\u001b[1;33m\u001b[0m\u001b[1;33m\u001b[0m\u001b[0m\n\u001b[0m\u001b[0;32m    933\u001b[0m \u001b[1;33m\u001b[0m\u001b[0m\n\u001b[0;32m    934\u001b[0m     \u001b[1;32mdef\u001b[0m \u001b[0mclose\u001b[0m\u001b[1;33m(\u001b[0m\u001b[0mself\u001b[0m\u001b[1;33m)\u001b[0m\u001b[1;33m:\u001b[0m\u001b[1;33m\u001b[0m\u001b[1;33m\u001b[0m\u001b[0m\n",
      "\u001b[1;32m~\\anaconda3\\lib\\site-packages\\pandas\\io\\parsers\\readers.py\u001b[0m in \u001b[0;36m_make_engine\u001b[1;34m(self, f, engine)\u001b[0m\n\u001b[0;32m   1232\u001b[0m \u001b[1;33m\u001b[0m\u001b[0m\n\u001b[0;32m   1233\u001b[0m         \u001b[1;32mtry\u001b[0m\u001b[1;33m:\u001b[0m\u001b[1;33m\u001b[0m\u001b[1;33m\u001b[0m\u001b[0m\n\u001b[1;32m-> 1234\u001b[1;33m             \u001b[1;32mreturn\u001b[0m \u001b[0mmapping\u001b[0m\u001b[1;33m[\u001b[0m\u001b[0mengine\u001b[0m\u001b[1;33m]\u001b[0m\u001b[1;33m(\u001b[0m\u001b[0mf\u001b[0m\u001b[1;33m,\u001b[0m \u001b[1;33m**\u001b[0m\u001b[0mself\u001b[0m\u001b[1;33m.\u001b[0m\u001b[0moptions\u001b[0m\u001b[1;33m)\u001b[0m\u001b[1;33m\u001b[0m\u001b[1;33m\u001b[0m\u001b[0m\n\u001b[0m\u001b[0;32m   1235\u001b[0m         \u001b[1;32mexcept\u001b[0m \u001b[0mException\u001b[0m\u001b[1;33m:\u001b[0m\u001b[1;33m\u001b[0m\u001b[1;33m\u001b[0m\u001b[0m\n\u001b[0;32m   1236\u001b[0m             \u001b[1;32mif\u001b[0m \u001b[0mself\u001b[0m\u001b[1;33m.\u001b[0m\u001b[0mhandles\u001b[0m \u001b[1;32mis\u001b[0m \u001b[1;32mnot\u001b[0m \u001b[1;32mNone\u001b[0m\u001b[1;33m:\u001b[0m\u001b[1;33m\u001b[0m\u001b[1;33m\u001b[0m\u001b[0m\n",
      "\u001b[1;32m~\\anaconda3\\lib\\site-packages\\pandas\\io\\parsers\\c_parser_wrapper.py\u001b[0m in \u001b[0;36m__init__\u001b[1;34m(self, src, **kwds)\u001b[0m\n\u001b[0;32m     73\u001b[0m \u001b[1;33m\u001b[0m\u001b[0m\n\u001b[0;32m     74\u001b[0m         \u001b[0mkwds\u001b[0m\u001b[1;33m[\u001b[0m\u001b[1;34m\"dtype\"\u001b[0m\u001b[1;33m]\u001b[0m \u001b[1;33m=\u001b[0m \u001b[0mensure_dtype_objs\u001b[0m\u001b[1;33m(\u001b[0m\u001b[0mkwds\u001b[0m\u001b[1;33m.\u001b[0m\u001b[0mget\u001b[0m\u001b[1;33m(\u001b[0m\u001b[1;34m\"dtype\"\u001b[0m\u001b[1;33m,\u001b[0m \u001b[1;32mNone\u001b[0m\u001b[1;33m)\u001b[0m\u001b[1;33m)\u001b[0m\u001b[1;33m\u001b[0m\u001b[1;33m\u001b[0m\u001b[0m\n\u001b[1;32m---> 75\u001b[1;33m         \u001b[0mself\u001b[0m\u001b[1;33m.\u001b[0m\u001b[0m_reader\u001b[0m \u001b[1;33m=\u001b[0m \u001b[0mparsers\u001b[0m\u001b[1;33m.\u001b[0m\u001b[0mTextReader\u001b[0m\u001b[1;33m(\u001b[0m\u001b[0msrc\u001b[0m\u001b[1;33m,\u001b[0m \u001b[1;33m**\u001b[0m\u001b[0mkwds\u001b[0m\u001b[1;33m)\u001b[0m\u001b[1;33m\u001b[0m\u001b[1;33m\u001b[0m\u001b[0m\n\u001b[0m\u001b[0;32m     76\u001b[0m \u001b[1;33m\u001b[0m\u001b[0m\n\u001b[0;32m     77\u001b[0m         \u001b[0mself\u001b[0m\u001b[1;33m.\u001b[0m\u001b[0munnamed_cols\u001b[0m \u001b[1;33m=\u001b[0m \u001b[0mself\u001b[0m\u001b[1;33m.\u001b[0m\u001b[0m_reader\u001b[0m\u001b[1;33m.\u001b[0m\u001b[0munnamed_cols\u001b[0m\u001b[1;33m\u001b[0m\u001b[1;33m\u001b[0m\u001b[0m\n",
      "\u001b[1;32m~\\anaconda3\\lib\\site-packages\\pandas\\_libs\\parsers.pyx\u001b[0m in \u001b[0;36mpandas._libs.parsers.TextReader.__cinit__\u001b[1;34m()\u001b[0m\n",
      "\u001b[1;32m~\\anaconda3\\lib\\site-packages\\pandas\\_libs\\parsers.pyx\u001b[0m in \u001b[0;36mpandas._libs.parsers.TextReader._get_header\u001b[1;34m()\u001b[0m\n",
      "\u001b[1;32m~\\anaconda3\\lib\\site-packages\\pandas\\_libs\\parsers.pyx\u001b[0m in \u001b[0;36mpandas._libs.parsers.TextReader._tokenize_rows\u001b[1;34m()\u001b[0m\n",
      "\u001b[1;32m~\\anaconda3\\lib\\site-packages\\pandas\\_libs\\parsers.pyx\u001b[0m in \u001b[0;36mpandas._libs.parsers.raise_parser_error\u001b[1;34m()\u001b[0m\n",
      "\u001b[1;31mUnicodeDecodeError\u001b[0m: 'utf-8' codec can't decode byte 0xbc in position 0: invalid start byte"
     ]
    }
   ],
   "source": [
    "data3 = pd.read_csv(\"c:\\\\py_temp\\\\프로야구선수성적_타자_ANSI.csv\")\n",
    "data3.head()"
   ]
  },
  {
   "cell_type": "code",
   "execution_count": 20,
   "metadata": {},
   "outputs": [
    {
     "data": {
      "text/html": [
       "<div>\n",
       "<style scoped>\n",
       "    .dataframe tbody tr th:only-of-type {\n",
       "        vertical-align: middle;\n",
       "    }\n",
       "\n",
       "    .dataframe tbody tr th {\n",
       "        vertical-align: top;\n",
       "    }\n",
       "\n",
       "    .dataframe thead th {\n",
       "        text-align: right;\n",
       "    }\n",
       "</style>\n",
       "<table border=\"1\" class=\"dataframe\">\n",
       "  <thead>\n",
       "    <tr style=\"text-align: right;\">\n",
       "      <th></th>\n",
       "      <th>순위</th>\n",
       "      <th>선수명</th>\n",
       "      <th>팀명</th>\n",
       "      <th>타율</th>\n",
       "      <th>경기수</th>\n",
       "      <th>타수</th>\n",
       "      <th>득점</th>\n",
       "      <th>안타</th>\n",
       "      <th>2루타</th>\n",
       "      <th>3루타</th>\n",
       "      <th>홈런</th>\n",
       "      <th>타점</th>\n",
       "    </tr>\n",
       "  </thead>\n",
       "  <tbody>\n",
       "    <tr>\n",
       "      <th>0</th>\n",
       "      <td>1</td>\n",
       "      <td>김선빈</td>\n",
       "      <td>KIA</td>\n",
       "      <td>0.370</td>\n",
       "      <td>137</td>\n",
       "      <td>476</td>\n",
       "      <td>84</td>\n",
       "      <td>176</td>\n",
       "      <td>34</td>\n",
       "      <td>1</td>\n",
       "      <td>5</td>\n",
       "      <td>64</td>\n",
       "    </tr>\n",
       "    <tr>\n",
       "      <th>1</th>\n",
       "      <td>2</td>\n",
       "      <td>박건우</td>\n",
       "      <td>두산</td>\n",
       "      <td>0.366</td>\n",
       "      <td>131</td>\n",
       "      <td>483</td>\n",
       "      <td>91</td>\n",
       "      <td>177</td>\n",
       "      <td>40</td>\n",
       "      <td>2</td>\n",
       "      <td>20</td>\n",
       "      <td>78</td>\n",
       "    </tr>\n",
       "    <tr>\n",
       "      <th>2</th>\n",
       "      <td>3</td>\n",
       "      <td>박민우</td>\n",
       "      <td>NC</td>\n",
       "      <td>0.363</td>\n",
       "      <td>106</td>\n",
       "      <td>388</td>\n",
       "      <td>84</td>\n",
       "      <td>141</td>\n",
       "      <td>25</td>\n",
       "      <td>4</td>\n",
       "      <td>3</td>\n",
       "      <td>47</td>\n",
       "    </tr>\n",
       "    <tr>\n",
       "      <th>3</th>\n",
       "      <td>4</td>\n",
       "      <td>나성범</td>\n",
       "      <td>NC</td>\n",
       "      <td>0.347</td>\n",
       "      <td>125</td>\n",
       "      <td>498</td>\n",
       "      <td>103</td>\n",
       "      <td>173</td>\n",
       "      <td>42</td>\n",
       "      <td>2</td>\n",
       "      <td>24</td>\n",
       "      <td>99</td>\n",
       "    </tr>\n",
       "    <tr>\n",
       "      <th>4</th>\n",
       "      <td>5</td>\n",
       "      <td>박용택</td>\n",
       "      <td>LG</td>\n",
       "      <td>0.344</td>\n",
       "      <td>138</td>\n",
       "      <td>509</td>\n",
       "      <td>83</td>\n",
       "      <td>175</td>\n",
       "      <td>23</td>\n",
       "      <td>2</td>\n",
       "      <td>14</td>\n",
       "      <td>90</td>\n",
       "    </tr>\n",
       "  </tbody>\n",
       "</table>\n",
       "</div>"
      ],
      "text/plain": [
       "   순위  선수명   팀명     타율  경기수   타수   득점   안타  2루타  3루타  홈런  타점\n",
       "0   1  김선빈  KIA  0.370  137  476   84  176   34    1   5  64\n",
       "1   2  박건우   두산  0.366  131  483   91  177   40    2  20  78\n",
       "2   3  박민우   NC  0.363  106  388   84  141   25    4   3  47\n",
       "3   4  나성범   NC  0.347  125  498  103  173   42    2  24  99\n",
       "4   5  박용택   LG  0.344  138  509   83  175   23    2  14  90"
      ]
     },
     "execution_count": 20,
     "metadata": {},
     "output_type": "execute_result"
    }
   ],
   "source": [
    "data3 = pd.read_csv(\"c:\\\\py_temp\\\\프로야구선수성적_타자_ANSI.csv\" , encoding=\"cp949\")\n",
    "data3.head()"
   ]
  },
  {
   "cell_type": "code",
   "execution_count": 21,
   "metadata": {},
   "outputs": [
    {
     "data": {
      "text/html": [
       "<div>\n",
       "<style scoped>\n",
       "    .dataframe tbody tr th:only-of-type {\n",
       "        vertical-align: middle;\n",
       "    }\n",
       "\n",
       "    .dataframe tbody tr th {\n",
       "        vertical-align: top;\n",
       "    }\n",
       "\n",
       "    .dataframe thead th {\n",
       "        text-align: right;\n",
       "    }\n",
       "</style>\n",
       "<table border=\"1\" class=\"dataframe\">\n",
       "  <thead>\n",
       "    <tr style=\"text-align: right;\">\n",
       "      <th></th>\n",
       "      <th>순위</th>\n",
       "      <th>선수명</th>\n",
       "      <th>팀명</th>\n",
       "      <th>타율</th>\n",
       "      <th>경기수</th>\n",
       "      <th>타수</th>\n",
       "      <th>득점</th>\n",
       "      <th>안타</th>\n",
       "      <th>2루타</th>\n",
       "      <th>3루타</th>\n",
       "      <th>홈런</th>\n",
       "      <th>타점</th>\n",
       "    </tr>\n",
       "  </thead>\n",
       "  <tbody>\n",
       "    <tr>\n",
       "      <th>0</th>\n",
       "      <td>1</td>\n",
       "      <td>김선빈</td>\n",
       "      <td>KIA</td>\n",
       "      <td>0.370</td>\n",
       "      <td>137</td>\n",
       "      <td>476</td>\n",
       "      <td>84</td>\n",
       "      <td>176</td>\n",
       "      <td>34</td>\n",
       "      <td>1</td>\n",
       "      <td>5</td>\n",
       "      <td>64</td>\n",
       "    </tr>\n",
       "    <tr>\n",
       "      <th>1</th>\n",
       "      <td>2</td>\n",
       "      <td>박건우</td>\n",
       "      <td>두산</td>\n",
       "      <td>0.366</td>\n",
       "      <td>131</td>\n",
       "      <td>483</td>\n",
       "      <td>91</td>\n",
       "      <td>177</td>\n",
       "      <td>40</td>\n",
       "      <td>2</td>\n",
       "      <td>20</td>\n",
       "      <td>78</td>\n",
       "    </tr>\n",
       "    <tr>\n",
       "      <th>2</th>\n",
       "      <td>3</td>\n",
       "      <td>박민우</td>\n",
       "      <td>NC</td>\n",
       "      <td>0.363</td>\n",
       "      <td>106</td>\n",
       "      <td>388</td>\n",
       "      <td>84</td>\n",
       "      <td>141</td>\n",
       "      <td>25</td>\n",
       "      <td>4</td>\n",
       "      <td>3</td>\n",
       "      <td>47</td>\n",
       "    </tr>\n",
       "  </tbody>\n",
       "</table>\n",
       "</div>"
      ],
      "text/plain": [
       "   순위  선수명   팀명     타율  경기수   타수  득점   안타  2루타  3루타  홈런  타점\n",
       "0   1  김선빈  KIA  0.370  137  476  84  176   34    1   5  64\n",
       "1   2  박건우   두산  0.366  131  483  91  177   40    2  20  78\n",
       "2   3  박민우   NC  0.363  106  388  84  141   25    4   3  47"
      ]
     },
     "execution_count": 21,
     "metadata": {},
     "output_type": "execute_result"
    }
   ],
   "source": [
    "data3.head(3)"
   ]
  },
  {
   "cell_type": "code",
   "execution_count": 22,
   "metadata": {},
   "outputs": [
    {
     "data": {
      "text/html": [
       "<div>\n",
       "<style scoped>\n",
       "    .dataframe tbody tr th:only-of-type {\n",
       "        vertical-align: middle;\n",
       "    }\n",
       "\n",
       "    .dataframe tbody tr th {\n",
       "        vertical-align: top;\n",
       "    }\n",
       "\n",
       "    .dataframe thead th {\n",
       "        text-align: right;\n",
       "    }\n",
       "</style>\n",
       "<table border=\"1\" class=\"dataframe\">\n",
       "  <thead>\n",
       "    <tr style=\"text-align: right;\">\n",
       "      <th></th>\n",
       "      <th>순위</th>\n",
       "      <th>선수명</th>\n",
       "      <th>팀명</th>\n",
       "      <th>타율</th>\n",
       "      <th>경기수</th>\n",
       "      <th>타수</th>\n",
       "      <th>득점</th>\n",
       "      <th>안타</th>\n",
       "      <th>2루타</th>\n",
       "      <th>3루타</th>\n",
       "      <th>홈런</th>\n",
       "      <th>타점</th>\n",
       "    </tr>\n",
       "  </thead>\n",
       "  <tbody>\n",
       "    <tr>\n",
       "      <th>27</th>\n",
       "      <td>28</td>\n",
       "      <td>강한울</td>\n",
       "      <td>삼성</td>\n",
       "      <td>0.303</td>\n",
       "      <td>135</td>\n",
       "      <td>412</td>\n",
       "      <td>58</td>\n",
       "      <td>125</td>\n",
       "      <td>9</td>\n",
       "      <td>3</td>\n",
       "      <td>0</td>\n",
       "      <td>24</td>\n",
       "    </tr>\n",
       "    <tr>\n",
       "      <th>28</th>\n",
       "      <td>29</td>\n",
       "      <td>번즈</td>\n",
       "      <td>롯데</td>\n",
       "      <td>0.303</td>\n",
       "      <td>116</td>\n",
       "      <td>423</td>\n",
       "      <td>71</td>\n",
       "      <td>128</td>\n",
       "      <td>38</td>\n",
       "      <td>0</td>\n",
       "      <td>15</td>\n",
       "      <td>57</td>\n",
       "    </tr>\n",
       "    <tr>\n",
       "      <th>29</th>\n",
       "      <td>30</td>\n",
       "      <td>김하성</td>\n",
       "      <td>넥센</td>\n",
       "      <td>0.302</td>\n",
       "      <td>141</td>\n",
       "      <td>526</td>\n",
       "      <td>90</td>\n",
       "      <td>159</td>\n",
       "      <td>36</td>\n",
       "      <td>3</td>\n",
       "      <td>23</td>\n",
       "      <td>114</td>\n",
       "    </tr>\n",
       "  </tbody>\n",
       "</table>\n",
       "</div>"
      ],
      "text/plain": [
       "    순위  선수명  팀명     타율  경기수   타수  득점   안타  2루타  3루타  홈런   타점\n",
       "27  28  강한울  삼성  0.303  135  412  58  125    9    3   0   24\n",
       "28  29   번즈  롯데  0.303  116  423  71  128   38    0  15   57\n",
       "29  30  김하성  넥센  0.302  141  526  90  159   36    3  23  114"
      ]
     },
     "execution_count": 22,
     "metadata": {},
     "output_type": "execute_result"
    }
   ],
   "source": [
    "data3.tail(3)"
   ]
  },
  {
   "cell_type": "code",
   "execution_count": 23,
   "metadata": {},
   "outputs": [
    {
     "data": {
      "text/plain": [
       "(30, 12)"
      ]
     },
     "execution_count": 23,
     "metadata": {},
     "output_type": "execute_result"
    }
   ],
   "source": [
    "data3.shape"
   ]
  },
  {
   "cell_type": "code",
   "execution_count": 24,
   "metadata": {},
   "outputs": [
    {
     "data": {
      "text/plain": [
       "Index(['순위', '선수명', '팀명', '타율', '경기수', '타수', '득점', '안타', '2루타', '3루타', '홈런',\n",
       "       '타점'],\n",
       "      dtype='object')"
      ]
     },
     "execution_count": 24,
     "metadata": {},
     "output_type": "execute_result"
    }
   ],
   "source": [
    "data3.columns"
   ]
  },
  {
   "cell_type": "code",
   "execution_count": 25,
   "metadata": {},
   "outputs": [
    {
     "data": {
      "text/plain": [
       "pandas.core.frame.DataFrame"
      ]
     },
     "execution_count": 25,
     "metadata": {},
     "output_type": "execute_result"
    }
   ],
   "source": [
    "type(data3)"
   ]
  },
  {
   "cell_type": "code",
   "execution_count": 26,
   "metadata": {},
   "outputs": [
    {
     "data": {
      "text/plain": [
       "순위       int64\n",
       "선수명     object\n",
       "팀명      object\n",
       "타율     float64\n",
       "경기수      int64\n",
       "타수       int64\n",
       "득점       int64\n",
       "안타       int64\n",
       "2루타      int64\n",
       "3루타      int64\n",
       "홈런       int64\n",
       "타점       int64\n",
       "dtype: object"
      ]
     },
     "execution_count": 26,
     "metadata": {},
     "output_type": "execute_result"
    }
   ],
   "source": [
    "data3.dtypes"
   ]
  },
  {
   "cell_type": "code",
   "execution_count": 27,
   "metadata": {},
   "outputs": [
    {
     "name": "stdout",
     "output_type": "stream",
     "text": [
      "<class 'pandas.core.frame.DataFrame'>\n",
      "RangeIndex: 30 entries, 0 to 29\n",
      "Data columns (total 12 columns):\n",
      " #   Column  Non-Null Count  Dtype  \n",
      "---  ------  --------------  -----  \n",
      " 0   순위      30 non-null     int64  \n",
      " 1   선수명     30 non-null     object \n",
      " 2   팀명      30 non-null     object \n",
      " 3   타율      30 non-null     float64\n",
      " 4   경기수     30 non-null     int64  \n",
      " 5   타수      30 non-null     int64  \n",
      " 6   득점      30 non-null     int64  \n",
      " 7   안타      30 non-null     int64  \n",
      " 8   2루타     30 non-null     int64  \n",
      " 9   3루타     30 non-null     int64  \n",
      " 10  홈런      30 non-null     int64  \n",
      " 11  타점      30 non-null     int64  \n",
      "dtypes: float64(1), int64(9), object(2)\n",
      "memory usage: 2.9+ KB\n"
     ]
    }
   ],
   "source": [
    "data3.info()"
   ]
  },
  {
   "cell_type": "code",
   "execution_count": 28,
   "metadata": {},
   "outputs": [
    {
     "data": {
      "text/html": [
       "<div>\n",
       "<style scoped>\n",
       "    .dataframe tbody tr th:only-of-type {\n",
       "        vertical-align: middle;\n",
       "    }\n",
       "\n",
       "    .dataframe tbody tr th {\n",
       "        vertical-align: top;\n",
       "    }\n",
       "\n",
       "    .dataframe thead th {\n",
       "        text-align: right;\n",
       "    }\n",
       "</style>\n",
       "<table border=\"1\" class=\"dataframe\">\n",
       "  <thead>\n",
       "    <tr style=\"text-align: right;\">\n",
       "      <th></th>\n",
       "      <th>순위</th>\n",
       "      <th>타율</th>\n",
       "      <th>경기수</th>\n",
       "      <th>타수</th>\n",
       "      <th>득점</th>\n",
       "      <th>안타</th>\n",
       "      <th>2루타</th>\n",
       "      <th>3루타</th>\n",
       "      <th>홈런</th>\n",
       "      <th>타점</th>\n",
       "    </tr>\n",
       "  </thead>\n",
       "  <tbody>\n",
       "    <tr>\n",
       "      <th>count</th>\n",
       "      <td>30.000000</td>\n",
       "      <td>30.000000</td>\n",
       "      <td>30.000000</td>\n",
       "      <td>30.000000</td>\n",
       "      <td>30.00000</td>\n",
       "      <td>30.000000</td>\n",
       "      <td>30.000000</td>\n",
       "      <td>30.000000</td>\n",
       "      <td>30.000000</td>\n",
       "      <td>30.000000</td>\n",
       "    </tr>\n",
       "    <tr>\n",
       "      <th>mean</th>\n",
       "      <td>15.500000</td>\n",
       "      <td>0.324933</td>\n",
       "      <td>131.033333</td>\n",
       "      <td>483.866667</td>\n",
       "      <td>85.70000</td>\n",
       "      <td>157.366667</td>\n",
       "      <td>28.800000</td>\n",
       "      <td>2.600000</td>\n",
       "      <td>18.666667</td>\n",
       "      <td>84.500000</td>\n",
       "    </tr>\n",
       "    <tr>\n",
       "      <th>std</th>\n",
       "      <td>8.803408</td>\n",
       "      <td>0.019373</td>\n",
       "      <td>11.062466</td>\n",
       "      <td>53.011211</td>\n",
       "      <td>17.12258</td>\n",
       "      <td>20.163954</td>\n",
       "      <td>8.142693</td>\n",
       "      <td>2.698659</td>\n",
       "      <td>11.099342</td>\n",
       "      <td>25.597346</td>\n",
       "    </tr>\n",
       "    <tr>\n",
       "      <th>min</th>\n",
       "      <td>1.000000</td>\n",
       "      <td>0.302000</td>\n",
       "      <td>106.000000</td>\n",
       "      <td>388.000000</td>\n",
       "      <td>52.00000</td>\n",
       "      <td>125.000000</td>\n",
       "      <td>9.000000</td>\n",
       "      <td>0.000000</td>\n",
       "      <td>0.000000</td>\n",
       "      <td>24.000000</td>\n",
       "    </tr>\n",
       "    <tr>\n",
       "      <th>25%</th>\n",
       "      <td>8.250000</td>\n",
       "      <td>0.310500</td>\n",
       "      <td>123.000000</td>\n",
       "      <td>441.250000</td>\n",
       "      <td>73.00000</td>\n",
       "      <td>137.250000</td>\n",
       "      <td>24.250000</td>\n",
       "      <td>1.000000</td>\n",
       "      <td>12.250000</td>\n",
       "      <td>68.250000</td>\n",
       "    </tr>\n",
       "    <tr>\n",
       "      <th>50%</th>\n",
       "      <td>15.500000</td>\n",
       "      <td>0.320000</td>\n",
       "      <td>133.500000</td>\n",
       "      <td>479.500000</td>\n",
       "      <td>85.50000</td>\n",
       "      <td>156.500000</td>\n",
       "      <td>28.500000</td>\n",
       "      <td>2.000000</td>\n",
       "      <td>19.000000</td>\n",
       "      <td>84.500000</td>\n",
       "    </tr>\n",
       "    <tr>\n",
       "      <th>75%</th>\n",
       "      <td>22.750000</td>\n",
       "      <td>0.338000</td>\n",
       "      <td>140.500000</td>\n",
       "      <td>535.000000</td>\n",
       "      <td>97.25000</td>\n",
       "      <td>175.750000</td>\n",
       "      <td>35.750000</td>\n",
       "      <td>3.000000</td>\n",
       "      <td>25.500000</td>\n",
       "      <td>110.000000</td>\n",
       "    </tr>\n",
       "    <tr>\n",
       "      <th>max</th>\n",
       "      <td>30.000000</td>\n",
       "      <td>0.370000</td>\n",
       "      <td>144.000000</td>\n",
       "      <td>576.000000</td>\n",
       "      <td>118.00000</td>\n",
       "      <td>193.000000</td>\n",
       "      <td>42.000000</td>\n",
       "      <td>10.000000</td>\n",
       "      <td>46.000000</td>\n",
       "      <td>124.000000</td>\n",
       "    </tr>\n",
       "  </tbody>\n",
       "</table>\n",
       "</div>"
      ],
      "text/plain": [
       "              순위         타율         경기수          타수         득점          안타  \\\n",
       "count  30.000000  30.000000   30.000000   30.000000   30.00000   30.000000   \n",
       "mean   15.500000   0.324933  131.033333  483.866667   85.70000  157.366667   \n",
       "std     8.803408   0.019373   11.062466   53.011211   17.12258   20.163954   \n",
       "min     1.000000   0.302000  106.000000  388.000000   52.00000  125.000000   \n",
       "25%     8.250000   0.310500  123.000000  441.250000   73.00000  137.250000   \n",
       "50%    15.500000   0.320000  133.500000  479.500000   85.50000  156.500000   \n",
       "75%    22.750000   0.338000  140.500000  535.000000   97.25000  175.750000   \n",
       "max    30.000000   0.370000  144.000000  576.000000  118.00000  193.000000   \n",
       "\n",
       "             2루타        3루타         홈런          타점  \n",
       "count  30.000000  30.000000  30.000000   30.000000  \n",
       "mean   28.800000   2.600000  18.666667   84.500000  \n",
       "std     8.142693   2.698659  11.099342   25.597346  \n",
       "min     9.000000   0.000000   0.000000   24.000000  \n",
       "25%    24.250000   1.000000  12.250000   68.250000  \n",
       "50%    28.500000   2.000000  19.000000   84.500000  \n",
       "75%    35.750000   3.000000  25.500000  110.000000  \n",
       "max    42.000000  10.000000  46.000000  124.000000  "
      ]
     },
     "execution_count": 28,
     "metadata": {},
     "output_type": "execute_result"
    }
   ],
   "source": [
    "data3.describe()"
   ]
  },
  {
   "cell_type": "code",
   "execution_count": 29,
   "metadata": {},
   "outputs": [
    {
     "data": {
      "text/plain": [
       "0    김선빈\n",
       "1    박건우\n",
       "2    박민우\n",
       "3    나성범\n",
       "4    박용택\n",
       "Name: 선수명, dtype: object"
      ]
     },
     "execution_count": 29,
     "metadata": {},
     "output_type": "execute_result"
    }
   ],
   "source": [
    "data3['선수명'].head(5)"
   ]
  },
  {
   "cell_type": "code",
   "execution_count": 30,
   "metadata": {},
   "outputs": [
    {
     "data": {
      "text/html": [
       "<div>\n",
       "<style scoped>\n",
       "    .dataframe tbody tr th:only-of-type {\n",
       "        vertical-align: middle;\n",
       "    }\n",
       "\n",
       "    .dataframe tbody tr th {\n",
       "        vertical-align: top;\n",
       "    }\n",
       "\n",
       "    .dataframe thead th {\n",
       "        text-align: right;\n",
       "    }\n",
       "</style>\n",
       "<table border=\"1\" class=\"dataframe\">\n",
       "  <thead>\n",
       "    <tr style=\"text-align: right;\">\n",
       "      <th></th>\n",
       "      <th>선수명</th>\n",
       "      <th>팀명</th>\n",
       "    </tr>\n",
       "  </thead>\n",
       "  <tbody>\n",
       "    <tr>\n",
       "      <th>0</th>\n",
       "      <td>김선빈</td>\n",
       "      <td>KIA</td>\n",
       "    </tr>\n",
       "    <tr>\n",
       "      <th>1</th>\n",
       "      <td>박건우</td>\n",
       "      <td>두산</td>\n",
       "    </tr>\n",
       "    <tr>\n",
       "      <th>2</th>\n",
       "      <td>박민우</td>\n",
       "      <td>NC</td>\n",
       "    </tr>\n",
       "    <tr>\n",
       "      <th>3</th>\n",
       "      <td>나성범</td>\n",
       "      <td>NC</td>\n",
       "    </tr>\n",
       "    <tr>\n",
       "      <th>4</th>\n",
       "      <td>박용택</td>\n",
       "      <td>LG</td>\n",
       "    </tr>\n",
       "  </tbody>\n",
       "</table>\n",
       "</div>"
      ],
      "text/plain": [
       "   선수명   팀명\n",
       "0  김선빈  KIA\n",
       "1  박건우   두산\n",
       "2  박민우   NC\n",
       "3  나성범   NC\n",
       "4  박용택   LG"
      ]
     },
     "execution_count": 30,
     "metadata": {},
     "output_type": "execute_result"
    }
   ],
   "source": [
    "data3[ ['선수명' , '팀명'] ].head(5)"
   ]
  },
  {
   "cell_type": "code",
   "execution_count": 31,
   "metadata": {},
   "outputs": [
    {
     "data": {
      "text/html": [
       "<div>\n",
       "<style scoped>\n",
       "    .dataframe tbody tr th:only-of-type {\n",
       "        vertical-align: middle;\n",
       "    }\n",
       "\n",
       "    .dataframe tbody tr th {\n",
       "        vertical-align: top;\n",
       "    }\n",
       "\n",
       "    .dataframe thead th {\n",
       "        text-align: right;\n",
       "    }\n",
       "</style>\n",
       "<table border=\"1\" class=\"dataframe\">\n",
       "  <thead>\n",
       "    <tr style=\"text-align: right;\">\n",
       "      <th></th>\n",
       "      <th>경기수</th>\n",
       "      <th>득점</th>\n",
       "      <th>선수명</th>\n",
       "      <th>순위</th>\n",
       "      <th>타수</th>\n",
       "      <th>타율</th>\n",
       "      <th>타점</th>\n",
       "      <th>팀명</th>\n",
       "      <th>홈런</th>\n",
       "    </tr>\n",
       "  </thead>\n",
       "  <tbody>\n",
       "    <tr>\n",
       "      <th>0</th>\n",
       "      <td>137</td>\n",
       "      <td>84</td>\n",
       "      <td>김선빈</td>\n",
       "      <td>1</td>\n",
       "      <td>476</td>\n",
       "      <td>0.370</td>\n",
       "      <td>64</td>\n",
       "      <td>KIA</td>\n",
       "      <td>5</td>\n",
       "    </tr>\n",
       "    <tr>\n",
       "      <th>1</th>\n",
       "      <td>131</td>\n",
       "      <td>91</td>\n",
       "      <td>박건우</td>\n",
       "      <td>2</td>\n",
       "      <td>483</td>\n",
       "      <td>0.366</td>\n",
       "      <td>78</td>\n",
       "      <td>두산</td>\n",
       "      <td>20</td>\n",
       "    </tr>\n",
       "    <tr>\n",
       "      <th>2</th>\n",
       "      <td>106</td>\n",
       "      <td>84</td>\n",
       "      <td>박민우</td>\n",
       "      <td>3</td>\n",
       "      <td>388</td>\n",
       "      <td>0.363</td>\n",
       "      <td>47</td>\n",
       "      <td>NC</td>\n",
       "      <td>3</td>\n",
       "    </tr>\n",
       "    <tr>\n",
       "      <th>3</th>\n",
       "      <td>125</td>\n",
       "      <td>103</td>\n",
       "      <td>나성범</td>\n",
       "      <td>4</td>\n",
       "      <td>498</td>\n",
       "      <td>0.347</td>\n",
       "      <td>99</td>\n",
       "      <td>NC</td>\n",
       "      <td>24</td>\n",
       "    </tr>\n",
       "    <tr>\n",
       "      <th>4</th>\n",
       "      <td>138</td>\n",
       "      <td>83</td>\n",
       "      <td>박용택</td>\n",
       "      <td>5</td>\n",
       "      <td>509</td>\n",
       "      <td>0.344</td>\n",
       "      <td>90</td>\n",
       "      <td>LG</td>\n",
       "      <td>14</td>\n",
       "    </tr>\n",
       "  </tbody>\n",
       "</table>\n",
       "</div>"
      ],
      "text/plain": [
       "   경기수   득점  선수명  순위   타수     타율  타점   팀명  홈런\n",
       "0  137   84  김선빈   1  476  0.370  64  KIA   5\n",
       "1  131   91  박건우   2  483  0.366  78   두산  20\n",
       "2  106   84  박민우   3  388  0.363  47   NC   3\n",
       "3  125  103  나성범   4  498  0.347  99   NC  24\n",
       "4  138   83  박용택   5  509  0.344  90   LG  14"
      ]
     },
     "execution_count": 31,
     "metadata": {},
     "output_type": "execute_result"
    }
   ],
   "source": [
    "# 특정 컬럼 값을 제외한 나머지 출력하기\n",
    "data3[ data3.columns.difference(['안타' , '2루타' , '3루타']) ].head(5)"
   ]
  },
  {
   "cell_type": "code",
   "execution_count": 32,
   "metadata": {},
   "outputs": [
    {
     "data": {
      "text/html": [
       "<div>\n",
       "<style scoped>\n",
       "    .dataframe tbody tr th:only-of-type {\n",
       "        vertical-align: middle;\n",
       "    }\n",
       "\n",
       "    .dataframe tbody tr th {\n",
       "        vertical-align: top;\n",
       "    }\n",
       "\n",
       "    .dataframe thead th {\n",
       "        text-align: right;\n",
       "    }\n",
       "</style>\n",
       "<table border=\"1\" class=\"dataframe\">\n",
       "  <thead>\n",
       "    <tr style=\"text-align: right;\">\n",
       "      <th></th>\n",
       "      <th>순위</th>\n",
       "      <th>선수명</th>\n",
       "      <th>팀명</th>\n",
       "      <th>타율</th>\n",
       "      <th>경기수</th>\n",
       "      <th>타수</th>\n",
       "      <th>득점</th>\n",
       "      <th>안타</th>\n",
       "      <th>2루타</th>\n",
       "      <th>3루타</th>\n",
       "      <th>홈런</th>\n",
       "      <th>타점</th>\n",
       "    </tr>\n",
       "  </thead>\n",
       "  <tbody>\n",
       "    <tr>\n",
       "      <th>0</th>\n",
       "      <td>1</td>\n",
       "      <td>김선빈</td>\n",
       "      <td>KIA</td>\n",
       "      <td>0.370</td>\n",
       "      <td>137</td>\n",
       "      <td>476</td>\n",
       "      <td>84</td>\n",
       "      <td>176</td>\n",
       "      <td>34</td>\n",
       "      <td>1</td>\n",
       "      <td>5</td>\n",
       "      <td>64</td>\n",
       "    </tr>\n",
       "    <tr>\n",
       "      <th>2</th>\n",
       "      <td>3</td>\n",
       "      <td>박민우</td>\n",
       "      <td>NC</td>\n",
       "      <td>0.363</td>\n",
       "      <td>106</td>\n",
       "      <td>388</td>\n",
       "      <td>84</td>\n",
       "      <td>141</td>\n",
       "      <td>25</td>\n",
       "      <td>4</td>\n",
       "      <td>3</td>\n",
       "      <td>47</td>\n",
       "    </tr>\n",
       "    <tr>\n",
       "      <th>3</th>\n",
       "      <td>4</td>\n",
       "      <td>나성범</td>\n",
       "      <td>NC</td>\n",
       "      <td>0.347</td>\n",
       "      <td>125</td>\n",
       "      <td>498</td>\n",
       "      <td>103</td>\n",
       "      <td>173</td>\n",
       "      <td>42</td>\n",
       "      <td>2</td>\n",
       "      <td>24</td>\n",
       "      <td>99</td>\n",
       "    </tr>\n",
       "    <tr>\n",
       "      <th>4</th>\n",
       "      <td>5</td>\n",
       "      <td>박용택</td>\n",
       "      <td>LG</td>\n",
       "      <td>0.344</td>\n",
       "      <td>138</td>\n",
       "      <td>509</td>\n",
       "      <td>83</td>\n",
       "      <td>175</td>\n",
       "      <td>23</td>\n",
       "      <td>2</td>\n",
       "      <td>14</td>\n",
       "      <td>90</td>\n",
       "    </tr>\n",
       "    <tr>\n",
       "      <th>5</th>\n",
       "      <td>6</td>\n",
       "      <td>최형우</td>\n",
       "      <td>KIA</td>\n",
       "      <td>0.342</td>\n",
       "      <td>142</td>\n",
       "      <td>514</td>\n",
       "      <td>98</td>\n",
       "      <td>176</td>\n",
       "      <td>36</td>\n",
       "      <td>3</td>\n",
       "      <td>26</td>\n",
       "      <td>120</td>\n",
       "    </tr>\n",
       "    <tr>\n",
       "      <th>7</th>\n",
       "      <td>8</td>\n",
       "      <td>로사리오</td>\n",
       "      <td>한화</td>\n",
       "      <td>0.339</td>\n",
       "      <td>119</td>\n",
       "      <td>445</td>\n",
       "      <td>100</td>\n",
       "      <td>151</td>\n",
       "      <td>30</td>\n",
       "      <td>1</td>\n",
       "      <td>37</td>\n",
       "      <td>111</td>\n",
       "    </tr>\n",
       "    <tr>\n",
       "      <th>8</th>\n",
       "      <td>9</td>\n",
       "      <td>손아섭</td>\n",
       "      <td>롯데</td>\n",
       "      <td>0.335</td>\n",
       "      <td>144</td>\n",
       "      <td>576</td>\n",
       "      <td>113</td>\n",
       "      <td>193</td>\n",
       "      <td>35</td>\n",
       "      <td>4</td>\n",
       "      <td>20</td>\n",
       "      <td>80</td>\n",
       "    </tr>\n",
       "    <tr>\n",
       "      <th>9</th>\n",
       "      <td>10</td>\n",
       "      <td>서건창</td>\n",
       "      <td>넥센</td>\n",
       "      <td>0.332</td>\n",
       "      <td>139</td>\n",
       "      <td>539</td>\n",
       "      <td>87</td>\n",
       "      <td>179</td>\n",
       "      <td>28</td>\n",
       "      <td>3</td>\n",
       "      <td>6</td>\n",
       "      <td>76</td>\n",
       "    </tr>\n",
       "    <tr>\n",
       "      <th>10</th>\n",
       "      <td>11</td>\n",
       "      <td>이명기</td>\n",
       "      <td>KIA</td>\n",
       "      <td>0.332</td>\n",
       "      <td>115</td>\n",
       "      <td>464</td>\n",
       "      <td>79</td>\n",
       "      <td>154</td>\n",
       "      <td>24</td>\n",
       "      <td>4</td>\n",
       "      <td>9</td>\n",
       "      <td>63</td>\n",
       "    </tr>\n",
       "    <tr>\n",
       "      <th>11</th>\n",
       "      <td>12</td>\n",
       "      <td>송광민</td>\n",
       "      <td>한화</td>\n",
       "      <td>0.327</td>\n",
       "      <td>117</td>\n",
       "      <td>437</td>\n",
       "      <td>71</td>\n",
       "      <td>143</td>\n",
       "      <td>26</td>\n",
       "      <td>0</td>\n",
       "      <td>13</td>\n",
       "      <td>75</td>\n",
       "    </tr>\n",
       "    <tr>\n",
       "      <th>12</th>\n",
       "      <td>13</td>\n",
       "      <td>이정후</td>\n",
       "      <td>넥센</td>\n",
       "      <td>0.324</td>\n",
       "      <td>144</td>\n",
       "      <td>552</td>\n",
       "      <td>111</td>\n",
       "      <td>179</td>\n",
       "      <td>29</td>\n",
       "      <td>8</td>\n",
       "      <td>2</td>\n",
       "      <td>47</td>\n",
       "    </tr>\n",
       "    <tr>\n",
       "      <th>13</th>\n",
       "      <td>14</td>\n",
       "      <td>전준우</td>\n",
       "      <td>롯데</td>\n",
       "      <td>0.321</td>\n",
       "      <td>110</td>\n",
       "      <td>455</td>\n",
       "      <td>76</td>\n",
       "      <td>146</td>\n",
       "      <td>27</td>\n",
       "      <td>1</td>\n",
       "      <td>18</td>\n",
       "      <td>69</td>\n",
       "    </tr>\n",
       "    <tr>\n",
       "      <th>14</th>\n",
       "      <td>15</td>\n",
       "      <td>이대호</td>\n",
       "      <td>롯데</td>\n",
       "      <td>0.320</td>\n",
       "      <td>142</td>\n",
       "      <td>540</td>\n",
       "      <td>73</td>\n",
       "      <td>173</td>\n",
       "      <td>13</td>\n",
       "      <td>0</td>\n",
       "      <td>34</td>\n",
       "      <td>111</td>\n",
       "    </tr>\n",
       "    <tr>\n",
       "      <th>15</th>\n",
       "      <td>16</td>\n",
       "      <td>버나디나</td>\n",
       "      <td>KIA</td>\n",
       "      <td>0.320</td>\n",
       "      <td>139</td>\n",
       "      <td>557</td>\n",
       "      <td>118</td>\n",
       "      <td>178</td>\n",
       "      <td>26</td>\n",
       "      <td>8</td>\n",
       "      <td>27</td>\n",
       "      <td>111</td>\n",
       "    </tr>\n",
       "    <tr>\n",
       "      <th>16</th>\n",
       "      <td>17</td>\n",
       "      <td>최정</td>\n",
       "      <td>SK</td>\n",
       "      <td>0.316</td>\n",
       "      <td>130</td>\n",
       "      <td>430</td>\n",
       "      <td>89</td>\n",
       "      <td>136</td>\n",
       "      <td>18</td>\n",
       "      <td>1</td>\n",
       "      <td>46</td>\n",
       "      <td>113</td>\n",
       "    </tr>\n",
       "    <tr>\n",
       "      <th>17</th>\n",
       "      <td>18</td>\n",
       "      <td>안치홍</td>\n",
       "      <td>KIA</td>\n",
       "      <td>0.316</td>\n",
       "      <td>132</td>\n",
       "      <td>487</td>\n",
       "      <td>95</td>\n",
       "      <td>154</td>\n",
       "      <td>29</td>\n",
       "      <td>2</td>\n",
       "      <td>21</td>\n",
       "      <td>93</td>\n",
       "    </tr>\n",
       "    <tr>\n",
       "      <th>18</th>\n",
       "      <td>19</td>\n",
       "      <td>러프</td>\n",
       "      <td>삼성</td>\n",
       "      <td>0.315</td>\n",
       "      <td>134</td>\n",
       "      <td>515</td>\n",
       "      <td>90</td>\n",
       "      <td>162</td>\n",
       "      <td>38</td>\n",
       "      <td>0</td>\n",
       "      <td>31</td>\n",
       "      <td>124</td>\n",
       "    </tr>\n",
       "    <tr>\n",
       "      <th>19</th>\n",
       "      <td>20</td>\n",
       "      <td>윤석민</td>\n",
       "      <td>kt</td>\n",
       "      <td>0.312</td>\n",
       "      <td>142</td>\n",
       "      <td>538</td>\n",
       "      <td>90</td>\n",
       "      <td>168</td>\n",
       "      <td>30</td>\n",
       "      <td>1</td>\n",
       "      <td>20</td>\n",
       "      <td>105</td>\n",
       "    </tr>\n",
       "    <tr>\n",
       "      <th>20</th>\n",
       "      <td>21</td>\n",
       "      <td>모창민</td>\n",
       "      <td>NC</td>\n",
       "      <td>0.312</td>\n",
       "      <td>136</td>\n",
       "      <td>474</td>\n",
       "      <td>64</td>\n",
       "      <td>148</td>\n",
       "      <td>25</td>\n",
       "      <td>3</td>\n",
       "      <td>17</td>\n",
       "      <td>90</td>\n",
       "    </tr>\n",
       "    <tr>\n",
       "      <th>21</th>\n",
       "      <td>22</td>\n",
       "      <td>고종욱</td>\n",
       "      <td>넥센</td>\n",
       "      <td>0.312</td>\n",
       "      <td>123</td>\n",
       "      <td>426</td>\n",
       "      <td>70</td>\n",
       "      <td>133</td>\n",
       "      <td>24</td>\n",
       "      <td>8</td>\n",
       "      <td>8</td>\n",
       "      <td>54</td>\n",
       "    </tr>\n",
       "    <tr>\n",
       "      <th>22</th>\n",
       "      <td>23</td>\n",
       "      <td>구자욱</td>\n",
       "      <td>삼성</td>\n",
       "      <td>0.310</td>\n",
       "      <td>144</td>\n",
       "      <td>564</td>\n",
       "      <td>108</td>\n",
       "      <td>175</td>\n",
       "      <td>39</td>\n",
       "      <td>10</td>\n",
       "      <td>21</td>\n",
       "      <td>107</td>\n",
       "    </tr>\n",
       "    <tr>\n",
       "      <th>23</th>\n",
       "      <td>24</td>\n",
       "      <td>김주찬</td>\n",
       "      <td>KIA</td>\n",
       "      <td>0.309</td>\n",
       "      <td>122</td>\n",
       "      <td>440</td>\n",
       "      <td>78</td>\n",
       "      <td>136</td>\n",
       "      <td>39</td>\n",
       "      <td>2</td>\n",
       "      <td>12</td>\n",
       "      <td>70</td>\n",
       "    </tr>\n",
       "    <tr>\n",
       "      <th>25</th>\n",
       "      <td>26</td>\n",
       "      <td>유한준</td>\n",
       "      <td>kt</td>\n",
       "      <td>0.306</td>\n",
       "      <td>133</td>\n",
       "      <td>445</td>\n",
       "      <td>52</td>\n",
       "      <td>136</td>\n",
       "      <td>19</td>\n",
       "      <td>0</td>\n",
       "      <td>13</td>\n",
       "      <td>68</td>\n",
       "    </tr>\n",
       "    <tr>\n",
       "      <th>27</th>\n",
       "      <td>28</td>\n",
       "      <td>강한울</td>\n",
       "      <td>삼성</td>\n",
       "      <td>0.303</td>\n",
       "      <td>135</td>\n",
       "      <td>412</td>\n",
       "      <td>58</td>\n",
       "      <td>125</td>\n",
       "      <td>9</td>\n",
       "      <td>3</td>\n",
       "      <td>0</td>\n",
       "      <td>24</td>\n",
       "    </tr>\n",
       "    <tr>\n",
       "      <th>28</th>\n",
       "      <td>29</td>\n",
       "      <td>번즈</td>\n",
       "      <td>롯데</td>\n",
       "      <td>0.303</td>\n",
       "      <td>116</td>\n",
       "      <td>423</td>\n",
       "      <td>71</td>\n",
       "      <td>128</td>\n",
       "      <td>38</td>\n",
       "      <td>0</td>\n",
       "      <td>15</td>\n",
       "      <td>57</td>\n",
       "    </tr>\n",
       "    <tr>\n",
       "      <th>29</th>\n",
       "      <td>30</td>\n",
       "      <td>김하성</td>\n",
       "      <td>넥센</td>\n",
       "      <td>0.302</td>\n",
       "      <td>141</td>\n",
       "      <td>526</td>\n",
       "      <td>90</td>\n",
       "      <td>159</td>\n",
       "      <td>36</td>\n",
       "      <td>3</td>\n",
       "      <td>23</td>\n",
       "      <td>114</td>\n",
       "    </tr>\n",
       "  </tbody>\n",
       "</table>\n",
       "</div>"
      ],
      "text/plain": [
       "    순위   선수명   팀명     타율  경기수   타수   득점   안타  2루타  3루타  홈런   타점\n",
       "0    1   김선빈  KIA  0.370  137  476   84  176   34    1   5   64\n",
       "2    3   박민우   NC  0.363  106  388   84  141   25    4   3   47\n",
       "3    4   나성범   NC  0.347  125  498  103  173   42    2  24   99\n",
       "4    5   박용택   LG  0.344  138  509   83  175   23    2  14   90\n",
       "5    6   최형우  KIA  0.342  142  514   98  176   36    3  26  120\n",
       "7    8  로사리오   한화  0.339  119  445  100  151   30    1  37  111\n",
       "8    9   손아섭   롯데  0.335  144  576  113  193   35    4  20   80\n",
       "9   10   서건창   넥센  0.332  139  539   87  179   28    3   6   76\n",
       "10  11   이명기  KIA  0.332  115  464   79  154   24    4   9   63\n",
       "11  12   송광민   한화  0.327  117  437   71  143   26    0  13   75\n",
       "12  13   이정후   넥센  0.324  144  552  111  179   29    8   2   47\n",
       "13  14   전준우   롯데  0.321  110  455   76  146   27    1  18   69\n",
       "14  15   이대호   롯데  0.320  142  540   73  173   13    0  34  111\n",
       "15  16  버나디나  KIA  0.320  139  557  118  178   26    8  27  111\n",
       "16  17    최정   SK  0.316  130  430   89  136   18    1  46  113\n",
       "17  18   안치홍  KIA  0.316  132  487   95  154   29    2  21   93\n",
       "18  19    러프   삼성  0.315  134  515   90  162   38    0  31  124\n",
       "19  20   윤석민   kt  0.312  142  538   90  168   30    1  20  105\n",
       "20  21   모창민   NC  0.312  136  474   64  148   25    3  17   90\n",
       "21  22   고종욱   넥센  0.312  123  426   70  133   24    8   8   54\n",
       "22  23   구자욱   삼성  0.310  144  564  108  175   39   10  21  107\n",
       "23  24   김주찬  KIA  0.309  122  440   78  136   39    2  12   70\n",
       "25  26   유한준   kt  0.306  133  445   52  136   19    0  13   68\n",
       "27  28   강한울   삼성  0.303  135  412   58  125    9    3   0   24\n",
       "28  29    번즈   롯데  0.303  116  423   71  128   38    0  15   57\n",
       "29  30   김하성   넥센  0.302  141  526   90  159   36    3  23  114"
      ]
     },
     "execution_count": 32,
     "metadata": {},
     "output_type": "execute_result"
    }
   ],
   "source": [
    "# 특정 문자를 포함하는 행 삭제하기\n",
    "data4 = data3[~ data3['팀명'].str.contains('두산')]\n",
    "data4"
   ]
  },
  {
   "cell_type": "code",
   "execution_count": null,
   "metadata": {},
   "outputs": [],
   "source": [
    "data3.head(5)"
   ]
  },
  {
   "cell_type": "code",
   "execution_count": 33,
   "metadata": {},
   "outputs": [
    {
     "data": {
      "text/plain": [
       "순위        1\n",
       "선수명     김선빈\n",
       "팀명      KIA\n",
       "타율     0.37\n",
       "경기수     137\n",
       "타수      476\n",
       "득점       84\n",
       "안타      176\n",
       "2루타      34\n",
       "3루타       1\n",
       "홈런        5\n",
       "타점       64\n",
       "Name: 0, dtype: object"
      ]
     },
     "execution_count": 33,
     "metadata": {},
     "output_type": "execute_result"
    }
   ],
   "source": [
    "# 행 조회하기\n",
    "data3.loc[0]"
   ]
  },
  {
   "cell_type": "code",
   "execution_count": 34,
   "metadata": {},
   "outputs": [
    {
     "data": {
      "text/plain": [
       "순위        1\n",
       "선수명     김선빈\n",
       "팀명      KIA\n",
       "타율     0.37\n",
       "경기수     137\n",
       "타수      476\n",
       "득점       84\n",
       "안타      176\n",
       "2루타      34\n",
       "3루타       1\n",
       "홈런        5\n",
       "타점       64\n",
       "Name: 0, dtype: object"
      ]
     },
     "execution_count": 34,
     "metadata": {},
     "output_type": "execute_result"
    }
   ],
   "source": [
    "data3.iloc[0]"
   ]
  },
  {
   "cell_type": "code",
   "execution_count": null,
   "metadata": {},
   "outputs": [],
   "source": [
    "member=pd.Series(['홍길동','전우치','강감찬','스티브잡스'],\n",
    "                index = ['1번','2번','3번','4번'])\n",
    "member"
   ]
  },
  {
   "cell_type": "code",
   "execution_count": null,
   "metadata": {},
   "outputs": [],
   "source": [
    "member.loc[0]"
   ]
  },
  {
   "cell_type": "code",
   "execution_count": null,
   "metadata": {},
   "outputs": [],
   "source": [
    "member.iloc[0]"
   ]
  },
  {
   "cell_type": "code",
   "execution_count": 35,
   "metadata": {},
   "outputs": [
    {
     "data": {
      "text/html": [
       "<div>\n",
       "<style scoped>\n",
       "    .dataframe tbody tr th:only-of-type {\n",
       "        vertical-align: middle;\n",
       "    }\n",
       "\n",
       "    .dataframe tbody tr th {\n",
       "        vertical-align: top;\n",
       "    }\n",
       "\n",
       "    .dataframe thead th {\n",
       "        text-align: right;\n",
       "    }\n",
       "</style>\n",
       "<table border=\"1\" class=\"dataframe\">\n",
       "  <thead>\n",
       "    <tr style=\"text-align: right;\">\n",
       "      <th></th>\n",
       "      <th>순위</th>\n",
       "      <th>선수명</th>\n",
       "      <th>팀명</th>\n",
       "      <th>타율</th>\n",
       "      <th>경기수</th>\n",
       "      <th>타수</th>\n",
       "      <th>득점</th>\n",
       "      <th>안타</th>\n",
       "      <th>2루타</th>\n",
       "      <th>3루타</th>\n",
       "      <th>홈런</th>\n",
       "      <th>타점</th>\n",
       "    </tr>\n",
       "  </thead>\n",
       "  <tbody>\n",
       "    <tr>\n",
       "      <th>0</th>\n",
       "      <td>1</td>\n",
       "      <td>김선빈</td>\n",
       "      <td>KIA</td>\n",
       "      <td>0.370</td>\n",
       "      <td>137</td>\n",
       "      <td>476</td>\n",
       "      <td>84</td>\n",
       "      <td>176</td>\n",
       "      <td>34</td>\n",
       "      <td>1</td>\n",
       "      <td>5</td>\n",
       "      <td>64</td>\n",
       "    </tr>\n",
       "    <tr>\n",
       "      <th>1</th>\n",
       "      <td>2</td>\n",
       "      <td>박건우</td>\n",
       "      <td>두산</td>\n",
       "      <td>0.366</td>\n",
       "      <td>131</td>\n",
       "      <td>483</td>\n",
       "      <td>91</td>\n",
       "      <td>177</td>\n",
       "      <td>40</td>\n",
       "      <td>2</td>\n",
       "      <td>20</td>\n",
       "      <td>78</td>\n",
       "    </tr>\n",
       "    <tr>\n",
       "      <th>2</th>\n",
       "      <td>3</td>\n",
       "      <td>박민우</td>\n",
       "      <td>NC</td>\n",
       "      <td>0.363</td>\n",
       "      <td>106</td>\n",
       "      <td>388</td>\n",
       "      <td>84</td>\n",
       "      <td>141</td>\n",
       "      <td>25</td>\n",
       "      <td>4</td>\n",
       "      <td>3</td>\n",
       "      <td>47</td>\n",
       "    </tr>\n",
       "    <tr>\n",
       "      <th>3</th>\n",
       "      <td>4</td>\n",
       "      <td>나성범</td>\n",
       "      <td>NC</td>\n",
       "      <td>0.347</td>\n",
       "      <td>125</td>\n",
       "      <td>498</td>\n",
       "      <td>103</td>\n",
       "      <td>173</td>\n",
       "      <td>42</td>\n",
       "      <td>2</td>\n",
       "      <td>24</td>\n",
       "      <td>99</td>\n",
       "    </tr>\n",
       "  </tbody>\n",
       "</table>\n",
       "</div>"
      ],
      "text/plain": [
       "   순위  선수명   팀명     타율  경기수   타수   득점   안타  2루타  3루타  홈런  타점\n",
       "0   1  김선빈  KIA  0.370  137  476   84  176   34    1   5  64\n",
       "1   2  박건우   두산  0.366  131  483   91  177   40    2  20  78\n",
       "2   3  박민우   NC  0.363  106  388   84  141   25    4   3  47\n",
       "3   4  나성범   NC  0.347  125  498  103  173   42    2  24  99"
      ]
     },
     "execution_count": 35,
     "metadata": {},
     "output_type": "execute_result"
    }
   ],
   "source": [
    "data3.loc[ 0 : 3 ] "
   ]
  },
  {
   "cell_type": "code",
   "execution_count": 36,
   "metadata": {},
   "outputs": [
    {
     "data": {
      "text/html": [
       "<div>\n",
       "<style scoped>\n",
       "    .dataframe tbody tr th:only-of-type {\n",
       "        vertical-align: middle;\n",
       "    }\n",
       "\n",
       "    .dataframe tbody tr th {\n",
       "        vertical-align: top;\n",
       "    }\n",
       "\n",
       "    .dataframe thead th {\n",
       "        text-align: right;\n",
       "    }\n",
       "</style>\n",
       "<table border=\"1\" class=\"dataframe\">\n",
       "  <thead>\n",
       "    <tr style=\"text-align: right;\">\n",
       "      <th></th>\n",
       "      <th>순위</th>\n",
       "      <th>선수명</th>\n",
       "      <th>팀명</th>\n",
       "      <th>타율</th>\n",
       "      <th>경기수</th>\n",
       "      <th>타수</th>\n",
       "      <th>득점</th>\n",
       "      <th>안타</th>\n",
       "      <th>2루타</th>\n",
       "      <th>3루타</th>\n",
       "      <th>홈런</th>\n",
       "      <th>타점</th>\n",
       "    </tr>\n",
       "  </thead>\n",
       "  <tbody>\n",
       "    <tr>\n",
       "      <th>0</th>\n",
       "      <td>1</td>\n",
       "      <td>김선빈</td>\n",
       "      <td>KIA</td>\n",
       "      <td>0.370</td>\n",
       "      <td>137</td>\n",
       "      <td>476</td>\n",
       "      <td>84</td>\n",
       "      <td>176</td>\n",
       "      <td>34</td>\n",
       "      <td>1</td>\n",
       "      <td>5</td>\n",
       "      <td>64</td>\n",
       "    </tr>\n",
       "    <tr>\n",
       "      <th>1</th>\n",
       "      <td>2</td>\n",
       "      <td>박건우</td>\n",
       "      <td>두산</td>\n",
       "      <td>0.366</td>\n",
       "      <td>131</td>\n",
       "      <td>483</td>\n",
       "      <td>91</td>\n",
       "      <td>177</td>\n",
       "      <td>40</td>\n",
       "      <td>2</td>\n",
       "      <td>20</td>\n",
       "      <td>78</td>\n",
       "    </tr>\n",
       "    <tr>\n",
       "      <th>2</th>\n",
       "      <td>3</td>\n",
       "      <td>박민우</td>\n",
       "      <td>NC</td>\n",
       "      <td>0.363</td>\n",
       "      <td>106</td>\n",
       "      <td>388</td>\n",
       "      <td>84</td>\n",
       "      <td>141</td>\n",
       "      <td>25</td>\n",
       "      <td>4</td>\n",
       "      <td>3</td>\n",
       "      <td>47</td>\n",
       "    </tr>\n",
       "    <tr>\n",
       "      <th>3</th>\n",
       "      <td>4</td>\n",
       "      <td>나성범</td>\n",
       "      <td>NC</td>\n",
       "      <td>0.347</td>\n",
       "      <td>125</td>\n",
       "      <td>498</td>\n",
       "      <td>103</td>\n",
       "      <td>173</td>\n",
       "      <td>42</td>\n",
       "      <td>2</td>\n",
       "      <td>24</td>\n",
       "      <td>99</td>\n",
       "    </tr>\n",
       "  </tbody>\n",
       "</table>\n",
       "</div>"
      ],
      "text/plain": [
       "   순위  선수명   팀명     타율  경기수   타수   득점   안타  2루타  3루타  홈런  타점\n",
       "0   1  김선빈  KIA  0.370  137  476   84  176   34    1   5  64\n",
       "1   2  박건우   두산  0.366  131  483   91  177   40    2  20  78\n",
       "2   3  박민우   NC  0.363  106  388   84  141   25    4   3  47\n",
       "3   4  나성범   NC  0.347  125  498  103  173   42    2  24  99"
      ]
     },
     "execution_count": 36,
     "metadata": {},
     "output_type": "execute_result"
    }
   ],
   "source": [
    "data3.loc[  : 3 ] "
   ]
  },
  {
   "cell_type": "code",
   "execution_count": 37,
   "metadata": {},
   "outputs": [
    {
     "data": {
      "text/html": [
       "<div>\n",
       "<style scoped>\n",
       "    .dataframe tbody tr th:only-of-type {\n",
       "        vertical-align: middle;\n",
       "    }\n",
       "\n",
       "    .dataframe tbody tr th {\n",
       "        vertical-align: top;\n",
       "    }\n",
       "\n",
       "    .dataframe thead th {\n",
       "        text-align: right;\n",
       "    }\n",
       "</style>\n",
       "<table border=\"1\" class=\"dataframe\">\n",
       "  <thead>\n",
       "    <tr style=\"text-align: right;\">\n",
       "      <th></th>\n",
       "      <th>순위</th>\n",
       "      <th>선수명</th>\n",
       "      <th>팀명</th>\n",
       "      <th>타율</th>\n",
       "      <th>경기수</th>\n",
       "      <th>타수</th>\n",
       "      <th>득점</th>\n",
       "      <th>안타</th>\n",
       "      <th>2루타</th>\n",
       "      <th>3루타</th>\n",
       "      <th>홈런</th>\n",
       "      <th>타점</th>\n",
       "    </tr>\n",
       "  </thead>\n",
       "  <tbody>\n",
       "    <tr>\n",
       "      <th>25</th>\n",
       "      <td>26</td>\n",
       "      <td>유한준</td>\n",
       "      <td>kt</td>\n",
       "      <td>0.306</td>\n",
       "      <td>133</td>\n",
       "      <td>445</td>\n",
       "      <td>52</td>\n",
       "      <td>136</td>\n",
       "      <td>19</td>\n",
       "      <td>0</td>\n",
       "      <td>13</td>\n",
       "      <td>68</td>\n",
       "    </tr>\n",
       "    <tr>\n",
       "      <th>26</th>\n",
       "      <td>27</td>\n",
       "      <td>민병헌</td>\n",
       "      <td>두산</td>\n",
       "      <td>0.304</td>\n",
       "      <td>123</td>\n",
       "      <td>447</td>\n",
       "      <td>73</td>\n",
       "      <td>136</td>\n",
       "      <td>21</td>\n",
       "      <td>0</td>\n",
       "      <td>14</td>\n",
       "      <td>71</td>\n",
       "    </tr>\n",
       "    <tr>\n",
       "      <th>27</th>\n",
       "      <td>28</td>\n",
       "      <td>강한울</td>\n",
       "      <td>삼성</td>\n",
       "      <td>0.303</td>\n",
       "      <td>135</td>\n",
       "      <td>412</td>\n",
       "      <td>58</td>\n",
       "      <td>125</td>\n",
       "      <td>9</td>\n",
       "      <td>3</td>\n",
       "      <td>0</td>\n",
       "      <td>24</td>\n",
       "    </tr>\n",
       "    <tr>\n",
       "      <th>28</th>\n",
       "      <td>29</td>\n",
       "      <td>번즈</td>\n",
       "      <td>롯데</td>\n",
       "      <td>0.303</td>\n",
       "      <td>116</td>\n",
       "      <td>423</td>\n",
       "      <td>71</td>\n",
       "      <td>128</td>\n",
       "      <td>38</td>\n",
       "      <td>0</td>\n",
       "      <td>15</td>\n",
       "      <td>57</td>\n",
       "    </tr>\n",
       "    <tr>\n",
       "      <th>29</th>\n",
       "      <td>30</td>\n",
       "      <td>김하성</td>\n",
       "      <td>넥센</td>\n",
       "      <td>0.302</td>\n",
       "      <td>141</td>\n",
       "      <td>526</td>\n",
       "      <td>90</td>\n",
       "      <td>159</td>\n",
       "      <td>36</td>\n",
       "      <td>3</td>\n",
       "      <td>23</td>\n",
       "      <td>114</td>\n",
       "    </tr>\n",
       "  </tbody>\n",
       "</table>\n",
       "</div>"
      ],
      "text/plain": [
       "    순위  선수명  팀명     타율  경기수   타수  득점   안타  2루타  3루타  홈런   타점\n",
       "25  26  유한준  kt  0.306  133  445  52  136   19    0  13   68\n",
       "26  27  민병헌  두산  0.304  123  447  73  136   21    0  14   71\n",
       "27  28  강한울  삼성  0.303  135  412  58  125    9    3   0   24\n",
       "28  29   번즈  롯데  0.303  116  423  71  128   38    0  15   57\n",
       "29  30  김하성  넥센  0.302  141  526  90  159   36    3  23  114"
      ]
     },
     "execution_count": 37,
     "metadata": {},
     "output_type": "execute_result"
    }
   ],
   "source": [
    "data3.loc[  25 :  ] "
   ]
  },
  {
   "cell_type": "code",
   "execution_count": 38,
   "metadata": {},
   "outputs": [
    {
     "data": {
      "text/plain": [
       "25    유한준\n",
       "26    민병헌\n",
       "27    강한울\n",
       "28     번즈\n",
       "29    김하성\n",
       "Name: 선수명, dtype: object"
      ]
     },
     "execution_count": 38,
     "metadata": {},
     "output_type": "execute_result"
    }
   ],
   "source": [
    "data3.loc[  25 :  , '선수명'] "
   ]
  },
  {
   "cell_type": "code",
   "execution_count": 39,
   "metadata": {},
   "outputs": [
    {
     "data": {
      "text/html": [
       "<div>\n",
       "<style scoped>\n",
       "    .dataframe tbody tr th:only-of-type {\n",
       "        vertical-align: middle;\n",
       "    }\n",
       "\n",
       "    .dataframe tbody tr th {\n",
       "        vertical-align: top;\n",
       "    }\n",
       "\n",
       "    .dataframe thead th {\n",
       "        text-align: right;\n",
       "    }\n",
       "</style>\n",
       "<table border=\"1\" class=\"dataframe\">\n",
       "  <thead>\n",
       "    <tr style=\"text-align: right;\">\n",
       "      <th></th>\n",
       "      <th>선수명</th>\n",
       "      <th>팀명</th>\n",
       "    </tr>\n",
       "  </thead>\n",
       "  <tbody>\n",
       "    <tr>\n",
       "      <th>25</th>\n",
       "      <td>유한준</td>\n",
       "      <td>kt</td>\n",
       "    </tr>\n",
       "    <tr>\n",
       "      <th>26</th>\n",
       "      <td>민병헌</td>\n",
       "      <td>두산</td>\n",
       "    </tr>\n",
       "    <tr>\n",
       "      <th>27</th>\n",
       "      <td>강한울</td>\n",
       "      <td>삼성</td>\n",
       "    </tr>\n",
       "    <tr>\n",
       "      <th>28</th>\n",
       "      <td>번즈</td>\n",
       "      <td>롯데</td>\n",
       "    </tr>\n",
       "    <tr>\n",
       "      <th>29</th>\n",
       "      <td>김하성</td>\n",
       "      <td>넥센</td>\n",
       "    </tr>\n",
       "  </tbody>\n",
       "</table>\n",
       "</div>"
      ],
      "text/plain": [
       "    선수명  팀명\n",
       "25  유한준  kt\n",
       "26  민병헌  두산\n",
       "27  강한울  삼성\n",
       "28   번즈  롯데\n",
       "29  김하성  넥센"
      ]
     },
     "execution_count": 39,
     "metadata": {},
     "output_type": "execute_result"
    }
   ],
   "source": [
    "data3.loc[  25 :  , ['선수명' , '팀명'] ]"
   ]
  },
  {
   "cell_type": "code",
   "execution_count": null,
   "metadata": {},
   "outputs": [],
   "source": [
    "data3.loc[ data3['홈런'] >= 30 ]"
   ]
  },
  {
   "cell_type": "code",
   "execution_count": null,
   "metadata": {},
   "outputs": [],
   "source": [
    "data3.loc[ (data3['홈런'] >= 30 ), ['순위','선수명','팀명','홈런'] ]"
   ]
  },
  {
   "cell_type": "code",
   "execution_count": null,
   "metadata": {},
   "outputs": [],
   "source": [
    "data3.loc[ (data3['홈런'] >= 30) & (data3['타점'] >= 115), ['순위','선수명','팀명','홈런', '타점'] ]"
   ]
  },
  {
   "cell_type": "code",
   "execution_count": null,
   "metadata": {},
   "outputs": [],
   "source": [
    "data3.loc[ (data3['홈런'] >= 30) | (data3['타점'] >= 115), ['순위','선수명','팀명','홈런', '타점'] ]"
   ]
  },
  {
   "cell_type": "code",
   "execution_count": null,
   "metadata": {},
   "outputs": [],
   "source": [
    "data3.loc[ (data3['홈런'] >= 30 ), ['순위','선수명','팀명','홈런'] ].sort_values('홈런')"
   ]
  },
  {
   "cell_type": "code",
   "execution_count": null,
   "metadata": {},
   "outputs": [],
   "source": [
    "data3.loc[ (data3['홈런'] >= 30 ), ['순위','선수명','팀명','홈런'] ].sort_values('홈런' , ascending=[False])"
   ]
  },
  {
   "cell_type": "code",
   "execution_count": 40,
   "metadata": {},
   "outputs": [
    {
     "data": {
      "text/html": [
       "<div>\n",
       "<style scoped>\n",
       "    .dataframe tbody tr th:only-of-type {\n",
       "        vertical-align: middle;\n",
       "    }\n",
       "\n",
       "    .dataframe tbody tr th {\n",
       "        vertical-align: top;\n",
       "    }\n",
       "\n",
       "    .dataframe thead th {\n",
       "        text-align: right;\n",
       "    }\n",
       "</style>\n",
       "<table border=\"1\" class=\"dataframe\">\n",
       "  <thead>\n",
       "    <tr style=\"text-align: right;\">\n",
       "      <th></th>\n",
       "      <th>번호</th>\n",
       "      <th>이름</th>\n",
       "      <th>매출</th>\n",
       "    </tr>\n",
       "  </thead>\n",
       "  <tbody>\n",
       "    <tr>\n",
       "      <th>0</th>\n",
       "      <td>1</td>\n",
       "      <td>홍길동</td>\n",
       "      <td>100.0</td>\n",
       "    </tr>\n",
       "    <tr>\n",
       "      <th>1</th>\n",
       "      <td>2</td>\n",
       "      <td>전우치</td>\n",
       "      <td>200.0</td>\n",
       "    </tr>\n",
       "    <tr>\n",
       "      <th>2</th>\n",
       "      <td>3</td>\n",
       "      <td>NaN</td>\n",
       "      <td>300.0</td>\n",
       "    </tr>\n",
       "    <tr>\n",
       "      <th>3</th>\n",
       "      <td>4</td>\n",
       "      <td>일지매</td>\n",
       "      <td>NaN</td>\n",
       "    </tr>\n",
       "    <tr>\n",
       "      <th>4</th>\n",
       "      <td>5</td>\n",
       "      <td>을지문덕</td>\n",
       "      <td>150.0</td>\n",
       "    </tr>\n",
       "    <tr>\n",
       "      <th>5</th>\n",
       "      <td>6</td>\n",
       "      <td>NaN</td>\n",
       "      <td>NaN</td>\n",
       "    </tr>\n",
       "    <tr>\n",
       "      <th>6</th>\n",
       "      <td>7</td>\n",
       "      <td>김유신</td>\n",
       "      <td>250.0</td>\n",
       "    </tr>\n",
       "  </tbody>\n",
       "</table>\n",
       "</div>"
      ],
      "text/plain": [
       "   번호    이름     매출\n",
       "0   1   홍길동  100.0\n",
       "1   2   전우치  200.0\n",
       "2   3   NaN  300.0\n",
       "3   4   일지매    NaN\n",
       "4   5  을지문덕  150.0\n",
       "5   6   NaN    NaN\n",
       "6   7   김유신  250.0"
      ]
     },
     "execution_count": 40,
     "metadata": {},
     "output_type": "execute_result"
    }
   ],
   "source": [
    "# NaN 형과 NULL 형 관리하기\n",
    "from numpy import nan as NA\n",
    "import pandas as pd\n",
    "\n",
    "member_4 = {'번호' : [1,2,3,4,5,6,7] ,\n",
    "            '이름' : ['홍길동','전우치',NA,'일지매','을지문덕',NA,'김유신'],\n",
    "            '매출' : [100,200,300,NA,150,NA ,250]}\n",
    "member_5 = pd.DataFrame(member_4)\n",
    "member_5"
   ]
  },
  {
   "cell_type": "code",
   "execution_count": 41,
   "metadata": {},
   "outputs": [
    {
     "data": {
      "text/plain": [
       "번호    7\n",
       "이름    5\n",
       "매출    5\n",
       "dtype: int64"
      ]
     },
     "execution_count": 41,
     "metadata": {},
     "output_type": "execute_result"
    }
   ],
   "source": [
    "member_5.count()"
   ]
  },
  {
   "cell_type": "code",
   "execution_count": 42,
   "metadata": {},
   "outputs": [
    {
     "name": "stdout",
     "output_type": "stream",
     "text": [
      "이름컬럼 결측치: 2\n",
      "매출컬럼 이상치: 2\n"
     ]
    }
   ],
   "source": [
    "import numpy as np\n",
    "\n",
    "print('이름컬럼 결측치:',np.count_nonzero(member_5['이름'].isnull( ) ))\n",
    "print('매출컬럼 이상치:',np.count_nonzero(member_5['매출'].isna( ) ))"
   ]
  },
  {
   "cell_type": "code",
   "execution_count": null,
   "metadata": {},
   "outputs": [],
   "source": [
    "#NaN 값을 특정 값으로 변경하기\n",
    "print(member_5.fillna(0) )\n",
    "print()\n",
    "print(member_5['이름'].fillna('이름없음'))"
   ]
  },
  {
   "cell_type": "code",
   "execution_count": null,
   "metadata": {},
   "outputs": [],
   "source": [
    "# NaN 값 삭제하기\n",
    "print(member_5)\n",
    "print()\n",
    "drop_member = member_5.dropna()\n",
    "print(drop_member)"
   ]
  },
  {
   "cell_type": "code",
   "execution_count": null,
   "metadata": {},
   "outputs": [],
   "source": [
    "member_5"
   ]
  },
  {
   "cell_type": "code",
   "execution_count": null,
   "metadata": {},
   "outputs": [],
   "source": []
  }
 ],
 "metadata": {
  "kernelspec": {
   "display_name": "Python 3 (ipykernel)",
   "language": "python",
   "name": "python3"
  },
  "language_info": {
   "codemirror_mode": {
    "name": "ipython",
    "version": 3
   },
   "file_extension": ".py",
   "mimetype": "text/x-python",
   "name": "python",
   "nbconvert_exporter": "python",
   "pygments_lexer": "ipython3",
   "version": "3.9.13"
  }
 },
 "nbformat": 4,
 "nbformat_minor": 2
}
