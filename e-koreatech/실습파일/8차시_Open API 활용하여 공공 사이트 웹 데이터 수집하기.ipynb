{
 "cells": [
  {
   "cell_type": "code",
   "execution_count": 7,
   "id": "dc08919e",
   "metadata": {},
   "outputs": [
    {
     "name": "stdout",
     "output_type": "stream",
     "text": [
      "{\"currentCount\":10,\"data\":[{\"경상자수\":\"8635\",\"부상신고자수\":\"757\",\"사고건수\":\"18390\",\"사고유형_대분류\":\"차대사람\",\"사고유형_중분류\":\"횡단중\",\"사망자수\":\"794\",\"중상자수\":\"9403\"},{\"경상자수\":\"2575\",\"부상신고자수\":\"276\",\"사고건수\":\"4742\",\"사고유형_대분류\":\"차대사람\",\"사고유형_중분류\":\"차도통행중\",\"사망자수\":\"205\",\"중상자수\":\"1888\"},{\"경상자수\":\"1989\",\"부상신고자수\":\"268\",\"사고건수\":\"3196\",\"사고유형_대분류\":\"차대사람\",\"사고유형_중분류\":\"길가장자리구역통행중\",\"사망자수\":\"69\",\"중상자수\":\"1013\"},{\"경상자수\":\"1281\",\"부상신고자수\":\"156\",\"사고건수\":\"2194\",\"사고유형_대분류\":\"차대사람\",\"사고유형_중분류\":\"보도통행중\",\"사망자수\":\"41\",\"중상자수\":\"893\"},{\"경상자수\":\"9750\",\"부상신고자수\":\"1253\",\"사고건수\":\"16726\",\"사고유형_대분류\":\"차대사람\",\"사고유형_중분류\":\"기타\",\"사망자수\":\"334\",\"중상자수\":\"6319\"},{\"경상자수\":\"7424\",\"부상신고자수\":\"576\",\"사고건수\":\"6554\",\"사고유형_대분류\":\"차대차\",\"사고유형_중분류\":\"정면충돌\",\"사망자수\":\"234\",\"중상자수\":\"3750\"},{\"경상자수\":\"88548\",\"부상신고자수\":\"7734\",\"사고건수\":\"76234\",\"사고유형_대분류\":\"차대차\",\"사고유형_중분류\":\"측면충돌\",\"사망자수\":\"545\",\"중상자수\":\"24422\"},{\"경상자수\":\"54788\",\"부상신고자수\":\"3964\",\"사고건수\":\"36615\",\"사고유형_대분류\":\"차대차\",\"사고유형_중분류\":\"추돌\",\"사망자수\":\"404\",\"중상자수\":\"10392\"},{\"경상자수\":\"43999\",\"부상신고자수\":\"4598\",\"사고건수\":\"40079\",\"사고유형_대분류\":\"차대차\",\"사고유형_중분류\":\"기타\",\"사망자수\":\"320\",\"중상자수\":\"11479\"},{\"경상자수\":\"3027\",\"부상신고자수\":\"129\",\"사고건수\":\"2517\",\"사고유형_대분류\":\"차대차\",\"사고유형_중분류\":\"후진중충돌\",\"사망자수\":\"2\",\"중상자수\":\"307\"}],\"matchCount\":17,\"page\":1,\"perPage\":10,\"totalCount\":17}\n",
      "\n"
     ]
    }
   ],
   "source": [
    "# 도로교통공단 정보 가져오기\n",
    "# 필요한 라이브러리 import 하기 \n",
    "import requests\n",
    "import pprint\n",
    "import json\n",
    "\n",
    "# Open API Key를 포함한 url 설정\n",
    "url = 'https://api.odcloud.kr/api/15070282/v1/uddi:00e5cb5a-ecdf-4190-a499-ba3a6b2a8db9?page=1&perPage=10&serviceKey=UiFE4ZUbqAOlmn3HURyC5mSxeh8Lu7XRbPXFT5pASfLn2WXy6fMINOsPYTisqb0wYumQLeZbGv%2B10XbnCAOJmA%3D%3D'\n",
    "\n",
    "# url에 접속 후 데이터 불러오기\n",
    "response = requests.get(url)\n",
    "\n",
    "# 불러온 데이터 확인하기\n",
    "contents = response.text\n",
    "print(contents)"
   ]
  },
  {
   "cell_type": "code",
   "execution_count": 8,
   "id": "6a4f4fb0",
   "metadata": {},
   "outputs": [
    {
     "name": "stdout",
     "output_type": "stream",
     "text": [
      "{'currentCount': 10, 'data': [{'경상자수': '8635', '부상신고자수': '757', '사고건수': '18390', '사고유형_대분류': '차대사람', '사고유형_중분류': '횡단중', '사망자수': '794', '중상자수': '9403'}, {'경상자수': '2575', '부상신고자수': '276', '사고건수': '4742', '사고유형_대분류': '차대사람', '사고유형_중분류': '차도통행중', '사망자수': '205', '중상자수': '1888'}, {'경상자수': '1989', '부상신고자수': '268', '사고건수': '3196', '사고유형_대분류': '차대사람', '사고유형_중분류': '길가장자리구역통행중', '사망자수': '69', '중상자수': '1013'}, {'경상자수': '1281', '부상신고자수': '156', '사고건수': '2194', '사고유형_대분류': '차대사람', '사고유형_중분류': '보도통행중', '사망자수': '41', '중상자수': '893'}, {'경상자수': '9750', '부상신고자수': '1253', '사고건수': '16726', '사고유형_대분류': '차대사람', '사고유형_중분류': '기타', '사망자수': '334', '중상자수': '6319'}, {'경상자수': '7424', '부상신고자수': '576', '사고건수': '6554', '사고유형_대분류': '차대차', '사고유형_중분류': '정면충돌', '사망자수': '234', '중상자수': '3750'}, {'경상자수': '88548', '부상신고자수': '7734', '사고건수': '76234', '사고유형_대분류': '차대차', '사고유형_중분류': '측면충돌', '사망자수': '545', '중상자수': '24422'}, {'경상자수': '54788', '부상신고자수': '3964', '사고건수': '36615', '사고유형_대분류': '차대차', '사고유형_중분류': '추돌', '사망자수': '404', '중상자수': '10392'}, {'경상자수': '43999', '부상신고자수': '4598', '사고건수': '40079', '사고유형_대분류': '차대차', '사고유형_중분류': '기타', '사망자수': '320', '중상자수': '11479'}, {'경상자수': '3027', '부상신고자수': '129', '사고건수': '2517', '사고유형_대분류': '차대차', '사고유형_중분류': '후진중충돌', '사망자수': '2', '중상자수': '307'}], 'matchCount': 17, 'page': 1, 'perPage': 10, 'totalCount': 17}\n",
      "\n",
      "데이터타입: <class 'dict'>\n"
     ]
    }
   ],
   "source": [
    "# 불러온 데이터를 json 형태로 변경\n",
    "json_data = json.loads(contents)\n",
    "print(json_data)\n",
    "print()\n",
    "print('데이터타입:',type(json_data)) #json타입 확인"
   ]
  },
  {
   "cell_type": "code",
   "execution_count": 9,
   "id": "16640096",
   "metadata": {},
   "outputs": [
    {
     "data": {
      "text/html": [
       "<div>\n",
       "<style scoped>\n",
       "    .dataframe tbody tr th:only-of-type {\n",
       "        vertical-align: middle;\n",
       "    }\n",
       "\n",
       "    .dataframe tbody tr th {\n",
       "        vertical-align: top;\n",
       "    }\n",
       "\n",
       "    .dataframe thead th {\n",
       "        text-align: right;\n",
       "    }\n",
       "</style>\n",
       "<table border=\"1\" class=\"dataframe\">\n",
       "  <thead>\n",
       "    <tr style=\"text-align: right;\">\n",
       "      <th></th>\n",
       "      <th>경상자수</th>\n",
       "      <th>부상신고자수</th>\n",
       "      <th>사고건수</th>\n",
       "      <th>사고유형_대분류</th>\n",
       "      <th>사고유형_중분류</th>\n",
       "      <th>사망자수</th>\n",
       "      <th>중상자수</th>\n",
       "    </tr>\n",
       "  </thead>\n",
       "  <tbody>\n",
       "    <tr>\n",
       "      <th>0</th>\n",
       "      <td>8635</td>\n",
       "      <td>757</td>\n",
       "      <td>18390</td>\n",
       "      <td>차대사람</td>\n",
       "      <td>횡단중</td>\n",
       "      <td>794</td>\n",
       "      <td>9403</td>\n",
       "    </tr>\n",
       "    <tr>\n",
       "      <th>1</th>\n",
       "      <td>2575</td>\n",
       "      <td>276</td>\n",
       "      <td>4742</td>\n",
       "      <td>차대사람</td>\n",
       "      <td>차도통행중</td>\n",
       "      <td>205</td>\n",
       "      <td>1888</td>\n",
       "    </tr>\n",
       "    <tr>\n",
       "      <th>2</th>\n",
       "      <td>1989</td>\n",
       "      <td>268</td>\n",
       "      <td>3196</td>\n",
       "      <td>차대사람</td>\n",
       "      <td>길가장자리구역통행중</td>\n",
       "      <td>69</td>\n",
       "      <td>1013</td>\n",
       "    </tr>\n",
       "    <tr>\n",
       "      <th>3</th>\n",
       "      <td>1281</td>\n",
       "      <td>156</td>\n",
       "      <td>2194</td>\n",
       "      <td>차대사람</td>\n",
       "      <td>보도통행중</td>\n",
       "      <td>41</td>\n",
       "      <td>893</td>\n",
       "    </tr>\n",
       "    <tr>\n",
       "      <th>4</th>\n",
       "      <td>9750</td>\n",
       "      <td>1253</td>\n",
       "      <td>16726</td>\n",
       "      <td>차대사람</td>\n",
       "      <td>기타</td>\n",
       "      <td>334</td>\n",
       "      <td>6319</td>\n",
       "    </tr>\n",
       "    <tr>\n",
       "      <th>5</th>\n",
       "      <td>7424</td>\n",
       "      <td>576</td>\n",
       "      <td>6554</td>\n",
       "      <td>차대차</td>\n",
       "      <td>정면충돌</td>\n",
       "      <td>234</td>\n",
       "      <td>3750</td>\n",
       "    </tr>\n",
       "    <tr>\n",
       "      <th>6</th>\n",
       "      <td>88548</td>\n",
       "      <td>7734</td>\n",
       "      <td>76234</td>\n",
       "      <td>차대차</td>\n",
       "      <td>측면충돌</td>\n",
       "      <td>545</td>\n",
       "      <td>24422</td>\n",
       "    </tr>\n",
       "    <tr>\n",
       "      <th>7</th>\n",
       "      <td>54788</td>\n",
       "      <td>3964</td>\n",
       "      <td>36615</td>\n",
       "      <td>차대차</td>\n",
       "      <td>추돌</td>\n",
       "      <td>404</td>\n",
       "      <td>10392</td>\n",
       "    </tr>\n",
       "    <tr>\n",
       "      <th>8</th>\n",
       "      <td>43999</td>\n",
       "      <td>4598</td>\n",
       "      <td>40079</td>\n",
       "      <td>차대차</td>\n",
       "      <td>기타</td>\n",
       "      <td>320</td>\n",
       "      <td>11479</td>\n",
       "    </tr>\n",
       "    <tr>\n",
       "      <th>9</th>\n",
       "      <td>3027</td>\n",
       "      <td>129</td>\n",
       "      <td>2517</td>\n",
       "      <td>차대차</td>\n",
       "      <td>후진중충돌</td>\n",
       "      <td>2</td>\n",
       "      <td>307</td>\n",
       "    </tr>\n",
       "  </tbody>\n",
       "</table>\n",
       "</div>"
      ],
      "text/plain": [
       "    경상자수 부상신고자수   사고건수 사고유형_대분류    사고유형_중분류 사망자수   중상자수\n",
       "0   8635    757  18390     차대사람         횡단중  794   9403\n",
       "1   2575    276   4742     차대사람       차도통행중  205   1888\n",
       "2   1989    268   3196     차대사람  길가장자리구역통행중   69   1013\n",
       "3   1281    156   2194     차대사람       보도통행중   41    893\n",
       "4   9750   1253  16726     차대사람          기타  334   6319\n",
       "5   7424    576   6554      차대차        정면충돌  234   3750\n",
       "6  88548   7734  76234      차대차        측면충돌  545  24422\n",
       "7  54788   3964  36615      차대차          추돌  404  10392\n",
       "8  43999   4598  40079      차대차          기타  320  11479\n",
       "9   3027    129   2517      차대차       후진중충돌    2    307"
      ]
     },
     "execution_count": 9,
     "metadata": {},
     "output_type": "execute_result"
    }
   ],
   "source": [
    "# 필요한 값만 추출하기\n",
    "data = json_data['data']\n",
    "\n",
    "# Dataframe으로 만들기\n",
    "import pandas as pd\n",
    "df = pd.json_normalize(data)\n",
    "df"
   ]
  },
  {
   "cell_type": "code",
   "execution_count": null,
   "id": "d4bd3f8a",
   "metadata": {},
   "outputs": [],
   "source": []
  },
  {
   "cell_type": "code",
   "execution_count": null,
   "id": "8bbb8da6",
   "metadata": {},
   "outputs": [],
   "source": []
  },
  {
   "cell_type": "code",
   "execution_count": null,
   "id": "f31d4e4d",
   "metadata": {},
   "outputs": [],
   "source": []
  },
  {
   "cell_type": "code",
   "execution_count": 10,
   "id": "e041956b",
   "metadata": {},
   "outputs": [
    {
     "name": "stdout",
     "output_type": "stream",
     "text": [
      "{\"response\":{\"header\":{\"resultCode\":\"00\",\"resultMsg\":\"NORMAL_SERVICE\"},\"body\":{\"dataType\":\"JSON\",\"items\":{\"item\":[{\"other\":\"o 없음\",\"t6\":\"o 한파경보 : 경기도(연천, 양주, 파주), 강원도(태백, 영월, 평창평지, 정선평지, 횡성, 원주, 철원, 화천, 홍천평지, 춘천, 양구평지, 인제평지, 강원북부산지, 강원중부산지, 강원남부산지), 충청북도(괴산, 제천, 음성, 단양)\\r\\no 한파주의보 : 경기도(동두천, 포천, 가평, 고양, 의정부, 남양주, 용인, 이천, 안성, 여주, 광주, 양평), 충청남도(천안, 계룡), 충청북도(보은, 충주, 진천, 증평), 경상북도(군위, 안동, 영주, 의성, 청송, 영양평지, 봉화평지, 경북북동산지)\\r\\no 건조경보 : 강원도(강릉평지, 동해평지, 삼척평지, 속초평지, 고성평지, 양양평지, 강원북부산지, 강원중부산지, 강원남부산지), 경상북도(울진평지)\\r\\no 건조주의보 : 강원도(태백), 전라남도(여수, 광양), 경상북도(영천, 경산, 청송, 영덕, 포항, 경주, 경북북동산지), 경상남도(양산, 창원, 김해, 밀양, 창녕, 산청, 함양, 합천, 사천, 거제), 대구, 부산, 울산\",\"t7\":\"o 없음\",\"tmEf\":\"202301021300\",\"tmFc\":202301021100,\"tmSeq\":4}]},\"pageNo\":1,\"numOfRows\":10,\"totalCount\":1}}}\n"
     ]
    }
   ],
   "source": [
    "# 기상청 기상 특보 정보 가져오기\n",
    "# 필요한 라이브러리 import 하기 \n",
    "import requests\n",
    "import json\n",
    "import urllib3\n",
    "\n",
    "#warnings 메시지 출력하지 않도록 설정\n",
    "urllib3.disable_warnings(urllib3.exceptions.InsecureRequestWarning)\n",
    "\n",
    "# Open API Key를 포함한 url 설정\n",
    "url = 'https://apis.data.go.kr/1360000/WthrWrnInfoService/getPwnStatus?serviceKey=UiFE4ZUbqAOlmn3HURyC5mSxeh8Lu7XRbPXFT5pASfLn2WXy6fMINOsPYTisqb0wYumQLeZbGv%2B10XbnCAOJmA%3D%3D&pageNo=1&numOfRows=10&dataType=JSON'\n",
    "response = requests.get(url , verify=False)\n",
    "contents = response.text\n",
    "print(contents)"
   ]
  },
  {
   "cell_type": "code",
   "execution_count": 11,
   "id": "94e153d7",
   "metadata": {},
   "outputs": [
    {
     "name": "stdout",
     "output_type": "stream",
     "text": [
      "{'response': {'header': {'resultCode': '00', 'resultMsg': 'NORMAL_SERVICE'}, 'body': {'dataType': 'JSON', 'items': {'item': [{'other': 'o 없음', 't6': 'o 한파경보 : 경기도(연천, 양주, 파주), 강원도(태백, 영월, 평창평지, 정선평지, 횡성, 원주, 철원, 화천, 홍천평지, 춘천, 양구평지, 인제평지, 강원북부산지, 강원중부산지, 강원남부산지), 충청북도(괴산, 제천, 음성, 단양)\\r\\no 한파주의보 : 경기도(동두천, 포천, 가평, 고양, 의정부, 남양주, 용인, 이천, 안성, 여주, 광주, 양평), 충청남도(천안, 계룡), 충청북도(보은, 충주, 진천, 증평), 경상북도(군위, 안동, 영주, 의성, 청송, 영양평지, 봉화평지, 경북북동산지)\\r\\no 건조경보 : 강원도(강릉평지, 동해평지, 삼척평지, 속초평지, 고성평지, 양양평지, 강원북부산지, 강원중부산지, 강원남부산지), 경상북도(울진평지)\\r\\no 건조주의보 : 강원도(태백), 전라남도(여수, 광양), 경상북도(영천, 경산, 청송, 영덕, 포항, 경주, 경북북동산지), 경상남도(양산, 창원, 김해, 밀양, 창녕, 산청, 함양, 합천, 사천, 거제), 대구, 부산, 울산', 't7': 'o 없음', 'tmEf': '202301021300', 'tmFc': 202301021100, 'tmSeq': 4}]}, 'pageNo': 1, 'numOfRows': 10, 'totalCount': 1}}}\n",
      "\n",
      "데이터타입: <class 'dict'>\n"
     ]
    }
   ],
   "source": [
    "# 불러온 데이터를 json 형태로 변경\n",
    "json_data = json.loads(contents)\n",
    "print(json_data)\n",
    "print()\n",
    "print('데이터타입:',type(json_data)) #json타입 확인"
   ]
  },
  {
   "cell_type": "code",
   "execution_count": 12,
   "id": "56a59a40",
   "metadata": {},
   "outputs": [
    {
     "data": {
      "text/html": [
       "<div>\n",
       "<style scoped>\n",
       "    .dataframe tbody tr th:only-of-type {\n",
       "        vertical-align: middle;\n",
       "    }\n",
       "\n",
       "    .dataframe tbody tr th {\n",
       "        vertical-align: top;\n",
       "    }\n",
       "\n",
       "    .dataframe thead th {\n",
       "        text-align: right;\n",
       "    }\n",
       "</style>\n",
       "<table border=\"1\" class=\"dataframe\">\n",
       "  <thead>\n",
       "    <tr style=\"text-align: right;\">\n",
       "      <th></th>\n",
       "      <th>other</th>\n",
       "      <th>t6</th>\n",
       "      <th>t7</th>\n",
       "      <th>tmEf</th>\n",
       "      <th>tmFc</th>\n",
       "      <th>tmSeq</th>\n",
       "    </tr>\n",
       "  </thead>\n",
       "  <tbody>\n",
       "    <tr>\n",
       "      <th>0</th>\n",
       "      <td>o 없음</td>\n",
       "      <td>o 한파경보 : 경기도(연천, 양주, 파주), 강원도(태백, 영월, 평창평지, 정선...</td>\n",
       "      <td>o 없음</td>\n",
       "      <td>202301021300</td>\n",
       "      <td>202301021100</td>\n",
       "      <td>4</td>\n",
       "    </tr>\n",
       "  </tbody>\n",
       "</table>\n",
       "</div>"
      ],
      "text/plain": [
       "  other                                                 t6    t7  \\\n",
       "0  o 없음  o 한파경보 : 경기도(연천, 양주, 파주), 강원도(태백, 영월, 평창평지, 정선...  o 없음   \n",
       "\n",
       "           tmEf          tmFc  tmSeq  \n",
       "0  202301021300  202301021100      4  "
      ]
     },
     "execution_count": 12,
     "metadata": {},
     "output_type": "execute_result"
    }
   ],
   "source": [
    "# 필요한 데이터만 출력\n",
    "import pandas as pd\n",
    "res = pd.DataFrame(json_data['response']['body']['items']['item'])\n",
    "res"
   ]
  },
  {
   "cell_type": "code",
   "execution_count": null,
   "id": "8d0e0b63",
   "metadata": {},
   "outputs": [],
   "source": []
  }
 ],
 "metadata": {
  "kernelspec": {
   "display_name": "Python 3 (ipykernel)",
   "language": "python",
   "name": "python3"
  },
  "language_info": {
   "codemirror_mode": {
    "name": "ipython",
    "version": 3
   },
   "file_extension": ".py",
   "mimetype": "text/x-python",
   "name": "python",
   "nbconvert_exporter": "python",
   "pygments_lexer": "ipython3",
   "version": "3.9.13"
  }
 },
 "nbformat": 4,
 "nbformat_minor": 5
}
