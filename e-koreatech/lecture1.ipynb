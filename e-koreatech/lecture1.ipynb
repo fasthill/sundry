{
 "cells": [
  {
   "cell_type": "code",
   "execution_count": 1,
   "id": "fc99827d",
   "metadata": {},
   "outputs": [],
   "source": [
    "from selenium import webdriver as wd\n",
    "from selenium.webdriver.common.by import By\n",
    "from selenium.webdriver.common.keys import Keys\n",
    "from selenium.webdriver.support.ui import WebDriverWait\n",
    "from selenium.webdriver.support import expected_conditions as EC\n",
    "\n",
    "from selenium.webdriver import ActionChains # scroll down 사용하기 위하여 선서\n",
    "from selenium.webdriver.chrome.service import Service\n",
    "from webdriver_manager.chrome import ChromeDriverManager"
   ]
  },
  {
   "cell_type": "code",
   "execution_count": 2,
   "id": "252a1b38",
   "metadata": {},
   "outputs": [],
   "source": [
    "import time"
   ]
  },
  {
   "cell_type": "code",
   "execution_count": 39,
   "id": "c4c632bd",
   "metadata": {},
   "outputs": [
    {
     "name": "stdout",
     "output_type": "stream",
     "text": [
      "1. 수집할 자료의 키워드는 무엇입니까? (예: 해양지원)전염병\n",
      "\n",
      "\n"
     ]
    }
   ],
   "source": [
    "query_txt = input('1. 수집할 자료의 키워드는 무엇입니까? (예: 해양지원)')\n",
    "print(\"\\n\")"
   ]
  },
  {
   "cell_type": "code",
   "execution_count": 40,
   "id": "583df865",
   "metadata": {},
   "outputs": [],
   "source": [
    "service = Service(r\"116/chromedriver.exe\")\n",
    "options = wd.ChromeOptions()\n",
    "driver = wd.Chrome(service=service, options=options)"
   ]
  },
  {
   "cell_type": "code",
   "execution_count": 41,
   "id": "580e8264",
   "metadata": {},
   "outputs": [],
   "source": [
    "driver.get('https://www.riss.kr')\n",
    "time.sleep(1)"
   ]
  },
  {
   "cell_type": "code",
   "execution_count": 42,
   "id": "4078ce0d",
   "metadata": {},
   "outputs": [],
   "source": [
    "driver.maximize_window()"
   ]
  },
  {
   "cell_type": "code",
   "execution_count": 43,
   "id": "63ac0bef",
   "metadata": {},
   "outputs": [],
   "source": [
    "element = driver.find_element(By.ID, 'query')\n",
    "element.click()\n",
    "element.send_keys(query_txt)\n",
    "element.send_keys(\"\\n\")"
   ]
  },
  {
   "cell_type": "code",
   "execution_count": 44,
   "id": "9f668868",
   "metadata": {},
   "outputs": [],
   "source": [
    "driver.find_element(By.LINK_TEXT,'학위논문').click() # anchor tag에서만 사용 <a..... >\n",
    "time.sleep(2)"
   ]
  },
  {
   "cell_type": "code",
   "execution_count": 45,
   "id": "7f19f9cd",
   "metadata": {},
   "outputs": [
    {
     "name": "stdout",
     "output_type": "stream",
     "text": [
      "1   전염병 시기에 관광객의 위험지각, 국가이미지, 행동의도에 관한 연구 : 해외여행 관여도의 조절효과를 중심으로  설도 전주대학교 일반대학원 2022 국내박사  RANK : 27772927    원문보기 목차검색조회             지난 20년 동안 우리 사회는 예상하지 못한 자연재해나 전염병 등의 다양한 사건 및 사태와 같은 위협에 마주하고 있다. 이처럼 파괴력이 강한 재난으로 인해 지구 인류의 정상적인 삶에서 큰 위험에 맞서 있다. 특히, 2000년대 들어 다양한 신종 전염병이 확산되면서 인적·사회경제적 피해가 증가하고 있으며 그 속도는 점차 빨라지고 있다. 관광객이 전염병 상황에서 인지된 불안과 공포로 인해 행동 제약과 안전 위협에 따른 관광욕구 감소와 소극적인 소비 행위가 필연적으로 발생하기 때문에 관광산업은 역시 이러한 위기에서 심각한 위협을 받을 수밖에 없다. \r",
      " 따라서 본 연구는 COVID-19 팬데믹이 전세계적으로 창궐하는 계기로 잠재 관광객이 전염병으로 인해 인지된 위험지각과 전염병 발생 초기에 언론보고와 소셜미디어로 인식변화에서 형성된 국가이미지, 그리고 해외여행에 대한 관심과 중요 정도인 관여도, 관광지 의사결정 및 선택함에 있는 행동의도를 본 연구에서 중요한 변인으로 설정하고 변인간 어떠한 영향관계가 있는지, 위험지각과 국가이미지가 행동의도에 미치는 영향관계에 관여도(고관여/저관여)의 조절효과가 있는지 실증분석을 통해서 검증하고자 한 그 목적이 있었다. \r",
      " 본 연구의 목적을 달성하기 위해 선행연구에 의한 문헌연구와 설문조사에 의한 실증분석을 수행하였으며, 실증분석을 위해 2022년 1월 1일부터 2월 28일까지 2개월간 설문조사를 하였으나 당시 COVID-19 팬데믹을 인식하고 경험하고 있는 잠재 해외여행 수요를 가지는 한국 국내 성인 대상자 431명에게 설문조사를 실시하였다. 수집된 데이터를 범용 통계분석 프로그램인 SPSS 25.0과 AMOS 25.0 windows 버전을 활용하여 빈도분석, 신뢰도 분석, 타당도 분석, 구조방정식 모델 기법을 통한 경로분석, 이중집단경로분석을 실시하였다.\r",
      " 본 연구에서 실증분석을 통해 검증된 결과는 다음과 같다. \r",
      " 우선, 본 연구에서 설정한 변인에 대해 위험지각은 4개 차원으로, 국가이미지는 3개 차원으로, 행동의도는 2개 차원으로, 관여도는 단일차원 다항목으로 도출하여 측정하였으며, 각 변인의 측정항목은 모두 신뢰성과 타당성을 갖은 것으로 분석되었다.\r",
      " 다음에 본 연구에서 설정한 가설에 대해 검증된 결과로는 첫째, 가설 1인 “관광객의 위험지각이 국가이미지에 유의한 영향을 미칠 것이다”에 대해 검증한 결과로, 위험지각 구성요인 중 질병위험과 사회·심리적 위험이 국가이미지에 유의하게 부(-)의 영향을 미친 것으로 나타났다. 신체적 위험과 경제적 위험이 국가이미지에 유의한 영향을 미치지 못하였다. 둘째, 가설 2인 “관광객의 위험지각이 행동의도에 유의한 영향을 미칠 것이다”에 대해 검증한 결과로, 위험지각 구성요인 중 질병위험과 경제적 위험이 행동의도에 유의하게 정(+)의 영향을 미친 것으로 나타났다. 신체적 위험과 사회·심리적 위험이 행동의도에 유의한 영향을 미치지 못하였다. 셋째, 가설 3인 “국가이미지가 행동의도에 유의한 영향을 미칠 것이다”에 대해 검증한 결과로, 국가이미지 구성요인 중 사회·의료복지적 이미지와 안정적 이미지가 행동의도에 유의하게 부(-)의 영향을 미친 것으로 나타났다. 환경적 이미지가 행동의도에 유의한 영향을 미치지 못하였다. 넷째, 가설 4인 “위험지각과 행동의도 간에 관여도의 조절효과가 있을 것이다”와 가설 5인 “국가이미지와 행동의도 간에 관여도의 조절효과가 있을 것이다”에 대해 검증한 결과로 고관여 집단과 저관여 집단 간에 위험지각과 행동의도의 영향관계 경로에서, 국가이미지와 행동의도의 영향관계 경로에서 차이가 있는 것으로 나타났으며 관여도는 두 개 경로에서 조절효과를 나타냈음을 확인되었다.\r",
      " 또한 본 연구에서 위의 분석결과에 의해 실무적·관광정책적 시사점으로 전염병 발생 시 대응방안 및 재활성화 방안을 제시했다는 점에서 향후 위기관리 관련 관광산업 발전과 연구에 실질적 도움이 될 것으로 사료된다. 구체적으로, 관광위기 상황에서 위험지각에 따른 불확실성 해소와 안전 확보 방안은 해외 관광활성화 및 적극적인 관광객 행동을 위해 가장 근본적이고 직접적인 과제로 선행되어야 한다. 국가 브랜드 관리 측면에서도 이미지에 손실 최소화를 위해 각국 간의 협력강화, 정보공유, 홍보 및 프로모션 활동을 마련하여야 한다. 그리고 국제사회적 측면, 여행사 및 기업 측면, 국가정부 측면, 정부와 기관 간 조직적 측면에서는 전염병 후시대에 나아갈 국제·국내관광시장의 재활성화를 위한 선제적인 관광정책적 제안을 제시하였으며, 전염병 발생에 대응할 수 있는 정부와 기관 간 협력적 제도화·관리화된 시스템 구축 및 전염병 통제 가능한 확보방안을 제시하였다. 마지막으로 본 연구를 진행하면서 발견된 문제점을 고려하여 향후 후속연구에서 보완할 수 있는 연구과제를 도출하였다. \r",
      " 본 연구는 전염병 발생 및 전파로 인한 위기상황에서 잠재 관광객이 해외여행에 대한 위험지각, 언론보도와 소셜미디어 등을 통해 관광목적지 해당 지역이나 국가에 대한 이미지가 관광 의사결정과 선택에 미치는 영향관계를 규명하고 관광객이 해외여행에 대한 관심과 중요 정도인 관여도의 조절효과까지 파악하여 국제·국내여행 재개, 국가이미지 개선, 전염병 발생시 대응방안 등에 그 의미가 있다고 할 수 있다. In the past 20 years, we have unexpectedly faced various threats such as natural disasters and epidemics, and these destructive disasters put us at destructive risk to the normal life of human beings on Earth. In particular, various as new infectious diseases spread beginning from  the 2000s. Human and social-economic damage is increasing, and the speed is gradually increasing. The tourism industry is also inevitably threatened by the crisis, as tourists' perceived anxiety and fear in the epidemic situation inevitably lead to a decrease in tourism desire and passive consumption behavior due to restrictions on behavior and safety threats.\r",
      " Therefore, in this study as the COVID-19 pandemic spreads around the world, potential tourists' perceived risk of the epidemic, the country image formed from media reports and social media, and as the degree of interest and importance of overseas travel involvement, and behavioral intention in decision-making and selection of tourist destinations were set as important variables, and purpose was to verify it through empirical analysis that what kind of relationship there is between variables, and whether there is an interactional effect of involvement in the relationship between risk perception and country image on behavioral intentions.\r",
      " To achieve the study purpose, an empirical analysis based on literature research and surveys based on previous research was conducted. A survey was conducted on 431 adult subjects who had potential overseas travel needs who were aware of and experienced the COVID-19 pandemic during January 1st to February 28th, 2022. Frequency analysis, reliability analysis, validity analysis, path analysis through structural equation model technique, and dual group path analysis were performed on the collected data using the Windows version of SPSS 25.0 and AMOS 25.0, which are general-purpose statistical analysis programs.\r",
      " The results verified through empirical analysis in this study are as follows.\r",
      " First of all, risk perception was measured in four dimensions, country image in three dimensions, behavioral intention in two dimensions, and involvement in single-dimensional multi-items. All measurement items were analyzed as having reliability and validity.\r",
      " Next, as a result of testing the hypothesis established in this study. First, at testing hypothesis 1“Tourist perception of risk will have a significant effect on country image” as the result of testing, the disease risk among risk perception components, and social/psychological risk had a significant negative(-) effect on the country image. Physical risk and economic risk did not have a significant effect on country image. Second, at testing hypothesis 2“Tourist perception of risk will have a significant effect on behavioral intention” as the result of testing, among risk perception components, disease risk and economic risk significantly positively(+) effect on behavioral intention. And was found physical risk and social/psychological risk did not have a significant effect on behavior intention. Third, at testing hypothesis 3 “Country image will have a significant effect on behavioral intention” as the result of testing, among the components of country image, social and medical welfare image and stable image significantly negatively(-) effect on the behavior intention. And the environmental image did not have a significant effect on behavioral intention. Fourth, at testing hypothesis 4“There will be an interactional effect of involvement between risk perception and behavioral intention” and at testing hypothesis 5 “There will be an interactional effect of involvement between country image and behavioral intention” as the result of testing, there has a difference in the path of the relationship between risk perception and behavioral intention between the the high-involvement group and low-involvement group, and also there was a difference in the path of the influence relationship between the country image and behavioral intention, and that the degree of involvement had an interactional effect in the two pathways.\r",
      " In addition, based on the above analysis results, this study sheds light on the development and research of the tourism industry related to crisis management in the future by suggesting countermeasures and revitalization measures in case of an epidemic as practical and tourism policy implications. Specifically, measures to relieve uncertainty and secure safety due to risk perception in a tourism crisis situation should be preceded as the most fundamental and direct task for revitalization of overseas tourism and active tourist action. And also, cooperation strengthening, information sharing, public relations, and promotion activities should be prepared. In addition, preemptive tourism policy proposals for the revitalization of the international and domestic tourism market in the post-epidemic era from the aspect of local society, travel agencies and companies, country government, and organizational aspects between governments and institutions can respond to epidemic outbreaks. And established a cooperative institutionalized and managed system between governments and institutions and suggested ways to keep infectious diseases controllable. Finally, in consideration of the problems found during the course of this study, research tasks that can be supplemented in future follow-up studies were derived.\r",
      " Finally, this study examines the relationship between potential tourists' perception of risk for overseas travel, media reports, and social media, and the influence of the image of the region or country as a tourist destination on tourism decision-making and selection in a crisis caused by the outbreak and spread of an infectious disease. It is meaningful to resume international and domestic travel, improving the country image, and offer countermeasures in case of an epidemic by identifying and figuring out the moderating effect of tourists' interest in overseas travel and the degree of involvement, which is important.\n",
      "\n",
      "\n",
      "원문보기\n",
      "\n",
      "\n",
      "목차검색조회\n",
      "\n",
      "\n",
      "2   전염병에 대한 기독교 견해와 고찰  이성훈 칼빈대학교 신학대학원 2021 국내석사  RANK : 27772927    원문보기 목차검색조회  음성듣기\n",
      "\n",
      "\n",
      "원문보기\n",
      "\n",
      "\n",
      "목차검색조회\n",
      "\n",
      "\n",
      "음성듣기\n",
      "\n",
      "\n",
      "3   전염병 모델의 연대기적 분석과 후속모델에 대한 고찰  이상원 高麗大學校 大學院 2012 국내석사  RANK : 27772927    원문보기 목차검색조회  음성듣기             전염병은 고대 시대부터 줄곧 인간을 위협해왔으며, 기원전 430년부터 428년에 발생한 아테네지역의 전염병이 Thucydides에 의해 보고된 이후, 전 세계적으로 많은 사망자를 발생하게 한 전염병들이 다수의 생물학자들에 의해 분석되어 졌다. 전염병에 대한 연구가 2차 세계대전 이전에는 단순히 전염병을 관찰하는데 그친 반면, 2차 대전이후에는 전염병을 무기화 하고 그것을 어떻게 통제할 것인지에 초점이 맞춰지기 시작하였다. 또한 페니실린에 발견으로 이러한 질병을 통제하는 방법이 다변화되었으며, Bernoulli가 천연두의 확산에 대해 우두접종의 긍정적인 효과를 보고 한 후, Kermack-McKendrick에 의해 수학에 기초를 둔 모델링이 시작되었다. 이는 생물학적인 분석에 수학적인 사고를 접목하여, 전염병을 좀 더 체계적으로 분석하고자 하는 시도로 볼 수 있다.   Anderson-May는 좀 더 이러한 연구들을 발전시켰으며, 현재 많은 연구자들에 의해 새로운 발생하는 전염병들에 대해 연구가 이루어지고 있다. 특히, 상미분방정식과 편미분방정식을 도구로 하여 여러 가지 형태의 전염병 모델을 발전시킴으로써 전염병을 효과적으로 통제할 수 있는 연구가 활발히 진행되어 지고 있다.  그동안 많은 연구에서 전염병을 통제하는데 가장 중요한 요소는 전염병 전파에 의해 영향 받지 않는 점(Disease free equilibrium : DFE)에 대한 의 값으로서, 그 값이  보다 크거나 혹은 작은 경우에 따라 전염병의 통제 여부를 판단하여 왔으나, 최근에는 통제 재생산률(Control reproduction rate : 모델링에서 각종 통제 변수들에 의해 변동되어지는 질병이 전파되는 비율)라는 값이 전염병을 통제하는 새로운 요소로 연구되어 지고 있다.     본 논문에서는 지금까지 발전되어온 수많은 논문들에서 큰 틀을 이루고 있는 전염병에 대한 모델들을 연대기적으로 나열하고 분석함으로써, 기존의 모델에서 중요한 변수를 설정하는 방법을 고찰하고, 향후 고려할 수 있는 발전된 모델들에 대해 예측해 본다.\n",
      "\n",
      "\n",
      "원문보기\n",
      "\n",
      "\n",
      "목차검색조회\n",
      "\n",
      "\n",
      "음성듣기\n",
      "\n",
      "\n",
      "4   국제보건규칙 개정에 따른 우리나라 검역전염병 지정방안  김윤호 경북대학교 보건대학원 2007 국내석사  RANK : 27772927    원문보기 목차검색조회  음성듣기             국제보건규칙 개정에 따라 우리나라 검역전염병의 수정이 필요한 시점에 우리나라의 검역전염병의 지정근거를 제시하기 위하여 우리나라와 세계주요국의 검역전염병, 해외유입전염병 중 일부, 세계보건규칙에 예시된 전염병을 중심으로 검토하였다. 치명률, 유행가능성, 예방접종효과, 격리효과, 국내해외유입전염병 발생 유무, 검역적용여부 등 6가지 항목을 고려한 검역전염병 지정타당도를 개발 적용하였다 본 연구결과를 요약하면 다음과 같다.   첫째 우리나라 검역전염병은 국제보건규칙에서 정한 검역전염병과 똑같은 변화과정을 거쳤다. 다른나라의 경우 세계보건규칙에서 정한 검역전염병 이외에 주변국의 전염병발생현황 및 자국에 맞는 검역전염병을 지정운영하여 왔다.   둘째 우리나라와 중국을 제외한 미국, 일본, 호주, 캐나다에서는 에볼라, 콩고크리미아 출혈열등 바이러스성 출혈열을 검역대상 전염병으로 관리하고 있었다.   셋째 우리나라에서는 검역전염병으로 지정하고 있지 않으나 다른나라에서 검역법에 규정하고 있는 질병은 바이러스출혈, 세계적으로 박멸을 선언했던 천연두, 디프테리아, 홍역, 유행성이하선염, 신증후성출혈열, 리프트계곡열등 28종이다.   넷째. 일본와 중국은 검역전염병이외의  질병발생을 감시하기 위해 검역법에 그 대상을 명시하고 있었다.   다섯째 검토대상질병을 대상으로 지정타당도를 적용한 결과 결핵, 보툴리누스증, 야토병은 각1점을 유행가능성은 높지만 예방접종이나 격리가 이 병의 전파방지에 도움이 되지 않기 때문에 지정타당도 점수가 낮은 콜레라를 비롯하여 천연두, 라싸열, 웨스트나일열, 재귀열, 인플루엔자, 탄저는 2점 이다. 3점은 황열, 마르부르그병, 콩코크리미아, 에볼라, 사스, 뎅기열, 말라리아, 일본뇌염, 한타바이러스폐증후군, 폴리오, 홍역, 공수병이며 디프테리아, 조류인플루엔자 인체감염, 신증후성출혈열, 장티푸스, 수막구균성수막염, 리프트계곡열이 4점을 받고 페스트, 유행선이하선염이 5점을 받았다. A형유행성독감은 치명률을 알 수 없어 지정타당도 점수를 구하지 못하였다.   본 연구를 토대로 지정타당도 점수에서 2점을 받은 전염병 중 전염병예방법 제1군전염병을 검역전염병으로 3점이상을 받은 전염병 중 전염병예방법의 제2군전염병은 감시전염병으로 지정하고 그 이외 3점이상을 받은 전염병을 검역전염병으로 추가지정 운영을 제안해 본다.\n",
      "\n",
      "\n",
      "원문보기\n",
      "\n",
      "\n",
      "목차검색조회\n",
      "\n",
      "\n",
      "음성듣기\n",
      "\n",
      "\n",
      "5   전염병과 펜데믹 상황에서 메디컬 처치의 운영에 관한 연구  이재훈 칼빈대학교 신학대학원 2021 국내석사  RANK : 27772927    원문보기 목차검색조회  음성듣기\n",
      "\n",
      "\n",
      "원문보기\n",
      "\n",
      "\n",
      "목차검색조회\n",
      "\n",
      "\n",
      "음성듣기\n",
      "\n",
      "\n",
      "6   전염병 위험지각이 관광행동의도에 미치는 영향  김혜진 세종대학교 대학원 2021 국내박사  RANK : 27772927    원문보기 목차검색조회  음성듣기             관광은 관광객에게 재화나 서비스의 제공을 기반으로 하는 것으로 국가 및 지역의 경제·사회·문화·환경에 기여도가 높은 고부가가치 산업이며, 글로벌 규모의 사업이다. 그러나 2019년 중국발 호흡기 전염병 ‘코로나19’의 전 세계 확산으로 인해 관광업계는 사상 초유의 위기상황을 격고 있다. World Tourism Organization(UNWTO)은 코로나19로 인해 줄어든 관광수요로 1억 개의 관광업 일자리가 사라지는 것으로 예상하였다. 전염병 감염 확산 방지를 위한 국가 간 여행 제한과 같은 통제조치는 외래 관광객 감소로 이어져서 여행사, 항공업, 숙박업, 외식업계에 직접적인 타격을 주게 된다. 한국관광공사는 2020년 3월 해외여행 목적의 출국자가 전년도 동월보다 93.9% 감소하였으며, 국내 입국자 역시 95%로 급감한 것으로 확인하였다.\r",
      " 한편 해외여행이 제한되어 외래 관광객 비율은 현저히 낮아졌지만, 대신 해외여행을 하지 못하는 내국인이 그 자리를 대신하고 있는 것으로 나타났다. 물론 전년도에 비해서는 전체 관광객의 수는 현저히 적은 수준이긴 하지만 2020년 10월 한 달 동안 방문한 내국인은 107만 1933명으로 지난해 보다 14.1% 감소하는 수준에 그쳤으며, 골프와 렌터카 예약은 ‘하늘의 별따기’ 수준으로 예약을 잡기 어려울 정도라고 하였다(세계일보, 2020).\r",
      " 따라서 본 연구에서는 세계적 전염병 팬데믹이라는 특수한 환경 속에서 잠재 관광객은 전염병을 어떻게 위험을 인지하고 있으며, 전염병 정보를 탐색하고, 그 정보를 바탕으로 관광행동의도에 어떤 영향을 주고 있는지 살펴보았다. 또한 개인적 특성에 따라 전염병 상황 속에서의 관광행동의도에 차이가 있는지 알아보고자 하였다.\r",
      " 본 연구의 목적을 달성하기 위해서 선행연구 및 이론적 고찰하여 다음과 같은 변수를 추출하였다. 독립변수로는 코로나19 전염병의 위험지각을 ‘전염병 심각성, 전염병 위험평가, 전염병 지각된 위험, 전염병 대응조치 부정적 반응’으로 구분하였다. 관광객이 전염병에 관한 정보를 인지하게 되는 과정을 파악하고자 ‘정보탐색’과 ‘정보처리’를 매개변수로 두었다. 그리고 관광행동의도를 3개의 종속변수 ‘관광의도, 관광지 전환의도, 위험감소행동’으로 설정하였다. 마지막으로 일반적 특성에 따라 관광행동의도에 차이가 있을 것이라고 가정하여, 조절변수는 성별, 연령, 소득수준, SNS 사용정도, 여행 동행자, 전염병 감염 경험 여부로 설정하였다.\r",
      "  따라서 독립변수 4개, 매개변수 2개, 종속변수 3개, 조절변수 6개를 기준으로 32개의 가설을 도출하였다.\r",
      " 본 연구는 국내 잠재 관광객인 일반인을 대상으로 코로나19 전염병 확진자 비율이 높은 4개의 지역, 성별, 연령대를 균등하게 하여 할당 표본 추출방법으로 진행하였다. 설문 시기는 2020년 7월 30일부터 8월 5일까지 1주일간 진행되었으며, 설문 시기는 하계 휴가철이며, 사회적 거리두기 3단계 중 ‘1단계 생활 속 거리두기’ 조치 단계였다.\r",
      " 본 설문은 리서치 기관의 자체 패널에게 “향후 6개월 내 여행계획이 있으신가요?”, “거주지역이 대구, 경북, 서울, 경기도인가요?”의 두 가지의 사전질문(screen question)을 통해 본 연구의 조사대상 여부를 가려 430명의 유효한 설문응답을 확보하였다. 따라서 430명의 유효표본이 본 연구에서 활용되었다.\r",
      " 실증연구를 수행하기 위해 확보된 430명의 표본을 바탕으로 먼저 일반적인 특성을 확인하기 위해 빈도분석을 실시하였고, 응답자의 개인적 특성을 파악하기 위해서 기술통계분석을 실시하였다. 다음으로 표본의 신뢰성과 타당성을 검증하고, 이를 통해 연구모형의 적합성을 검토하여 총 32개의 가설을 검증하였다. 분석 과정에 있어서 빈도분석, 기술통계 분석, 신뢰도 분석은 SPSS Ver. 22를 사용하여 분석하였으며, 확인적 요인분석, 상관관계 분석, 구조방정식 분석, 다중 집단분석은 AMOS Ver. 26을 사용하여 분석하였다. 실증 분석은 모두 유의수준 p<0.05에서 검증하였다.\r",
      " 본 연구에서 제시한 연구문제에 대한 실증결과를 정리하면 다음과 같다.\r",
      " 첫째, 전염병에 대한 위험 지각은 관광행동에 직접적인 영향을 미치는가? 연구 결과, 전염병에 대한 지각된 위험은 관광지 전환의도와 위험 감소행동에 영향을 미치는 것으로 확인되었다. 이는 전염병으로 인해 잠재 관광객이 인지하게 되는 경제적 불안감과 신체적 위험, 사회적 위험 때문에 관광지를 더 안전한 곳을 옮기게 된다는 것이다. 또한 여행을 하는 동안 전염병에 대한 노출에 계속 신경 쓰면서 방역지침을 준수하게 된다는 것으로 해석하였다.\r",
      " 둘째, 전염병 유행 시기에 관광행동을 고려할 때, 선행변수로써 전염병에 대한 정보탐색 및 처리가 매개역할을 하는지를 보았다. 연구 결과, 전염병 정보 탐색은 매개역할을 하지 못하였으나 정보처리는 매개 역할을 하는 것으로 나타났다. 이는 전염병에 대한 지각된 위험이 전염병에 대한 예방, 방역, 새로운 정보들을 계속 찾아보는 행동에는 직접적인 영향을 미치지는 않다는 것을 의미한다. 한편 전염병에 대한 위험을 지각하였을 때, 알고 있는 다양한 정보를 바탕으로 전염병 상황 속에서도 안전한 여행을 위해서 더욱 신경 써서 여행을 준비한다고 해석할 수 있다. \r",
      " 셋째, 전염병 유행 시기에 전염병에 대한 위험이 관광행동에 영향을 미치는데, 이는 성별에 따라 집단별 차이가 있는지를 보았다. 이 연구 결과, 여성과 남성 집단 간의 차이가 있음을 확인하였다. 여성의 경우, 지각된 위험이 관광의도에 영향을 미칠 때 정보처리를 매개로하여 유의한 영향 관계가 있음을 확인하였으나, 남성의 경우, 심각성, 위험 대응 조치 부정적 반응이 관광지 전환의도에 직접적인 영향을 미치고 있었다. 따라서 여행을 고려하는 관광객에게 여자는 전염병에 대한 정확한 정보 전달이 중요하며, 남성에게는 안전한 여행지에 대한 정보를 전달하는 것이 중요할 것으로 해석하였다.\r",
      " 넷째, 전염병 유행 시기에 전염병에 대한 위험이 관광행동에 영향을 미치는데, 이는 여행 동행자에 따라 차이가 있는지를 보았다. 연구 결과, 가족 단위 집단에서는 전염병 위험이 관광행동의도에 적게 영향을 미치는 것으로 나타났다. 오히려 비 가족단위인 친구나 회사 동료 혹은 혼자 여행을 할 때, 전염병에 대한 위기를 높게 느끼고, 전염병에 대한 정보를 바탕으로 관광행동의도에 유의한 영향관계를 나타내고 있음을 확인할 수 있었다.\r",
      " 다섯째, 전염병 유행 시기에 전염병에 대한 위험이 관광행동의도에 영향을 미치는데, 이는 소득에 따라 차이가 있는지를 보았다. 연구 결과, 저소득층에서는 정보추구가 높아질수록 관광의도가 낮아지는 반면, 중고소득층에서는 정보추구가 높아질수록 관광의도가 높아지는 것으로 확인되었다. 따라서 관광업계에서는 고소득층을 집중공략해서 안전 관리에 투자를 하고, 고가 전략을 실행할 것으로 제안하였다. \r",
      " 마지막으로 SNS 사용 정도에 따라 전염병 위험 지각과 관광행동에 간의 영향 관계에 있어서 차이가 있는지 보았다. 이는 저사용 집단의 경우, 전염병에 대한 정보를 찾아보고 체계적으로 생각하는 것이 관광행동에 영향을 미치고 있었다. 한편 고사용 집단의 경우, 전염병에 대한 정보를 찾아본다거나 체계적으로 생각해서 그 판단에 의해 관광행동을 결정하는 것이 아니라 위험에 대한 지각이 직접적으로 관광을 하고자 하는 행동에 영향을 미치고 있는 것으로 확인되었다. 따라서 전염병에 대한 정보를 찾아보는 SNS 저사용 집단을 위해서는 TV나 문자, 신문, 방송을 통해 전염병에 대한 정보를 전달하는 것이 중요하다고 볼 수 있으며, 반면 SNS 고사용자를 위해서는 SNS를 통해서 전염병에 대한 최신 정보 및 정확한 정보를 SNS를 통해서 전달하는 것이 중요할 것으로 확인되었다.\n",
      "\n",
      "\n",
      "원문보기\n",
      "\n",
      "\n",
      "목차검색조회\n",
      "\n",
      "\n",
      "음성듣기\n",
      "\n",
      "\n",
      "7   코로나(COVID-19) 등 호흡기전염병 병원 내 감염 예방을 위한 표준개발  황창의 계명대학교대학원 2021 국내박사  RANK : 27772927    원문보기 목차검색조회  음성듣기             예로부터 전염병은 인류의 건강을 위협해 왔다.2000년대 이래 5차례 유행한 전염병이 발생하였다. 이러한 전염병은 발생되는 간격이 점점 짧아지고 발생 지속시간은 점점 길어지고 있었다. 기후 및 환경의 변화와 갈수록 활발해지는 인류의 사회활동 등으로 인해 전염병이 다시 발생하는 것은 불가피한 상황이다. 이렇게 발생한 5번의 전염병 중 4번은 호흡기전염병이었으며, 1번은 소화기 전염병이었다. 호흡기 감염병은 소화기 감염병과 비교하여 확진자 및 사망자가 훨씬 많았으며 공기, 비말 등을 통해 전파될 수 있기 때문에 위험도가 가장 높았다. 이러한 전염병이 발생한 후, 병원 내 감염에 대한 병원 공간 분야의 예방이 완비되지 않았기 때문에 병원 내 감염이 발생하고 병원의 의료기능이 일시적으로 상실될 수 있었다. 호흡기전염병 병원 내 감염 문제를 해결하기 위하여, 본 논문은 COVID-19 등 호흡기전염병의 병원 내 감염 예방을 위한 공간 분석 및 적용 연구를 진행하였고, 병원 내 감염 예방 기준을 제시하였으며, 병원 내 감염을 예방하고 줄일 수 있도록 결과를 도출하였다.\r",
      " \r",
      " 먼저 대상 병원에 대한 공간 분석을 진행하여, 주로 사례병원의 동선과 주요 진료 부문의 공간 파라미터를 분석하였다. 다음으로 '돌발성 공중 보건사건 단계별 기준'에 따라 병원 내 감염 예방기준의 등급을 제시하였다. 그리고 병원 내 감염 예방조건에 따라 병원 내부 조닝을 계획하고 지역별 예방방안을 제시하였다. 또한 사례 병원에 대한 분석 결과와 결합해 병원 내 감염 예방 기준을 제시하였다. 마지막으로 사례 병원를 적용해 병원 내 감염 예방을 위한 대책을 제시하였다. 구체적인 연구내용은 다음과 같다. \r",
      " \r",
      " 첫째, 대상 병원 분석을 통해 병원의 병원 진입 동선, 실외 공공구간의 환자 동선, 일반 차량동선, 구급 동선 등을 포함한 실외동선을 분석하였다. 실내 동선은 진료건물 진입 동선, 실내 공공구역 동선, 주요 진료 부문 동선을 포함하고 있다. 공간구문론을 통해 주요 진료단원에 대한 공간 파라미터 분석을 실시하였다. 병원 진입 동선의 경우, 동선유형은 보행 동선, 차량 동선, 사람 및 차량의 병용 동선으로 나눌 수 있고, 수량은 2~6개가 있었다. 실외환자 동선은 집중형 동선과 분산형 동선이 있었다. 일반 차량 동선은 지하동선, 지상동선, 지상 및 지하 병행 동선을 포함하였다. 구급 동선은 지하동선, 지상동선, 지상 및 지하 병행 동선을 포함하였다. 진료건물 진입 동선은 지상동선과 지상 및 지하 병행 동선을 포함하고 있으며, 수량은 1~10개가 있었다. 실내 공공구역의 동선은 중복도형, 편복도형, 방사형을 포함하고 있었다. 주요 진료 부문인 응급, 외래, 진료 부문의 동선은 동일했으며, 주요 중복도형, 편복도형, 중편복도결합형, 회랑형이 있었다. 병실에는 중복도형, 이중복도형, 부복도형 세 가지가 있었다. 주요 진료 부문의 공간 분석 데이터 중 최고 연결도, 최고 통제도, 평균 깊이, 평균 통합도, 명료도를 선택하여 종합 데이터맵으로 작성하였다.\r",
      " \r",
      " 둘째, '돌발성 공중 보건사건 단계별 기준'에 따라 병원 내 감염 예방 기준의 4개 단계를 제시하였다. 다음으로, 병원 내 감염 예방조건에 따라 병원에 대해 조닝하고 지역별 예방 방안을 제시하였다. 또한 사례 분석 결과를 바탕으로 병원 내 감염 예방의 기초적 기준을 제시하였다. 피드백을 통해 4개 단계를 3개 단계로 조정하고 병원 내 감염 예방 기준을 최종적으로 1급(감염위험이 심각하기 전), 2급(감염위험이 심각), 3급(감염위험이 특히 심각)을 확정하였다. 발병 기간 동안 병원 내 감염 위험 정도에 따라 각 등급을 적용하고, 고급 기준에는 하위 기준의 모든 내용이 포함된다.\r",
      " \r",
      " 셋째, 중국 5개 지역의 5개 병원에 대한 적용연구를 진행하였다. 우선 사계병원에 대해 동선분석과 주요 진료 부문 공간 파라미터 분석을 실시하였다. 병원 내 감염 예방기준에 따라 평가표를 작성하여, 이로 사례분석 결과를 평가하였다. 평가 결과와 병원의 현황, 병원 내 감염 예방 기준 등급에 따라 대책을 제시하였다.\r",
      " 병원 감염위험이 심각단계에 이르기 전, 병원 진입 동선은 보행자 전용 동선과 차량 전용 동선을 각각 하나씩 설치한다. 진료구역은 지하 진입 동선을 폐쇄하고 진입구를 1개만 사용한다. 병원 내 감염 위험이 심각에 이를 경우, 공간 개조를 통해 하나의 진료구역으로 통합하고 지상입구 1개를 설치하여 지하주차장을 폐쇄한다. 진료구역 공공구역의 경우, 공간 개조를 통해 환자가 복도 한쪽에서 진료부문으로 진입할 수 있도록 한다. 감염 위험이 심각단계를 넘어설 경우, 주요진료부문인 응급, 외래, 진료, 병동은 공간개조를 통해 환자가 복도 한쪽에서 진료실로 진입할 수 있도록 하고 공간분석 파라미터가 예방 이상적인 수치를 달성할 수 있도록 한다. \r",
      " \r",
      " 본 논문을 통해 호흡기전염병 병원 내 감염 예방에 대한 연구를 진행하였으며, 추후 내용을 발전시켜 다양한 전염변에 관한 병원공간 연구를 진행하고자 한다. 본 논문이 병원 내 감염을 예방하고 감염 발생 시, 추가적인 피해를 축소하는 데에 기여하기를 바란다. Infectious diseases have been the enemy of mankind, the history has brought great harm to mankind, getting into the 21st Century 20 years, the outbreak of epidemic five infectious diseases, outbreaks of shorter and shorter intervals, the longer the duration of the original. Changes in the climate and environment, more and more frequent human social activities and other infectious diseases epidemic factors, all make the outbreak of infectious diseases inevitable again. In the outbreak of five infectious diseases, respiratory infectious diseases have 4 times, gastrointestinal infectious diseases 1 time, respiratory infectious diseases confirmed cases and deaths are much higher than gastrointestinal infectious diseases, and can be transmitted through air, saliva and other ways, the highest degree of risk. Outbreak of infectious diseases, because the hospital space to prevent hospital infection is not ideal, so that the hospital appears hospital infection, loss of medical function. In order to solve the problem of hospital infection of respiratory infectious diseases, this paper will carry out spatial analysis and applicable research on the Prevention of hospital infection of respiratory infectious diseases such as coronavirus (COVID-19), and put forward standards for the Prevention of hospital infection, in order to avoid and reduce hospital infection during the epidemic of respiratory infectious diseases.\r",
      " In order to complete the research purpose, first of all, the spatial analysis of the hospital case, the dynamic line of the case Hospital and the spatial parameters of the key diagnosis and Treatment Unit are analyzed. Secondly, according to the \"public health emergency classification standards\" put forward the level of hospital infection prevention standards, and then according to the hospital infection prevention conditions, hospital partitions, put forward regional prevention programs. Combined with the results of the hospital case analysis, the standards for the Prevention of hospital infection are put forward. Finally, the application of hospital examples is carried out, and the preventive measures of hospital infection are put forward. Specific studies are as follows:\r",
      " First, through the case analysis, the analysis of the hospital's outdoor moving line into the hospital moving line, outdoor public areas have patients moving line, Social vehicles moving line, emergency vehicles moving line. Indoor moving line there are diagnosis and treatment building into the moving line, indoor public area moving line, key diagnosis and treatment unit moving line. Spatial parameter analysis of key diagnosis and treatment units is carried out through spatial syntax. In entering the hospital moving line, moving line type pedestrian moving line, moving line of motor vehicles, people and vehicles hybrid moving line, there are 2-6 on the number. Outdoor patient dynamic line has a centralized dynamic line and dispersed dynamic line. Social car vehicle moving line is in the underground moving line, Ground Moving line, Ground and underground combination of moving line. Emergency vehicle moving line in the ground underground, ground underground combined with the moving line. Diagnosis and treatment building into the moving line has a combination of ground moving line and ground underground moving line, the number of 1-10.Indoor public area moving line has a corridor type, partial corridor type, emission type. Key diagnosis and treatment unit in the emergency, outpatient, inspection of the moving line, there are corridor type, partial corridor type, partial corridor combination type, corridor type.Ward diagnosis and treatment unit in the corridor type, double corridor type, annex corridor type three. In the spatial analysis of the data key diagnosis and treatment unit, select the highest connection value, the highest control value, the average depth, the average degree of integration, comprehensibility, and plotted into a comprehensive data map.\r",
      " Second, first of all, according to the \"public health emergency classification standards\" put forward four levels of hospital infection prevention standards. Then according to the hospital infection prevention conditions, hospital zoning, put forward regional prevention programs. Combined with the results of case analysis, the preliminary standards for the Prevention of hospital infection are put forward. After the feedback adjustment, the standard 4 levels adjusted to 3 levels, the final determination of hospital infection prevention standards. Level 1 (before the risk of hospital infection is serious), Level 2 (before the risk of infection is serious), Level 3 (the risk of infection is particularly serious), according to the level of risk of hospital infection during the outbreak to enable the standard level, the Advanced standard contains all the contents of all the low-level standards.\r",
      " Third, the study of 5 hospitals in five regions of China was carried out as an example of application. Firstly, dynamic line analysis and spatial parameter analysis of key diagnosis and Treatment Unit are carried out in the example Hospital. According to the hospital infection prevention standards we could produce an evaluation table to evaluate the results of the example analysis. According to the evaluation results and the actual specific situation of the hospital, preventive measures are put forward according to the hospital infection prevention standard level.Before the risk of nosocomial infection is serious, one pedestrian line and one motor vehicle line are set in the hospital. The underground access line to the treatment area is closed, which can reserve an entrance to the treatment area.When the risk of nosocomial infection is serious, the space is transformed. This can integrate the treatment area into a treatment area. A ground entrance is provided which can close the underground parking lot. In the common area of the diagnosis and treatment area, a spatial transformation was carried out to allow patients to enter the diagnosis and treatment unit by the side of the corridor. When the risk of infection is particularly serious, the emergency department, outpatient department, examination room and ward of key diagnosis and treatment units can be transformed through the space, so that patients can enter the diagnosis and treatment room from one side of the corridor. At the same time, the spatial analysis parameters reach the ideal value of prevention.\r",
      " In this paper, we will conduct in-depth research on the Prevention of hospital infection of respiratory infectious diseases, and in the future, we will conduct in-depth research on more hospitals to avoid and reduce hospital infection. It is hoped that the study will contribute to the avoidance and reduction of hospital infections of respiratory infectious diseases.\n",
      "\n",
      "\n",
      "원문보기\n",
      "\n",
      "\n",
      "목차검색조회\n",
      "\n",
      "\n",
      "음성듣기\n",
      "\n",
      "\n",
      "8   전염병으로 인한 사회적 변화로서 제한적 일상 표현 연구 : COVID-19 팬데믹을 소재로 한 연구작을 중심으로  박연경 부산대학교 2021 국내석사  RANK : 27772927    원문보기 목차검색조회  음성듣기             과거부터 전염병은 정치. 문화, 사회, 생활 면에서 많은 변화를 가져왔다. 갑작스럽게 찾아오는 재난으로서 전염병의 창궐은 모든 사람들을 큰 충격에 빠뜨리게 한다. 그로 인한 급격한 환경변화는 날마다 반복되던 평범한 일상에 영향을 주고 특별한 경험을 하게 한다. 이러한 전염병의 시대를 살아가는 개인의 일상생활을 탐구하는 것은 시대의 흐름을 읽어내고 앞으로의 변화에 대비할 수 있도록 하는 의미가 있다.\r",
      " 본 연구에서는 우선 선행연구로서 과거부터 현재까지 이목을 집중시켰던 전염병과 그에 따른 회화적 표현을 주로 다루고 있다. 전염병과 관련된 수많은 글, 그림, 사진 등의 기록이 남겨졌으며 전염병의 유행은 여러 예술가에게 표현 가능한 소재가 되어왔다. 연구자는 과거에 발병했던 전염병, 혹은 지금까지도 유행하고 있는 전염병 중에서 페스트, 스페인 독감, 에이즈의 유행을 알아보고 각각의 전염병을 소재로 작업한 아르놀트 뵈클린, 에드바르 뭉크, 낸 골딘의 회화적 표현에 대하여 탐구하였다. 19세기 화가 뵈클린은 상징주의적 관점에서 14세기 페스트의 유행을 사자(使者)가 돌아다니는 거리의 상황으로 표현하였다. 20세기의 화가 에드바르 뭉크는 스페인 독감을 직접적으로 경험하였는데, 스페인 독감을 이겨낸 자신의 모습을 자화상으로 표현하기도 하였다. 동시대의 사진작가 낸 골딘은 과거 에이즈로 인해 고통받던 친구들의 일상을 사진 작업으로 남기기도 하였다. 이렇듯 과거부터 현재까지의 전염병의 창궐은 회화적 표현의 소재가 되어왔다. \r",
      " 연구자는 현시대에 유행하고 있는 전염병으로 인해 변화된 일상을 회화적 소재로 삼기로 하였다. 이를 위해 먼저 현시대에 창궐한 전염병, COVID-19 팬데믹 현상에 대한 정의를 알아보고 이로 인한 사회적 변화로서 연구자의 일상 변화 표현을 탐구하였다. COVID-19는 호흡기 감염질환으로, 사람 간 침방울을 통한 전파, 혹은 오염된 물건과의 접촉으로 전염된다. COVID-19는 2020년 1월 중후반부터 시작되어 현재까지도 인류에게 위협이 되고 있으며 세계적으로 범유행 하며 팬데믹 현상을 일으켰다. 교통·통신의 발달로 인해 전 지구적 이동과 접촉이 용이해진 현대사회에서는 전염병마저 급속도로 퍼져나가게 되었다. 코로나로 인해 변화된 사회를 ‘언택트 사회’라고 일컫기도 하는데, 언택트 사회는 사람 간의 거리두기로 접촉을 최소화한 사회라는 의미이다.\r",
      " 연구자는 COVID-19로 인한 변화된 일상을 표현한 연구작품을 내용적 측면에서 다음 네 가지로 분류하였다. 첫째, 사회적 거리두기로 인한 생활공간과 행동반경의 축소이다. 학교, 직장, 교회 등의 공간은 축소되고 집 안으로 옮겨지게 되었다. 지인의 재택근무 현장, 연구자가 경험한 온라인수업, 온라인예배 등을 연구작을 통해 표현하였다. 연구자는 <코로나 블루>라는 작업에서 코로나로 인한 우울감과 답답함이 컴퓨터에 블루스크린이 뜬 때와 비슷하다고 생각하였으며, 장시간 착용하는 마스크의 답답함을 바닷속에서 호흡하는 것과 같다는 연관성을 가지고 전체적으로 블루 색상으로 표현하였다. 둘째, 특정 식자재, 의료용품 등 특정 소비재의 과잉 구매 현상이다. 코로나의 장기화로 인한 사람들의 불안감은 특정 물품들을 과잉 구매하는 방식으로 표출되기도 하였으며, 특정 물품들은 판매량이 급증하기도 했다. 이 과정에서 연구자의 가족이 겪게 된 변화된 일상의 모습을 연구자의 주관적 색채로 표현하였다. 셋째, 사람들의 시사 전반에 대한 의식 변화이다. 평소 시사에 관심이 없던 사람들도 해외, 국내의 확진 현황, 확진자의 동선 등을 확인하기 위해 뉴스를 시청하거나 휴대전화를 확인하는 일이 많아졌고 이는 시사 전반에 대한 관심으로 이어지기도 했다. 이러한 시기에 미디어의 보도를 통해 현실을 인식하게 되는 연구자 가족의 모습을 연구작을 통해 표현함과 동시에 미디어 보도의 수용과정에서 있을 수 있는 부작용에 대해 고찰해보았다. 넷째, 집콕 여가생활 등의 취미 변화이다. 외출하지 않고도 집에서 카페 느낌을 낼 수 있는 홈카페 문화가 형성되기도 하였고, 반려식물을 기르는 등 실내에서 할 수 있는 여가활동이 증가했다. 아울러 여행, 나들이의 행태도 달라졌다. 연구자는 변화된 취미생활에 적응하며 이러한 상황을 작업으로 표현하였다.\r",
      " 연구자는 이러한 일상을 디지털 드로잉과 아크릴 물감, 유화로 제작하였다. 또한 두 가지 영상작업을 하였는데, 디지털 매체를 활용한 에스키스 제작의 과정을 보여주는 영상과 각각의 스토리를 일기형식으로 제작하여 작품 사진과 함께 영상으로 만들었다. 이처럼 연구자의 작업은 전통매체와 디지털매체의 혼용이라는 특징을 지니며, 이는 오프라인 공간과 온라인 공간의 혼재가 더욱 가속화된 시대 상황과도 연관이 있다.\r",
      " 연구자는 전염병으로 인해 변화되고 있는 일상을 글과 그림으로 기록해왔으며, 이를 사회적 상황과 연관 지어 연구하였다. 이러한 작업은 전염병에서 생존하고 적응하며, 전염병을 극복하기 위한 개인의 노력이기도 하며, 동시대인에게 위로와 공감을 제공할 수 있을 것으로 기대한다. 그뿐만 아니라 바이러스 확산 시점부터 여태까지의 일상의 행적을 돌아봄을 통해 앞으로의 미래는 어떨지 예상해보며, 현재의 일상에 대한 표현연구가 미래의 일상을 준비하기 위한 이정표가 되기를 기대한다. Infectious diseases in the past have brought about political, cultural, and social changes. The contagious disease suddenly running rampant has been a great shock to all people. The environmental change caused by this enables them to experience a profound shift in common daily routines. It is important to explore the daily routines of individuals living in an age of an infectious disease which allows us to see the stream of the times and cope with upcoming changes. \r",
      " This study primarily addresses infectious diseases, preceding research, and their pictorial expression. A multitude of writings, paintings, and photographs related to infectious diseases have been left behind as subject matter many artists want to tackle. This dissertation explores pictorial expressions by Arnold Böcklin, Edvard Munch, and Nan Goldin who have conspicuously worked on the subject matter of contagious diseases, investigating epidemics caused by diseases like the plague, the Spanish flu, and ADIS. The 19th century painter Arnold Böcklin portrayed the plague epidemic of the 14th century with a street scene in which the disease is seen as death riding a creature. The 20th century painter Edvard Munch had firsthand experience with the Spanish flu and depicted himself both with and after overcoming the flu in self-portraits. The photographer of our time Nan Goldin documented in photographs the life of her friends who were suffering from AIDS. As such, epidemics of contagious diseases have been consistently adopted as the subject matter for pictorial expression. \r",
      " This study is intended to take pictorial motifs from aspects of everyday life altered by the infectious disease that is currently spreading. To this end, it tries to research how the ongoing COVID-19 pandemic and its effects are defined and explore changes in my own expression of everyday life. COVID-19 spreads from person to person through the respiratory system mainly as droplets or aerosols but also through contact with contaminated objects. It was first identified in December 2019 and rapidly spread through middle and late January 2020. It has caused a pandemic that is an ongoing threat to all mankind. It has rapidly spread all over the world where globalized movement and contact became easy thanks to the development of transportation and communication. We have now been forced into an “untact society” (untact is a combination of the prefix ‘un’ and the world ‘contact’ in Korea). This means doing things without direct contact with others or minimizing direct contact by distancing oneself. \r",
      " This study has largely classified my own works depicting changed aspects of everyday life into four types in terms of content. The first is the reduction of living space and area for action due to social distancing. Activities that took place in spaces such as schools, workplaces, and churches are reduced and moved into the home. I have represented my acquaintance’s working at home, my own online learning, and church service in my works. When working on Corona Blue, I considered the state of depression brought on by COVID-19 very similar to the color of blue on a computer monitor and expressed this scene entirely in blue, thinking that wearing a mask for a long time is like breathing underwater. The second is the phenomenon of overbuying specific food materials, medical supplies, and consumer goods. People’s feelings of insecurity caused by the continuing spread of coronavirus are at times expressed through overbuying some specific goods or the sales of specific goods skyrocketed. I portrayed alterations of my family’s everyday life in my own subjective manner. The third is a change in the general public’s consciousness pertaining to current events. Those who are usually indifferent to current affairs more frequently watch news programs to identify confirmed cases at home and abroad and their traffic. This led to a growing interest in all current affairs. I portrayed aspects of my family who perceive realities through media coverage and considered the side effects that might be brought on in the course of embracing media reports. The fourth is the change in pursuit of leisure or hobbies. A home café culture has been created and leisure activities including growing plants at home have increased. Aspects of traveling and outing have also changed. I represented this situation, adapting quickly to an altered hobby life. \r",
      " I portrayed these aspects of daily life in digital drawings, acrylic paintings, and oil paintings. I also did two videos: one is to showcase the process of making drawings (esquisse) with digital media; and the other is to display each story in the form of a diary along with photographs of my works. Characterized by a mixed use of traditional and digital media, my work is bound up with the circumstances of the times in which offline space is more indistinguishably jumbled with online space. I have documented altered aspects of daily life attributed to an infectious disease in writings and paintings and studied them in association with social situations. This work is the product of an individual’s effort to survived, adapt, and overcome the infectious disease, and it is hoped it will provide solace and arouse sympathy from contemporary people. In addition to this, I hope this dissertation could serve as an opportunity to predict the future by looking back on quotidian aspects from the outbreak and spread of COVID-19 and this study on present aspects of daily life would be a milestone to prepare future aspects of daily life.\n",
      "\n",
      "\n",
      "원문보기\n",
      "\n",
      "\n",
      "목차검색조회\n",
      "\n",
      "\n",
      "음성듣기\n",
      "\n",
      "\n",
      "9   고등학생의 전염병 관련 과학적 소양 수준 연구  강보경 慶尙大學校 2020 국내석사  RANK : 27772926    원문보기 목차검색조회  음성듣기             과학적 소양(Scientific Literacy)은 현대 사회를 살아기는데 필수적인 수단으로 강조되고 있으며, 우리나라 제 7차 개정 과학과 교육과정의 목표로 제시되어있다. 본 연구에서는 고등학교 생명과학Ⅰ 교과서의 ‘항상성과 몸의 조절’ 단원 내용을 중심으로 설문을 실시하여 학생들의 전염병에 대한 과학적 소양의 수준을 알아보고자 하였다. 이 때 교과서에 언급되고 있는 중동호흡기증후군(Middle East Respiratory Syndrome,MERS), 인플루엔자(독감), 결핵, 식중독, 쯔쯔가무시증, 결막염의 6가지 전염병에 대하여 문항을 제작하였다. 문항은 지식과 실천 영역으로 나누어 지식 영역에는 원인 및 전파경로와 증상을 묻는 문항을, 실천 영역에는 예방 및 대처법을 묻는 문항으로 구성하였다. 그 외 전염병관련정보의 출처와 과학(생물)수업에서 알게 된 정보, 전염병 교육의 필요성에 대한 인식을 묻는 문항들을 추가하여 총 49문항을 제작하고 경남 지역의 일부 고등학생을 대상으로 설문 조사를 실시하였다. \r",
      "  그 결과, 영역별 평균 정답률은 계열과 학년에 상관없이 낮게 나타났다. 평균 정답률이 가장 높은 영역은 ‘메르스(60.9%)’ 영역이고, 가장 낮은 영역은 ‘식중독(48.7%)’ 영역이며, 전체적으로 원인 및 전파경로, 증상에 대한 지식 문항보다 예방 및 대처법에 대한 실천 문항에서 평균 정답률이 낮게 나타났다.\r",
      "  해당 단원을 학습한 학생들과 학습하지 않은 학생들을 계열 및 학년으로 분류하여 평균 정답률을 비교한 결과, 유의한 차이를 보이지 않았다. 따라서, 해당 단원의 학습 내용이 학생들의 전염병 소양의 함양에 영향을 주지 못하는 것으로 나타났다.\r",
      "  전염병 관련 정보를 얻은 출처를 묻는 문항에서 ‘대중매체(55.1%)’가 가장 높게 나타났으며, ‘보건 수업(54.9%)’, ‘과학수업(52.7%)’, ‘인터넷포털(45.7%)’순으로 나타났다. 과학(생물) 수업에서 알게 된 전염병을 묻는 문항에서 ‘독감(40.6%)’ 다음으로 ‘질병 관련 탐구활동이 없었다.’는 응답이 38.4%로 2번째로 높았다. 또한, 과학(생물) 수업에서 전염병과 관련된 내용을 배워야 할 필요성에 대해서는 72.4%의 학생들이 배울 필요성이 있다고 응답했다.\r",
      "  따라서, 학생들이 과학(생물) 수업을 통해 전염병에 대한 올바른 과학적 소양을 함양할 수 있도록 실제 수업에서 질병 탐구활동을 포함하여 전염병 예방 교육과 연계된 지도가 이루어지고, 교육과정에서 해당 단원의 교육 내용과 활동이 개선될 필요가 있다.\n",
      "\n",
      "\n",
      "원문보기\n",
      "\n",
      "\n",
      "목차검색조회\n",
      "\n",
      "\n",
      "음성듣기\n",
      "\n",
      "\n",
      "10   우리나라 법정전염병 관리실태 및 예방대책에 관한 연구  심상숙 경희대학교 대학원 1994 국내석사  RANK : 27772926    복사/대출신청\n",
      "\n",
      "\n",
      "복사/대출신청\n",
      "\n",
      "\n"
     ]
    }
   ],
   "source": [
    "from bs4 import BeautifulSoup\n",
    "html_1 = driver.page_source #현재 페이지의 전체 소스코드를 다 가져오기\n",
    "soup_1 = BeautifulSoup(html_1, 'html.parser')\n",
    "\n",
    "content_1 = soup_1.find('div','srchResultListW').find_all('li')\n",
    "for i in content_1 :\n",
    "    print(i.get_text().replace(\"\\n\",\" \").strip())\n",
    "    print(\"\\n\")"
   ]
  },
  {
   "cell_type": "code",
   "execution_count": null,
   "id": "d32ff372",
   "metadata": {},
   "outputs": [],
   "source": []
  },
  {
   "cell_type": "code",
   "execution_count": 38,
   "id": "6ba5c48d",
   "metadata": {},
   "outputs": [],
   "source": [
    "driver.quit()"
   ]
  },
  {
   "cell_type": "code",
   "execution_count": 1,
   "id": "b6071c61",
   "metadata": {},
   "outputs": [],
   "source": [
    "from selenium import webdriver as wd\n",
    "from selenium.webdriver import ActionChains # scroll down 사용하기 위하여 선서\n",
    "from selenium.webdriver.chrome.service import Service\n",
    "from webdriver_manager.chrome import ChromeDriverManager\n",
    "\n",
    "from bs4 import BeautifulSoup as bs\n",
    "\n",
    "import datetime, time\n",
    "from datetime import date\n",
    "\n",
    "import pandas as pd\n",
    "import numpy as np\n",
    "import requests\n",
    "import time\n",
    "import os, sys"
   ]
  },
  {
   "cell_type": "code",
   "execution_count": 2,
   "id": "social-sunrise",
   "metadata": {},
   "outputs": [],
   "source": [
    "from selenium.webdriver.common.by import By\n",
    "from selenium.webdriver.common.keys import Keys\n",
    "from selenium.webdriver.support.ui import WebDriverWait\n",
    "from selenium.webdriver.support import expected_conditions as EC"
   ]
  },
  {
   "cell_type": "code",
   "execution_count": 3,
   "id": "6d339ea4",
   "metadata": {},
   "outputs": [],
   "source": [
    "module_path = os.path.abspath(os.path.join('.')) \n",
    "sys.path.append(module_path+\"\\\\data\\\\constant\")\n",
    "\n",
    "from constants import COMPANY_CODE"
   ]
  },
  {
   "cell_type": "code",
   "execution_count": 4,
   "id": "2afea34e",
   "metadata": {
    "scrolled": true
   },
   "outputs": [],
   "source": [
    "service = Service(r\"116/chromedriver.exe\")\n",
    "options = wd.ChromeOptions()\n",
    "driver = wd.Chrome(service=service, options=options)"
   ]
  },
  {
   "cell_type": "code",
   "execution_count": 5,
   "id": "d088433b",
   "metadata": {},
   "outputs": [],
   "source": [
    "# https://googlechromelabs.github.io/chrome-for-testing/"
   ]
  },
  {
   "cell_type": "code",
   "execution_count": 6,
   "id": "983181b0",
   "metadata": {},
   "outputs": [
    {
     "data": {
      "text/plain": [
       "'\\n# !pip install chromedriver_autoinstaller\\n\\nimport chromedriver_autoinstaller\\n\\ndriver_name = chromedriver_autoinstaller.install()  # Check if the current version of chromedriver exists\\n                                      # and if it doesn\\'t exist, download it automatically,\\n                                      # then add chromedriver to path\\ntime.sleep(1)\\n\\n# driver = wd.Chrome(driver_name)\\nservice = Service(ChromeDriverManager(version=\"114.0.5735.90\").install())\\noptions = wd.ChromeOptions()\\ndriver = wd.Chrome(service=service, options=options)\\n'"
      ]
     },
     "execution_count": 6,
     "metadata": {},
     "output_type": "execute_result"
    }
   ],
   "source": [
    "'''\n",
    "# !pip install chromedriver_autoinstaller\n",
    "\n",
    "import chromedriver_autoinstaller\n",
    "\n",
    "driver_name = chromedriver_autoinstaller.install()  # Check if the current version of chromedriver exists\n",
    "                                      # and if it doesn't exist, download it automatically,\n",
    "                                      # then add chromedriver to path\n",
    "time.sleep(1)\n",
    "\n",
    "# driver = wd.Chrome(driver_name)\n",
    "service = Service(ChromeDriverManager(version=\"114.0.5735.90\").install())\n",
    "options = wd.ChromeOptions()\n",
    "driver = wd.Chrome(service=service, options=options)\n",
    "'''"
   ]
  },
  {
   "cell_type": "code",
   "execution_count": 7,
   "id": "7ea4d592",
   "metadata": {},
   "outputs": [],
   "source": [
    "def get_data_company(com_name):\n",
    "\n",
    "    com_ticker = com_name[:6]\n",
    "    # 회사이름 입력 Q 버튼\n",
    "    css_name = '#btnisuCd_finder_stkisu0_0'\n",
    "    element = WebDriverWait(driver, 20).until(EC.element_to_be_clickable((By.CSS_SELECTOR, css_name)))\n",
    "    driver.find_element(By.CSS_SELECTOR, css_name).click()\n",
    "    time.sleep(2)\n",
    "\n",
    "    # pop up된 입력창에서 회사이름 입력\n",
    "    id_name = 'searchText__finder_stkisu0_0'\n",
    "    element = WebDriverWait(driver, 20).until(EC.element_to_be_clickable((By.ID, id_name)))\n",
    "    driver.find_element(By.ID, id_name).clear()\n",
    "    time.sleep(1)\n",
    "\n",
    "    driver.find_element(By.ID, id_name).send_keys(com_name)\n",
    "    time.sleep(2)\n",
    "\n",
    "    # 검색 버튼 푸시\n",
    "    css_name = '#searchBtn__finder_stkisu0_0'\n",
    "    element = WebDriverWait(driver, 20).until(EC.element_to_be_clickable((By.CSS_SELECTOR, css_name)))\n",
    "    driver.find_element(By.CSS_SELECTOR, css_name).click()\n",
    "    time.sleep(2)\n",
    "\n",
    "    # 테이블에서 최종 선택\n",
    "    css_sel = '#jsGrid__finder_stkisu0_0 > tbody > tr:nth-child(1) > td:nth-child(1)'\n",
    "\n",
    "    element = WebDriverWait(driver, 20).until(EC.text_to_be_present_in_element((By.CSS_SELECTOR, css_sel), com_ticker))\n",
    "    # 위 라인은 pop up 창이 사라질 때까지 기다리게 해 줌\n",
    "    driver.find_element(By.CSS_SELECTOR, css_sel).click()\n",
    "    time.sleep(2)\n",
    "\n",
    "    return"
   ]
  },
  {
   "cell_type": "code",
   "execution_count": 8,
   "id": "26e6017a",
   "metadata": {},
   "outputs": [],
   "source": [
    "def set_date(start_date, end_date): # 일정 기간 데이터 취득\n",
    "    # end_date를 먼저 입력하고 start date 입력. 반대로 하면 start date가 이전날짜로  reset되어짐\n",
    "    driver.find_element(By.ID, 'endDd').clear()\n",
    "    driver.find_element(By.ID, 'endDd').send_keys(end_date)\n",
    "    time.sleep(1)\n",
    "    \n",
    "    driver.find_element(By.ID, 'strdDd').clear()\n",
    "    driver.find_element(By.ID, 'strdDd').send_keys(start_date)\n",
    "    time.sleep(1)"
   ]
  },
  {
   "cell_type": "code",
   "execution_count": 9,
   "id": "0309f97c",
   "metadata": {},
   "outputs": [],
   "source": [
    "def get_data(start_date, end_date):\n",
    "    \n",
    "    column_name = ['date', 'close', 'change', 'close_cr', 'open', 'high', 'low', \n",
    "                  'vol', 'vol_amount','total_amount', 'total_counts' ]\n",
    "    # ['일자', '종가', '대비', '등락률', '시가', '고가', '저가', '거래량', \n",
    "    #                                 '거래대금', '시가총액', '상장주식수']\n",
    " \n",
    "    start_str = start_date.strftime('%Y-%m-%d')\n",
    "    ed_str = end_date.strftime('%Y-%m-%d')\n",
    "    set_date(start_str, ed_str)\n",
    "\n",
    "    # 테이블  취득 버튼 클릭 (우상귀)\n",
    "    id_name = 'jsSearchButton'\n",
    "    element = WebDriverWait(driver, 20).until(EC.element_to_be_clickable((By.ID, id_name)))\n",
    "    driver.find_element(By.ID, id_name).click()\n",
    "    time.sleep(1)\n",
    "\n",
    "    df = pd.read_html(driver.page_source, \n",
    "                          attrs={\"class\": \"CI-GRID-BODY-TABLE\"}, flavor=[\"lxml\", \"bs4\"])[0]\n",
    "    df.columns = column_name\n",
    "    df['date'] = df['date'].apply(lambda x : datetime.datetime.strptime(x, \"%Y/%m/%d\"))\n",
    "    df_get = df[['date', 'open', 'high', 'low', 'close', 'close_cr', 'vol']]\n",
    "    \n",
    "    return df_get"
   ]
  },
  {
   "cell_type": "code",
   "execution_count": 10,
   "id": "extreme-participation",
   "metadata": {},
   "outputs": [],
   "source": [
    "def non_empty_index_df(df_input, start_date, end_date): # 토,일,공휴일등 거래가 없는 일자도 모두 포함\n",
    "    date_range_ts = pd.date_range(start=start_date, end=end_date)\n",
    "    df_input.set_index('date', inplace=True)\n",
    "    df_out = pd.DataFrame(columns = df_input.columns)\n",
    "    df_out.insert(0, 'date', date_range_ts)\n",
    "    df_out.set_index('date', inplace=True)\n",
    "    df_out.update(df_input)\n",
    "    df_out.reset_index(inplace=True)\n",
    "    return df_out"
   ]
  },
  {
   "cell_type": "code",
   "execution_count": 11,
   "id": "7bbfe671",
   "metadata": {},
   "outputs": [],
   "source": [
    "def concat_df(df_o, df):\n",
    "    df_o = pd.concat([df_o, df], ignore_index=True)\n",
    "    df_o.drop_duplicates(subset=['date'], keep='last', inplace=True)\n",
    "    df_o.sort_values(by=[df_o.columns[0]], inplace=True)\n",
    "    df_o.index = np.arange(0, len(df_o))  # 일련 번호 오름차순으로 재 설정\n",
    "    return df_o"
   ]
  },
  {
   "cell_type": "code",
   "execution_count": 12,
   "id": "abac5c0c",
   "metadata": {},
   "outputs": [],
   "source": [
    "# 개장일이 아닌 row는 삭제하기 위하여 개장일 데이터 load\n",
    "base_data_directory = './data/base_data/stock_market_holydays/'\n",
    "opening_days_kor = pd.read_pickle(base_data_directory+'opening_days_kor.pkl') # 한국 개장일 데이터 \n",
    "\n",
    "# df_in : common data, opening_days : Series from oprning_days_xxx.pkl\n",
    "def select_openingdays(df_in, opening_days):\n",
    "    df_sel = df_in['date'].apply(lambda x: True if x.date() in list(opening_days) else False)\n",
    "    df_out = df_in[df_sel].reset_index(drop=True)\n",
    "    return df_out"
   ]
  },
  {
   "cell_type": "code",
   "execution_count": 13,
   "id": "29e69d53",
   "metadata": {},
   "outputs": [],
   "source": [
    "# driver.set_window_position(-10000,0) # hide windows\n",
    "main_url = 'http://data.krx.co.kr/contents/MDC/MDI/mdiLoader/index.cmd?menuId=MDC0201020103'\n",
    "# 개별종목 시세추이 data-menu-id: MDC0201020103\n",
    "driver.get(main_url)\n",
    "time.sleep(1)"
   ]
  },
  {
   "cell_type": "code",
   "execution_count": 14,
   "id": "8903361a",
   "metadata": {},
   "outputs": [],
   "source": [
    "# 백만원 단위 표시 선정\n",
    "css_sel = '#MDCSTAT017_FORM > div.CI-MDI-UNIT-WRAP > div > p:nth-child(2) \\\n",
    "           > select.CI-MDI-UNIT-MONEY > option:nth-child(3)'\n",
    "driver.find_element(By.CSS_SELECTOR, css_sel).click()\n",
    "time.sleep(1)"
   ]
  },
  {
   "cell_type": "code",
   "execution_count": 15,
   "id": "4afbc1cf",
   "metadata": {},
   "outputs": [],
   "source": [
    "code = COMPANY_CODE\n",
    "\n",
    "# code = {'005930': ['삼성전자', 'sec'], '005380': ['현대차', 'hyunmotor'],\n",
    "#                  '035420': ['NAVER', 'naver'], '033780': ['KT&G', 'ktng']}\n",
    "# code = {'005930': ['삼성전자', 'sec'], '000660': ['SK하이닉스', 'skhynix']}\n",
    "# code = {'302440': ['SK바이오사이언스', 'skbio']}"
   ]
  },
  {
   "cell_type": "code",
   "execution_count": 16,
   "id": "16fe9577",
   "metadata": {},
   "outputs": [
    {
     "name": "stdout",
     "output_type": "stream",
     "text": [
      "005930/삼성전자 1/52, 373220/LG에너지솔루션 2/52, 000660/SK하이닉스 3/52, 207940/삼성바이오로직스 4/52, 006400/삼성SDI 5/52, 051910/LG화학 6/52, 005935/삼성전자우 7/52, 005380/현대차 8/52, 035420/NAVER 9/52, 000270/기아 10/52, 035720/카카오 11/52, 005490/POSCO홀딩스 12/52, 105560/KB금융 13/52, 028260/삼성물산 14/52, 068270/셀트리온 15/52, 012330/현대모비스 16/52, 055550/신한지주 17/52, 066570/LG전자 18/52, 003670/포스코퓨처엠 19/52, 096770/SK이노베이션 20/52, 033780/KT&G 21/52, 030200/KT 22/52, 003550/LG 23/52, 034730/SK 24/52, 032830/삼성생명 25/52, 086790/하나금융지주 26/52, 009150/삼성전기 27/52, 015760/한국전력 28/52, 034020/두산에너빌리티 29/52, 010130/고려아연 30/52, 017670/SK텔레콤 31/52, 011200/HMM 32/52, 000810/삼성화재 33/52, 051900/LG생활건강 34/52, 010950/S-Oil 35/52, 259960/크래프톤 36/52, 018260/삼성에스디에스 37/52, 329180/현대중공업 38/52, 003490/대한항공 39/52, 036570/엔씨소프트 40/52, 009830/한화솔루션 41/52, 316140/우리금융지주 42/52, 090430/아모레퍼시픽 43/52, 011170/롯데케미칼 44/52, 024110/기업은행 45/52, 138040/메리츠금융지주 46/52, 377300/카카오페이 47/52, 011070/LG이노텍 48/52, 028050/삼성엔지니어링 49/52, 361610/SK아이이테크놀로지 50/52, 086280/현대글로비스 51/52, 302440/SK바이오사이언스 52/52, "
     ]
    }
   ],
   "source": [
    "pkl_directory = 'data/company_pkl/'\n",
    "modification_time = pd.read_pickle(pkl_directory + 'modification_time_company_his.pkl')\n",
    "total = len(code)\n",
    "\n",
    "for i, (key, val) in enumerate(code.items()):\n",
    "    com_name = \"/\".join([key, val[0]])\n",
    "    pkl_name= '{}_historical.pkl'.format(val[1])\n",
    "    try :\n",
    "        df_o = pd.read_pickle(pkl_directory + pkl_name)\n",
    "        start_date = df_o['date'].iloc[len(df_o)-1]\n",
    "    except :\n",
    "        start_date = datetime.date(2022, 1, 1)   # 데이터 취득 시작 일자     \n",
    "\n",
    "#     start_date = datetime.date(2023, 5, 11)  # 데이터 취득 오류시 일시 사용\n",
    "        \n",
    "    end_date = datetime.date.today()\n",
    "    get_data_company(com_name)\n",
    "    df_get = get_data(start_date, end_date)\n",
    "    df_out = non_empty_index_df(df_get, start_date, end_date)\n",
    "#   NaN to null string. cause NaN does not replace original values in the original datafram    \n",
    "    try :\n",
    "        df_o = concat_df(df_o, df_out) # append df to original df\n",
    "    except :\n",
    "        df_o = df_out.copy()\n",
    "        \n",
    "    # 개장일이 아닌 row는 삭제\n",
    "    df_o = select_openingdays(df_o, opening_days_kor)\n",
    "    \n",
    "    df_o.replace(np.nan, '', inplace=True)\n",
    "    df_o.to_pickle(pkl_directory+pkl_name)\n",
    "    df_o.to_csv(pkl_directory+pkl_name.replace('pkl','csv'))\n",
    "    modification_time.loc[pkl_name][0] = datetime.datetime.now()\n",
    "    \n",
    "    print(com_name, f'{i+1}/{total}', end=', ') # 진행상황 확인용\n",
    "    \n",
    "modification_time.to_pickle(pkl_directory+'modification_time_company_his.pkl')\n",
    "modification_time.to_csv(pkl_directory+'modification_time_company_his.csv')"
   ]
  },
  {
   "cell_type": "markdown",
   "id": "97b1148e",
   "metadata": {},
   "source": [
    "### 투자자별 현황\n",
    " - 거래 정보와 코딩 구성등 형태는 똑 같으나, empty_datetime index 내용과, column selected 내용이 서로 달라서,\n",
    "    별개의 루틴으로 구성함."
   ]
  },
  {
   "cell_type": "code",
   "execution_count": 17,
   "id": "ef27a421",
   "metadata": {},
   "outputs": [],
   "source": [
    "def date_set(datei): # 하루 하루 데이터를 받아야 함.\n",
    "# end_date를 먼저 입력하고 start date 입력. 반대로 하면 start date가 이전날짜로  reset되어짐\n",
    "    driver.find_element(By.ID, 'endDd').clear()\n",
    "    driver.find_element(By.ID, 'endDd').send_keys(datei)\n",
    "    time.sleep(1)\n",
    "    driver.find_element(By.ID, 'strtDd').clear()\n",
    "    driver.find_element(By.ID, 'strtDd').send_keys(datei)\n",
    "    time.sleep(1)\n",
    "    return"
   ]
  },
  {
   "cell_type": "code",
   "execution_count": 18,
   "id": "d0ea442f",
   "metadata": {},
   "outputs": [],
   "source": [
    "def push_button_1(): # 조회 button push\n",
    "    xp = '/html/body/div[2]/section[2]/section/section/div/div[2]/form/div[1]/div/a' \n",
    "    # use full xpath to avoid 'Message: element not interactable' Error\n",
    "    driver.find_element(By.XPATH, xp).click()\n",
    "    time.sleep(1) # 여유시간 배분\n",
    "    css_sel = 'div.loading-bar-wrap.small' # 각기 다른 loading 페이지에서 공통적으로 사용됨\n",
    "    element = WebDriverWait(driver, 20).until(EC.invisibility_of_element_located((By.CSS_SELECTOR, css_sel)))\n",
    "    # 위 라인은 pop up 창이 사라질 때까지 기다리게 해 줌\n",
    "    time.sleep(1) # 여유시간 배분\n",
    "    return"
   ]
  },
  {
   "cell_type": "code",
   "execution_count": 19,
   "id": "43674fed",
   "metadata": {},
   "outputs": [],
   "source": [
    "base_data_directory = './data/base_data/stock_market_holydays/'\n",
    "opening_days_kor = pd.read_pickle(base_data_directory+'opening_days_kor.pkl') # 한국 개장일 데이터 \n",
    "def is_opening_day(date): # 개장일 확인\n",
    "    date = datetime.datetime.strptime(date, \"%Y%m%d\").date()\n",
    "    if date in list(opening_days_kor):\n",
    "        return True\n",
    "    else:\n",
    "        return False"
   ]
  },
  {
   "cell_type": "code",
   "execution_count": 20,
   "id": "aa66ac92",
   "metadata": {},
   "outputs": [],
   "source": [
    "index_name = ['investor', 'sell_quantity', 'buy_quantity', 'pure_buy_quantity', 'sell', 'buy', 'pure_buy']\n",
    "column_name = ['financial', 'insurance', 'invtrust', 'privequity', 'bank', 'financeetc', 'pension',\n",
    "              'institution', 'corporateetc', 'retail', 'foreigner', 'foreigneretc', 'total' ]\n",
    "def get_daily_data(date_range):\n",
    "    df_org = None\n",
    "    for datei in date_range: \n",
    "        \n",
    "        if not is_opening_day(datei): # 나중(5월 2일 이후)에 개장일만 수집하도록 수정할 것\n",
    "            continue\n",
    "\n",
    "        date_set(datei)\n",
    "        push_button_1()\n",
    "        df = pd.read_html(driver.page_source, \n",
    "                          attrs={\"class\": \"CI-GRID-BODY-TABLE\"}, flavor=[\"lxml\", \"bs4\"])[0]\n",
    "        df.columns = index_name\n",
    "        df_new = df[['investor', 'pure_buy']] # 순매수 금액\n",
    "        df_new.set_index('investor', inplace=True)\n",
    "        dft = df_new.T\n",
    "        dft.columns = column_name\n",
    "        dft.insert(0, \"date\", datetime.datetime.strptime(datei, \"%Y%m%d\"))\n",
    "        dft.reset_index(drop=True, inplace=True)\n",
    "        if df_org is None:\n",
    "            df_org = dft.copy()\n",
    "            continue\n",
    "#         df_org = df_org.append(dft, ignore_index=True) # append will be depreciated\n",
    "        df_org =pd.concat([df_org,dft], ignore_index=True)\n",
    "        \n",
    "    return df_org"
   ]
  },
  {
   "cell_type": "code",
   "execution_count": 21,
   "id": "9a5fb9f8",
   "metadata": {},
   "outputs": [],
   "source": [
    "def get_data_company_investor(com_name, start_date, end_date):\n",
    "    \n",
    "    com_ticker = com_name[:6]\n",
    "    # 회사이름 입력 Q 버튼\n",
    "    driver.find_element(By.CSS_SELECTOR, '#btnisuCd_finder_stkisu0_1').click()\n",
    "    time.sleep(2)\n",
    "\n",
    "    # pop up된 입력창에서 회사이름 입력\n",
    "    id_name = 'searchText__finder_stkisu0_1'\n",
    "    element = WebDriverWait(driver, 20).until(EC.element_to_be_clickable((By.ID, id_name)))\n",
    "    driver.find_element(By.ID, id_name).clear()\n",
    "    time.sleep(1)\n",
    "    \n",
    "    driver.find_element(By.ID, 'searchText__finder_stkisu0_1').send_keys(com_name)\n",
    "    time.sleep(1)\n",
    "\n",
    "    # 검색 버튼 푸시\n",
    "    css_name = '#searchBtn__finder_stkisu0_1'\n",
    "    element = WebDriverWait(driver, 20).until(EC.element_to_be_clickable((By.CSS_SELECTOR, css_name)))\n",
    "    driver.find_element(By.CSS_SELECTOR, css_name).click()\n",
    "    time.sleep(1)\n",
    "\n",
    "    # 테이블에서 최종 선택\n",
    "    css_sel = '#jsGrid__finder_stkisu0_1 > tbody > tr:nth-child(1) > td:nth-child(1)'\n",
    "\n",
    "    element = WebDriverWait(driver, 20).until(EC.text_to_be_present_in_element((By.CSS_SELECTOR, css_sel), com_ticker))\n",
    "    driver.find_element(By.CSS_SELECTOR, css_sel).click()\n",
    "    time.sleep(2)\n",
    "    \n",
    "    date_range = convert_date(start_date, end_date)\n",
    "    return get_daily_data(date_range)"
   ]
  },
  {
   "cell_type": "code",
   "execution_count": 22,
   "id": "c877b81c",
   "metadata": {},
   "outputs": [],
   "source": [
    "def convert_date(start_date, end_date):\n",
    "    date_range_ts = pd.date_range(start=start_date, end=end_date)\n",
    "    date_range = []\n",
    "    for x in date_range_ts:\n",
    "        date_range.append(datetime.datetime.strftime(x, \"%Y%m%d\"))\n",
    "    return date_range"
   ]
  },
  {
   "cell_type": "code",
   "execution_count": 23,
   "id": "7aeb7361",
   "metadata": {},
   "outputs": [],
   "source": [
    "# 투자자별 URL로 변경\n",
    "main_url = 'http://data.krx.co.kr/contents/MDC/MDI/mdiLoader/index.cmd?menuId=MDC0201020203'\n",
    "driver.get(main_url)\n",
    "time.sleep(2)"
   ]
  },
  {
   "cell_type": "code",
   "execution_count": 24,
   "id": "56045dc8",
   "metadata": {},
   "outputs": [],
   "source": [
    "# Message: element not interactable Error 방지용. 클릭하기 위하여는 그 위치가 클릭할 수 있게 노출되어 있어야 함\n",
    "# 투자자별 거래실적 버튼이 위치한 곳으로 화면 scroll \n",
    "\n",
    "# id가 jsOpenView_1 인 element 를 찾음\n",
    "stop_tag = driver.find_element(By.ID, 'jsOpenView_1')\n",
    "\n",
    "# jsOpenView_1 element 까지 스크롤\n",
    "action = ActionChains(driver)\n",
    "action.move_to_element(stop_tag).perform()"
   ]
  },
  {
   "cell_type": "code",
   "execution_count": 25,
   "id": "a5eb268d",
   "metadata": {},
   "outputs": [],
   "source": [
    "# 투자자별 거래 실적 버튼 클릭\n",
    "driver.find_element(By.ID, 'jsOpenView_1').click()\n",
    "time.sleep(2)"
   ]
  },
  {
   "cell_type": "code",
   "execution_count": 26,
   "id": "cb3b71bd",
   "metadata": {},
   "outputs": [],
   "source": [
    "# 백만원 단위 표시 선정\n",
    "css_sel = '#MDCSTAT023_FORM > div.CI-MDI-UNIT-WRAP > div > p:nth-child(2) > select.CI-MDI-UNIT-MONEY > option:nth-child(3)'\n",
    "\n",
    "driver.find_element(By.CSS_SELECTOR, css_sel).click()\n",
    "time.sleep(1)"
   ]
  },
  {
   "cell_type": "code",
   "execution_count": 27,
   "id": "c98c0066",
   "metadata": {
    "scrolled": false
   },
   "outputs": [
    {
     "name": "stdout",
     "output_type": "stream",
     "text": [
      "005930/삼성전자 1/52, 373220/LG에너지솔루션 2/52, 000660/SK하이닉스 3/52, 207940/삼성바이오로직스 4/52, 006400/삼성SDI 5/52, 051910/LG화학 6/52, 005935/삼성전자우 7/52, 005380/현대차 8/52, 035420/NAVER 9/52, 000270/기아 10/52, 035720/카카오 11/52, 005490/POSCO홀딩스 12/52, 105560/KB금융 13/52, 028260/삼성물산 14/52, 068270/셀트리온 15/52, 012330/현대모비스 16/52, 055550/신한지주 17/52, 066570/LG전자 18/52, 003670/포스코퓨처엠 19/52, 096770/SK이노베이션 20/52, 033780/KT&G 21/52, 030200/KT 22/52, 003550/LG 23/52, 034730/SK 24/52, 032830/삼성생명 25/52, 086790/하나금융지주 26/52, 009150/삼성전기 27/52, 015760/한국전력 28/52, 034020/두산에너빌리티 29/52, 010130/고려아연 30/52, 017670/SK텔레콤 31/52, 011200/HMM 32/52, 000810/삼성화재 33/52, 051900/LG생활건강 34/52, 010950/S-Oil 35/52, 259960/크래프톤 36/52, 018260/삼성에스디에스 37/52, 329180/현대중공업 38/52, 003490/대한항공 39/52, 036570/엔씨소프트 40/52, 009830/한화솔루션 41/52, 316140/우리금융지주 42/52, 090430/아모레퍼시픽 43/52, 011170/롯데케미칼 44/52, 024110/기업은행 45/52, 138040/메리츠금융지주 46/52, 377300/카카오페이 47/52, 011070/LG이노텍 48/52, 028050/삼성엔지니어링 49/52, 361610/SK아이이테크놀로지 50/52, 086280/현대글로비스 51/52, 302440/SK바이오사이언스 52/52, "
     ]
    }
   ],
   "source": [
    "pkl_directory = 'data/company_pkl/'\n",
    "# modification_time = {} # 데이터가 생성된 시간 저장 dictionary\n",
    "modification_time = pd.read_pickle(pkl_directory + 'modification_time_company_inv.pkl')\n",
    "total = len(code)\n",
    "\n",
    "for i, (key, val) in enumerate(code.items()):\n",
    "    com_name = \"/\".join([key, val[0]])\n",
    "    pkl_name= '{}_investors.pkl'.format(val[1])\n",
    "    try :\n",
    "        df_o = pd.read_pickle(pkl_directory + pkl_name)\n",
    "        start_date = df_o['date'].iloc[len(df_o)-1]\n",
    "    except :\n",
    "        start_date = datetime.date(2022, 1, 1)   # 데이터 취득 시작 일자 \n",
    "        \n",
    "#     start_date = datetime.date(2023, 5, 11) # 데이터 취득 오류시 일시 사용\n",
    "\n",
    "    end_date = datetime.date.today()\n",
    "    df_out = get_data_company_investor(com_name, start_date, end_date)\n",
    "    try :\n",
    "        df_out = df_out[df_o.columns]     \n",
    "        df_o = concat_df(df_o, df_out) # append df to original df\n",
    "    except :\n",
    "        df_col = ['date', 'retail', 'foreigner', 'institution', 'financial', 'invtrust',\n",
    "                  'pension', 'privequity', 'bank', 'insurance', 'financeetc',\n",
    "                  'corporateetc', 'foreigneretc']\n",
    "        df_out = df_out[df_col]\n",
    "        df_o = df_out.copy()\n",
    "        \n",
    "    # 개장일이 아닌 row는 삭제\n",
    "    df_o = select_openingdays(df_o, opening_days_kor)\n",
    "    \n",
    "    df_o.to_pickle(pkl_directory+pkl_name)\n",
    "    df_o.to_csv(pkl_directory+pkl_name.replace('pkl','csv'))\n",
    "    modification_time.loc[pkl_name][0] = datetime.datetime.now()\n",
    "    \n",
    "    print(com_name, f'{i+1}/{total}', end=', ') # 진행상황 확인용\n",
    "    \n",
    "modification_time.to_pickle(pkl_directory+'modification_time_company_inv.pkl')\n",
    "modification_time.to_csv(pkl_directory+'modification_time_company_inv.csv')"
   ]
  },
  {
   "cell_type": "code",
   "execution_count": 28,
   "id": "5cb18ada",
   "metadata": {},
   "outputs": [],
   "source": [
    "driver.close()\n",
    "driver.quit()"
   ]
  },
  {
   "cell_type": "code",
   "execution_count": null,
   "id": "d7857163",
   "metadata": {},
   "outputs": [],
   "source": []
  },
  {
   "cell_type": "code",
   "execution_count": null,
   "id": "5890b88b",
   "metadata": {},
   "outputs": [],
   "source": []
  }
 ],
 "metadata": {
  "kernelspec": {
   "display_name": "Python 3 (ipykernel)",
   "language": "python",
   "name": "python3"
  },
  "language_info": {
   "codemirror_mode": {
    "name": "ipython",
    "version": 3
   },
   "file_extension": ".py",
   "mimetype": "text/x-python",
   "name": "python",
   "nbconvert_exporter": "python",
   "pygments_lexer": "ipython3",
   "version": "3.9.1"
  }
 },
 "nbformat": 4,
 "nbformat_minor": 5
}
