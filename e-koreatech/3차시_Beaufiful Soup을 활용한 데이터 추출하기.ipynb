{
 "cells": [
  {
   "cell_type": "code",
   "execution_count": null,
   "id": "4c2e604b",
   "metadata": {},
   "outputs": [],
   "source": [
    "#Beautiful Soup 예제 1\n",
    "from bs4 import BeautifulSoup\n",
    "ex1 = '''\n",
    "<html>\n",
    "    <head>\n",
    "        <title> HTML 연습 </title>\n",
    "    </head>\n",
    "    <body>\n",
    "        <p align=\"center\"> text 1 </p>\n",
    "        <img src=\"c:\\\\temp\\\\image\\\\솔개.png\">\n",
    "    </body>\n",
    "<html> '''\n",
    "\n",
    "soup = BeautifulSoup(ex1, 'html.parser')\n",
    "print( soup.find('title') )\n",
    "print( soup.find('p') )"
   ]
  },
  {
   "cell_type": "code",
   "execution_count": null,
   "id": "b4598e71",
   "metadata": {},
   "outputs": [],
   "source": [
    "#Beautiful Soup 예제 2\n",
    "from bs4 import BeautifulSoup\n",
    "ex1 = '''\n",
    "<html>\n",
    "    <head>\n",
    "        <title> HTML 연습 </title>\n",
    "    </head>\n",
    "    <body>\n",
    "        <p align=\"center\"> text 1 </p>\n",
    "        <p align=\"right\"> text 2 </p>\n",
    "        <p align=\"left\"> text 3 </p>\n",
    "        <img src=\"c:\\\\temp\\\\image\\\\솔개.png\">\n",
    "    </body>\n",
    "<html> '''\n",
    "\n",
    "soup = BeautifulSoup(ex1, 'html.parser')\n",
    "print( '첫번째 태그만 추출:',soup.find('p') )\n",
    "print( '속성값을 지정하여 추출:', soup.find('p',align=\"right\") )"
   ]
  },
  {
   "cell_type": "code",
   "execution_count": 10,
   "id": "2e3899a4",
   "metadata": {},
   "outputs": [
    {
     "name": "stdout",
     "output_type": "stream",
     "text": [
      "1건만가져오기: <p align=\"center\"> text 1 </p>\n",
      "전부가져오기: [<p align=\"center\"> text 1 </p>, <p align=\"center\"> text 2 </p>, <p align=\"center\"> text 3 </p>]\n",
      "첫번째가져오기: <p align=\"center\"> text 1 </p>\n",
      "두번째가져오기: <p align=\"center\"> text 2 </p>\n",
      "세번째가져오기: <p align=\"center\"> text 3 </p>\n"
     ]
    }
   ],
   "source": [
    "#Beautiful Soup 예제 3\n",
    "from bs4 import BeautifulSoup\n",
    "ex1 = '''\n",
    "<html>\n",
    "    <head>\n",
    "        <title> HTML 연습 </title>\n",
    "    </head>\n",
    "    <body>\n",
    "        <p align=\"center\"> text 1 </p>\n",
    "        <p align=\"center\"> text 2 </p>\n",
    "        <p align=\"center\"> text 3 </p>\n",
    "        <img src=\"c:\\\\temp\\\\image\\\\솔개.png\">\n",
    "    </body>\n",
    "<html> '''\n",
    "\n",
    "soup = BeautifulSoup(ex1, 'html.parser')\n",
    "print( '1건만가져오기:', soup.find('p') ) \n",
    "print( '전부가져오기:', soup.find_all('p') )\n",
    "print( '첫번째가져오기:',soup.find_all('p')[0] )\n",
    "print( '두번째가져오기:',soup.find_all('p')[1] )\n",
    "print( '세번째가져오기:',soup.find_all('p')[2] )"
   ]
  },
  {
   "cell_type": "code",
   "execution_count": 11,
   "id": "efa13d61",
   "metadata": {},
   "outputs": [],
   "source": [
    "#select( ) 함수 사용하기\n",
    "# 연습용 html 만들기\n",
    "ex2='''\n",
    "<html>\n",
    "    <head>\n",
    "        <h1> 사야할 과일\n",
    "    </head>\n",
    "    <body>\n",
    "        <h1> 시장가서 사야할 과일 목록\n",
    "            <div><p id='fruit1' class='name1' title='바나나'> 바나나\n",
    "                <span class='price'> 3000원 </span>\n",
    "                <span class='count'> 10개 </span>\n",
    "                <span class='store'> 바나나가게 </span>\n",
    "                <a href='https://www.banana.com'> banana.com </a>\n",
    "                </p>\n",
    "            </div>\n",
    "             <div><p id='fruit2' class='name2' title='체리'> 체리\n",
    "                <span class='price'> 100원 </span>\n",
    "                <span class='count'> 50개 </span>\n",
    "                <span class='store'> 체리가게 </span>\n",
    "                <a href='https://www.cherry.com'> cherry.com </a>\n",
    "                </p>\n",
    "            </div>\n",
    "             <div><p id='fruit3' class='name3' title='오렌지'> 오렌지\n",
    "                <span class='price'> 500원 </span>\n",
    "                <span class='count'> 20개 </span>\n",
    "                <span class='store'> 오렌지가게 </span>\n",
    "                <a href='https://www.orange.com'> orange.com </a>\n",
    "                </p>\n",
    "            </div>\n",
    "        </body>\n",
    "    </html> '''           "
   ]
  },
  {
   "cell_type": "code",
   "execution_count": 12,
   "id": "28546445",
   "metadata": {},
   "outputs": [
    {
     "data": {
      "text/plain": [
       "[<p class=\"name1\" id=\"fruit1\" title=\"바나나\"> 바나나\n",
       "                 <span class=\"price\"> 3000원 </span>\n",
       " <span class=\"count\"> 10개 </span>\n",
       " <span class=\"store\"> 바나나가게 </span>\n",
       " <a href=\"https://www.banana.com\"> banana.com </a>\n",
       " </p>,\n",
       " <p class=\"name2\" id=\"fruit2\" title=\"체리\"> 체리\n",
       "                 <span class=\"price\"> 100원 </span>\n",
       " <span class=\"count\"> 50개 </span>\n",
       " <span class=\"store\"> 체리가게 </span>\n",
       " <a href=\"https://www.cherry.com\"> cherry.com </a>\n",
       " </p>,\n",
       " <p class=\"name3\" id=\"fruit3\" title=\"오렌지\"> 오렌지\n",
       "                 <span class=\"price\"> 500원 </span>\n",
       " <span class=\"count\"> 20개 </span>\n",
       " <span class=\"store\"> 오렌지가게 </span>\n",
       " <a href=\"https://www.orange.com\"> orange.com </a>\n",
       " </p>]"
      ]
     },
     "execution_count": 12,
     "metadata": {},
     "output_type": "execute_result"
    }
   ],
   "source": [
    "# select('태그이름')\n",
    "soup2 = BeautifulSoup(ex2 , 'html.parser')\n",
    "\n",
    "soup2.select('p')"
   ]
  },
  {
   "cell_type": "code",
   "execution_count": 13,
   "id": "7ee9c66e",
   "metadata": {},
   "outputs": [
    {
     "data": {
      "text/plain": [
       "[<p class=\"name1\" id=\"fruit1\" title=\"바나나\"> 바나나\n",
       "                 <span class=\"price\"> 3000원 </span>\n",
       " <span class=\"count\"> 10개 </span>\n",
       " <span class=\"store\"> 바나나가게 </span>\n",
       " <a href=\"https://www.banana.com\"> banana.com </a>\n",
       " </p>]"
      ]
     },
     "execution_count": 13,
     "metadata": {},
     "output_type": "execute_result"
    }
   ],
   "source": [
    "#select(''.클래스이름')\n",
    "soup2.select(' .name1 ')"
   ]
  },
  {
   "cell_type": "code",
   "execution_count": 14,
   "id": "8979fd6e",
   "metadata": {},
   "outputs": [
    {
     "data": {
      "text/plain": [
       "[<span class=\"price\"> 3000원 </span>,\n",
       " <span class=\"count\"> 10개 </span>,\n",
       " <span class=\"store\"> 바나나가게 </span>,\n",
       " <span class=\"price\"> 100원 </span>,\n",
       " <span class=\"count\"> 50개 </span>,\n",
       " <span class=\"store\"> 체리가게 </span>,\n",
       " <span class=\"price\"> 500원 </span>,\n",
       " <span class=\"count\"> 20개 </span>,\n",
       " <span class=\"store\"> 오렌지가게 </span>]"
      ]
     },
     "execution_count": 14,
     "metadata": {},
     "output_type": "execute_result"
    }
   ],
   "source": [
    "#select(‘ 상위태그 > 하위태그 > 하위태그‘ )\n",
    "soup2.select(' div > p > span')  # 반드시 부등호 양쪽에 space가 있어야 함."
   ]
  },
  {
   "cell_type": "code",
   "execution_count": 15,
   "id": "62ade809",
   "metadata": {},
   "outputs": [
    {
     "data": {
      "text/plain": [
       "[<span class=\"store\"> 바나나가게 </span>]"
      ]
     },
     "execution_count": 15,
     "metadata": {},
     "output_type": "execute_result"
    }
   ],
   "source": [
    "# select(‘상위태그.클래스이름 > 하위태그.클래스이름’)\n",
    "soup2.select(' p.name1 > span.store ')"
   ]
  },
  {
   "cell_type": "code",
   "execution_count": 16,
   "id": "617c5cf2",
   "metadata": {},
   "outputs": [
    {
     "data": {
      "text/plain": [
       "[<p class=\"name1\" id=\"fruit1\" title=\"바나나\"> 바나나\n",
       "                 <span class=\"price\"> 3000원 </span>\n",
       " <span class=\"count\"> 10개 </span>\n",
       " <span class=\"store\"> 바나나가게 </span>\n",
       " <a href=\"https://www.banana.com\"> banana.com </a>\n",
       " </p>]"
      ]
     },
     "execution_count": 16,
     "metadata": {},
     "output_type": "execute_result"
    }
   ],
   "source": [
    "# select(‘#아이디명”)\n",
    "soup2.select(' #fruit1')"
   ]
  },
  {
   "cell_type": "code",
   "execution_count": 17,
   "id": "5a5cddd6",
   "metadata": {},
   "outputs": [
    {
     "data": {
      "text/plain": [
       "[<a href=\"https://www.banana.com\"> banana.com </a>,\n",
       " <a href=\"https://www.cherry.com\"> cherry.com </a>,\n",
       " <a href=\"https://www.orange.com\"> orange.com </a>]"
      ]
     },
     "execution_count": 17,
     "metadata": {},
     "output_type": "execute_result"
    }
   ],
   "source": [
    "# select(‘태그명[속성1=값1]’)\n",
    "soup2.select('a[href]')"
   ]
  },
  {
   "cell_type": "code",
   "execution_count": 18,
   "id": "4ad2b08f",
   "metadata": {},
   "outputs": [
    {
     "name": "stdout",
     "output_type": "stream",
     "text": [
      "<p class=\"name1\" id=\"fruit1\" title=\"바나나\"> 바나나\n",
      "                <span class=\"price\"> 3000원 </span>\n",
      "<span class=\"count\"> 10개 </span>\n",
      "<span class=\"store\"> 바나나가게 </span>\n",
      "<a href=\"https://www.banana.com\"> banana.com </a>\n",
      "</p>\n",
      "<p class=\"name2\" id=\"fruit2\" title=\"체리\"> 체리\n",
      "                <span class=\"price\"> 100원 </span>\n",
      "<span class=\"count\"> 50개 </span>\n",
      "<span class=\"store\"> 체리가게 </span>\n",
      "<a href=\"https://www.cherry.com\"> cherry.com </a>\n",
      "</p>\n",
      "<p class=\"name3\" id=\"fruit3\" title=\"오렌지\"> 오렌지\n",
      "                <span class=\"price\"> 500원 </span>\n",
      "<span class=\"count\"> 20개 </span>\n",
      "<span class=\"store\"> 오렌지가게 </span>\n",
      "<a href=\"https://www.orange.com\"> orange.com </a>\n",
      "</p>\n"
     ]
    }
   ],
   "source": [
    "# 태그 뒤의 텍스트만 추출하기 \n",
    "txt3 = soup2.find_all('p')\n",
    "for i in txt3 :\n",
    "    print(i)"
   ]
  },
  {
   "cell_type": "code",
   "execution_count": 19,
   "id": "6a302280",
   "metadata": {},
   "outputs": [
    {
     "name": "stdout",
     "output_type": "stream",
     "text": [
      " 바나나                 3000원  10개  바나나가게  banana.com \n",
      " 체리                 100원  50개  체리가게  cherry.com \n",
      " 오렌지                 500원  20개  오렌지가게  orange.com \n"
     ]
    }
   ],
   "source": [
    "# 태그 뒤의 텍스트만 추출하기 \n",
    "txt3 = soup2.find_all('p')\n",
    "for i in txt3 :\n",
    "    print(i.get_text().replace('\\n','') )"
   ]
  },
  {
   "cell_type": "code",
   "execution_count": null,
   "id": "77480319",
   "metadata": {},
   "outputs": [],
   "source": [
    "#3차시 : riss.kr 사이트에서 특정 키워드로 자동 검색하기\n",
    "\n",
    "#Step 1. 필요한 모듈을 로딩합니다\n",
    "from selenium import webdriver\n",
    "from selenium.webdriver.common.by import By\n",
    "from selenium.webdriver.common.keys import Keys\n",
    "from selenium.webdriver.chrome.service import Service\n",
    "import time          \n",
    "\n",
    "#Step 2. 사용자에게 검색 관련 정보들을 입력 받습니다.\n",
    "print(\"=\" *100)\n",
    "print(\" 이 크롤러는 riss 사이트의 논문 자료 수집용 웹크롤러입니다.\")\n",
    "print(\"=\" *100)\n",
    "query_txt = input('1.수집할 자료의 키워드는 무엇입니까?(예: 전염병): ')\n",
    "print(\"\\n\")\n",
    "\n",
    "#Step 3. 크롬 드라이버 설정 및 웹 페이지 열기\n",
    "s = Service(\"c:/py_temp/chromedriver.exe\")\n",
    "driver = webdriver.Chrome(service=s)\n",
    "\n",
    "url = 'https://www.riss.kr/'\n",
    "driver.get(url)\n",
    "time.sleep(5)\n",
    "driver.maximize_window()\n",
    "\n",
    "#Step 4. 자동으로 검색어 입력 후 조회하기\n",
    "element = driver.find_element(By.ID,'query')\n",
    "driver.find_element(By.ID,'query').click( )\n",
    "element.send_keys(query_txt)\n",
    "element.send_keys(\"\\n\")\n",
    "\n",
    "#Step 5.학위 논문 선택하기\n",
    "driver.find_element(By.LINK_TEXT,'학위논문').click()\n",
    "time.sleep(2)\n",
    "\n",
    "#Step 6.Beautiful Soup 로 본문 내용만 추출하기\n",
    "from bs4 import BeautifulSoup\n",
    "html_1 = driver.page_source #현재 페이지의 전체 소스코드를 다 가져오기\n",
    "soup_1 = BeautifulSoup(html_1, 'html.parser')\n",
    "\n",
    "content_1 = soup_1.find('div','srchResultListW').find_all('li')\n",
    "for i in content_1 :\n",
    "    print(i.get_text().replace(\"\\n\",\" \").strip())\n",
    "    print(\"\\n\")"
   ]
  },
  {
   "cell_type": "code",
   "execution_count": null,
   "id": "487e6493",
   "metadata": {},
   "outputs": [],
   "source": []
  }
 ],
 "metadata": {
  "kernelspec": {
   "display_name": "Python 3 (ipykernel)",
   "language": "python",
   "name": "python3"
  },
  "language_info": {
   "codemirror_mode": {
    "name": "ipython",
    "version": 3
   },
   "file_extension": ".py",
   "mimetype": "text/x-python",
   "name": "python",
   "nbconvert_exporter": "python",
   "pygments_lexer": "ipython3",
   "version": "3.9.1"
  }
 },
 "nbformat": 4,
 "nbformat_minor": 5
}
