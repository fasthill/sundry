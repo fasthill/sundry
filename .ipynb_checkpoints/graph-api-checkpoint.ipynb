{
 "cells": [
  {
   "cell_type": "markdown",
   "id": "6bf4bad8",
   "metadata": {},
   "source": [
    "https://stackoverflow.com/questions/56706903/how-can-i-extract-data-from-a-chart-selenium-python"
   ]
  },
  {
   "cell_type": "code",
   "execution_count": 1,
   "id": "c85fc939",
   "metadata": {},
   "outputs": [],
   "source": [
    "import requests\n",
    "import json"
   ]
  },
  {
   "cell_type": "code",
   "execution_count": 2,
   "id": "c81be15c",
   "metadata": {},
   "outputs": [],
   "source": [
    "from selenium import webdriver as wd\n",
    "# from selenium.webdriver.chrome.options import Options\n",
    "from selenium.webdriver.common.keys import Keys\n",
    "from selenium.webdriver.common.by import By\n",
    "from selenium.webdriver.support.ui import WebDriverWait\n",
    "from selenium.webdriver.support import expected_conditions as EC\n",
    "from selenium.webdriver.chrome.service import Service\n",
    "from webdriver_manager.chrome import ChromeDriverManager\n",
    "\n",
    "import chromedriver_autoinstaller"
   ]
  },
  {
   "cell_type": "code",
   "execution_count": 3,
   "id": "049ee689",
   "metadata": {},
   "outputs": [],
   "source": [
    "from bs4 import BeautifulSoup as bs\n",
    "import datetime, time\n",
    "\n",
    "import pickle\n",
    "import pandas as pd\n",
    "import numpy as np\n",
    "\n",
    "import subprocess\n",
    "import shutil\n",
    "import pyperclip\n",
    "\n",
    "import requests\n",
    "import os, sys"
   ]
  },
  {
   "cell_type": "code",
   "execution_count": 4,
   "id": "b094432b",
   "metadata": {},
   "outputs": [],
   "source": [
    "import matplotlib.pyplot as plt"
   ]
  },
  {
   "cell_type": "code",
   "execution_count": null,
   "id": "620a1ff1",
   "metadata": {},
   "outputs": [],
   "source": [
    "chrome_options = wd.ChromeOptions()\n",
    "driver = wd.Chrome(service=Service(ChromeDriverManager().install()), options=chrome_options)"
   ]
  },
  {
   "cell_type": "code",
   "execution_count": null,
   "id": "1954c891",
   "metadata": {},
   "outputs": [],
   "source": [
    "url_d = 'https://www.propertyfinder.ae/en/api/property/6951117/market-trends'"
   ]
  },
  {
   "cell_type": "code",
   "execution_count": null,
   "id": "f37f89d0",
   "metadata": {},
   "outputs": [],
   "source": [
    "driver.get(url_d)"
   ]
  },
  {
   "cell_type": "code",
   "execution_count": null,
   "id": "e23bde18",
   "metadata": {},
   "outputs": [],
   "source": [
    "element = driver.find_element(By.CSS_SELECTOR, 'body > pre')"
   ]
  },
  {
   "cell_type": "code",
   "execution_count": null,
   "id": "959de39a",
   "metadata": {},
   "outputs": [],
   "source": [
    "data = json.loads(element.text)"
   ]
  },
  {
   "cell_type": "code",
   "execution_count": null,
   "id": "118393c9",
   "metadata": {},
   "outputs": [],
   "source": [
    "data['data']['id']"
   ]
  },
  {
   "cell_type": "code",
   "execution_count": null,
   "id": "2e9b3eee",
   "metadata": {},
   "outputs": [],
   "source": [
    "data"
   ]
  },
  {
   "cell_type": "code",
   "execution_count": null,
   "id": "99dd2684",
   "metadata": {},
   "outputs": [],
   "source": [
    "headers = {'User-Agent': 'Mozilla/5.0 (Macintosh; Intel Mac OS X 10_11_5) \\\n",
    "           AppleWebKit/537.36 (KHTML, like Gecko) Chrome/50.0.2661.102 Safari/537.36'}"
   ]
  },
  {
   "cell_type": "code",
   "execution_count": null,
   "id": "b8632340",
   "metadata": {},
   "outputs": [],
   "source": [
    "url = 'https://www.propertyfinder.ae/en/api/property/6951117/market-trends'"
   ]
  },
  {
   "cell_type": "code",
   "execution_count": null,
   "id": "2dbd9698",
   "metadata": {},
   "outputs": [],
   "source": [
    "r = requests.get(url, headers=headers)"
   ]
  },
  {
   "cell_type": "code",
   "execution_count": null,
   "id": "82497ddb",
   "metadata": {},
   "outputs": [],
   "source": [
    "data = r.json()"
   ]
  },
  {
   "cell_type": "code",
   "execution_count": null,
   "id": "ebb02227",
   "metadata": {},
   "outputs": [],
   "source": [
    "json.loads(str(requests.get(url, headers=headers)))"
   ]
  },
  {
   "cell_type": "code",
   "execution_count": null,
   "id": "69d58df5",
   "metadata": {},
   "outputs": [],
   "source": [
    "f = open(url)"
   ]
  },
  {
   "cell_type": "code",
   "execution_count": null,
   "id": "731a4826",
   "metadata": {},
   "outputs": [],
   "source": [
    "f = json.load(url)"
   ]
  },
  {
   "cell_type": "code",
   "execution_count": null,
   "id": "f1d2c33e",
   "metadata": {},
   "outputs": [],
   "source": [
    "with open('example.json') as json_file:\n",
    "    json_data = json.load(json_file)"
   ]
  },
  {
   "cell_type": "code",
   "execution_count": null,
   "id": "e89e1e1d",
   "metadata": {},
   "outputs": [],
   "source": [
    "from bs4 import BeautifulSoup"
   ]
  },
  {
   "cell_type": "code",
   "execution_count": null,
   "id": "b9ec6a5f",
   "metadata": {},
   "outputs": [],
   "source": [
    "html_doc = requests.get('https://www.propertyfinder.ae/en/api/property/6951117/market-trends')"
   ]
  },
  {
   "cell_type": "code",
   "execution_count": null,
   "id": "8602849b",
   "metadata": {},
   "outputs": [],
   "source": [
    "soup = BeautifulSoup(html_doc, 'html.parser')"
   ]
  },
  {
   "cell_type": "code",
   "execution_count": null,
   "id": "c6d7b4e7",
   "metadata": {},
   "outputs": [],
   "source": [
    "import json\n",
    "  \n",
    "# Opening JSON file\n",
    "f = open('data.json')\n",
    "  \n",
    "# returns JSON object as \n",
    "# a dictionary\n",
    "data = json.load(f)\n",
    "  \n",
    "# Iterating through the json\n",
    "# list\n",
    "for i in data['emp_details']:"
   ]
  },
  {
   "cell_type": "code",
   "execution_count": null,
   "id": "7c2688e4",
   "metadata": {},
   "outputs": [],
   "source": [
    "r = requests.get('https://www.propertyfinder.ae/en/api/property/6951117/market-trends')"
   ]
  },
  {
   "cell_type": "code",
   "execution_count": null,
   "id": "3688d253",
   "metadata": {},
   "outputs": [],
   "source": [
    "print(r.prettify())"
   ]
  },
  {
   "cell_type": "code",
   "execution_count": null,
   "id": "d568a36a",
   "metadata": {},
   "outputs": [],
   "source": [
    "print(r.text)"
   ]
  },
  {
   "cell_type": "code",
   "execution_count": null,
   "id": "f02df069",
   "metadata": {},
   "outputs": [],
   "source": [
    "trends = r.json()\n",
    "print(trends['data']['attributes']['graph']['chart_data'])"
   ]
  },
  {
   "cell_type": "code",
   "execution_count": null,
   "id": "e875eb0b",
   "metadata": {},
   "outputs": [],
   "source": [
    "r"
   ]
  },
  {
   "cell_type": "code",
   "execution_count": null,
   "id": "ad7e2afe",
   "metadata": {},
   "outputs": [],
   "source": [
    "import xml.dom.ext\n",
    "xml.dom.ext.PrettyPrint(r)"
   ]
  },
  {
   "cell_type": "code",
   "execution_count": null,
   "id": "e90a0d21",
   "metadata": {},
   "outputs": [],
   "source": [
    "headers = {'User-Agent': 'Mozilla/5.0 (Macintosh; Intel Mac OS X 10_11_5) \\\n",
    "           AppleWebKit/537.36 (KHTML, like Gecko) Chrome/50.0.2661.102 Safari/537.36'}\n",
    "\n",
    "BASE_URL = \"https://production.dataviz.cnn.io/index/fearandgreed/graphdata\"\n",
    "START_DATE = '2021-01-01'  # no date before before 2020-08-01, error generated\n",
    "START_DATE = '2020-09-01'  # no date before before 2020-08-01, error generated\n",
    "\n",
    "def transform_timezone(x):\n",
    "    dt = datetime.datetime.fromtimestamp(x / 1000, tz=pytz.utc)\n",
    "#     tzone = pytz.timezone('US/Eastern')\n",
    "    tzone = pytz.timezone('Asia/Seoul')\n",
    "    loc_dt = dt.astimezone(tzone)\n",
    "    return loc_dt.date()\n",
    "\n",
    "r = requests.get(\"{}/{}\".format(BASE_URL, START_DATE), headers=headers)\n",
    "data = r.json()\n",
    "fg_data = data['fear_and_greed_historical']['data']"
   ]
  },
  {
   "cell_type": "code",
   "execution_count": null,
   "id": "a9ad70db",
   "metadata": {},
   "outputs": [],
   "source": [
    "url = 'https://www.propertyfinder.ae/en/api/property/6951117/market-trends'"
   ]
  },
  {
   "cell_type": "code",
   "execution_count": null,
   "id": "de0a47e1",
   "metadata": {},
   "outputs": [],
   "source": [
    "r = requests.get(url, headers=headers)"
   ]
  },
  {
   "cell_type": "code",
   "execution_count": null,
   "id": "6cf46e8b",
   "metadata": {},
   "outputs": [],
   "source": [
    "type(r.text)"
   ]
  },
  {
   "cell_type": "code",
   "execution_count": null,
   "id": "7b1b8c9b",
   "metadata": {},
   "outputs": [],
   "source": [
    "r.text"
   ]
  },
  {
   "cell_type": "code",
   "execution_count": null,
   "id": "9ae78943",
   "metadata": {},
   "outputs": [],
   "source": [
    "url_n = 'https://www.propertyfinder.ae/en/api/property/6951117/market-trends'\n",
    "response = requests.get(url_n)\n",
    "if response.status_code == 200:\n",
    "    rp = response.json()\n",
    "else:\n",
    "    print(\"Error from server: \" + str(response.content))"
   ]
  },
  {
   "cell_type": "code",
   "execution_count": null,
   "id": "31fbf954",
   "metadata": {},
   "outputs": [],
   "source": []
  },
  {
   "cell_type": "code",
   "execution_count": null,
   "id": "564db7f1",
   "metadata": {},
   "outputs": [],
   "source": []
  },
  {
   "cell_type": "code",
   "execution_count": null,
   "id": "8b39260f",
   "metadata": {},
   "outputs": [],
   "source": []
  },
  {
   "cell_type": "code",
   "execution_count": null,
   "id": "a39e9abb",
   "metadata": {},
   "outputs": [],
   "source": []
  },
  {
   "cell_type": "code",
   "execution_count": null,
   "id": "d05a0185",
   "metadata": {},
   "outputs": [],
   "source": [
    "res = json.loads(r.text)"
   ]
  },
  {
   "cell_type": "code",
   "execution_count": null,
   "id": "82e9176a",
   "metadata": {},
   "outputs": [],
   "source": [
    "url1 = \"https://production.dataviz.cnn.io/index/fearandgreed/graphdata/2020-09-01\""
   ]
  },
  {
   "cell_type": "code",
   "execution_count": null,
   "id": "578d74ce",
   "metadata": {},
   "outputs": [],
   "source": [
    "r = requests.get(url1, headers=headers)"
   ]
  },
  {
   "cell_type": "code",
   "execution_count": null,
   "id": "d246b689",
   "metadata": {},
   "outputs": [],
   "source": [
    "type(r.text)"
   ]
  },
  {
   "cell_type": "code",
   "execution_count": null,
   "id": "9a765db7",
   "metadata": {},
   "outputs": [],
   "source": [
    "r.text"
   ]
  },
  {
   "cell_type": "code",
   "execution_count": null,
   "id": "507e1733",
   "metadata": {},
   "outputs": [],
   "source": [
    "res = json.loads(r.text)"
   ]
  },
  {
   "cell_type": "code",
   "execution_count": null,
   "id": "a418aa22",
   "metadata": {},
   "outputs": [],
   "source": [
    "res['fear_and_greed']"
   ]
  },
  {
   "cell_type": "code",
   "execution_count": null,
   "id": "ea6bd0aa",
   "metadata": {},
   "outputs": [],
   "source": [
    "\n",
    "data = r.json()"
   ]
  },
  {
   "cell_type": "code",
   "execution_count": null,
   "id": "c6d9c906",
   "metadata": {},
   "outputs": [],
   "source": [
    "st1 = {\"data\":{\"id\":\"0\",\"type\":\"market-trends\",\"attributes\":{\"graph\":{\"axis_title\":\"AED\\/year\",\"chart_data\":[{\"date\":\"Jan, 2022\",\"label\":\"Dubai Marina\",\"value\":120000},{\"date\":\"Feb, 2022\",\"label\":\"Dubai Marina\",\"value\":129490},{\"date\":\"Mar, 2022\",\"label\":\"Dubai Marina\",\"value\":125000},{\"date\":\"Apr, 2022\",\"label\":\"Dubai Marina\",\"value\":125000},{\"date\":\"May, 2022\",\"label\":\"Dubai Marina\",\"value\":125000},{\"date\":\"Jun, 2022\",\"label\":\"Dubai Marina\",\"value\":125000},{\"date\":\"Jul, 2022\",\"label\":\"Dubai Marina\",\"value\":130000},{\"date\":\"Aug, 2022\",\"label\":\"Dubai Marina\",\"value\":159990},{\"date\":\"Sep, 2022\",\"label\":\"Dubai Marina\",\"value\":187500},{\"date\":\"Oct, 2022\",\"label\":\"Dubai Marina\",\"value\":190000},{\"date\":\"Nov, 2022\",\"label\":\"Dubai Marina\",\"value\":200000},{\"date\":\"Dec, 2022\",\"label\":\"Dubai Marina\",\"value\":200000}],\"min_value\":120000,\"max_value\":200000,\"rent_evolution\":66.67,\"location_id\":50},\"investors\":{\"location_id\":50,\"average_price\":160000,\"average_area\":1335,\"average_price_per_area\":119,\"price_unit\":\"AED\\/year\"},\"overview\":{\"location_id\":50,\"location_name\":\"Dubai Marina\",\"bedrooms\":2,\"property_type\":\"Apartment\",\"cheaper\":\"true\",\"smaller\":\"false\",\"equal\":\"false\",\"size_equal\":\"false\",\"price_difference\":-100,\"area_difference\":5.09,\"price_average\":160000,\"area_average\":1335}}}}"
   ]
  },
  {
   "cell_type": "code",
   "execution_count": null,
   "id": "8414f5e9",
   "metadata": {},
   "outputs": [],
   "source": [
    "st1"
   ]
  },
  {
   "cell_type": "code",
   "execution_count": null,
   "id": "ee524ce2",
   "metadata": {},
   "outputs": [],
   "source": [
    "data = st1.json()"
   ]
  },
  {
   "cell_type": "code",
   "execution_count": null,
   "id": "21af2039",
   "metadata": {},
   "outputs": [],
   "source": [
    "url1 = 'https://www.propertyfinder.ae/np/api/trends/time-series?filter[location_id]=50&filter[offering_type_id]=1&filter[completion_status]=secondary_property&filter[bedrooms_id]=2&filter[property_type_id]=1&filter[period_months]=24'"
   ]
  },
  {
   "cell_type": "code",
   "execution_count": null,
   "id": "405629ac",
   "metadata": {},
   "outputs": [],
   "source": [
    "r = requests.get(url)"
   ]
  },
  {
   "cell_type": "code",
   "execution_count": null,
   "id": "122ed3b0",
   "metadata": {},
   "outputs": [],
   "source": [
    "r.text"
   ]
  },
  {
   "cell_type": "code",
   "execution_count": null,
   "id": "90a087e9",
   "metadata": {},
   "outputs": [],
   "source": [
    "url1 = 'https://www.propertyfinder.ae/np/api/trends/time-series?filter[location_id]=50&filter[offering_type_id]=1&filter[completion_status]=secondary_property&filter[bedrooms_id]=2&filter[property_type_id]=1&filter[period_months]=24'"
   ]
  },
  {
   "cell_type": "code",
   "execution_count": null,
   "id": "4dc47bf1",
   "metadata": {},
   "outputs": [],
   "source": [
    "driver.get(url1)\n",
    "\n",
    "element = driver.find_element(By.CSS_SELECTOR, 'body > pre')\n",
    "\n",
    "element.text"
   ]
  },
  {
   "cell_type": "code",
   "execution_count": null,
   "id": "c7a716a9",
   "metadata": {},
   "outputs": [],
   "source": [
    "url_2 = 'https://pyinvesting.com/fear-and-greed/nav-data'"
   ]
  },
  {
   "cell_type": "code",
   "execution_count": null,
   "id": "2a427340",
   "metadata": {},
   "outputs": [],
   "source": [
    "driver.get(url_2)\n",
    "\n",
    "element = driver.find_element(By.CSS_SELECTOR, 'body > pre')\n"
   ]
  },
  {
   "cell_type": "code",
   "execution_count": null,
   "id": "74259354",
   "metadata": {},
   "outputs": [],
   "source": [
    "data = json.loads(element.text)"
   ]
  },
  {
   "cell_type": "code",
   "execution_count": null,
   "id": "f71eda94",
   "metadata": {},
   "outputs": [],
   "source": [
    "data['nav'][-100:]"
   ]
  },
  {
   "cell_type": "code",
   "execution_count": null,
   "id": "46bce44e",
   "metadata": {},
   "outputs": [],
   "source": [
    "data['nav'][-100:][-1][1]"
   ]
  },
  {
   "cell_type": "code",
   "execution_count": null,
   "id": "72d81db4",
   "metadata": {},
   "outputs": [],
   "source": [
    "df = pd.DataFrame(data['nav'][-100:])"
   ]
  },
  {
   "cell_type": "code",
   "execution_count": null,
   "id": "9f894275",
   "metadata": {},
   "outputs": [],
   "source": [
    "plt.plot(df[1][:])"
   ]
  },
  {
   "cell_type": "code",
   "execution_count": null,
   "id": "e512f47f",
   "metadata": {},
   "outputs": [],
   "source": [
    "plt.plot(df[0])"
   ]
  },
  {
   "cell_type": "code",
   "execution_count": null,
   "id": "a21f90f6",
   "metadata": {},
   "outputs": [],
   "source": [
    "url_2 = 'https://pyinvesting.com/fear-and-greed/nav-data'"
   ]
  },
  {
   "cell_type": "code",
   "execution_count": null,
   "id": "e38bcfc5",
   "metadata": {},
   "outputs": [],
   "source": [
    "res = requests.get(url_2)"
   ]
  },
  {
   "cell_type": "code",
   "execution_count": null,
   "id": "71a91d9f",
   "metadata": {},
   "outputs": [],
   "source": [
    "data = json.loads(res.text)"
   ]
  },
  {
   "cell_type": "code",
   "execution_count": null,
   "id": "755f2abf",
   "metadata": {},
   "outputs": [],
   "source": [
    "data"
   ]
  },
  {
   "cell_type": "code",
   "execution_count": null,
   "id": "f53ffe67",
   "metadata": {},
   "outputs": [],
   "source": [
    "data['nav'][-100:]"
   ]
  },
  {
   "cell_type": "code",
   "execution_count": 133,
   "id": "03826484",
   "metadata": {},
   "outputs": [
    {
     "name": "stdout",
     "output_type": "stream",
     "text": [
      "timestamp: 1673265805.170452, seoul time: 2023-01-09 21:03:25.170452+09:00\n",
      "UTC 표준시간 2023-01-09 12:03:25.170452\n",
      "서울 표준시간 2023-01-09 12:03:25.170452+09:00\n",
      "UTC: 2023년, 1월 9일 월요일 12시\n",
      "서울 표준시간: 2023년, 1월 9일 월요일 12시\n",
      "2023-01-09, 12:03:25 PM\n"
     ]
    }
   ],
   "source": [
    "#  Unix timestampe \n",
    "import datetime, pytz\n",
    "\n",
    "# 현재 local 시간 표시(년월일시간)를 timestamp 표시로 변환\n",
    "KST = pytz.timezone('Asia/Seoul')\n",
    "# timestamp = datetime.datetime(2023, 1, 9, 20, 25, 40, tzinfo=KST).timestamp() #2023년 1월 9일 15시 30분 40초 Local time.\n",
    "timestamp = datetime.datetime.now(timezone('Asia/Seoul')).timestamp()\n",
    "\n",
    "print(\"timestamp: {}, seoul time: {}\".format(timestamp, datetime.datetime.now(timezone('Asia/Seoul'))))\n",
    "\n",
    "def datefromtimestamp(timestamp): # timestamp표시를 년월일시간표시로 변환\n",
    "    date = datetime.datetime.utcfromtimestamp(timestamp) # GMT(UTC) 시간 표시로 변환\n",
    "#     date = datetime.datetime.utcfromtimestamp(timestamp).strftime('%Y-%m-%d:%H:%M:%S') # GMT(UTC) 시간 표시로 변환\n",
    "#     date = datetime.datetime.fromtimestamp(timestamp, tz=pytz.utc).strftime('%Y-%m-%d:%H:%M:%S') # UTC 표준시간\n",
    "#     date = datetime.datetime.fromtimestamp(timestamp).strftime('%Y-%m-%d:%H:%M:%S') # 로컬 시간 표시로 변환\n",
    "    return date\n",
    "\n",
    "def week_day(date):\n",
    "#     days = ['Mon', 'Tue', 'Wed', 'Thu', 'Fri', 'Sat', 'Sun']\n",
    "    days = ['월', '화', '수', '목', '금', '토', '일']\n",
    "    day = date.weekday()\n",
    "    return days[day]\n",
    "\n",
    "dt = datefromtimestamp(timestamp) # UTC 표준시간. datetime format\n",
    "print(\"UTC 표준시간\", dt)  \n",
    "\n",
    "# tzone = pytz.timezone('US/Eastern')\n",
    "tzone = pytz.timezone('Asia/Seoul')\n",
    "loc_dt = dt.astimezone(tzone)\n",
    "print(\"서울 표준시간\", loc_dt)  \n",
    "\n",
    "year = dt.year\n",
    "month = dt.month\n",
    "weekday = week_day(dt)\n",
    "day = dt.day\n",
    "hour = dt.hour\n",
    "print(\"UTC: {}년, {}월 {}일 {}요일 {}시\".format(year, month, day, weekday, hour))\n",
    "\n",
    "year = loc_dt.year\n",
    "month = loc_dt.month\n",
    "weekday = week_day(loc_dt)\n",
    "day = loc_dt.day\n",
    "hour = loc_dt.hour\n",
    "print(\"서울 표준시간: {}년, {}월 {}일 {}요일 {}시\".format(year, month, day, weekday, hour))\n",
    "\n",
    "print(dt.astimezone(KST).strftime('%Y-%m-%d, %H:%M:%S %p'))"
   ]
  },
  {
   "cell_type": "code",
   "execution_count": 134,
   "id": "02c882a2",
   "metadata": {},
   "outputs": [
    {
     "data": {
      "text/plain": [
       "datetime.datetime(2023, 1, 9, 12, 3, 25, 170452, tzinfo=<DstTzInfo 'Asia/Seoul' KST+9:00:00 STD>)"
      ]
     },
     "execution_count": 134,
     "metadata": {},
     "output_type": "execute_result"
    }
   ],
   "source": [
    "KST.localize(dt)"
   ]
  },
  {
   "cell_type": "code",
   "execution_count": 149,
   "id": "7b51344b",
   "metadata": {},
   "outputs": [
    {
     "ename": "TypeError",
     "evalue": "strptime() argument 1 must be str, not datetime.datetime",
     "output_type": "error",
     "traceback": [
      "\u001b[1;31m---------------------------------------------------------------------------\u001b[0m",
      "\u001b[1;31mTypeError\u001b[0m                                 Traceback (most recent call last)",
      "Cell \u001b[1;32mIn [149], line 1\u001b[0m\n\u001b[1;32m----> 1\u001b[0m time \u001b[38;5;241m=\u001b[39m \u001b[43mdatetime\u001b[49m\u001b[38;5;241;43m.\u001b[39;49m\u001b[43mdatetime\u001b[49m\u001b[38;5;241;43m.\u001b[39;49m\u001b[43mstrptime\u001b[49m\u001b[43m(\u001b[49m\u001b[43mloc_dt\u001b[49m\u001b[43m,\u001b[49m\u001b[43m \u001b[49m\u001b[38;5;124;43m\"\u001b[39;49m\u001b[38;5;124;43m%\u001b[39;49m\u001b[38;5;124;43mH:\u001b[39;49m\u001b[38;5;124;43m%\u001b[39;49m\u001b[38;5;124;43mM:\u001b[39;49m\u001b[38;5;124;43m%\u001b[39;49m\u001b[38;5;124;43mS \u001b[39;49m\u001b[38;5;124;43m%\u001b[39;49m\u001b[38;5;124;43mp\u001b[39;49m\u001b[38;5;124;43m\"\u001b[39;49m\u001b[43m)\u001b[49m\n",
      "\u001b[1;31mTypeError\u001b[0m: strptime() argument 1 must be str, not datetime.datetime"
     ]
    }
   ],
   "source": [
    "time = datetime.datetime.strptime(loc_dt, \"%H:%M:%S %p\")"
   ]
  },
  {
   "cell_type": "code",
   "execution_count": 147,
   "id": "e483790c",
   "metadata": {},
   "outputs": [
    {
     "ename": "ValueError",
     "evalue": "unconverted data remains: :25 PM",
     "output_type": "error",
     "traceback": [
      "\u001b[1;31m---------------------------------------------------------------------------\u001b[0m",
      "\u001b[1;31mValueError\u001b[0m                                Traceback (most recent call last)",
      "Cell \u001b[1;32mIn [147], line 1\u001b[0m\n\u001b[1;32m----> 1\u001b[0m \u001b[43mdatetime\u001b[49m\u001b[38;5;241;43m.\u001b[39;49m\u001b[43mdatetime\u001b[49m\u001b[38;5;241;43m.\u001b[39;49m\u001b[43mstrptime\u001b[49m\u001b[43m(\u001b[49m\u001b[43mtime\u001b[49m\u001b[43m,\u001b[49m\u001b[43m \u001b[49m\u001b[38;5;124;43m\"\u001b[39;49m\u001b[38;5;124;43m%\u001b[39;49m\u001b[38;5;124;43mH:\u001b[39;49m\u001b[38;5;124;43m%\u001b[39;49m\u001b[38;5;124;43mM\u001b[39;49m\u001b[38;5;124;43m\"\u001b[39;49m\u001b[43m)\u001b[49m\n",
      "File \u001b[1;32m~\\AppData\\Local\\Programs\\Python\\Python310\\lib\\_strptime.py:568\u001b[0m, in \u001b[0;36m_strptime_datetime\u001b[1;34m(cls, data_string, format)\u001b[0m\n\u001b[0;32m    565\u001b[0m \u001b[38;5;28;01mdef\u001b[39;00m \u001b[38;5;21m_strptime_datetime\u001b[39m(\u001b[38;5;28mcls\u001b[39m, data_string, \u001b[38;5;28mformat\u001b[39m\u001b[38;5;241m=\u001b[39m\u001b[38;5;124m\"\u001b[39m\u001b[38;5;132;01m%a\u001b[39;00m\u001b[38;5;124m \u001b[39m\u001b[38;5;124m%\u001b[39m\u001b[38;5;124mb \u001b[39m\u001b[38;5;132;01m%d\u001b[39;00m\u001b[38;5;124m \u001b[39m\u001b[38;5;124m%\u001b[39m\u001b[38;5;124mH:\u001b[39m\u001b[38;5;124m%\u001b[39m\u001b[38;5;124mM:\u001b[39m\u001b[38;5;124m%\u001b[39m\u001b[38;5;124mS \u001b[39m\u001b[38;5;124m%\u001b[39m\u001b[38;5;124mY\u001b[39m\u001b[38;5;124m\"\u001b[39m):\n\u001b[0;32m    566\u001b[0m     \u001b[38;5;124;03m\"\"\"Return a class cls instance based on the input string and the\u001b[39;00m\n\u001b[0;32m    567\u001b[0m \u001b[38;5;124;03m    format string.\"\"\"\u001b[39;00m\n\u001b[1;32m--> 568\u001b[0m     tt, fraction, gmtoff_fraction \u001b[38;5;241m=\u001b[39m \u001b[43m_strptime\u001b[49m\u001b[43m(\u001b[49m\u001b[43mdata_string\u001b[49m\u001b[43m,\u001b[49m\u001b[43m \u001b[49m\u001b[38;5;28;43mformat\u001b[39;49m\u001b[43m)\u001b[49m\n\u001b[0;32m    569\u001b[0m     tzname, gmtoff \u001b[38;5;241m=\u001b[39m tt[\u001b[38;5;241m-\u001b[39m\u001b[38;5;241m2\u001b[39m:]\n\u001b[0;32m    570\u001b[0m     args \u001b[38;5;241m=\u001b[39m tt[:\u001b[38;5;241m6\u001b[39m] \u001b[38;5;241m+\u001b[39m (fraction,)\n",
      "File \u001b[1;32m~\\AppData\\Local\\Programs\\Python\\Python310\\lib\\_strptime.py:352\u001b[0m, in \u001b[0;36m_strptime\u001b[1;34m(data_string, format)\u001b[0m\n\u001b[0;32m    349\u001b[0m     \u001b[38;5;28;01mraise\u001b[39;00m \u001b[38;5;167;01mValueError\u001b[39;00m(\u001b[38;5;124m\"\u001b[39m\u001b[38;5;124mtime data \u001b[39m\u001b[38;5;132;01m%r\u001b[39;00m\u001b[38;5;124m does not match format \u001b[39m\u001b[38;5;132;01m%r\u001b[39;00m\u001b[38;5;124m\"\u001b[39m \u001b[38;5;241m%\u001b[39m\n\u001b[0;32m    350\u001b[0m                      (data_string, \u001b[38;5;28mformat\u001b[39m))\n\u001b[0;32m    351\u001b[0m \u001b[38;5;28;01mif\u001b[39;00m \u001b[38;5;28mlen\u001b[39m(data_string) \u001b[38;5;241m!=\u001b[39m found\u001b[38;5;241m.\u001b[39mend():\n\u001b[1;32m--> 352\u001b[0m     \u001b[38;5;28;01mraise\u001b[39;00m \u001b[38;5;167;01mValueError\u001b[39;00m(\u001b[38;5;124m\"\u001b[39m\u001b[38;5;124munconverted data remains: \u001b[39m\u001b[38;5;132;01m%s\u001b[39;00m\u001b[38;5;124m\"\u001b[39m \u001b[38;5;241m%\u001b[39m\n\u001b[0;32m    353\u001b[0m                       data_string[found\u001b[38;5;241m.\u001b[39mend():])\n\u001b[0;32m    355\u001b[0m iso_year \u001b[38;5;241m=\u001b[39m year \u001b[38;5;241m=\u001b[39m \u001b[38;5;28;01mNone\u001b[39;00m\n\u001b[0;32m    356\u001b[0m month \u001b[38;5;241m=\u001b[39m day \u001b[38;5;241m=\u001b[39m \u001b[38;5;241m1\u001b[39m\n",
      "\u001b[1;31mValueError\u001b[0m: unconverted data remains: :25 PM"
     ]
    }
   ],
   "source": [
    "datetime.datetime.strptime(time, \"%H:%M\")"
   ]
  },
  {
   "cell_type": "code",
   "execution_count": 146,
   "id": "5e1e47df",
   "metadata": {},
   "outputs": [
    {
     "data": {
      "text/plain": [
       "'12:03:25 PM'"
      ]
     },
     "execution_count": 146,
     "metadata": {},
     "output_type": "execute_result"
    }
   ],
   "source": [
    "time"
   ]
  },
  {
   "cell_type": "code",
   "execution_count": 140,
   "id": "02556fbe",
   "metadata": {},
   "outputs": [
    {
     "data": {
      "text/plain": [
       "datetime.datetime(2023, 1, 9, 12, 3, 25, 170452, tzinfo=<DstTzInfo 'Asia/Seoul' KST+9:00:00 STD>)"
      ]
     },
     "execution_count": 140,
     "metadata": {},
     "output_type": "execute_result"
    }
   ],
   "source": [
    "loc_dt.hour.strptime"
   ]
  },
  {
   "cell_type": "code",
   "execution_count": 139,
   "id": "eeaab685",
   "metadata": {},
   "outputs": [
    {
     "ename": "AttributeError",
     "evalue": "'datetime.datetime' object has no attribute 'ToString'",
     "output_type": "error",
     "traceback": [
      "\u001b[1;31m---------------------------------------------------------------------------\u001b[0m",
      "\u001b[1;31mAttributeError\u001b[0m                            Traceback (most recent call last)",
      "Cell \u001b[1;32mIn [139], line 1\u001b[0m\n\u001b[1;32m----> 1\u001b[0m \u001b[43mloc_dt\u001b[49m\u001b[38;5;241;43m.\u001b[39;49m\u001b[43mToString\u001b[49m(\u001b[38;5;124m\"\u001b[39m\u001b[38;5;124mHH:mm:ss\u001b[39m\u001b[38;5;124m\"\u001b[39m)\n",
      "\u001b[1;31mAttributeError\u001b[0m: 'datetime.datetime' object has no attribute 'ToString'"
     ]
    }
   ],
   "source": [
    "def convert24(time):\n",
    "    # Parse the time string into a datetime object\n",
    "    t = datetime.strptime(time, '%I:%M:%S %p')\n",
    "    # Format the datetime object into a 24-hour time string\n",
    "    return t.strftime('%H:%M:%S')\n",
    " \n",
    "print(convert24('11:21:30 PM'))  # Output: '23:21:30'\n",
    "print(convert24('12:12:20 AM'))  # Output: '00:12:20'"
   ]
  },
  {
   "cell_type": "code",
   "execution_count": 127,
   "id": "f896b179",
   "metadata": {},
   "outputs": [
    {
     "name": "stdout",
     "output_type": "stream",
     "text": [
      "2023-01-08 16:30:40-05:00\n"
     ]
    }
   ],
   "source": [
    "# mtn_tz = pytz.timezone('US/Mountain')\n",
    "# dt_mtn = dt.astimezone(mtn_tz)\n",
    "dt_east = dt_mtn.astimezone(pytz.timezone('US/Eastern'))\n",
    "print(dt_east) "
   ]
  },
  {
   "cell_type": "code",
   "execution_count": 16,
   "id": "c3e40fb9",
   "metadata": {},
   "outputs": [
    {
     "data": {
      "text/plain": [
       "datetime.datetime"
      ]
     },
     "execution_count": 16,
     "metadata": {},
     "output_type": "execute_result"
    }
   ],
   "source": [
    "type(dt)"
   ]
  },
  {
   "cell_type": "code",
   "execution_count": 22,
   "id": "7c1d15ed",
   "metadata": {},
   "outputs": [
    {
     "data": {
      "text/plain": [
       "(2023, 1, 9, 6)"
      ]
     },
     "execution_count": 22,
     "metadata": {},
     "output_type": "execute_result"
    }
   ],
   "source": [
    "dt.year, dt.month, dt.day, dt.hour"
   ]
  },
  {
   "cell_type": "code",
   "execution_count": 21,
   "id": "bb8d916d",
   "metadata": {},
   "outputs": [
    {
     "data": {
      "text/plain": [
       "int"
      ]
     },
     "execution_count": 21,
     "metadata": {},
     "output_type": "execute_result"
    }
   ],
   "source": [
    "type(dt.month)"
   ]
  },
  {
   "cell_type": "code",
   "execution_count": 7,
   "id": "a51e7032",
   "metadata": {},
   "outputs": [],
   "source": [
    "import pytz"
   ]
  },
  {
   "cell_type": "code",
   "execution_count": null,
   "id": "39745814",
   "metadata": {},
   "outputs": [],
   "source": [
    "def transform_timezone(x):\n",
    "    dt = datetime.datetime.fromtimestamp(x / 1000, tz=pytz.utc)\n",
    "#     tzone = pytz.timezone('US/Eastern')\n",
    "    tzone = pytz.timezone('Asia/Seoul')\n",
    "    loc_dt = dt.astimezone(tzone)\n",
    "    return loc_dt.date()"
   ]
  },
  {
   "cell_type": "code",
   "execution_count": 81,
   "id": "dd1aba77",
   "metadata": {},
   "outputs": [
    {
     "data": {
      "text/plain": [
       "1673251360.0"
      ]
     },
     "execution_count": 81,
     "metadata": {},
     "output_type": "execute_result"
    }
   ],
   "source": [
    "timestamp = datetime.datetime(2023, 1, 9, 16, 30, 40, tzinfo=KST).timestamp() \n",
    "timestamp"
   ]
  },
  {
   "cell_type": "code",
   "execution_count": 90,
   "id": "dfa2e4be",
   "metadata": {},
   "outputs": [
    {
     "data": {
      "text/plain": [
       "1673263785.206602"
      ]
     },
     "execution_count": 90,
     "metadata": {},
     "output_type": "execute_result"
    }
   ],
   "source": [
    "now = datetime.datetime.now()\n",
    "\n",
    "# convert from datetime to timestamp\n",
    "ts = datetime.datetime.timestamp(now)\n",
    "ts"
   ]
  },
  {
   "cell_type": "code",
   "execution_count": 113,
   "id": "069821b6",
   "metadata": {},
   "outputs": [
    {
     "data": {
      "text/plain": [
       "1673264927.359302"
      ]
     },
     "execution_count": 113,
     "metadata": {},
     "output_type": "execute_result"
    }
   ],
   "source": [
    "timestamp = datetime.datetime.now(timezone('Asia/Seoul')).timestamp()\n",
    "\n",
    "timestamp\n"
   ]
  },
  {
   "cell_type": "code",
   "execution_count": 110,
   "id": "272fc20f",
   "metadata": {},
   "outputs": [
    {
     "data": {
      "text/plain": [
       "1673265460.0"
      ]
     },
     "execution_count": 110,
     "metadata": {},
     "output_type": "execute_result"
    }
   ],
   "source": [
    "timestamp = datetime.datetime(.)now(timezone('Asia/Seoul')).timestamp()"
   ]
  },
  {
   "cell_type": "code",
   "execution_count": 116,
   "id": "7348f0c1",
   "metadata": {},
   "outputs": [
    {
     "ename": "AttributeError",
     "evalue": "'datetime.datetime' object has no attribute 'timezone'",
     "output_type": "error",
     "traceback": [
      "\u001b[1;31m---------------------------------------------------------------------------\u001b[0m",
      "\u001b[1;31mAttributeError\u001b[0m                            Traceback (most recent call last)",
      "Cell \u001b[1;32mIn [116], line 1\u001b[0m\n\u001b[1;32m----> 1\u001b[0m \u001b[43mdatetime\u001b[49m\u001b[38;5;241;43m.\u001b[39;49m\u001b[43mdatetime\u001b[49m\u001b[43m(\u001b[49m\u001b[38;5;241;43m2023\u001b[39;49m\u001b[43m,\u001b[49m\u001b[38;5;241;43m1\u001b[39;49m\u001b[43m,\u001b[49m\u001b[38;5;241;43m9\u001b[39;49m\u001b[43m,\u001b[49m\u001b[38;5;241;43m20\u001b[39;49m\u001b[43m,\u001b[49m\u001b[38;5;241;43m47\u001b[39;49m\u001b[43m)\u001b[49m\u001b[38;5;241;43m.\u001b[39;49m\u001b[43mtimezone\u001b[49m(\u001b[38;5;124m'\u001b[39m\u001b[38;5;124mAsia/Seoul\u001b[39m\u001b[38;5;124m'\u001b[39m)\n",
      "\u001b[1;31mAttributeError\u001b[0m: 'datetime.datetime' object has no attribute 'timezone'"
     ]
    }
   ],
   "source": [
    "datetime.datetime(2023,1,9,20,47).timezone('Asia/Seoul')"
   ]
  },
  {
   "cell_type": "code",
   "execution_count": 107,
   "id": "863ad020",
   "metadata": {},
   "outputs": [
    {
     "name": "stdout",
     "output_type": "stream",
     "text": [
      "2023-01-09 20:47:01.146398+09:00\n"
     ]
    }
   ],
   "source": [
    "today = datetime.datetime.now(timezone('Asia/Seoul'))\n",
    "print(today)"
   ]
  },
  {
   "cell_type": "code",
   "execution_count": null,
   "id": "8a1e0c81",
   "metadata": {},
   "outputs": [],
   "source": []
  }
 ],
 "metadata": {
  "kernelspec": {
   "display_name": "Python 3 (ipykernel)",
   "language": "python",
   "name": "python3"
  },
  "language_info": {
   "codemirror_mode": {
    "name": "ipython",
    "version": 3
   },
   "file_extension": ".py",
   "mimetype": "text/x-python",
   "name": "python",
   "nbconvert_exporter": "python",
   "pygments_lexer": "ipython3",
   "version": "3.10.7"
  }
 },
 "nbformat": 4,
 "nbformat_minor": 5
}
